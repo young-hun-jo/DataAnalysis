{
 "cells": [
  {
   "cell_type": "markdown",
   "metadata": {},
   "source": [
    "# 도입 단계\n",
    "\n",
    "## 배경\n",
    "\n",
    "- 마케팅부서에서 호텔 예약 매출 향상을 목표로 하여 추가적인 마케팅전략을 수립하기 위해 데이터 부서에게 데이터로부터 인사이트 도출을 요청\n",
    "\n",
    "## 목적\n",
    "\n",
    "- 호텔 예약을 취소하는 지표에 포커스\n",
    "- 호텔 예약을 취소하는 사람들의 특성을 파악하기 위함\n",
    "- 파악한 특징을 통해 추가적인 마케팅을 공략할 고객 타겟팅\n",
    "\n",
    "## 목차\n",
    "\n",
    "- 호텔 종류별로 가장 예약이 많이 이루어지는 월, 요일 탐색\n",
    "- 보증금 유형이 예약 취소여부에 기여하는 정도 파악\n",
    "- 고객 유형이 예약 취소여부에 기여하는 정도 파악"
   ]
  },
  {
   "cell_type": "markdown",
   "metadata": {},
   "source": [
    "# 본론 단계\n",
    "\n",
    "## 호텔 종류별로 가장 예약이 많이 이루어지는 월, 요일 탐색\n",
    "\n",
    "- Resort Hotel\n",
    "    * 월(Month)\n",
    "        * 여름방학 시즌인 7-8월에 가장 많은 예약건수를 기록.\n",
    "        * 겨울방학 시즌인 12-1월은 연시연말, 크리스마스가 있음에도 불구하고 예약건수 낮음(이유:외국문화의 특성상 연시연말, 크리스마스는 가족들과 함께 집에서 보내야 한다는 문화적인 차이가 있기 때문으로 추론)\n",
    "    * 요일(weekday)\n",
    "        * 휴양목적이 주를 이루므로 토요일에 투숙을 시작하는 예약건수가 가장 많았음\n",
    "        * 월요일, 목요일에 투숙을 시작하는 예약건수가 많은 이례적인 수치 보임\n",
    "        \n",
    "        \n",
    "- City Hotel\n",
    "    * 월(Month)\n",
    "        * 여름방학 시즌 7-8월에 많은 예약건수를 기록\n",
    "        * 하지만 4,5,6,9,10월(봄, 가을시즌)에 여름방학시즌 못지 않게 많은 예약건수 기록\n",
    "    * 요일(weekday)\n",
    "        * 리조트 호텔과는 달리 토요일에 투숙을 시작하는 예약건수가 가장 적었음.\n",
    "        * 목요일, 금요일에 많은 예약건수를 기록\n",
    "    \n",
    "## 보증금 유형과 예약취소간의 관계\n",
    "\n",
    "- 예약을 취소한 사람들 중 Non-Refund(방값의 100%를 보증금으로 지불)한 사람들의 예약 취소건수가 가장 많았음\n",
    "- 그리고 Non-Refund 보증금 타입의 고객들 중 대부분은 Groups(단체)나 Offline TA/TO(오프라인 여행사/가이드)를 통한 예약 유형이었음.\n",
    "        \n",
    "## 고객유형이 예약 취소여부에 기여하는 정도 파악\n",
    "\n",
    "- 고객 유형에 따라 예약 취소여부를 조사해본 결과, 예약 취소여부에 상관없이 예약건수의 가장 많은 유형은 Transient 유형이었다. \n",
    "\n",
    "- 따라서, 사전에 설정한 가설(Transient=짧은 기간의 투숙객일수록 예약취소 가능성이 높다.)을 채택할 수 없으며 이외에 다른 인사이트 도출하지 못함."
   ]
  },
  {
   "cell_type": "markdown",
   "metadata": {},
   "source": [
    "# 결론 단계\n",
    "\n",
    "## 시사점 및 개선안\n",
    "\n",
    "- 보증금을 100% 지불하는 고객들의 유형은 단체유형이나 오프라인 여행사/여행가이드를 통해 예약이 이루어지는 단체 투숙객이다. 따라서 여행사와의 타협을 통해 보증금 100%의 옵션을 조정할 필요가 있음\n",
    "\n",
    "## 분석 한계점\n",
    "\n",
    "- 데이터 변수들이 너무 많아서 3번째 가설을 너무 지엽적인 관점으로 설정함. 이로 인해 추가적인 인사이트를 도출하지 못함.\n",
    "- 분석한 변수들보다 더 예약취소에 기여하는 숨은 변수들을 탐색하지 못함.\n",
    "- 변수가 많을 때 어떤 방식으로 분석을 진행해야 할지 방향성 정립이 필요."
   ]
  },
  {
   "cell_type": "code",
   "execution_count": null,
   "metadata": {},
   "outputs": [],
   "source": []
  }
 ],
 "metadata": {
  "hide_input": false,
  "kernelspec": {
   "display_name": "Python 3",
   "language": "python",
   "name": "python3"
  },
  "language_info": {
   "codemirror_mode": {
    "name": "ipython",
    "version": 3
   },
   "file_extension": ".py",
   "mimetype": "text/x-python",
   "name": "python",
   "nbconvert_exporter": "python",
   "pygments_lexer": "ipython3",
   "version": "3.7.7"
  },
  "toc": {
   "base_numbering": 1,
   "nav_menu": {},
   "number_sections": true,
   "sideBar": true,
   "skip_h1_title": false,
   "title_cell": "Table of Contents",
   "title_sidebar": "Contents",
   "toc_cell": false,
   "toc_position": {},
   "toc_section_display": true,
   "toc_window_display": false
  },
  "varInspector": {
   "cols": {
    "lenName": 16,
    "lenType": 16,
    "lenVar": 40
   },
   "kernels_config": {
    "python": {
     "delete_cmd_postfix": "",
     "delete_cmd_prefix": "del ",
     "library": "var_list.py",
     "varRefreshCmd": "print(var_dic_list())"
    },
    "r": {
     "delete_cmd_postfix": ") ",
     "delete_cmd_prefix": "rm(",
     "library": "var_list.r",
     "varRefreshCmd": "cat(var_dic_list()) "
    }
   },
   "types_to_exclude": [
    "module",
    "function",
    "builtin_function_or_method",
    "instance",
    "_Feature"
   ],
   "window_display": false
  }
 },
 "nbformat": 4,
 "nbformat_minor": 4
}

{
 "cells": [
  {
   "cell_type": "markdown",
   "metadata": {},
   "source": [
    "# Prediction Modeling\n",
    "\n",
    "- 데이터분석을 실시했던 Kaggle의 Hotel booking 데이터로 예측모델링 실시"
   ]
  },
  {
   "cell_type": "markdown",
   "metadata": {},
   "source": [
    "## 배경\n",
    "\n",
    "- 현재 마케팅부서에서 호텔 예약 건수를 늘리기 위한 추가적인 마케팅 전략을 수립하려고 함. 새로운 마케팅전략에 근간이 되는 인사이트를 데이터로부터 도출 요청.\n",
    "\n",
    "- 데이터분석 리포팅에서 설정했던 '예약 취소하는 사람들의 특성' 가설을 기반으로 데이터에서 호텔을 예약하는 사람들의 여러가지 특징(feature)들로 이 사람의 예약 취소 여부(binary)를 예측하는 모델을 구현하려 함."
   ]
  },
  {
   "cell_type": "markdown",
   "metadata": {},
   "source": [
    "## 목적\n",
    "\n",
    "- 호텔을 최초로 예약할 때의 특징들을 독립변수들로 하여 추후 예약 취소 여부를 예측\n",
    "- 취소로 예측된 예약들의 공통된 특성을 파악하고 이를 마케팅 부서에게 전달"
   ]
  },
  {
   "cell_type": "markdown",
   "metadata": {},
   "source": [
    "## 가설\n",
    "\n",
    "- 사전에 실시한 데이터 분석으로 보증금 유형이 Non-Refund이면서 market_segment가 Groups나 Offline TA/TO일 때 예약 취소 가능성이 높았음을 도출. 따라서 deposit_type과 market_segment가 여러 중요한 변수 중 일부일 것이라고 판단\n"
   ]
  },
  {
   "cell_type": "markdown",
   "metadata": {},
   "source": [
    "## 데이터 전처리"
   ]
  },
  {
   "cell_type": "code",
   "execution_count": 1,
   "metadata": {},
   "outputs": [
    {
     "data": {
      "text/plain": [
       "(119390, 32)"
      ]
     },
     "execution_count": 1,
     "metadata": {},
     "output_type": "execute_result"
    }
   ],
   "source": [
    "# 데이터로드\n",
    "import pandas as pd\n",
    "import numpy as np\n",
    "import os\n",
    "os.chdir('/Users/younghun/Desktop/gitrepo/data')\n",
    "hotel = pd.read_csv('hotel_bookings.csv', encoding='utf-8')\n",
    "hotel.shape"
   ]
  },
  {
   "cell_type": "markdown",
   "metadata": {},
   "source": [
    "- 결측치가 있는 변수들\n",
    "    * agent : 예약을 대행한 여행업체의 ID\n",
    "    * company : 예약을 한 기업의 ID(익명화 처리됨)\n",
    "    * country : 예약한 투숙객의 국적\n",
    "    * children : 예약한 투숙객의 아이들 수\n",
    "- 하지만 결측치가 있는 변수들 중 agent, company, country는 우리가 설정한 문제를 해결하는 데 유용하지 않은 변수이다.\n",
    "- children은 결측치가 4개 이므로 해당 결측치를 0으로 대체해도 무방"
   ]
  },
  {
   "cell_type": "code",
   "execution_count": 2,
   "metadata": {},
   "outputs": [
    {
     "data": {
      "text/plain": [
       "0"
      ]
     },
     "execution_count": 2,
     "metadata": {},
     "output_type": "execute_result"
    }
   ],
   "source": [
    "# 결측치가 존재하는 변수들 삭제\n",
    "hotel = hotel.drop(['agent','company','country'], axis=1)\n",
    "hotel['children'] = hotel['children'].fillna(0)\n",
    "hotel.isnull().sum().sum()"
   ]
  },
  {
   "cell_type": "code",
   "execution_count": 3,
   "metadata": {},
   "outputs": [
    {
     "data": {
      "text/plain": [
       "hotel                              object\n",
       "is_canceled                         int64\n",
       "lead_time                           int64\n",
       "arrival_date_year                   int64\n",
       "arrival_date_month                 object\n",
       "arrival_date_week_number            int64\n",
       "arrival_date_day_of_month           int64\n",
       "stays_in_weekend_nights             int64\n",
       "stays_in_week_nights                int64\n",
       "adults                              int64\n",
       "children                          float64\n",
       "babies                              int64\n",
       "meal                               object\n",
       "market_segment                     object\n",
       "distribution_channel               object\n",
       "is_repeated_guest                   int64\n",
       "previous_cancellations              int64\n",
       "previous_bookings_not_canceled      int64\n",
       "reserved_room_type                 object\n",
       "assigned_room_type                 object\n",
       "booking_changes                     int64\n",
       "deposit_type                       object\n",
       "days_in_waiting_list                int64\n",
       "customer_type                      object\n",
       "adr                               float64\n",
       "required_car_parking_spaces         int64\n",
       "total_of_special_requests           int64\n",
       "reservation_status                 object\n",
       "reservation_status_date            object\n",
       "dtype: object"
      ]
     },
     "execution_count": 3,
     "metadata": {},
     "output_type": "execute_result"
    }
   ],
   "source": [
    "# data type을 보고 int, float형으로 되어있어야하는 변수 type이 object로 되어있다면 ' '와 같은 공백 문자열이 결측치로 들어가 있을 가능성 체크\n",
    "hotel.dtypes"
   ]
  },
  {
   "cell_type": "code",
   "execution_count": 4,
   "metadata": {},
   "outputs": [
    {
     "data": {
      "text/plain": [
       "array(['July', 'August', 'September', 'October', 'November', 'December',\n",
       "       'January', 'February', 'March', 'April', 'May', 'June'],\n",
       "      dtype=object)"
      ]
     },
     "execution_count": 4,
     "metadata": {},
     "output_type": "execute_result"
    }
   ],
   "source": [
    "# 의심가는 변수 : arrival_date_month 확인해보자 -> month가 문자열로 되어있음 \n",
    "hotel['arrival_date_month'].unique()"
   ]
  },
  {
   "cell_type": "code",
   "execution_count": 5,
   "metadata": {},
   "outputs": [
    {
     "data": {
      "text/plain": [
       "array([ 7,  8,  9, 10, 11, 12,  1,  2,  3,  4,  5,  6])"
      ]
     },
     "execution_count": 5,
     "metadata": {},
     "output_type": "execute_result"
    }
   ],
   "source": [
    "# 문자열 month를 숫자형으로 mapping\n",
    "month_dict = {'July':7, 'August':8, 'September':9, 'October':10, 'November':11, 'December':12,\n",
    "             'January':1, 'February':2, 'March':3, 'April':4, 'May':5, 'June':6}\n",
    "hotel['arrival_date_month'] = hotel['arrival_date_month'].map(month_dict)\n",
    "hotel['arrival_date_month'].unique()"
   ]
  },
  {
   "cell_type": "code",
   "execution_count": 6,
   "metadata": {},
   "outputs": [
    {
     "name": "stdout",
     "output_type": "stream",
     "text": [
      "['is_canceled' 'lead_time' 'adults' 'children' 'babies'\n",
      " 'is_repeated_guest' 'previous_cancellations'\n",
      " 'previous_bookings_not_canceled' 'booking_changes' 'days_in_waiting_list'\n",
      " 'adr' 'required_car_parking_spaces' 'total_of_special_requests']\n"
     ]
    }
   ],
   "source": [
    "# 이상치 처리하기\n",
    "# 수치형 변수들 기초통계량 살펴보기(날짜관련 변수, 취소여부 변수 제외)\n",
    "numeric_cols = pd.Series(hotel.dtypes[hotel.dtypes != 'object'].index)\n",
    "numeric_cols = numeric_cols[~numeric_cols.str.contains('date|nights')].values\n",
    "print(numeric_cols)"
   ]
  },
  {
   "cell_type": "code",
   "execution_count": 7,
   "metadata": {},
   "outputs": [
    {
     "data": {
      "text/html": [
       "<div>\n",
       "<style scoped>\n",
       "    .dataframe tbody tr th:only-of-type {\n",
       "        vertical-align: middle;\n",
       "    }\n",
       "\n",
       "    .dataframe tbody tr th {\n",
       "        vertical-align: top;\n",
       "    }\n",
       "\n",
       "    .dataframe thead th {\n",
       "        text-align: right;\n",
       "    }\n",
       "</style>\n",
       "<table border=\"1\" class=\"dataframe\">\n",
       "  <thead>\n",
       "    <tr style=\"text-align: right;\">\n",
       "      <th></th>\n",
       "      <th>is_canceled</th>\n",
       "      <th>lead_time</th>\n",
       "      <th>adults</th>\n",
       "      <th>children</th>\n",
       "      <th>babies</th>\n",
       "      <th>is_repeated_guest</th>\n",
       "      <th>previous_cancellations</th>\n",
       "      <th>previous_bookings_not_canceled</th>\n",
       "      <th>booking_changes</th>\n",
       "      <th>days_in_waiting_list</th>\n",
       "      <th>adr</th>\n",
       "      <th>required_car_parking_spaces</th>\n",
       "      <th>total_of_special_requests</th>\n",
       "    </tr>\n",
       "  </thead>\n",
       "  <tbody>\n",
       "    <tr>\n",
       "      <th>count</th>\n",
       "      <td>119390.000000</td>\n",
       "      <td>119390.000000</td>\n",
       "      <td>119390.000000</td>\n",
       "      <td>119390.000000</td>\n",
       "      <td>119390.000000</td>\n",
       "      <td>119390.000000</td>\n",
       "      <td>119390.000000</td>\n",
       "      <td>119390.000000</td>\n",
       "      <td>119390.000000</td>\n",
       "      <td>119390.000000</td>\n",
       "      <td>119390.000000</td>\n",
       "      <td>119390.000000</td>\n",
       "      <td>119390.000000</td>\n",
       "    </tr>\n",
       "    <tr>\n",
       "      <th>mean</th>\n",
       "      <td>0.370416</td>\n",
       "      <td>104.011416</td>\n",
       "      <td>1.856403</td>\n",
       "      <td>0.103886</td>\n",
       "      <td>0.007949</td>\n",
       "      <td>0.031912</td>\n",
       "      <td>0.087118</td>\n",
       "      <td>0.137097</td>\n",
       "      <td>0.221124</td>\n",
       "      <td>2.321149</td>\n",
       "      <td>101.831122</td>\n",
       "      <td>0.062518</td>\n",
       "      <td>0.571363</td>\n",
       "    </tr>\n",
       "    <tr>\n",
       "      <th>std</th>\n",
       "      <td>0.482918</td>\n",
       "      <td>106.863097</td>\n",
       "      <td>0.579261</td>\n",
       "      <td>0.398555</td>\n",
       "      <td>0.097436</td>\n",
       "      <td>0.175767</td>\n",
       "      <td>0.844336</td>\n",
       "      <td>1.497437</td>\n",
       "      <td>0.652306</td>\n",
       "      <td>17.594721</td>\n",
       "      <td>50.535790</td>\n",
       "      <td>0.245291</td>\n",
       "      <td>0.792798</td>\n",
       "    </tr>\n",
       "    <tr>\n",
       "      <th>min</th>\n",
       "      <td>0.000000</td>\n",
       "      <td>0.000000</td>\n",
       "      <td>0.000000</td>\n",
       "      <td>0.000000</td>\n",
       "      <td>0.000000</td>\n",
       "      <td>0.000000</td>\n",
       "      <td>0.000000</td>\n",
       "      <td>0.000000</td>\n",
       "      <td>0.000000</td>\n",
       "      <td>0.000000</td>\n",
       "      <td>-6.380000</td>\n",
       "      <td>0.000000</td>\n",
       "      <td>0.000000</td>\n",
       "    </tr>\n",
       "    <tr>\n",
       "      <th>25%</th>\n",
       "      <td>0.000000</td>\n",
       "      <td>18.000000</td>\n",
       "      <td>2.000000</td>\n",
       "      <td>0.000000</td>\n",
       "      <td>0.000000</td>\n",
       "      <td>0.000000</td>\n",
       "      <td>0.000000</td>\n",
       "      <td>0.000000</td>\n",
       "      <td>0.000000</td>\n",
       "      <td>0.000000</td>\n",
       "      <td>69.290000</td>\n",
       "      <td>0.000000</td>\n",
       "      <td>0.000000</td>\n",
       "    </tr>\n",
       "    <tr>\n",
       "      <th>50%</th>\n",
       "      <td>0.000000</td>\n",
       "      <td>69.000000</td>\n",
       "      <td>2.000000</td>\n",
       "      <td>0.000000</td>\n",
       "      <td>0.000000</td>\n",
       "      <td>0.000000</td>\n",
       "      <td>0.000000</td>\n",
       "      <td>0.000000</td>\n",
       "      <td>0.000000</td>\n",
       "      <td>0.000000</td>\n",
       "      <td>94.575000</td>\n",
       "      <td>0.000000</td>\n",
       "      <td>0.000000</td>\n",
       "    </tr>\n",
       "    <tr>\n",
       "      <th>75%</th>\n",
       "      <td>1.000000</td>\n",
       "      <td>160.000000</td>\n",
       "      <td>2.000000</td>\n",
       "      <td>0.000000</td>\n",
       "      <td>0.000000</td>\n",
       "      <td>0.000000</td>\n",
       "      <td>0.000000</td>\n",
       "      <td>0.000000</td>\n",
       "      <td>0.000000</td>\n",
       "      <td>0.000000</td>\n",
       "      <td>126.000000</td>\n",
       "      <td>0.000000</td>\n",
       "      <td>1.000000</td>\n",
       "    </tr>\n",
       "    <tr>\n",
       "      <th>max</th>\n",
       "      <td>1.000000</td>\n",
       "      <td>737.000000</td>\n",
       "      <td>55.000000</td>\n",
       "      <td>10.000000</td>\n",
       "      <td>10.000000</td>\n",
       "      <td>1.000000</td>\n",
       "      <td>26.000000</td>\n",
       "      <td>72.000000</td>\n",
       "      <td>21.000000</td>\n",
       "      <td>391.000000</td>\n",
       "      <td>5400.000000</td>\n",
       "      <td>8.000000</td>\n",
       "      <td>5.000000</td>\n",
       "    </tr>\n",
       "  </tbody>\n",
       "</table>\n",
       "</div>"
      ],
      "text/plain": [
       "         is_canceled      lead_time         adults       children  \\\n",
       "count  119390.000000  119390.000000  119390.000000  119390.000000   \n",
       "mean        0.370416     104.011416       1.856403       0.103886   \n",
       "std         0.482918     106.863097       0.579261       0.398555   \n",
       "min         0.000000       0.000000       0.000000       0.000000   \n",
       "25%         0.000000      18.000000       2.000000       0.000000   \n",
       "50%         0.000000      69.000000       2.000000       0.000000   \n",
       "75%         1.000000     160.000000       2.000000       0.000000   \n",
       "max         1.000000     737.000000      55.000000      10.000000   \n",
       "\n",
       "              babies  is_repeated_guest  previous_cancellations  \\\n",
       "count  119390.000000      119390.000000           119390.000000   \n",
       "mean        0.007949           0.031912                0.087118   \n",
       "std         0.097436           0.175767                0.844336   \n",
       "min         0.000000           0.000000                0.000000   \n",
       "25%         0.000000           0.000000                0.000000   \n",
       "50%         0.000000           0.000000                0.000000   \n",
       "75%         0.000000           0.000000                0.000000   \n",
       "max        10.000000           1.000000               26.000000   \n",
       "\n",
       "       previous_bookings_not_canceled  booking_changes  days_in_waiting_list  \\\n",
       "count                   119390.000000    119390.000000         119390.000000   \n",
       "mean                         0.137097         0.221124              2.321149   \n",
       "std                          1.497437         0.652306             17.594721   \n",
       "min                          0.000000         0.000000              0.000000   \n",
       "25%                          0.000000         0.000000              0.000000   \n",
       "50%                          0.000000         0.000000              0.000000   \n",
       "75%                          0.000000         0.000000              0.000000   \n",
       "max                         72.000000        21.000000            391.000000   \n",
       "\n",
       "                 adr  required_car_parking_spaces  total_of_special_requests  \n",
       "count  119390.000000                119390.000000              119390.000000  \n",
       "mean      101.831122                     0.062518                   0.571363  \n",
       "std        50.535790                     0.245291                   0.792798  \n",
       "min        -6.380000                     0.000000                   0.000000  \n",
       "25%        69.290000                     0.000000                   0.000000  \n",
       "50%        94.575000                     0.000000                   0.000000  \n",
       "75%       126.000000                     0.000000                   1.000000  \n",
       "max      5400.000000                     8.000000                   5.000000  "
      ]
     },
     "execution_count": 7,
     "metadata": {},
     "output_type": "execute_result"
    }
   ],
   "source": [
    "# 추출한 변수들로 기초통계량 살펴보기\n",
    "hotel[numeric_cols].describe()"
   ]
  },
  {
   "cell_type": "markdown",
   "metadata": {},
   "source": [
    "- adr : 숙박 예약의 총 합을 숙박 일수의 총 합으로 나눈 일일 비율로 예측모델링에는 필요하지 않은 변수로 예상되어 이상치 탐지 안 함.\n",
    "-  lead_time, adults, days_in_waiting_list 이렇게 3개의 변수가 이상치가 있는 것으로 판단이 되지만 무조건적으로 제거하면 안 됨.\n",
    "-  이상치들의 정확한 존재 이유를 파악하고 제거를 하거나 유지하고 scaling을 해줄지 결정해야 함"
   ]
  },
  {
   "cell_type": "markdown",
   "metadata": {},
   "source": [
    "### numeric 독립변수들과 취소여부인 종속변수와의 상관관계 살펴보기"
   ]
  },
  {
   "cell_type": "code",
   "execution_count": 8,
   "metadata": {},
   "outputs": [
    {
     "data": {
      "text/plain": [
       "<AxesSubplot:>"
      ]
     },
     "execution_count": 8,
     "metadata": {},
     "output_type": "execute_result"
    },
    {
     "data": {
      "image/png": "[encoded data removed]",
      "text/plain": [
       "<Figure size 1440x720 with 2 Axes>"
      ]
     },
     "metadata": {
      "needs_background": "light"
     },
     "output_type": "display_data"
    }
   ],
   "source": [
    "import matplotlib.pyplot as plt\n",
    "import seaborn as sns\n",
    "\n",
    "numeric_df = hotel[numeric_cols]\n",
    "corr = numeric_df.corr()\n",
    "plt.figure(figsize=(20,10))\n",
    "sns.heatmap(corr, cmap='Blues', annot=True, fmt='.3g')"
   ]
  },
  {
   "cell_type": "markdown",
   "metadata": {},
   "source": [
    "### lead_time 변수"
   ]
  },
  {
   "cell_type": "code",
   "execution_count": 9,
   "metadata": {
    "scrolled": true
   },
   "outputs": [
    {
     "data": {
      "text/plain": [
       "array([342, 737,   7,  13,  14,   0,   9,  85,  75,  23,  35,  68,  18,\n",
       "        37,  12,  72, 127,  78,  48,  60,  77,  99, 118,  95,  96,  69,\n",
       "        45,  40,  15,  36,  43,  70,  16, 107,  47, 113,  90,  50,  93,\n",
       "        76,   3,   1,  10,   5,  17,  51,  71,  63,  62, 101,   2,  81,\n",
       "       368, 364, 324,  79,  21, 109, 102,   4,  98,  92,  26,  73, 115,\n",
       "        86,  52,  29,  30,  33,  32,   8, 100,  44,  80,  97,  64,  39,\n",
       "        34,  27,  82,  94, 110, 111,  84,  66, 104,  28, 258, 112,  65,\n",
       "        67,  55,  88,  54, 292,  83, 105, 280, 394,  24, 103, 366, 249,\n",
       "        22,  91,  11, 108, 106,  31,  87,  41, 304, 117,  59,  53,  58,\n",
       "       116,  42, 321,  38,  56,  49, 317,   6,  57,  19,  25, 315, 123,\n",
       "        46,  89,  61, 312, 299, 130,  74, 298, 119,  20, 286, 136, 129,\n",
       "       124, 327, 131, 460, 140, 114, 139, 122, 137, 126, 120, 128, 135,\n",
       "       150, 143, 151, 132, 125, 157, 147, 138, 156, 164, 346, 159, 160,\n",
       "       161, 333, 381, 149, 154, 297, 163, 314, 155, 323, 340, 356, 142,\n",
       "       328, 144, 336, 248, 302, 175, 344, 382, 146, 170, 166, 338, 167,\n",
       "       310, 148, 165, 172, 171, 145, 121, 178, 305, 173, 152, 354, 347,\n",
       "       158, 185, 349, 183, 352, 177, 200, 192, 361, 207, 174, 330, 134,\n",
       "       350, 334, 283, 153, 197, 133, 241, 193, 235, 194, 261, 260, 216,\n",
       "       169, 209, 238, 215, 141, 189, 187, 223, 284, 214, 202, 211, 168,\n",
       "       230, 203, 188, 232, 709, 219, 162, 196, 190, 259, 228, 176, 250,\n",
       "       201, 186, 199, 180, 206, 205, 224, 222, 182, 210, 275, 212, 229,\n",
       "       218, 208, 191, 181, 179, 246, 255, 226, 288, 253, 252, 262, 236,\n",
       "       256, 234, 254, 468, 213, 237, 198, 195, 239, 263, 265, 274, 217,\n",
       "       220, 307, 221, 233, 257, 227, 276, 225, 264, 311, 277, 204, 290,\n",
       "       266, 270, 294, 319, 282, 251, 322, 291, 269, 240, 271, 184, 231,\n",
       "       268, 247, 273, 300, 301, 267, 244, 306, 293, 309, 272, 242, 295,\n",
       "       285, 243, 308, 398, 303, 245, 424, 279, 331, 281, 339, 434, 357,\n",
       "       325, 329, 278, 332, 343, 345, 360, 348, 367, 353, 373, 374, 406,\n",
       "       400, 326, 379, 399, 316, 341, 320, 385, 355, 363, 358, 296, 422,\n",
       "       390, 335, 370, 376, 375, 397, 289, 542, 403, 383, 384, 359, 393,\n",
       "       337, 362, 365, 435, 386, 378, 313, 351, 287, 471, 462, 411, 450,\n",
       "       318, 372, 371, 454, 532, 445, 389, 388, 407, 443, 437, 451, 391,\n",
       "       405, 412, 419, 420, 426, 433, 440, 429, 418, 447, 461, 605, 457,\n",
       "       475, 464, 482, 626, 489, 496, 503, 510, 517, 524, 531, 538, 545,\n",
       "       552, 559, 566, 573, 580, 587, 594, 601, 608, 615, 622, 629, 396,\n",
       "       410, 395, 423, 408, 409, 448, 465, 387, 414, 476, 479, 467, 490,\n",
       "       493, 478, 504, 507, 458, 518, 521, 377, 444, 380, 463])"
      ]
     },
     "execution_count": 9,
     "metadata": {},
     "output_type": "execute_result"
    }
   ],
   "source": [
    "# lead_time 이상치 파악\n",
    "# lead_time 값의 종류들 살펴보기 -> 의외로 몇백일 단위의 값들이 많다.. 이상치 제거할 필요보단 정규화시켜주어야 할 듯 싶다.\n",
    "hotel['lead_time'].unique()"
   ]
  },
  {
   "cell_type": "code",
   "execution_count": 10,
   "metadata": {},
   "outputs": [
    {
     "data": {
      "text/plain": [
       "<AxesSubplot:>"
      ]
     },
     "execution_count": 10,
     "metadata": {},
     "output_type": "execute_result"
    },
    {
     "data": {
      "image/png": "[encoded data removed]",
      "text/plain": [
       "<Figure size 432x288 with 1 Axes>"
      ]
     },
     "metadata": {
      "needs_background": "light"
     },
     "output_type": "display_data"
    }
   ],
   "source": [
    "# 값들 분포 확인하기\n",
    "hotel['lead_time'].hist()"
   ]
  },
  {
   "cell_type": "code",
   "execution_count": 11,
   "metadata": {},
   "outputs": [
    {
     "data": {
      "text/plain": [
       "<AxesSubplot:>"
      ]
     },
     "execution_count": 11,
     "metadata": {},
     "output_type": "execute_result"
    },
    {
     "data": {
      "image/png": "[encoded data removed]",
      "text/plain": [
       "<Figure size 432x288 with 1 Axes>"
      ]
     },
     "metadata": {
      "needs_background": "light"
     },
     "output_type": "display_data"
    }
   ],
   "source": [
    "# +1한다음 log를 이용해 정규분포화시키기\n",
    "np.log1p(hotel['lead_time']).hist()"
   ]
  },
  {
   "cell_type": "markdown",
   "metadata": {},
   "source": [
    "- lead_time 은 log1p를 이용해서 분포를 변환해주자"
   ]
  },
  {
   "cell_type": "markdown",
   "metadata": {},
   "source": [
    "### adults, children, babies 변수\n",
    "\n",
    "- 기본적으로 위 3가지 변수는 종속변수(취소여부)와 상관계수가 매우 낮다. \n",
    "    * adults : 0.06\n",
    "    * children : 0.00504\n",
    "    * babies : -0.03\n",
    "- 따라서 위 3가지 변수와 예약취소여부와의 관계는 선형관계가 아니다."
   ]
  },
  {
   "cell_type": "code",
   "execution_count": 12,
   "metadata": {},
   "outputs": [
    {
     "data": {
      "text/plain": [
       "2     89680\n",
       "1     23027\n",
       "3      6202\n",
       "0       403\n",
       "4        62\n",
       "26        5\n",
       "27        2\n",
       "20        2\n",
       "5         2\n",
       "55        1\n",
       "50        1\n",
       "40        1\n",
       "10        1\n",
       "6         1\n",
       "Name: adults, dtype: int64"
      ]
     },
     "execution_count": 12,
     "metadata": {},
     "output_type": "execute_result"
    }
   ],
   "source": [
    "# adult변수 원본 분포형태 보기\n",
    "hotel['adults'].value_counts()"
   ]
  },
  {
   "cell_type": "code",
   "execution_count": 13,
   "metadata": {},
   "outputs": [
    {
     "data": {
      "text/plain": [
       "<AxesSubplot:>"
      ]
     },
     "execution_count": 13,
     "metadata": {},
     "output_type": "execute_result"
    },
    {
     "data": {
      "image/png": "[encoded data removed]",
      "text/plain": [
       "<Figure size 432x288 with 1 Axes>"
      ]
     },
     "metadata": {
      "needs_background": "light"
     },
     "output_type": "display_data"
    }
   ],
   "source": [
    "hotel['adults'].hist()"
   ]
  },
  {
   "cell_type": "code",
   "execution_count": 14,
   "metadata": {},
   "outputs": [
    {
     "name": "stdout",
     "output_type": "stream",
     "text": [
      "0.0     110800\n",
      "1.0       4861\n",
      "2.0       3652\n",
      "3.0         76\n",
      "10.0         1\n",
      "Name: children, dtype: int64\n",
      "AxesSubplot(0.125,0.125;0.775x0.755)\n"
     ]
    },
    {
     "data": {
      "image/png": "[encoded data removed]",
      "text/plain": [
       "<Figure size 432x288 with 1 Axes>"
      ]
     },
     "metadata": {
      "needs_background": "light"
     },
     "output_type": "display_data"
    }
   ],
   "source": [
    "# children 변수\n",
    "print(hotel['children'].value_counts())\n",
    "print(hotel['children'].hist())"
   ]
  },
  {
   "cell_type": "code",
   "execution_count": 15,
   "metadata": {},
   "outputs": [
    {
     "name": "stdout",
     "output_type": "stream",
     "text": [
      "0     118473\n",
      "1        900\n",
      "2         15\n",
      "10         1\n",
      "9          1\n",
      "Name: babies, dtype: int64\n",
      "AxesSubplot(0.125,0.125;0.775x0.755)\n"
     ]
    },
    {
     "data": {
      "image/png": "[encoded data removed]",
      "text/plain": [
       "<Figure size 432x288 with 1 Axes>"
      ]
     },
     "metadata": {
      "needs_background": "light"
     },
     "output_type": "display_data"
    }
   ],
   "source": [
    "# babies 변수\n",
    "print(hotel['babies'].value_counts())\n",
    "print(hotel['babies'].hist())"
   ]
  },
  {
   "cell_type": "markdown",
   "metadata": {},
   "source": [
    "- **종속변수와 선형관계를 보이지 않을 뿐더러 독립변수 값들의 분포가 한 값에 매우 몰려있기 때문에 해당 변수들을 예측 모델의 feature로서는 적합하지 않다고 판단**"
   ]
  },
  {
   "cell_type": "markdown",
   "metadata": {},
   "source": [
    "### is_repeated_guest\n",
    "\n",
    "- 해당 변수는 범주형 변수이다\n",
    "    * 0이면 최초 손님\n",
    "    * 1이면 중복 손님(이전에 예약한 경험이 있는 손님)"
   ]
  },
  {
   "cell_type": "code",
   "execution_count": 16,
   "metadata": {},
   "outputs": [
    {
     "data": {
      "text/plain": [
       "0    115580\n",
       "1      3810\n",
       "Name: is_repeated_guest, dtype: int64"
      ]
     },
     "execution_count": 16,
     "metadata": {},
     "output_type": "execute_result"
    }
   ],
   "source": [
    "hotel['is_repeated_guest'].value_counts()"
   ]
  },
  {
   "cell_type": "markdown",
   "metadata": {},
   "source": [
    "- 이 변수는 그대로 레이블인코딩 상태로 feature에 넣자"
   ]
  },
  {
   "cell_type": "markdown",
   "metadata": {},
   "source": [
    "### previous_cancellations"
   ]
  },
  {
   "cell_type": "code",
   "execution_count": 17,
   "metadata": {},
   "outputs": [
    {
     "data": {
      "text/plain": [
       "<AxesSubplot:>"
      ]
     },
     "execution_count": 17,
     "metadata": {},
     "output_type": "execute_result"
    },
    {
     "data": {
      "image/png": "[encoded data removed]",
      "text/plain": [
       "<Figure size 432x288 with 1 Axes>"
      ]
     },
     "metadata": {
      "needs_background": "light"
     },
     "output_type": "display_data"
    }
   ],
   "source": [
    "hotel['previous_cancellations'].hist()"
   ]
  },
  {
   "cell_type": "code",
   "execution_count": 18,
   "metadata": {},
   "outputs": [
    {
     "data": {
      "text/plain": [
       "0     112906\n",
       "1       6051\n",
       "2        116\n",
       "3         65\n",
       "24        48\n",
       "11        35\n",
       "4         31\n",
       "26        26\n",
       "25        25\n",
       "6         22\n",
       "19        19\n",
       "5         19\n",
       "14        14\n",
       "13        12\n",
       "21         1\n",
       "Name: previous_cancellations, dtype: int64"
      ]
     },
     "execution_count": 18,
     "metadata": {},
     "output_type": "execute_result"
    }
   ],
   "source": [
    "hotel['previous_cancellations'].value_counts()"
   ]
  },
  {
   "cell_type": "code",
   "execution_count": 19,
   "metadata": {},
   "outputs": [
    {
     "data": {
      "text/plain": [
       "1    154\n",
       "0     26\n",
       "Name: is_canceled, dtype: int64"
      ]
     },
     "execution_count": 19,
     "metadata": {},
     "output_type": "execute_result"
    }
   ],
   "source": [
    "# 이상치라고 판단되는 value가 7이상인 데이터들은 예약을 모두 취소한 건수들일까?\n",
    "hotel.loc[hotel['previous_cancellations'] > 6, 'is_canceled'].value_counts()"
   ]
  },
  {
   "cell_type": "markdown",
   "metadata": {},
   "source": [
    "- 종속변수와의 상관계수값은 0.11이다.\n",
    "- 이상치로 판단되는 값들의 예약취소여부를 조사해보니 그래도 이상치에 해당하는 값들이 예약 취소건수가 많았다. 따라서 이상치를 제거할 순 없다고 판단.\n",
    "- 이상치가 있긴 하지만 제거하지 않고 이상치에 민감하지 않는 Robust scaler를 사용하자."
   ]
  },
  {
   "cell_type": "markdown",
   "metadata": {},
   "source": [
    "### previous_bookings_not_canceled"
   ]
  },
  {
   "cell_type": "code",
   "execution_count": 20,
   "metadata": {},
   "outputs": [
    {
     "data": {
      "text/plain": [
       "<AxesSubplot:>"
      ]
     },
     "execution_count": 20,
     "metadata": {},
     "output_type": "execute_result"
    },
    {
     "data": {
      "image/png": "[encoded data removed]",
      "text/plain": [
       "<Figure size 432x288 with 1 Axes>"
      ]
     },
     "metadata": {
      "needs_background": "light"
     },
     "output_type": "display_data"
    }
   ],
   "source": [
    "hotel['previous_bookings_not_canceled'].hist()"
   ]
  },
  {
   "cell_type": "code",
   "execution_count": 21,
   "metadata": {
    "scrolled": true
   },
   "outputs": [
    {
     "data": {
      "text/plain": [
       "0     115770\n",
       "1       1542\n",
       "2        580\n",
       "3        333\n",
       "4        229\n",
       "5        181\n",
       "6        115\n",
       "7         88\n",
       "8         70\n",
       "9         60\n",
       "10        53\n",
       "11        43\n",
       "12        37\n",
       "13        30\n",
       "14        28\n",
       "15        21\n",
       "16        20\n",
       "25        17\n",
       "17        16\n",
       "18        14\n",
       "19        13\n",
       "20        12\n",
       "21        12\n",
       "22        10\n",
       "24         9\n",
       "27         9\n",
       "23         7\n",
       "26         7\n",
       "28         7\n",
       "29         6\n",
       "30         4\n",
       "44         2\n",
       "48         2\n",
       "31         2\n",
       "32         2\n",
       "58         2\n",
       "57         1\n",
       "70         1\n",
       "55         1\n",
       "56         1\n",
       "69         1\n",
       "71         1\n",
       "54         1\n",
       "59         1\n",
       "68         1\n",
       "67         1\n",
       "53         1\n",
       "66         1\n",
       "60         1\n",
       "65         1\n",
       "61         1\n",
       "64         1\n",
       "72         1\n",
       "37         1\n",
       "52         1\n",
       "41         1\n",
       "35         1\n",
       "34         1\n",
       "33         1\n",
       "62         1\n",
       "38         1\n",
       "39         1\n",
       "40         1\n",
       "42         1\n",
       "51         1\n",
       "43         1\n",
       "45         1\n",
       "46         1\n",
       "47         1\n",
       "36         1\n",
       "49         1\n",
       "50         1\n",
       "63         1\n",
       "Name: previous_bookings_not_canceled, dtype: int64"
      ]
     },
     "execution_count": 21,
     "metadata": {},
     "output_type": "execute_result"
    }
   ],
   "source": [
    "pd.options.display.max_rows=200\n",
    "hotel['previous_bookings_not_canceled'].value_counts()"
   ]
  },
  {
   "cell_type": "code",
   "execution_count": 22,
   "metadata": {},
   "outputs": [
    {
     "data": {
      "text/plain": [
       "0    71746\n",
       "1    44024\n",
       "Name: is_canceled, dtype: int64"
      ]
     },
     "execution_count": 22,
     "metadata": {},
     "output_type": "execute_result"
    }
   ],
   "source": [
    "hotel.loc[hotel['previous_bookings_not_canceled'] == 0, 'is_canceled'].value_counts()"
   ]
  },
  {
   "cell_type": "code",
   "execution_count": 23,
   "metadata": {},
   "outputs": [
    {
     "data": {
      "text/plain": [
       "0    3420\n",
       "1     200\n",
       "Name: is_canceled, dtype: int64"
      ]
     },
     "execution_count": 23,
     "metadata": {},
     "output_type": "execute_result"
    }
   ],
   "source": [
    "# 이상치로 판단되는 1값이상의 데이터들의 예약건수 취소여부를 살펴보자\n",
    "hotel.loc[hotel['previous_bookings_not_canceled'] > 0, 'is_canceled'].value_counts()"
   ]
  },
  {
   "cell_type": "markdown",
   "metadata": {},
   "source": [
    "- 종속변수와의 상관계수값은 -0.05이다.\n",
    "- 확실히 이전에 취소하지 않은 예약건수들이 많을 수록 예약을 취소하지 않을 가능성이 높았다.\n",
    "- 이상치가 있긴 하지만 개수가 거의 없다제거하지 않고 이상치에 민감하지 않는 Robust scaler를 사용하자."
   ]
  },
  {
   "cell_type": "markdown",
   "metadata": {},
   "source": [
    "### booking_changes"
   ]
  },
  {
   "cell_type": "code",
   "execution_count": 24,
   "metadata": {},
   "outputs": [
    {
     "data": {
      "text/plain": [
       "<AxesSubplot:>"
      ]
     },
     "execution_count": 24,
     "metadata": {},
     "output_type": "execute_result"
    },
    {
     "data": {
      "image/png": "[encoded data removed]",
      "text/plain": [
       "<Figure size 432x288 with 1 Axes>"
      ]
     },
     "metadata": {
      "needs_background": "light"
     },
     "output_type": "display_data"
    }
   ],
   "source": [
    "hotel['booking_changes'].hist()"
   ]
  },
  {
   "cell_type": "code",
   "execution_count": 25,
   "metadata": {},
   "outputs": [
    {
     "data": {
      "text/plain": [
       "0     101314\n",
       "1      12701\n",
       "2       3805\n",
       "3        927\n",
       "4        376\n",
       "5        118\n",
       "6         63\n",
       "7         31\n",
       "8         17\n",
       "9          8\n",
       "10         6\n",
       "13         5\n",
       "14         5\n",
       "15         3\n",
       "11         2\n",
       "12         2\n",
       "16         2\n",
       "17         2\n",
       "20         1\n",
       "18         1\n",
       "21         1\n",
       "Name: booking_changes, dtype: int64"
      ]
     },
     "execution_count": 25,
     "metadata": {},
     "output_type": "execute_result"
    }
   ],
   "source": [
    "hotel['booking_changes'].value_counts()"
   ]
  },
  {
   "cell_type": "code",
   "execution_count": 26,
   "metadata": {},
   "outputs": [
    {
     "name": "stdout",
     "output_type": "stream",
     "text": [
      "0    15243\n",
      "1     2833\n",
      "Name: is_canceled, dtype: int64\n",
      "0    59923\n",
      "1    41391\n",
      "Name: is_canceled, dtype: int64\n"
     ]
    }
   ],
   "source": [
    "print(hotel.loc[hotel['booking_changes'] > 0, 'is_canceled'].value_counts())\n",
    "print(hotel.loc[hotel['booking_changes'] == 0, 'is_canceled'].value_counts())"
   ]
  },
  {
   "cell_type": "markdown",
   "metadata": {},
   "source": [
    "- 예약변경을 한 번도 하지 않은 사람들 중에서 예약 취소 여부 비율은 비슷했다.\n",
    "- 예약변경을 한번 이상한 사람들 중에서는 예약 취소하지 않는 비율이 많았다.\n",
    "- 따라서, 예약변경을 그래도 많이할수록 예약을 취소하지 않는다.\n",
    "- 그러므로 이상치를 제거하는 것보다 이상치에 민감하지 않은 Robust scaler를 사용해야 할 듯 하다."
   ]
  },
  {
   "cell_type": "markdown",
   "metadata": {},
   "source": [
    "### days_in_waiting_list"
   ]
  },
  {
   "cell_type": "code",
   "execution_count": 27,
   "metadata": {},
   "outputs": [
    {
     "data": {
      "text/plain": [
       "<AxesSubplot:>"
      ]
     },
     "execution_count": 27,
     "metadata": {},
     "output_type": "execute_result"
    },
    {
     "data": {
      "image/png": "[encoded data removed]",
      "text/plain": [
       "<Figure size 432x288 with 1 Axes>"
      ]
     },
     "metadata": {
      "needs_background": "light"
     },
     "output_type": "display_data"
    }
   ],
   "source": [
    "hotel['days_in_waiting_list'].hist()"
   ]
  },
  {
   "cell_type": "code",
   "execution_count": 28,
   "metadata": {},
   "outputs": [
    {
     "data": {
      "text/plain": [
       "0      115692\n",
       "39        227\n",
       "58        164\n",
       "44        141\n",
       "31        127\n",
       "35         96\n",
       "46         94\n",
       "69         89\n",
       "63         83\n",
       "50         80\n",
       "87         80\n",
       "38         76\n",
       "111        71\n",
       "45         65\n",
       "101        65\n",
       "77         63\n",
       "41         63\n",
       "223        61\n",
       "62         60\n",
       "3          59\n",
       "98         59\n",
       "22         56\n",
       "122        55\n",
       "15         54\n",
       "48         52\n",
       "176        50\n",
       "91         50\n",
       "28         50\n",
       "17         47\n",
       "96         46\n",
       "187        45\n",
       "56         45\n",
       "391        45\n",
       "68         42\n",
       "60         41\n",
       "75         40\n",
       "93         40\n",
       "21         37\n",
       "236        35\n",
       "65         35\n",
       "147        30\n",
       "33         30\n",
       "19         30\n",
       "162        30\n",
       "178        30\n",
       "42         30\n",
       "20         29\n",
       "10         28\n",
       "40         28\n",
       "27         26\n",
       "34         26\n",
       "120        25\n",
       "4          25\n",
       "57         25\n",
       "160        25\n",
       "25         25\n",
       "80         24\n",
       "47         24\n",
       "215        21\n",
       "79         20\n",
       "108        20\n",
       "24         19\n",
       "99         19\n",
       "32         19\n",
       "43         19\n",
       "174        19\n",
       "70         18\n",
       "61         18\n",
       "49         18\n",
       "9          16\n",
       "125        16\n",
       "6          16\n",
       "379        15\n",
       "85         15\n",
       "330        15\n",
       "207        15\n",
       "59         14\n",
       "71         13\n",
       "1          12\n",
       "150        11\n",
       "259        10\n",
       "224        10\n",
       "55         10\n",
       "14          9\n",
       "5           8\n",
       "11          7\n",
       "8           7\n",
       "113         6\n",
       "53          6\n",
       "2           5\n",
       "107         5\n",
       "7           4\n",
       "26          4\n",
       "13          4\n",
       "16          4\n",
       "18          3\n",
       "64          3\n",
       "12          3\n",
       "100         3\n",
       "23          3\n",
       "97          3\n",
       "185         2\n",
       "76          2\n",
       "105         2\n",
       "84          2\n",
       "30          2\n",
       "121         2\n",
       "154         2\n",
       "83          2\n",
       "193         1\n",
       "167         1\n",
       "52          1\n",
       "165         1\n",
       "72          1\n",
       "73          1\n",
       "109         1\n",
       "74          1\n",
       "37          1\n",
       "116         1\n",
       "142         1\n",
       "36          1\n",
       "54          1\n",
       "81          1\n",
       "175         1\n",
       "117         1\n",
       "89          1\n",
       "92          1\n",
       "183         1\n",
       "Name: days_in_waiting_list, dtype: int64"
      ]
     },
     "execution_count": 28,
     "metadata": {},
     "output_type": "execute_result"
    }
   ],
   "source": [
    "hotel['days_in_waiting_list'].value_counts()"
   ]
  },
  {
   "cell_type": "code",
   "execution_count": 29,
   "metadata": {},
   "outputs": [
    {
     "name": "stdout",
     "output_type": "stream",
     "text": [
      "1    2359\n",
      "0    1339\n",
      "Name: is_canceled, dtype: int64\n",
      "0    73827\n",
      "1    41865\n",
      "Name: is_canceled, dtype: int64\n"
     ]
    }
   ],
   "source": [
    "# 예약이 확정될 때까지 하루이상걸린 예약건수들의 취소 여부비율 살펴보기\n",
    "print(hotel.loc[hotel['days_in_waiting_list'] > 0, 'is_canceled'].value_counts())\n",
    "print(hotel.loc[hotel['days_in_waiting_list'] == 0, 'is_canceled'].value_counts())"
   ]
  },
  {
   "cell_type": "markdown",
   "metadata": {},
   "source": [
    "- 예약을 확정짓는데 하루 이상 걸린 사람들은 예약취소하는 경향이 있는 듯하다.\n",
    "- 이상치를 제거하지 않고 Robust scaler사용"
   ]
  },
  {
   "cell_type": "markdown",
   "metadata": {},
   "source": [
    "### required_car_parking_spaces"
   ]
  },
  {
   "cell_type": "code",
   "execution_count": 30,
   "metadata": {},
   "outputs": [
    {
     "data": {
      "text/plain": [
       "<AxesSubplot:>"
      ]
     },
     "execution_count": 30,
     "metadata": {},
     "output_type": "execute_result"
    },
    {
     "data": {
      "image/png": "[encoded data removed]",
      "text/plain": [
       "<Figure size 432x288 with 1 Axes>"
      ]
     },
     "metadata": {
      "needs_background": "light"
     },
     "output_type": "display_data"
    }
   ],
   "source": [
    "hotel['required_car_parking_spaces'].hist()"
   ]
  },
  {
   "cell_type": "code",
   "execution_count": 31,
   "metadata": {},
   "outputs": [
    {
     "data": {
      "text/plain": [
       "0    111974\n",
       "1      7383\n",
       "2        28\n",
       "3         3\n",
       "8         2\n",
       "Name: required_car_parking_spaces, dtype: int64"
      ]
     },
     "execution_count": 31,
     "metadata": {},
     "output_type": "execute_result"
    }
   ],
   "source": [
    "hotel['required_car_parking_spaces'].value_counts()"
   ]
  },
  {
   "cell_type": "code",
   "execution_count": 32,
   "metadata": {},
   "outputs": [
    {
     "name": "stdout",
     "output_type": "stream",
     "text": [
      "0    7416\n",
      "Name: is_canceled, dtype: int64\n",
      "0    67750\n",
      "1    44224\n",
      "Name: is_canceled, dtype: int64\n"
     ]
    }
   ],
   "source": [
    "# 주차공간을 요구하는 사람들은 예약을 취소할까?\n",
    "print(hotel.loc[hotel['required_car_parking_spaces'] > 0, 'is_canceled'].value_counts())\n",
    "print(hotel.loc[hotel['required_car_parking_spaces'] == 0, 'is_canceled'].value_counts())"
   ]
  },
  {
   "cell_type": "markdown",
   "metadata": {},
   "source": [
    "- 주차공간을 요구한 사람들은 무조건 예약을 취소하지 않는다.\n",
    "- 따라서 이상치를 제거하지 않고 Robust Scaler적용"
   ]
  },
  {
   "cell_type": "markdown",
   "metadata": {},
   "source": [
    "### total_of_special_requests"
   ]
  },
  {
   "cell_type": "code",
   "execution_count": 33,
   "metadata": {},
   "outputs": [
    {
     "data": {
      "text/plain": [
       "<AxesSubplot:>"
      ]
     },
     "execution_count": 33,
     "metadata": {},
     "output_type": "execute_result"
    },
    {
     "data": {
      "image/png": "[encoded data removed]",
      "text/plain": [
       "<Figure size 432x288 with 1 Axes>"
      ]
     },
     "metadata": {
      "needs_background": "light"
     },
     "output_type": "display_data"
    }
   ],
   "source": [
    "hotel['total_of_special_requests'].hist()"
   ]
  },
  {
   "cell_type": "code",
   "execution_count": 34,
   "metadata": {},
   "outputs": [
    {
     "data": {
      "text/plain": [
       "0    70318\n",
       "1    33226\n",
       "2    12969\n",
       "3     2497\n",
       "4      340\n",
       "5       40\n",
       "Name: total_of_special_requests, dtype: int64"
      ]
     },
     "execution_count": 34,
     "metadata": {},
     "output_type": "execute_result"
    }
   ],
   "source": [
    "hotel['total_of_special_requests'].value_counts()"
   ]
  },
  {
   "cell_type": "code",
   "execution_count": 35,
   "metadata": {},
   "outputs": [
    {
     "name": "stdout",
     "output_type": "stream",
     "text": [
      "0    342\n",
      "1     38\n",
      "Name: is_canceled, dtype: int64\n",
      "0    2051\n",
      "1     446\n",
      "Name: is_canceled, dtype: int64\n"
     ]
    }
   ],
   "source": [
    "# 이상치로 판단되는 4,5 일때 예약취소여부를 살펴보자\n",
    "print(hotel.loc[hotel['total_of_special_requests'] > 3, 'is_canceled'].value_counts())\n",
    "print(hotel.loc[hotel['total_of_special_requests'] == 3, 'is_canceled'].value_counts())"
   ]
  },
  {
   "cell_type": "markdown",
   "metadata": {},
   "source": [
    "- 호텔에 특별요구(방 종류 변경, 고층실 예약 요구)를 많이 한사람들은 예약을 취소하지 않는 경향이 강하다\n",
    "- 따라서 이상치를 제거하지 않고 Robust scaler적용"
   ]
  },
  {
   "cell_type": "markdown",
   "metadata": {},
   "source": [
    "## Feature Engineering \n",
    "\n",
    "* Target variable(binary) : is_canceled\n",
    "* Numeric variables \n",
    "    - 예약날짜 관련 함수는 모두 삭제\n",
    "    - lead_time : log1p변환\n",
    "    - 어른,아이,아기 변수 삭제\n",
    "    - is_repeated_guest는 현재상태 유지(레이블 인코딩)"
   ]
  },
  {
   "cell_type": "code",
   "execution_count": 36,
   "metadata": {},
   "outputs": [
    {
     "name": "stdout",
     "output_type": "stream",
     "text": [
      "['is_canceled' 'lead_time' 'adults' 'children' 'babies'\n",
      " 'is_repeated_guest' 'previous_cancellations'\n",
      " 'previous_bookings_not_canceled' 'booking_changes' 'days_in_waiting_list'\n",
      " 'adr' 'required_car_parking_spaces' 'total_of_special_requests']\n"
     ]
    }
   ],
   "source": [
    "# adr 변수 삭제\n",
    "numeric_cols.tolist().remove('adr')\n",
    "print(numeric_cols)"
   ]
  },
  {
   "cell_type": "code",
   "execution_count": 37,
   "metadata": {},
   "outputs": [
    {
     "name": "stdout",
     "output_type": "stream",
     "text": [
      "['is_canceled', 'lead_time', 'adults', 'children', 'babies', 'is_repeated_guest', 'previous_cancellations', 'previous_bookings_not_canceled', 'booking_changes', 'days_in_waiting_list', 'adr', 'required_car_parking_spaces', 'total_of_special_requests', 'stays_in_weekend_nights', 'stays_in_week_nights']\n"
     ]
    }
   ],
   "source": [
    "final_cols = numeric_cols.tolist()\n",
    "extra_cols = ['stays_in_weekend_nights','stays_in_week_nights']\n",
    "for col in extra_cols:\n",
    "    final_cols.append(col)\n",
    "print(final_cols)"
   ]
  },
  {
   "cell_type": "markdown",
   "metadata": {},
   "source": [
    "### Categorical Variable encoding"
   ]
  },
  {
   "cell_type": "code",
   "execution_count": 38,
   "metadata": {},
   "outputs": [
    {
     "data": {
      "text/plain": [
       "Index(['hotel', 'meal', 'market_segment', 'distribution_channel',\n",
       "       'reserved_room_type', 'assigned_room_type', 'deposit_type',\n",
       "       'customer_type', 'reservation_status'],\n",
       "      dtype='object')"
      ]
     },
     "execution_count": 38,
     "metadata": {},
     "output_type": "execute_result"
    }
   ],
   "source": [
    "category_cols = ['hotel','meal','market_segment','distribution_channel','reserved_room_type','assigned_room_type',\n",
    "                'deposit_type','customer_type','reservation_status']\n",
    "category_df = hotel[category_cols]\n",
    "category_df.columns"
   ]
  },
  {
   "cell_type": "code",
   "execution_count": 39,
   "metadata": {},
   "outputs": [],
   "source": [
    "# reservation_status는 예약 취소여부 후 나오는 변수값으로 해당 변수는 순차적으로 예약취소여부가 나온 후에 도출되는 변수므로 삭제\n",
    "del category_df['reservation_status']"
   ]
  },
  {
   "cell_type": "code",
   "execution_count": 40,
   "metadata": {
    "scrolled": true
   },
   "outputs": [
    {
     "data": {
      "text/html": [
       "<div>\n",
       "<style scoped>\n",
       "    .dataframe tbody tr th:only-of-type {\n",
       "        vertical-align: middle;\n",
       "    }\n",
       "\n",
       "    .dataframe tbody tr th {\n",
       "        vertical-align: top;\n",
       "    }\n",
       "\n",
       "    .dataframe thead th {\n",
       "        text-align: right;\n",
       "    }\n",
       "</style>\n",
       "<table border=\"1\" class=\"dataframe\">\n",
       "  <thead>\n",
       "    <tr style=\"text-align: right;\">\n",
       "      <th></th>\n",
       "      <th></th>\n",
       "      <th>hotel</th>\n",
       "    </tr>\n",
       "    <tr>\n",
       "      <th>reserved_room_type</th>\n",
       "      <th>is_canceled</th>\n",
       "      <th></th>\n",
       "    </tr>\n",
       "  </thead>\n",
       "  <tbody>\n",
       "    <tr>\n",
       "      <th rowspan=\"2\" valign=\"top\">A</th>\n",
       "      <th>0</th>\n",
       "      <td>52364</td>\n",
       "    </tr>\n",
       "    <tr>\n",
       "      <th>1</th>\n",
       "      <td>33630</td>\n",
       "    </tr>\n",
       "    <tr>\n",
       "      <th rowspan=\"2\" valign=\"top\">B</th>\n",
       "      <th>0</th>\n",
       "      <td>750</td>\n",
       "    </tr>\n",
       "    <tr>\n",
       "      <th>1</th>\n",
       "      <td>368</td>\n",
       "    </tr>\n",
       "    <tr>\n",
       "      <th rowspan=\"2\" valign=\"top\">C</th>\n",
       "      <th>0</th>\n",
       "      <td>624</td>\n",
       "    </tr>\n",
       "    <tr>\n",
       "      <th>1</th>\n",
       "      <td>308</td>\n",
       "    </tr>\n",
       "    <tr>\n",
       "      <th rowspan=\"2\" valign=\"top\">D</th>\n",
       "      <th>0</th>\n",
       "      <td>13099</td>\n",
       "    </tr>\n",
       "    <tr>\n",
       "      <th>1</th>\n",
       "      <td>6102</td>\n",
       "    </tr>\n",
       "    <tr>\n",
       "      <th rowspan=\"2\" valign=\"top\">E</th>\n",
       "      <th>0</th>\n",
       "      <td>4621</td>\n",
       "    </tr>\n",
       "    <tr>\n",
       "      <th>1</th>\n",
       "      <td>1914</td>\n",
       "    </tr>\n",
       "    <tr>\n",
       "      <th rowspan=\"2\" valign=\"top\">F</th>\n",
       "      <th>0</th>\n",
       "      <td>2017</td>\n",
       "    </tr>\n",
       "    <tr>\n",
       "      <th>1</th>\n",
       "      <td>880</td>\n",
       "    </tr>\n",
       "    <tr>\n",
       "      <th rowspan=\"2\" valign=\"top\">G</th>\n",
       "      <th>0</th>\n",
       "      <td>1331</td>\n",
       "    </tr>\n",
       "    <tr>\n",
       "      <th>1</th>\n",
       "      <td>763</td>\n",
       "    </tr>\n",
       "    <tr>\n",
       "      <th rowspan=\"2\" valign=\"top\">H</th>\n",
       "      <th>0</th>\n",
       "      <td>356</td>\n",
       "    </tr>\n",
       "    <tr>\n",
       "      <th>1</th>\n",
       "      <td>245</td>\n",
       "    </tr>\n",
       "    <tr>\n",
       "      <th rowspan=\"2\" valign=\"top\">L</th>\n",
       "      <th>0</th>\n",
       "      <td>4</td>\n",
       "    </tr>\n",
       "    <tr>\n",
       "      <th>1</th>\n",
       "      <td>2</td>\n",
       "    </tr>\n",
       "    <tr>\n",
       "      <th>P</th>\n",
       "      <th>1</th>\n",
       "      <td>12</td>\n",
       "    </tr>\n",
       "  </tbody>\n",
       "</table>\n",
       "</div>"
      ],
      "text/plain": [
       "                                hotel\n",
       "reserved_room_type is_canceled       \n",
       "A                  0            52364\n",
       "                   1            33630\n",
       "B                  0              750\n",
       "                   1              368\n",
       "C                  0              624\n",
       "                   1              308\n",
       "D                  0            13099\n",
       "                   1             6102\n",
       "E                  0             4621\n",
       "                   1             1914\n",
       "F                  0             2017\n",
       "                   1              880\n",
       "G                  0             1331\n",
       "                   1              763\n",
       "H                  0              356\n",
       "                   1              245\n",
       "L                  0                4\n",
       "                   1                2\n",
       "P                  1               12"
      ]
     },
     "execution_count": 40,
     "metadata": {},
     "output_type": "execute_result"
    }
   ],
   "source": [
    "# 예약한 방 유형에 따라 취소 여부 관계 살펴보기\n",
    "hotel.groupby(['reserved_room_type','is_canceled']).agg({'hotel':'count'})"
   ]
  },
  {
   "cell_type": "code",
   "execution_count": 41,
   "metadata": {
    "scrolled": true
   },
   "outputs": [
    {
     "data": {
      "text/html": [
       "<div>\n",
       "<style scoped>\n",
       "    .dataframe tbody tr th:only-of-type {\n",
       "        vertical-align: middle;\n",
       "    }\n",
       "\n",
       "    .dataframe tbody tr th {\n",
       "        vertical-align: top;\n",
       "    }\n",
       "\n",
       "    .dataframe thead th {\n",
       "        text-align: right;\n",
       "    }\n",
       "</style>\n",
       "<table border=\"1\" class=\"dataframe\">\n",
       "  <thead>\n",
       "    <tr style=\"text-align: right;\">\n",
       "      <th></th>\n",
       "      <th></th>\n",
       "      <th>hotel</th>\n",
       "    </tr>\n",
       "    <tr>\n",
       "      <th>assigned_room_type</th>\n",
       "      <th>is_canceled</th>\n",
       "      <th></th>\n",
       "    </tr>\n",
       "  </thead>\n",
       "  <tbody>\n",
       "    <tr>\n",
       "      <th rowspan=\"2\" valign=\"top\">A</th>\n",
       "      <th>0</th>\n",
       "      <td>41105</td>\n",
       "    </tr>\n",
       "    <tr>\n",
       "      <th>1</th>\n",
       "      <td>32948</td>\n",
       "    </tr>\n",
       "    <tr>\n",
       "      <th rowspan=\"2\" valign=\"top\">B</th>\n",
       "      <th>0</th>\n",
       "      <td>1651</td>\n",
       "    </tr>\n",
       "    <tr>\n",
       "      <th>1</th>\n",
       "      <td>512</td>\n",
       "    </tr>\n",
       "    <tr>\n",
       "      <th rowspan=\"2\" valign=\"top\">C</th>\n",
       "      <th>0</th>\n",
       "      <td>1929</td>\n",
       "    </tr>\n",
       "    <tr>\n",
       "      <th>1</th>\n",
       "      <td>446</td>\n",
       "    </tr>\n",
       "    <tr>\n",
       "      <th rowspan=\"2\" valign=\"top\">D</th>\n",
       "      <th>0</th>\n",
       "      <td>18960</td>\n",
       "    </tr>\n",
       "    <tr>\n",
       "      <th>1</th>\n",
       "      <td>6362</td>\n",
       "    </tr>\n",
       "    <tr>\n",
       "      <th rowspan=\"2\" valign=\"top\">E</th>\n",
       "      <th>0</th>\n",
       "      <td>5838</td>\n",
       "    </tr>\n",
       "    <tr>\n",
       "      <th>1</th>\n",
       "      <td>1968</td>\n",
       "    </tr>\n",
       "    <tr>\n",
       "      <th rowspan=\"2\" valign=\"top\">F</th>\n",
       "      <th>0</th>\n",
       "      <td>2824</td>\n",
       "    </tr>\n",
       "    <tr>\n",
       "      <th>1</th>\n",
       "      <td>927</td>\n",
       "    </tr>\n",
       "    <tr>\n",
       "      <th rowspan=\"2\" valign=\"top\">G</th>\n",
       "      <th>0</th>\n",
       "      <td>1773</td>\n",
       "    </tr>\n",
       "    <tr>\n",
       "      <th>1</th>\n",
       "      <td>780</td>\n",
       "    </tr>\n",
       "    <tr>\n",
       "      <th rowspan=\"2\" valign=\"top\">H</th>\n",
       "      <th>0</th>\n",
       "      <td>461</td>\n",
       "    </tr>\n",
       "    <tr>\n",
       "      <th>1</th>\n",
       "      <td>251</td>\n",
       "    </tr>\n",
       "    <tr>\n",
       "      <th rowspan=\"2\" valign=\"top\">I</th>\n",
       "      <th>0</th>\n",
       "      <td>358</td>\n",
       "    </tr>\n",
       "    <tr>\n",
       "      <th>1</th>\n",
       "      <td>5</td>\n",
       "    </tr>\n",
       "    <tr>\n",
       "      <th rowspan=\"2\" valign=\"top\">K</th>\n",
       "      <th>0</th>\n",
       "      <td>267</td>\n",
       "    </tr>\n",
       "    <tr>\n",
       "      <th>1</th>\n",
       "      <td>12</td>\n",
       "    </tr>\n",
       "    <tr>\n",
       "      <th>L</th>\n",
       "      <th>1</th>\n",
       "      <td>1</td>\n",
       "    </tr>\n",
       "    <tr>\n",
       "      <th>P</th>\n",
       "      <th>1</th>\n",
       "      <td>12</td>\n",
       "    </tr>\n",
       "  </tbody>\n",
       "</table>\n",
       "</div>"
      ],
      "text/plain": [
       "                                hotel\n",
       "assigned_room_type is_canceled       \n",
       "A                  0            41105\n",
       "                   1            32948\n",
       "B                  0             1651\n",
       "                   1              512\n",
       "C                  0             1929\n",
       "                   1              446\n",
       "D                  0            18960\n",
       "                   1             6362\n",
       "E                  0             5838\n",
       "                   1             1968\n",
       "F                  0             2824\n",
       "                   1              927\n",
       "G                  0             1773\n",
       "                   1              780\n",
       "H                  0              461\n",
       "                   1              251\n",
       "I                  0              358\n",
       "                   1                5\n",
       "K                  0              267\n",
       "                   1               12\n",
       "L                  1                1\n",
       "P                  1               12"
      ]
     },
     "execution_count": 41,
     "metadata": {},
     "output_type": "execute_result"
    }
   ],
   "source": [
    "hotel.groupby(['assigned_room_type','is_canceled']).agg({'hotel':'count'})"
   ]
  },
  {
   "cell_type": "code",
   "execution_count": 42,
   "metadata": {
    "scrolled": true
   },
   "outputs": [
    {
     "name": "stderr",
     "output_type": "stream",
     "text": [
      "/Users/younghun/opt/anaconda3/envs/venvforpython/lib/python3.7/site-packages/ipykernel_launcher.py:10: SettingWithCopyWarning: \n",
      "A value is trying to be set on a copy of a slice from a DataFrame.\n",
      "Try using .loc[row_indexer,col_indexer] = value instead\n",
      "\n",
      "See the caveats in the documentation: https://pandas.pydata.org/pandas-docs/stable/user_guide/indexing.html#returning-a-view-versus-a-copy\n",
      "  # Remove the CWD from sys.path while we load stuff.\n"
     ]
    }
   ],
   "source": [
    "# 이진분류 문제이기 때문에 범주형 변수들을 원-핫 인코딩보다는 레이블 인코딩으로 변환\n",
    "# 회귀분석 문제일 때는 범주형 변수를 레이블 인코딩으로 하면 레이블 간의 순서 차이값들이 예측값에 영향미침 -> 그렇다면 로지스틱회귀분석을 사용하면 안되지 않을까?\n",
    "from sklearn.preprocessing import LabelEncoder\n",
    "\n",
    "category_columns = category_df.columns.tolist()\n",
    "encoders = {}\n",
    "\n",
    "for col in category_columns:\n",
    "    encoder = LabelEncoder()\n",
    "    category_df[col] = encoder.fit_transform(category_df[col])\n",
    "    encoders[col] = encoder"
   ]
  },
  {
   "cell_type": "code",
   "execution_count": 43,
   "metadata": {},
   "outputs": [
    {
     "data": {
      "text/html": [
       "<div>\n",
       "<style scoped>\n",
       "    .dataframe tbody tr th:only-of-type {\n",
       "        vertical-align: middle;\n",
       "    }\n",
       "\n",
       "    .dataframe tbody tr th {\n",
       "        vertical-align: top;\n",
       "    }\n",
       "\n",
       "    .dataframe thead th {\n",
       "        text-align: right;\n",
       "    }\n",
       "</style>\n",
       "<table border=\"1\" class=\"dataframe\">\n",
       "  <thead>\n",
       "    <tr style=\"text-align: right;\">\n",
       "      <th></th>\n",
       "      <th>hotel</th>\n",
       "      <th>meal</th>\n",
       "      <th>market_segment</th>\n",
       "      <th>distribution_channel</th>\n",
       "      <th>reserved_room_type</th>\n",
       "      <th>assigned_room_type</th>\n",
       "      <th>deposit_type</th>\n",
       "      <th>customer_type</th>\n",
       "    </tr>\n",
       "  </thead>\n",
       "  <tbody>\n",
       "    <tr>\n",
       "      <th>0</th>\n",
       "      <td>1</td>\n",
       "      <td>0</td>\n",
       "      <td>3</td>\n",
       "      <td>1</td>\n",
       "      <td>2</td>\n",
       "      <td>2</td>\n",
       "      <td>0</td>\n",
       "      <td>2</td>\n",
       "    </tr>\n",
       "    <tr>\n",
       "      <th>1</th>\n",
       "      <td>1</td>\n",
       "      <td>0</td>\n",
       "      <td>3</td>\n",
       "      <td>1</td>\n",
       "      <td>2</td>\n",
       "      <td>2</td>\n",
       "      <td>0</td>\n",
       "      <td>2</td>\n",
       "    </tr>\n",
       "    <tr>\n",
       "      <th>2</th>\n",
       "      <td>1</td>\n",
       "      <td>0</td>\n",
       "      <td>3</td>\n",
       "      <td>1</td>\n",
       "      <td>0</td>\n",
       "      <td>2</td>\n",
       "      <td>0</td>\n",
       "      <td>2</td>\n",
       "    </tr>\n",
       "    <tr>\n",
       "      <th>3</th>\n",
       "      <td>1</td>\n",
       "      <td>0</td>\n",
       "      <td>2</td>\n",
       "      <td>0</td>\n",
       "      <td>0</td>\n",
       "      <td>0</td>\n",
       "      <td>0</td>\n",
       "      <td>2</td>\n",
       "    </tr>\n",
       "    <tr>\n",
       "      <th>4</th>\n",
       "      <td>1</td>\n",
       "      <td>0</td>\n",
       "      <td>6</td>\n",
       "      <td>3</td>\n",
       "      <td>0</td>\n",
       "      <td>0</td>\n",
       "      <td>0</td>\n",
       "      <td>2</td>\n",
       "    </tr>\n",
       "  </tbody>\n",
       "</table>\n",
       "</div>"
      ],
      "text/plain": [
       "   hotel  meal  market_segment  distribution_channel  reserved_room_type  \\\n",
       "0      1     0               3                     1                   2   \n",
       "1      1     0               3                     1                   2   \n",
       "2      1     0               3                     1                   0   \n",
       "3      1     0               2                     0                   0   \n",
       "4      1     0               6                     3                   0   \n",
       "\n",
       "   assigned_room_type  deposit_type  customer_type  \n",
       "0                   2             0              2  \n",
       "1                   2             0              2  \n",
       "2                   2             0              2  \n",
       "3                   0             0              2  \n",
       "4                   0             0              2  "
      ]
     },
     "execution_count": 43,
     "metadata": {},
     "output_type": "execute_result"
    }
   ],
   "source": [
    "category_df.head()"
   ]
  },
  {
   "cell_type": "markdown",
   "metadata": {},
   "source": [
    "### Numeric Variable encoding"
   ]
  },
  {
   "cell_type": "code",
   "execution_count": 44,
   "metadata": {},
   "outputs": [
    {
     "name": "stderr",
     "output_type": "stream",
     "text": [
      "/Users/younghun/opt/anaconda3/envs/venvforpython/lib/python3.7/site-packages/ipykernel_launcher.py:2: SettingWithCopyWarning: \n",
      "A value is trying to be set on a copy of a slice from a DataFrame.\n",
      "Try using .loc[row_indexer,col_indexer] = value instead\n",
      "\n",
      "See the caveats in the documentation: https://pandas.pydata.org/pandas-docs/stable/user_guide/indexing.html#returning-a-view-versus-a-copy\n",
      "  \n"
     ]
    }
   ],
   "source": [
    "# lead_time에 로그 취해주기\n",
    "numeric_df['lead_time'] = np.log1p(numeric_df['lead_time'])"
   ]
  },
  {
   "cell_type": "code",
   "execution_count": 45,
   "metadata": {},
   "outputs": [
    {
     "data": {
      "text/html": [
       "<div>\n",
       "<style scoped>\n",
       "    .dataframe tbody tr th:only-of-type {\n",
       "        vertical-align: middle;\n",
       "    }\n",
       "\n",
       "    .dataframe tbody tr th {\n",
       "        vertical-align: top;\n",
       "    }\n",
       "\n",
       "    .dataframe thead th {\n",
       "        text-align: right;\n",
       "    }\n",
       "</style>\n",
       "<table border=\"1\" class=\"dataframe\">\n",
       "  <thead>\n",
       "    <tr style=\"text-align: right;\">\n",
       "      <th></th>\n",
       "      <th>is_canceled</th>\n",
       "      <th>lead_time</th>\n",
       "      <th>adults</th>\n",
       "      <th>children</th>\n",
       "      <th>babies</th>\n",
       "      <th>is_repeated_guest</th>\n",
       "      <th>previous_cancellations</th>\n",
       "      <th>previous_bookings_not_canceled</th>\n",
       "      <th>booking_changes</th>\n",
       "      <th>days_in_waiting_list</th>\n",
       "      <th>adr</th>\n",
       "      <th>required_car_parking_spaces</th>\n",
       "      <th>total_of_special_requests</th>\n",
       "    </tr>\n",
       "  </thead>\n",
       "  <tbody>\n",
       "    <tr>\n",
       "      <th>0</th>\n",
       "      <td>0</td>\n",
       "      <td>5.837730</td>\n",
       "      <td>0.0</td>\n",
       "      <td>0.0</td>\n",
       "      <td>0.0</td>\n",
       "      <td>0.0</td>\n",
       "      <td>0.0</td>\n",
       "      <td>0.0</td>\n",
       "      <td>3.0</td>\n",
       "      <td>0.0</td>\n",
       "      <td>-1.667695</td>\n",
       "      <td>0.0</td>\n",
       "      <td>0.0</td>\n",
       "    </tr>\n",
       "    <tr>\n",
       "      <th>1</th>\n",
       "      <td>0</td>\n",
       "      <td>6.603944</td>\n",
       "      <td>0.0</td>\n",
       "      <td>0.0</td>\n",
       "      <td>0.0</td>\n",
       "      <td>0.0</td>\n",
       "      <td>0.0</td>\n",
       "      <td>0.0</td>\n",
       "      <td>4.0</td>\n",
       "      <td>0.0</td>\n",
       "      <td>-1.667695</td>\n",
       "      <td>0.0</td>\n",
       "      <td>0.0</td>\n",
       "    </tr>\n",
       "    <tr>\n",
       "      <th>2</th>\n",
       "      <td>0</td>\n",
       "      <td>2.079442</td>\n",
       "      <td>-1.0</td>\n",
       "      <td>0.0</td>\n",
       "      <td>0.0</td>\n",
       "      <td>0.0</td>\n",
       "      <td>0.0</td>\n",
       "      <td>0.0</td>\n",
       "      <td>0.0</td>\n",
       "      <td>0.0</td>\n",
       "      <td>-0.345177</td>\n",
       "      <td>0.0</td>\n",
       "      <td>0.0</td>\n",
       "    </tr>\n",
       "    <tr>\n",
       "      <th>3</th>\n",
       "      <td>0</td>\n",
       "      <td>2.639057</td>\n",
       "      <td>-1.0</td>\n",
       "      <td>0.0</td>\n",
       "      <td>0.0</td>\n",
       "      <td>0.0</td>\n",
       "      <td>0.0</td>\n",
       "      <td>0.0</td>\n",
       "      <td>0.0</td>\n",
       "      <td>0.0</td>\n",
       "      <td>-0.345177</td>\n",
       "      <td>0.0</td>\n",
       "      <td>0.0</td>\n",
       "    </tr>\n",
       "    <tr>\n",
       "      <th>4</th>\n",
       "      <td>0</td>\n",
       "      <td>2.708050</td>\n",
       "      <td>0.0</td>\n",
       "      <td>0.0</td>\n",
       "      <td>0.0</td>\n",
       "      <td>0.0</td>\n",
       "      <td>0.0</td>\n",
       "      <td>0.0</td>\n",
       "      <td>0.0</td>\n",
       "      <td>0.0</td>\n",
       "      <td>0.060395</td>\n",
       "      <td>0.0</td>\n",
       "      <td>1.0</td>\n",
       "    </tr>\n",
       "  </tbody>\n",
       "</table>\n",
       "</div>"
      ],
      "text/plain": [
       "   is_canceled  lead_time  adults  children  babies  is_repeated_guest  \\\n",
       "0            0   5.837730     0.0       0.0     0.0                0.0   \n",
       "1            0   6.603944     0.0       0.0     0.0                0.0   \n",
       "2            0   2.079442    -1.0       0.0     0.0                0.0   \n",
       "3            0   2.639057    -1.0       0.0     0.0                0.0   \n",
       "4            0   2.708050     0.0       0.0     0.0                0.0   \n",
       "\n",
       "   previous_cancellations  previous_bookings_not_canceled  booking_changes  \\\n",
       "0                     0.0                             0.0              3.0   \n",
       "1                     0.0                             0.0              4.0   \n",
       "2                     0.0                             0.0              0.0   \n",
       "3                     0.0                             0.0              0.0   \n",
       "4                     0.0                             0.0              0.0   \n",
       "\n",
       "   days_in_waiting_list       adr  required_car_parking_spaces  \\\n",
       "0                   0.0 -1.667695                          0.0   \n",
       "1                   0.0 -1.667695                          0.0   \n",
       "2                   0.0 -0.345177                          0.0   \n",
       "3                   0.0 -0.345177                          0.0   \n",
       "4                   0.0  0.060395                          0.0   \n",
       "\n",
       "   total_of_special_requests  \n",
       "0                        0.0  \n",
       "1                        0.0  \n",
       "2                        0.0  \n",
       "3                        0.0  \n",
       "4                        1.0  "
      ]
     },
     "execution_count": 45,
     "metadata": {},
     "output_type": "execute_result"
    }
   ],
   "source": [
    "# is_canceled(종속변수)와 lead_time변수 제외하고 모두 Robust Scaler 적용\n",
    "import warnings\n",
    "warnings.filterwarnings(action='ignore')\n",
    "\n",
    "from sklearn.preprocessing import RobustScaler\n",
    "scaler = RobustScaler()\n",
    "numeric_df.iloc[:,2:] = scaler.fit_transform(numeric_df.iloc[:,2:])\n",
    "numeric_df.head()"
   ]
  },
  {
   "cell_type": "code",
   "execution_count": 46,
   "metadata": {
    "scrolled": true
   },
   "outputs": [],
   "source": [
    "# adr 변수 삭제\n",
    "del numeric_df['adr']"
   ]
  },
  {
   "cell_type": "code",
   "execution_count": 47,
   "metadata": {},
   "outputs": [
    {
     "data": {
      "text/html": [
       "<div>\n",
       "<style scoped>\n",
       "    .dataframe tbody tr th:only-of-type {\n",
       "        vertical-align: middle;\n",
       "    }\n",
       "\n",
       "    .dataframe tbody tr th {\n",
       "        vertical-align: top;\n",
       "    }\n",
       "\n",
       "    .dataframe thead th {\n",
       "        text-align: right;\n",
       "    }\n",
       "</style>\n",
       "<table border=\"1\" class=\"dataframe\">\n",
       "  <thead>\n",
       "    <tr style=\"text-align: right;\">\n",
       "      <th></th>\n",
       "      <th>is_canceled</th>\n",
       "      <th>lead_time</th>\n",
       "      <th>adults</th>\n",
       "      <th>children</th>\n",
       "      <th>babies</th>\n",
       "      <th>is_repeated_guest</th>\n",
       "      <th>previous_cancellations</th>\n",
       "      <th>previous_bookings_not_canceled</th>\n",
       "      <th>booking_changes</th>\n",
       "      <th>days_in_waiting_list</th>\n",
       "      <th>required_car_parking_spaces</th>\n",
       "      <th>total_of_special_requests</th>\n",
       "    </tr>\n",
       "  </thead>\n",
       "  <tbody>\n",
       "    <tr>\n",
       "      <th>0</th>\n",
       "      <td>0</td>\n",
       "      <td>5.837730</td>\n",
       "      <td>0.0</td>\n",
       "      <td>0.0</td>\n",
       "      <td>0.0</td>\n",
       "      <td>0.0</td>\n",
       "      <td>0.0</td>\n",
       "      <td>0.0</td>\n",
       "      <td>3.0</td>\n",
       "      <td>0.0</td>\n",
       "      <td>0.0</td>\n",
       "      <td>0.0</td>\n",
       "    </tr>\n",
       "    <tr>\n",
       "      <th>1</th>\n",
       "      <td>0</td>\n",
       "      <td>6.603944</td>\n",
       "      <td>0.0</td>\n",
       "      <td>0.0</td>\n",
       "      <td>0.0</td>\n",
       "      <td>0.0</td>\n",
       "      <td>0.0</td>\n",
       "      <td>0.0</td>\n",
       "      <td>4.0</td>\n",
       "      <td>0.0</td>\n",
       "      <td>0.0</td>\n",
       "      <td>0.0</td>\n",
       "    </tr>\n",
       "    <tr>\n",
       "      <th>2</th>\n",
       "      <td>0</td>\n",
       "      <td>2.079442</td>\n",
       "      <td>-1.0</td>\n",
       "      <td>0.0</td>\n",
       "      <td>0.0</td>\n",
       "      <td>0.0</td>\n",
       "      <td>0.0</td>\n",
       "      <td>0.0</td>\n",
       "      <td>0.0</td>\n",
       "      <td>0.0</td>\n",
       "      <td>0.0</td>\n",
       "      <td>0.0</td>\n",
       "    </tr>\n",
       "    <tr>\n",
       "      <th>3</th>\n",
       "      <td>0</td>\n",
       "      <td>2.639057</td>\n",
       "      <td>-1.0</td>\n",
       "      <td>0.0</td>\n",
       "      <td>0.0</td>\n",
       "      <td>0.0</td>\n",
       "      <td>0.0</td>\n",
       "      <td>0.0</td>\n",
       "      <td>0.0</td>\n",
       "      <td>0.0</td>\n",
       "      <td>0.0</td>\n",
       "      <td>0.0</td>\n",
       "    </tr>\n",
       "    <tr>\n",
       "      <th>4</th>\n",
       "      <td>0</td>\n",
       "      <td>2.708050</td>\n",
       "      <td>0.0</td>\n",
       "      <td>0.0</td>\n",
       "      <td>0.0</td>\n",
       "      <td>0.0</td>\n",
       "      <td>0.0</td>\n",
       "      <td>0.0</td>\n",
       "      <td>0.0</td>\n",
       "      <td>0.0</td>\n",
       "      <td>0.0</td>\n",
       "      <td>1.0</td>\n",
       "    </tr>\n",
       "  </tbody>\n",
       "</table>\n",
       "</div>"
      ],
      "text/plain": [
       "   is_canceled  lead_time  adults  children  babies  is_repeated_guest  \\\n",
       "0            0   5.837730     0.0       0.0     0.0                0.0   \n",
       "1            0   6.603944     0.0       0.0     0.0                0.0   \n",
       "2            0   2.079442    -1.0       0.0     0.0                0.0   \n",
       "3            0   2.639057    -1.0       0.0     0.0                0.0   \n",
       "4            0   2.708050     0.0       0.0     0.0                0.0   \n",
       "\n",
       "   previous_cancellations  previous_bookings_not_canceled  booking_changes  \\\n",
       "0                     0.0                             0.0              3.0   \n",
       "1                     0.0                             0.0              4.0   \n",
       "2                     0.0                             0.0              0.0   \n",
       "3                     0.0                             0.0              0.0   \n",
       "4                     0.0                             0.0              0.0   \n",
       "\n",
       "   days_in_waiting_list  required_car_parking_spaces  \\\n",
       "0                   0.0                          0.0   \n",
       "1                   0.0                          0.0   \n",
       "2                   0.0                          0.0   \n",
       "3                   0.0                          0.0   \n",
       "4                   0.0                          0.0   \n",
       "\n",
       "   total_of_special_requests  \n",
       "0                        0.0  \n",
       "1                        0.0  \n",
       "2                        0.0  \n",
       "3                        0.0  \n",
       "4                        1.0  "
      ]
     },
     "execution_count": 47,
     "metadata": {},
     "output_type": "execute_result"
    }
   ],
   "source": [
    "numeric_df.head()"
   ]
  },
  {
   "cell_type": "markdown",
   "metadata": {},
   "source": [
    "### merge categorical and numeric variables"
   ]
  },
  {
   "cell_type": "code",
   "execution_count": 48,
   "metadata": {},
   "outputs": [
    {
     "name": "stdout",
     "output_type": "stream",
     "text": [
      "범주형 변수 데이터프레임: (119390, 8)\n",
      "수치형 변수 데이터프레임: (119390, 12)\n"
     ]
    }
   ],
   "source": [
    "print(\"범주형 변수 데이터프레임:\", category_df.shape)\n",
    "print(\"수치형 변수 데이터프레임:\", numeric_df.shape)"
   ]
  },
  {
   "cell_type": "code",
   "execution_count": 49,
   "metadata": {},
   "outputs": [
    {
     "data": {
      "text/plain": [
       "(119390, 20)"
      ]
     },
     "execution_count": 49,
     "metadata": {},
     "output_type": "execute_result"
    }
   ],
   "source": [
    "final_data = pd.concat([category_df, numeric_df], axis=1)\n",
    "final_data.shape"
   ]
  },
  {
   "cell_type": "markdown",
   "metadata": {},
   "source": [
    "## Modeling\n",
    "\n",
    "- 많은 범주형 변수의 레이블 인코딩으로 회귀식을 가정한 머신러닝 모델 사용은 지양\n",
    "- 이진분류 문제\n",
    "    * Logisitc Regression\n",
    "    * SVM\n",
    "    * Ensemble\n",
    "    * ANN"
   ]
  },
  {
   "cell_type": "markdown",
   "metadata": {},
   "source": [
    "### split train, validation and test data\n",
    "- 보통 3가지 종류의 비율로 나눔\n",
    "    * 1. train : val : test = 70 : 15 : 15\n",
    "    * 2. train : val : test = 80 : 10 : 10\n",
    "    * 3. train : val : test = 60 : 20 : 20\n",
    "    \n",
    "- 모델을 최종 선정하고 위 3가지 분할 방법을 각각 사용해본 후 가장 최고의 성능을 내는 데이터 분할 비율을 선택"
   ]
  },
  {
   "cell_type": "code",
   "execution_count": 50,
   "metadata": {},
   "outputs": [
    {
     "name": "stdout",
     "output_type": "stream",
     "text": [
      "Train shape: (83573, 19)\n",
      "Train의 target label분포도:\n",
      " 0    52688\n",
      "1    30885\n",
      "Name: is_canceled, dtype: int64\n",
      "\n",
      "Validation shape: (35817, 19)\n",
      "Validation의 target label분포도:\n",
      " 0    22478\n",
      "1    13339\n",
      "Name: is_canceled, dtype: int64\n"
     ]
    }
   ],
   "source": [
    "# 우선 최종 모델을 선정해야 하므로 데이터 split 방법 중 1번을 선택해서 진행\n",
    "from sklearn.model_selection import train_test_split\n",
    "\n",
    "# 독립변수(feature), 종속변수(target) 분할\n",
    "feature = final_data.drop(['is_canceled'], axis=1) # df로반환\n",
    "target = final_data['is_canceled'] # array로 반환\n",
    "\n",
    "# Train : Validation = 7 : 3 비율로 분할\n",
    "X_train, X_val_test, y_train, y_val_test = train_test_split(feature, target, test_size=0.3, random_state=42)\n",
    "print(\"Train shape:\", X_train.shape)\n",
    "print(\"Train의 target label분포도:\\n\", y_train.value_counts())\n",
    "print()\n",
    "print(\"Validation shape:\", X_val_test.shape)\n",
    "print(\"Validation의 target label분포도:\\n\", y_val_test.value_counts())"
   ]
  },
  {
   "cell_type": "code",
   "execution_count": 51,
   "metadata": {},
   "outputs": [
    {
     "name": "stdout",
     "output_type": "stream",
     "text": [
      "Validation Shape: (17908, 19)\n",
      "Validataion target label분포:\n",
      " 0    11204\n",
      "1     6704\n",
      "Name: is_canceled, dtype: int64\n",
      "\n",
      "Test Shape: (17909, 19)\n",
      "Test target label분포:\n",
      " 0    11274\n",
      "1     6635\n",
      "Name: is_canceled, dtype: int64\n"
     ]
    }
   ],
   "source": [
    "# Validataion 데이터의 절반을 Test 데이터로 분할해서 총 데이터비율을 Train : Val : Test = 70 : 15 : 15로 맞춰주기\n",
    "# 맞춰줄 때 label분포도 확인하면서 분할하기\n",
    "X_val, X_test, y_val, y_test = train_test_split(X_val_test, y_val_test, test_size=0.5, random_state=42)\n",
    "print(\"Validation Shape:\", X_val.shape)\n",
    "print(\"Validataion target label분포:\\n\", y_val.value_counts())\n",
    "print()\n",
    "print(\"Test Shape:\", X_test.shape)\n",
    "print(\"Test target label분포:\\n\", y_test.value_counts())"
   ]
  },
  {
   "cell_type": "code",
   "execution_count": 52,
   "metadata": {},
   "outputs": [
    {
     "name": "stdout",
     "output_type": "stream",
     "text": [
      "Train : 0.7, Validation : 0.14999581204455983,Test : 0.15000418795544015\n"
     ]
    }
   ],
   "source": [
    "# 데이터 분할 비율 잘 맞췄는지 확인해보기\n",
    "total_num = final_data.shape[0]\n",
    "print(f\"Train : {X_train.shape[0]/total_num}, Validation : {X_val.shape[0]/total_num},Test : {X_test.shape[0]/total_num}\")"
   ]
  },
  {
   "cell_type": "code",
   "execution_count": 53,
   "metadata": {},
   "outputs": [
    {
     "name": "stdout",
     "output_type": "stream",
     "text": [
      "Train, Val합친 데이터 클래스 분포 확인\n",
      " 0    63892\n",
      "1    37589\n",
      "Name: is_canceled, dtype: int64\n"
     ]
    }
   ],
   "source": [
    "# 교차검증을 해야하므로 분할한 3가지 중 Train과 Validation 합친 후 클래스불균형 여부 확인\n",
    "train_val_feature = pd.concat([X_train, X_val], axis=0)\n",
    "train_val_target = pd.concat([y_train, y_val], axis=0)\n",
    "\n",
    "print(\"Train, Val합친 데이터 클래스 분포 확인\\n\", train_val_target.value_counts())"
   ]
  },
  {
   "cell_type": "markdown",
   "metadata": {},
   "source": [
    "- Train, Validation, Test 데이터 레이블 분포가 모두 두배 차이가 난다.\n",
    "- 이진 분류이기 때문에 오버샘플링, 다운샘플링 방법보다는 모델 성능 평가시 Confusion Matrix 지표를 활용해야 할 듯!\n",
    "\n",
    "- **주어진 문제 상황에서, 실제로는 예약취소(Positive=1)를 했는데, 모델이 '예약을 취소했어' 즉, Positive라고 예측하는 지표가 더욱 중요하다. 따라서 ``재현율의 값이 중요!``**\n",
    "- 즉, 모델이 '예약을 취소했어(Positive)'라고 예측을 했는데, 실제 예약은 '취소하지 않았을 때(Negative)' 발생할 위험성은 다소 적다. 왜냐하면 예약 취소했을 거라고 예측했지만 실제로 예약취소를 하지 않은 고객에게 추가적인 마케팅을 했더라도 별다른 위험성이 발생되지 않기 때문이다."
   ]
  },
  {
   "cell_type": "markdown",
   "metadata": {},
   "source": [
    "### Logisitic Regression"
   ]
  },
  {
   "cell_type": "code",
   "execution_count": 55,
   "metadata": {},
   "outputs": [],
   "source": [
    "# Confusion Matrix 평가지표 얻는 함수 정의\n",
    "from sklearn.metrics import accuracy_score, precision_score, recall_score\n",
    "from sklearn.metrics import roc_auc_score\n",
    "# 3개의 지표를 반환\n",
    "def get_score(y, y_, y_proba):\n",
    "    accuracy = accuracy_score(y, y_)\n",
    "    precision = precision_score(y, y_)\n",
    "    recall = recall_score(y, y_)\n",
    "    auc = roc_auc_score(y, y_proba)\n",
    "    return accuracy, precision, recall, auc"
   ]
  },
  {
   "cell_type": "code",
   "execution_count": 78,
   "metadata": {},
   "outputs": [
    {
     "name": "stdout",
     "output_type": "stream",
     "text": [
      "정확도:0.8024\n",
      "정밀도:0.8505\n",
      "재현율:0.5729\n"
     ]
    }
   ],
   "source": [
    "from sklearn.model_selection import train_test_split\n",
    "from sklearn.linear_model import LogisticRegression\n",
    "\n",
    "# 원본 데이터를 기준으로 70 : 15를 맞춰야하기 때문에 \n",
    "# Train과 Validation을 합친 데이터를 다시 Train, Validation으로 나눌 때 대략적인 값인 8:2정도의 비율로 나누자\n",
    "# 정확한 비율은 21.43%를 Validation 데이터로 해야하지만 20%정도로 맞추기\n",
    "X_train, X_val, y_train, y_val = train_test_split(train_val_feature, train_val_target,\n",
    "                                                 test_size=0.2)\n",
    "\n",
    "lr_clf = LogisticRegression()\n",
    "lr_clf.fit(X_train, y_train)\n",
    "y_pred = lr_clf.predict(X_val)\n",
    "accuracy, precision, recall = get_score(y_val, y_pred)\n",
    "print(f\"정확도:{accuracy:.4f}\\n정밀도:{precision:.4f}\\n재현율:{recall:.4f}\")"
   ]
  },
  {
   "cell_type": "markdown",
   "metadata": {},
   "source": [
    "### SVM(Support Vector Machine)"
   ]
  },
  {
   "cell_type": "code",
   "execution_count": 79,
   "metadata": {},
   "outputs": [
    {
     "name": "stdout",
     "output_type": "stream",
     "text": [
      "정확도:0.7697\n",
      "정밀도:0.9652\n",
      "재현율:0.3986\n"
     ]
    }
   ],
   "source": [
    "from sklearn.svm import SVC\n",
    "from sklearn.model_selection import train_test_split\n",
    "\n",
    "X_train, X_val, y_train, y_val = train_test_split(train_val_feature, train_val_target,\n",
    "                                                 test_size=0.2)\n",
    "svc = SVC(kernel='rbf', C=1, gamma='scale')\n",
    "svc.fit(X_train, y_train)\n",
    "y_pred = svc.predict(X_val)\n",
    "accuracy, precision, recall = get_score(y_val, y_pred)\n",
    "print(f\"정확도:{accuracy:.4f}\\n정밀도:{precision:.4f}\\n재현율:{recall:.4f}\")"
   ]
  },
  {
   "cell_type": "markdown",
   "metadata": {},
   "source": [
    "- 하이퍼파라미터 튜닝을 해도 재현율이 많이 올라갈 것 같진 않다.."
   ]
  },
  {
   "cell_type": "markdown",
   "metadata": {},
   "source": [
    "### Ensemble\n",
    "- Voting\n",
    "- RandomForest\n",
    "- Light GBM\n",
    "- GBM\n",
    "- XGBoost\n",
    "- Stacking"
   ]
  },
  {
   "cell_type": "markdown",
   "metadata": {},
   "source": [
    "#### Voting"
   ]
  },
  {
   "cell_type": "code",
   "execution_count": 82,
   "metadata": {},
   "outputs": [
    {
     "name": "stdout",
     "output_type": "stream",
     "text": [
      "정확도:0.8222\n",
      "정밀도:0.8514\n",
      "재현율:0.6305\n"
     ]
    }
   ],
   "source": [
    "from sklearn.ensemble import VotingClassifier\n",
    "from sklearn.linear_model import LogisticRegression\n",
    "from sklearn.neighbors import KNeighborsClassifier\n",
    "from sklearn.svm import SVC\n",
    "\n",
    "#개별 모델 정의\n",
    "lr_clf = LogisticRegression()\n",
    "knn_clf = KNeighborsClassifier()\n",
    "svm_clf = SVC(probability=True)\n",
    "\n",
    "# Voting 분류기에 결합시키기\n",
    "voting_clf = VotingClassifier(estimators=[('LR',lr_clf),('KNN',knn_clf),('SVM',svm_clf)],\n",
    "                             voting='soft')\n",
    "# 데이터 분할\n",
    "X_train, X_val, y_train, y_val = train_test_split(train_val_feature, train_val_target,\n",
    "                                                 test_size=0.2)\n",
    "# Voting 분류기 학습\n",
    "voting_clf.fit(X_train, y_train)\n",
    "y_pred = voting_clf.predict(X_val)\n",
    "accuracy, precision, recall = get_score(y_val, y_pred)\n",
    "print(f\"정확도:{accuracy:.4f}\\n정밀도:{precision:.4f}\\n재현율:{recall:.4f}\")"
   ]
  },
  {
   "cell_type": "markdown",
   "metadata": {},
   "source": [
    "#### Random Forest"
   ]
  },
  {
   "cell_type": "code",
   "execution_count": 89,
   "metadata": {},
   "outputs": [
    {
     "name": "stdout",
     "output_type": "stream",
     "text": [
      "정확도:0.8381\n",
      "정밀도:0.8145\n",
      "재현율:0.7229\n"
     ]
    }
   ],
   "source": [
    "from sklearn.ensemble import RandomForestClassifier\n",
    "\n",
    "X_train, X_val, y_train, y_val = train_test_split(train_val_feature, train_val_target,\n",
    "                                                 test_size=0.2)\n",
    "rf_clf = RandomForestClassifier(n_estimators=100, criterion='entropy',\n",
    "                               min_samples_split=10, n_jobs=-1)\n",
    "rf_clf.fit(X_train, y_train)\n",
    "y_pred = rf_clf.predict(X_val)\n",
    "accuracy, precision, recall = get_score(y_val, y_pred)\n",
    "print(f\"정확도:{accuracy:.4f}\\n정밀도:{precision:.4f}\\n재현율:{recall:.4f}\")"
   ]
  },
  {
   "cell_type": "markdown",
   "metadata": {},
   "source": [
    "#### XGBoost"
   ]
  },
  {
   "cell_type": "code",
   "execution_count": 67,
   "metadata": {
    "scrolled": true
   },
   "outputs": [
    {
     "name": "stdout",
     "output_type": "stream",
     "text": [
      "[0]\tvalidation_0-error:0.23537\tvalidation_0-auc:0.746638\tvalidation_0-map:0.7191\n",
      "Multiple eval metrics have been passed: 'validation_0-map' will be used for early stopping.\n",
      "\n",
      "Will train until validation_0-map hasn't improved in 200 rounds.\n",
      "[1]\tvalidation_0-error:0.23537\tvalidation_0-auc:0.823462\tvalidation_0-map:0.800181\n",
      "[2]\tvalidation_0-error:0.235537\tvalidation_0-auc:0.828816\tvalidation_0-map:0.806644\n",
      "[3]\tvalidation_0-error:0.235705\tvalidation_0-auc:0.831562\tvalidation_0-map:0.808445\n",
      "[4]\tvalidation_0-error:0.236375\tvalidation_0-auc:0.837248\tvalidation_0-map:0.814181\n",
      "[5]\tvalidation_0-error:0.235314\tvalidation_0-auc:0.838231\tvalidation_0-map:0.815061\n",
      "[6]\tvalidation_0-error:0.235537\tvalidation_0-auc:0.837489\tvalidation_0-map:0.813558\n",
      "[7]\tvalidation_0-error:0.235481\tvalidation_0-auc:0.841867\tvalidation_0-map:0.817094\n",
      "[8]\tvalidation_0-error:0.235537\tvalidation_0-auc:0.846388\tvalidation_0-map:0.819178\n",
      "[9]\tvalidation_0-error:0.235537\tvalidation_0-auc:0.847003\tvalidation_0-map:0.819885\n",
      "[10]\tvalidation_0-error:0.235481\tvalidation_0-auc:0.8467\tvalidation_0-map:0.819689\n",
      "[11]\tvalidation_0-error:0.235035\tvalidation_0-auc:0.848306\tvalidation_0-map:0.820012\n",
      "[12]\tvalidation_0-error:0.23509\tvalidation_0-auc:0.848887\tvalidation_0-map:0.820896\n",
      "[13]\tvalidation_0-error:0.23509\tvalidation_0-auc:0.85075\tvalidation_0-map:0.821092\n",
      "[14]\tvalidation_0-error:0.23509\tvalidation_0-auc:0.84865\tvalidation_0-map:0.821247\n",
      "[15]\tvalidation_0-error:0.23509\tvalidation_0-auc:0.853321\tvalidation_0-map:0.826142\n",
      "[16]\tvalidation_0-error:0.23509\tvalidation_0-auc:0.853761\tvalidation_0-map:0.825881\n",
      "[17]\tvalidation_0-error:0.235035\tvalidation_0-auc:0.858614\tvalidation_0-map:0.830859\n",
      "[18]\tvalidation_0-error:0.23509\tvalidation_0-auc:0.859086\tvalidation_0-map:0.830563\n",
      "[19]\tvalidation_0-error:0.23509\tvalidation_0-auc:0.857615\tvalidation_0-map:0.829793\n",
      "[20]\tvalidation_0-error:0.234811\tvalidation_0-auc:0.861631\tvalidation_0-map:0.832888\n",
      "[21]\tvalidation_0-error:0.234309\tvalidation_0-auc:0.863239\tvalidation_0-map:0.834789\n",
      "[22]\tvalidation_0-error:0.193042\tvalidation_0-auc:0.861921\tvalidation_0-map:0.833749\n",
      "[23]\tvalidation_0-error:0.192931\tvalidation_0-auc:0.86388\tvalidation_0-map:0.834495\n",
      "[24]\tvalidation_0-error:0.191367\tvalidation_0-auc:0.862725\tvalidation_0-map:0.835327\n",
      "[25]\tvalidation_0-error:0.192819\tvalidation_0-auc:0.863189\tvalidation_0-map:0.83583\n",
      "[26]\tvalidation_0-error:0.192931\tvalidation_0-auc:0.86351\tvalidation_0-map:0.835147\n",
      "[27]\tvalidation_0-error:0.191479\tvalidation_0-auc:0.86332\tvalidation_0-map:0.835521\n",
      "[28]\tvalidation_0-error:0.191367\tvalidation_0-auc:0.863727\tvalidation_0-map:0.836877\n",
      "[29]\tvalidation_0-error:0.192707\tvalidation_0-auc:0.863683\tvalidation_0-map:0.836562\n",
      "[30]\tvalidation_0-error:0.191255\tvalidation_0-auc:0.864132\tvalidation_0-map:0.836937\n",
      "[31]\tvalidation_0-error:0.191199\tvalidation_0-auc:0.864031\tvalidation_0-map:0.836416\n",
      "[32]\tvalidation_0-error:0.190753\tvalidation_0-auc:0.864283\tvalidation_0-map:0.837063\n",
      "[33]\tvalidation_0-error:0.190809\tvalidation_0-auc:0.864494\tvalidation_0-map:0.836757\n",
      "[34]\tvalidation_0-error:0.190809\tvalidation_0-auc:0.865806\tvalidation_0-map:0.83765\n",
      "[35]\tvalidation_0-error:0.190864\tvalidation_0-auc:0.866041\tvalidation_0-map:0.837983\n",
      "[36]\tvalidation_0-error:0.189915\tvalidation_0-auc:0.867608\tvalidation_0-map:0.840814\n",
      "[37]\tvalidation_0-error:0.189748\tvalidation_0-auc:0.868738\tvalidation_0-map:0.841972\n",
      "[38]\tvalidation_0-error:0.190697\tvalidation_0-auc:0.868835\tvalidation_0-map:0.841812\n",
      "[39]\tvalidation_0-error:0.191032\tvalidation_0-auc:0.870501\tvalidation_0-map:0.842813\n",
      "[40]\tvalidation_0-error:0.19092\tvalidation_0-auc:0.870515\tvalidation_0-map:0.842643\n",
      "[41]\tvalidation_0-error:0.190529\tvalidation_0-auc:0.870801\tvalidation_0-map:0.84284\n",
      "[42]\tvalidation_0-error:0.190306\tvalidation_0-auc:0.871106\tvalidation_0-map:0.842866\n",
      "[43]\tvalidation_0-error:0.190306\tvalidation_0-auc:0.872246\tvalidation_0-map:0.844365\n",
      "[44]\tvalidation_0-error:0.190306\tvalidation_0-auc:0.872078\tvalidation_0-map:0.844119\n",
      "[45]\tvalidation_0-error:0.190194\tvalidation_0-auc:0.872278\tvalidation_0-map:0.844432\n",
      "[46]\tvalidation_0-error:0.190194\tvalidation_0-auc:0.872357\tvalidation_0-map:0.84442\n",
      "[47]\tvalidation_0-error:0.19025\tvalidation_0-auc:0.872396\tvalidation_0-map:0.844209\n",
      "[48]\tvalidation_0-error:0.190027\tvalidation_0-auc:0.872637\tvalidation_0-map:0.844847\n",
      "[49]\tvalidation_0-error:0.190083\tvalidation_0-auc:0.872966\tvalidation_0-map:0.84513\n",
      "[50]\tvalidation_0-error:0.189971\tvalidation_0-auc:0.873177\tvalidation_0-map:0.84536\n",
      "[51]\tvalidation_0-error:0.189971\tvalidation_0-auc:0.873341\tvalidation_0-map:0.845455\n",
      "[52]\tvalidation_0-error:0.189133\tvalidation_0-auc:0.873616\tvalidation_0-map:0.845619\n",
      "[53]\tvalidation_0-error:0.189022\tvalidation_0-auc:0.874895\tvalidation_0-map:0.846834\n",
      "[54]\tvalidation_0-error:0.188966\tvalidation_0-auc:0.875071\tvalidation_0-map:0.847122\n",
      "[55]\tvalidation_0-error:0.188854\tvalidation_0-auc:0.875149\tvalidation_0-map:0.84704\n",
      "[56]\tvalidation_0-error:0.188966\tvalidation_0-auc:0.875324\tvalidation_0-map:0.847428\n",
      "[57]\tvalidation_0-error:0.18891\tvalidation_0-auc:0.876023\tvalidation_0-map:0.848236\n",
      "[58]\tvalidation_0-error:0.188854\tvalidation_0-auc:0.876484\tvalidation_0-map:0.848632\n",
      "[59]\tvalidation_0-error:0.188798\tvalidation_0-auc:0.876494\tvalidation_0-map:0.848533\n",
      "[60]\tvalidation_0-error:0.187961\tvalidation_0-auc:0.877116\tvalidation_0-map:0.848997\n",
      "[61]\tvalidation_0-error:0.187626\tvalidation_0-auc:0.877657\tvalidation_0-map:0.849734\n",
      "[62]\tvalidation_0-error:0.187626\tvalidation_0-auc:0.877743\tvalidation_0-map:0.849766\n",
      "[63]\tvalidation_0-error:0.187737\tvalidation_0-auc:0.879098\tvalidation_0-map:0.85101\n",
      "[64]\tvalidation_0-error:0.187626\tvalidation_0-auc:0.879056\tvalidation_0-map:0.851092\n",
      "[65]\tvalidation_0-error:0.187514\tvalidation_0-auc:0.879395\tvalidation_0-map:0.851303\n",
      "[66]\tvalidation_0-error:0.187626\tvalidation_0-auc:0.879574\tvalidation_0-map:0.851328\n",
      "[67]\tvalidation_0-error:0.18757\tvalidation_0-auc:0.879565\tvalidation_0-map:0.85137\n",
      "[68]\tvalidation_0-error:0.187626\tvalidation_0-auc:0.879444\tvalidation_0-map:0.851278\n",
      "[69]\tvalidation_0-error:0.187346\tvalidation_0-auc:0.880249\tvalidation_0-map:0.85196\n",
      "[70]\tvalidation_0-error:0.187346\tvalidation_0-auc:0.880289\tvalidation_0-map:0.852004\n",
      "[71]\tvalidation_0-error:0.187291\tvalidation_0-auc:0.880582\tvalidation_0-map:0.852303\n",
      "[72]\tvalidation_0-error:0.187067\tvalidation_0-auc:0.880759\tvalidation_0-map:0.852594\n",
      "[73]\tvalidation_0-error:0.187067\tvalidation_0-auc:0.880822\tvalidation_0-map:0.8526\n",
      "[74]\tvalidation_0-error:0.187011\tvalidation_0-auc:0.88089\tvalidation_0-map:0.852745\n",
      "[75]\tvalidation_0-error:0.186732\tvalidation_0-auc:0.880955\tvalidation_0-map:0.852901\n",
      "[76]\tvalidation_0-error:0.186397\tvalidation_0-auc:0.881042\tvalidation_0-map:0.852892\n",
      "[77]\tvalidation_0-error:0.186341\tvalidation_0-auc:0.881221\tvalidation_0-map:0.853048\n",
      "[78]\tvalidation_0-error:0.185783\tvalidation_0-auc:0.881862\tvalidation_0-map:0.853494\n",
      "[79]\tvalidation_0-error:0.18623\tvalidation_0-auc:0.882022\tvalidation_0-map:0.853792\n",
      "[80]\tvalidation_0-error:0.18623\tvalidation_0-auc:0.882079\tvalidation_0-map:0.853821\n",
      "[81]\tvalidation_0-error:0.186174\tvalidation_0-auc:0.882101\tvalidation_0-map:0.853866\n",
      "[82]\tvalidation_0-error:0.185615\tvalidation_0-auc:0.882252\tvalidation_0-map:0.853986\n",
      "[83]\tvalidation_0-error:0.185671\tvalidation_0-auc:0.882591\tvalidation_0-map:0.854357\n",
      "[84]\tvalidation_0-error:0.185504\tvalidation_0-auc:0.882844\tvalidation_0-map:0.854616\n",
      "[85]\tvalidation_0-error:0.185448\tvalidation_0-auc:0.882864\tvalidation_0-map:0.854629\n",
      "[86]\tvalidation_0-error:0.185057\tvalidation_0-auc:0.882924\tvalidation_0-map:0.854788\n",
      "[87]\tvalidation_0-error:0.184499\tvalidation_0-auc:0.883419\tvalidation_0-map:0.855157\n",
      "[88]\tvalidation_0-error:0.184387\tvalidation_0-auc:0.883473\tvalidation_0-map:0.855188\n",
      "[89]\tvalidation_0-error:0.184219\tvalidation_0-auc:0.883878\tvalidation_0-map:0.855544\n",
      "[90]\tvalidation_0-error:0.184275\tvalidation_0-auc:0.884149\tvalidation_0-map:0.855919\n",
      "[91]\tvalidation_0-error:0.184275\tvalidation_0-auc:0.884166\tvalidation_0-map:0.855875\n",
      "[92]\tvalidation_0-error:0.184499\tvalidation_0-auc:0.884337\tvalidation_0-map:0.856028\n",
      "[93]\tvalidation_0-error:0.184387\tvalidation_0-auc:0.884368\tvalidation_0-map:0.856044\n",
      "[94]\tvalidation_0-error:0.183661\tvalidation_0-auc:0.884785\tvalidation_0-map:0.856374\n",
      "[95]\tvalidation_0-error:0.183661\tvalidation_0-auc:0.884817\tvalidation_0-map:0.856393\n"
     ]
    },
    {
     "name": "stdout",
     "output_type": "stream",
     "text": [
      "[96]\tvalidation_0-error:0.183717\tvalidation_0-auc:0.884774\tvalidation_0-map:0.856383\n",
      "[97]\tvalidation_0-error:0.183661\tvalidation_0-auc:0.885194\tvalidation_0-map:0.856652\n",
      "[98]\tvalidation_0-error:0.182488\tvalidation_0-auc:0.886115\tvalidation_0-map:0.857462\n",
      "[99]\tvalidation_0-error:0.183047\tvalidation_0-auc:0.886153\tvalidation_0-map:0.857479\n",
      "[100]\tvalidation_0-error:0.182656\tvalidation_0-auc:0.88632\tvalidation_0-map:0.857678\n",
      "[101]\tvalidation_0-error:0.182656\tvalidation_0-auc:0.886373\tvalidation_0-map:0.857731\n",
      "[102]\tvalidation_0-error:0.182097\tvalidation_0-auc:0.88657\tvalidation_0-map:0.857894\n",
      "[103]\tvalidation_0-error:0.182432\tvalidation_0-auc:0.886921\tvalidation_0-map:0.858166\n",
      "[104]\tvalidation_0-error:0.182432\tvalidation_0-auc:0.886933\tvalidation_0-map:0.858165\n",
      "[105]\tvalidation_0-error:0.182544\tvalidation_0-auc:0.887014\tvalidation_0-map:0.8583\n",
      "[106]\tvalidation_0-error:0.182432\tvalidation_0-auc:0.887071\tvalidation_0-map:0.858391\n",
      "[107]\tvalidation_0-error:0.182265\tvalidation_0-auc:0.887178\tvalidation_0-map:0.858513\n",
      "[108]\tvalidation_0-error:0.182488\tvalidation_0-auc:0.887333\tvalidation_0-map:0.858697\n",
      "[109]\tvalidation_0-error:0.182488\tvalidation_0-auc:0.887439\tvalidation_0-map:0.858797\n",
      "[110]\tvalidation_0-error:0.182488\tvalidation_0-auc:0.88752\tvalidation_0-map:0.858897\n",
      "[111]\tvalidation_0-error:0.182488\tvalidation_0-auc:0.887617\tvalidation_0-map:0.858984\n",
      "[112]\tvalidation_0-error:0.182544\tvalidation_0-auc:0.88765\tvalidation_0-map:0.859037\n",
      "[113]\tvalidation_0-error:0.1826\tvalidation_0-auc:0.887739\tvalidation_0-map:0.859149\n",
      "[114]\tvalidation_0-error:0.182097\tvalidation_0-auc:0.887897\tvalidation_0-map:0.859284\n",
      "[115]\tvalidation_0-error:0.182488\tvalidation_0-auc:0.888177\tvalidation_0-map:0.859511\n",
      "[116]\tvalidation_0-error:0.182488\tvalidation_0-auc:0.888246\tvalidation_0-map:0.859557\n",
      "[117]\tvalidation_0-error:0.182377\tvalidation_0-auc:0.888227\tvalidation_0-map:0.859516\n",
      "[118]\tvalidation_0-error:0.182377\tvalidation_0-auc:0.888468\tvalidation_0-map:0.859714\n",
      "[119]\tvalidation_0-error:0.182209\tvalidation_0-auc:0.888528\tvalidation_0-map:0.859819\n",
      "[120]\tvalidation_0-error:0.182097\tvalidation_0-auc:0.888572\tvalidation_0-map:0.859885\n",
      "[121]\tvalidation_0-error:0.182153\tvalidation_0-auc:0.888605\tvalidation_0-map:0.859899\n",
      "[122]\tvalidation_0-error:0.181539\tvalidation_0-auc:0.889072\tvalidation_0-map:0.860341\n",
      "[123]\tvalidation_0-error:0.181204\tvalidation_0-auc:0.889033\tvalidation_0-map:0.860307\n",
      "[124]\tvalidation_0-error:0.181707\tvalidation_0-auc:0.889065\tvalidation_0-map:0.860332\n",
      "[125]\tvalidation_0-error:0.180869\tvalidation_0-auc:0.889305\tvalidation_0-map:0.86064\n",
      "[126]\tvalidation_0-error:0.180925\tvalidation_0-auc:0.889312\tvalidation_0-map:0.860584\n",
      "[127]\tvalidation_0-error:0.181371\tvalidation_0-auc:0.889446\tvalidation_0-map:0.86069\n",
      "[128]\tvalidation_0-error:0.18126\tvalidation_0-auc:0.889442\tvalidation_0-map:0.860672\n",
      "[129]\tvalidation_0-error:0.180869\tvalidation_0-auc:0.889645\tvalidation_0-map:0.860875\n",
      "[130]\tvalidation_0-error:0.180757\tvalidation_0-auc:0.88968\tvalidation_0-map:0.860903\n",
      "[131]\tvalidation_0-error:0.180757\tvalidation_0-auc:0.889663\tvalidation_0-map:0.860895\n",
      "[132]\tvalidation_0-error:0.18059\tvalidation_0-auc:0.889914\tvalidation_0-map:0.861124\n",
      "[133]\tvalidation_0-error:0.180701\tvalidation_0-auc:0.889926\tvalidation_0-map:0.861157\n",
      "[134]\tvalidation_0-error:0.180981\tvalidation_0-auc:0.890017\tvalidation_0-map:0.861326\n",
      "[135]\tvalidation_0-error:0.181036\tvalidation_0-auc:0.890123\tvalidation_0-map:0.861412\n",
      "[136]\tvalidation_0-error:0.181036\tvalidation_0-auc:0.890128\tvalidation_0-map:0.861413\n",
      "[137]\tvalidation_0-error:0.180869\tvalidation_0-auc:0.890225\tvalidation_0-map:0.861531\n",
      "[138]\tvalidation_0-error:0.180478\tvalidation_0-auc:0.890572\tvalidation_0-map:0.861857\n",
      "[139]\tvalidation_0-error:0.18059\tvalidation_0-auc:0.890638\tvalidation_0-map:0.861972\n",
      "[140]\tvalidation_0-error:0.180478\tvalidation_0-auc:0.890675\tvalidation_0-map:0.862044\n",
      "[141]\tvalidation_0-error:0.180534\tvalidation_0-auc:0.890645\tvalidation_0-map:0.862021\n",
      "[142]\tvalidation_0-error:0.180534\tvalidation_0-auc:0.890586\tvalidation_0-map:0.861956\n",
      "[143]\tvalidation_0-error:0.180534\tvalidation_0-auc:0.890598\tvalidation_0-map:0.861976\n",
      "[144]\tvalidation_0-error:0.180534\tvalidation_0-auc:0.890587\tvalidation_0-map:0.861941\n",
      "[145]\tvalidation_0-error:0.180534\tvalidation_0-auc:0.890788\tvalidation_0-map:0.862136\n",
      "[146]\tvalidation_0-error:0.180534\tvalidation_0-auc:0.890797\tvalidation_0-map:0.862151\n",
      "[147]\tvalidation_0-error:0.180478\tvalidation_0-auc:0.890982\tvalidation_0-map:0.862323\n",
      "[148]\tvalidation_0-error:0.180478\tvalidation_0-auc:0.891001\tvalidation_0-map:0.862343\n",
      "[149]\tvalidation_0-error:0.180478\tvalidation_0-auc:0.890993\tvalidation_0-map:0.862358\n",
      "[150]\tvalidation_0-error:0.18059\tvalidation_0-auc:0.891005\tvalidation_0-map:0.862369\n",
      "[151]\tvalidation_0-error:0.18059\tvalidation_0-auc:0.891016\tvalidation_0-map:0.86238\n",
      "[152]\tvalidation_0-error:0.180646\tvalidation_0-auc:0.891043\tvalidation_0-map:0.862414\n",
      "[153]\tvalidation_0-error:0.180255\tvalidation_0-auc:0.891197\tvalidation_0-map:0.8626\n",
      "[154]\tvalidation_0-error:0.180143\tvalidation_0-auc:0.891294\tvalidation_0-map:0.862679\n",
      "[155]\tvalidation_0-error:0.180255\tvalidation_0-auc:0.891339\tvalidation_0-map:0.862722\n",
      "[156]\tvalidation_0-error:0.180199\tvalidation_0-auc:0.891347\tvalidation_0-map:0.862775\n",
      "[157]\tvalidation_0-error:0.180199\tvalidation_0-auc:0.891326\tvalidation_0-map:0.862744\n",
      "[158]\tvalidation_0-error:0.180199\tvalidation_0-auc:0.891321\tvalidation_0-map:0.862774\n",
      "[159]\tvalidation_0-error:0.180199\tvalidation_0-auc:0.891497\tvalidation_0-map:0.8629\n",
      "[160]\tvalidation_0-error:0.180255\tvalidation_0-auc:0.891499\tvalidation_0-map:0.862928\n",
      "[161]\tvalidation_0-error:0.180255\tvalidation_0-auc:0.891505\tvalidation_0-map:0.862924\n",
      "[162]\tvalidation_0-error:0.180087\tvalidation_0-auc:0.89159\tvalidation_0-map:0.863036\n",
      "[163]\tvalidation_0-error:0.180087\tvalidation_0-auc:0.89168\tvalidation_0-map:0.863118\n",
      "[164]\tvalidation_0-error:0.180031\tvalidation_0-auc:0.891688\tvalidation_0-map:0.863114\n",
      "[165]\tvalidation_0-error:0.179975\tvalidation_0-auc:0.891696\tvalidation_0-map:0.863146\n",
      "[166]\tvalidation_0-error:0.180031\tvalidation_0-auc:0.891743\tvalidation_0-map:0.863156\n",
      "[167]\tvalidation_0-error:0.180087\tvalidation_0-auc:0.891743\tvalidation_0-map:0.863163\n",
      "[168]\tvalidation_0-error:0.180031\tvalidation_0-auc:0.891847\tvalidation_0-map:0.863241\n",
      "[169]\tvalidation_0-error:0.180087\tvalidation_0-auc:0.891898\tvalidation_0-map:0.863312\n",
      "[170]\tvalidation_0-error:0.180143\tvalidation_0-auc:0.891965\tvalidation_0-map:0.863333\n",
      "[171]\tvalidation_0-error:0.180199\tvalidation_0-auc:0.891955\tvalidation_0-map:0.863305\n",
      "[172]\tvalidation_0-error:0.180255\tvalidation_0-auc:0.891972\tvalidation_0-map:0.863332\n",
      "[173]\tvalidation_0-error:0.18031\tvalidation_0-auc:0.891951\tvalidation_0-map:0.8633\n",
      "[174]\tvalidation_0-error:0.180031\tvalidation_0-auc:0.892091\tvalidation_0-map:0.863459\n",
      "[175]\tvalidation_0-error:0.179529\tvalidation_0-auc:0.892148\tvalidation_0-map:0.863485\n",
      "[176]\tvalidation_0-error:0.179585\tvalidation_0-auc:0.892298\tvalidation_0-map:0.863579\n",
      "[177]\tvalidation_0-error:0.179417\tvalidation_0-auc:0.892307\tvalidation_0-map:0.863605\n",
      "[178]\tvalidation_0-error:0.179417\tvalidation_0-auc:0.892317\tvalidation_0-map:0.863636\n",
      "[179]\tvalidation_0-error:0.179473\tvalidation_0-auc:0.892316\tvalidation_0-map:0.863618\n",
      "[180]\tvalidation_0-error:0.179529\tvalidation_0-auc:0.892343\tvalidation_0-map:0.863651\n",
      "[181]\tvalidation_0-error:0.179529\tvalidation_0-auc:0.892418\tvalidation_0-map:0.863725\n",
      "[182]\tvalidation_0-error:0.178803\tvalidation_0-auc:0.892499\tvalidation_0-map:0.863851\n",
      "[183]\tvalidation_0-error:0.178859\tvalidation_0-auc:0.892537\tvalidation_0-map:0.863904\n",
      "[184]\tvalidation_0-error:0.178747\tvalidation_0-auc:0.892543\tvalidation_0-map:0.8639\n",
      "[185]\tvalidation_0-error:0.178803\tvalidation_0-auc:0.892551\tvalidation_0-map:0.863896\n",
      "[186]\tvalidation_0-error:0.178859\tvalidation_0-auc:0.892571\tvalidation_0-map:0.863924\n",
      "[187]\tvalidation_0-error:0.178803\tvalidation_0-auc:0.892574\tvalidation_0-map:0.86393\n",
      "[188]\tvalidation_0-error:0.17897\tvalidation_0-auc:0.892599\tvalidation_0-map:0.863915\n",
      "[189]\tvalidation_0-error:0.178859\tvalidation_0-auc:0.8926\tvalidation_0-map:0.863924\n",
      "[190]\tvalidation_0-error:0.178859\tvalidation_0-auc:0.892637\tvalidation_0-map:0.863958\n",
      "[191]\tvalidation_0-error:0.178803\tvalidation_0-auc:0.892627\tvalidation_0-map:0.863958\n"
     ]
    },
    {
     "name": "stdout",
     "output_type": "stream",
     "text": [
      "[192]\tvalidation_0-error:0.178579\tvalidation_0-auc:0.892703\tvalidation_0-map:0.864039\n",
      "[193]\tvalidation_0-error:0.178579\tvalidation_0-auc:0.892734\tvalidation_0-map:0.86409\n",
      "[194]\tvalidation_0-error:0.178468\tvalidation_0-auc:0.892762\tvalidation_0-map:0.864111\n",
      "[195]\tvalidation_0-error:0.178524\tvalidation_0-auc:0.892766\tvalidation_0-map:0.864106\n",
      "[196]\tvalidation_0-error:0.178468\tvalidation_0-auc:0.892847\tvalidation_0-map:0.864154\n",
      "[197]\tvalidation_0-error:0.178468\tvalidation_0-auc:0.892855\tvalidation_0-map:0.864186\n",
      "[198]\tvalidation_0-error:0.178524\tvalidation_0-auc:0.892846\tvalidation_0-map:0.864181\n",
      "[199]\tvalidation_0-error:0.178524\tvalidation_0-auc:0.892847\tvalidation_0-map:0.864185\n",
      "[200]\tvalidation_0-error:0.178524\tvalidation_0-auc:0.892898\tvalidation_0-map:0.864217\n",
      "[201]\tvalidation_0-error:0.178524\tvalidation_0-auc:0.892902\tvalidation_0-map:0.864236\n",
      "[202]\tvalidation_0-error:0.178524\tvalidation_0-auc:0.892905\tvalidation_0-map:0.864242\n",
      "[203]\tvalidation_0-error:0.178468\tvalidation_0-auc:0.892915\tvalidation_0-map:0.864239\n",
      "[204]\tvalidation_0-error:0.1783\tvalidation_0-auc:0.89292\tvalidation_0-map:0.864271\n",
      "[205]\tvalidation_0-error:0.1783\tvalidation_0-auc:0.892966\tvalidation_0-map:0.864306\n",
      "[206]\tvalidation_0-error:0.1783\tvalidation_0-auc:0.892994\tvalidation_0-map:0.86435\n",
      "[207]\tvalidation_0-error:0.1783\tvalidation_0-auc:0.893008\tvalidation_0-map:0.864355\n",
      "[208]\tvalidation_0-error:0.1783\tvalidation_0-auc:0.893079\tvalidation_0-map:0.864435\n",
      "[209]\tvalidation_0-error:0.178412\tvalidation_0-auc:0.893067\tvalidation_0-map:0.864439\n",
      "[210]\tvalidation_0-error:0.178412\tvalidation_0-auc:0.893094\tvalidation_0-map:0.864437\n",
      "[211]\tvalidation_0-error:0.178412\tvalidation_0-auc:0.893122\tvalidation_0-map:0.864473\n",
      "[212]\tvalidation_0-error:0.178356\tvalidation_0-auc:0.893214\tvalidation_0-map:0.864536\n",
      "[213]\tvalidation_0-error:0.178412\tvalidation_0-auc:0.893435\tvalidation_0-map:0.864808\n",
      "[214]\tvalidation_0-error:0.178412\tvalidation_0-auc:0.893479\tvalidation_0-map:0.864869\n",
      "[215]\tvalidation_0-error:0.178077\tvalidation_0-auc:0.893527\tvalidation_0-map:0.864916\n",
      "[216]\tvalidation_0-error:0.1783\tvalidation_0-auc:0.893586\tvalidation_0-map:0.864975\n",
      "[217]\tvalidation_0-error:0.178133\tvalidation_0-auc:0.893585\tvalidation_0-map:0.864977\n",
      "[218]\tvalidation_0-error:0.178133\tvalidation_0-auc:0.893586\tvalidation_0-map:0.864982\n",
      "[219]\tvalidation_0-error:0.1783\tvalidation_0-auc:0.893589\tvalidation_0-map:0.864982\n",
      "[220]\tvalidation_0-error:0.1783\tvalidation_0-auc:0.893613\tvalidation_0-map:0.865016\n",
      "[221]\tvalidation_0-error:0.1783\tvalidation_0-auc:0.893634\tvalidation_0-map:0.865038\n",
      "[222]\tvalidation_0-error:0.178356\tvalidation_0-auc:0.893633\tvalidation_0-map:0.865017\n",
      "[223]\tvalidation_0-error:0.1783\tvalidation_0-auc:0.893642\tvalidation_0-map:0.865051\n",
      "[224]\tvalidation_0-error:0.1783\tvalidation_0-auc:0.89366\tvalidation_0-map:0.865053\n",
      "[225]\tvalidation_0-error:0.177965\tvalidation_0-auc:0.8938\tvalidation_0-map:0.865199\n",
      "[226]\tvalidation_0-error:0.177965\tvalidation_0-auc:0.893883\tvalidation_0-map:0.865253\n",
      "[227]\tvalidation_0-error:0.177965\tvalidation_0-auc:0.89389\tvalidation_0-map:0.865266\n",
      "[228]\tvalidation_0-error:0.178077\tvalidation_0-auc:0.893888\tvalidation_0-map:0.865286\n",
      "[229]\tvalidation_0-error:0.178077\tvalidation_0-auc:0.893896\tvalidation_0-map:0.865316\n",
      "[230]\tvalidation_0-error:0.177909\tvalidation_0-auc:0.893925\tvalidation_0-map:0.865328\n",
      "[231]\tvalidation_0-error:0.177909\tvalidation_0-auc:0.893929\tvalidation_0-map:0.865335\n",
      "[232]\tvalidation_0-error:0.177909\tvalidation_0-auc:0.89399\tvalidation_0-map:0.865367\n",
      "[233]\tvalidation_0-error:0.178133\tvalidation_0-auc:0.893991\tvalidation_0-map:0.865412\n",
      "[234]\tvalidation_0-error:0.178189\tvalidation_0-auc:0.893993\tvalidation_0-map:0.86539\n",
      "[235]\tvalidation_0-error:0.178189\tvalidation_0-auc:0.894009\tvalidation_0-map:0.865399\n",
      "[236]\tvalidation_0-error:0.178189\tvalidation_0-auc:0.894016\tvalidation_0-map:0.865415\n",
      "[237]\tvalidation_0-error:0.178189\tvalidation_0-auc:0.894018\tvalidation_0-map:0.865423\n",
      "[238]\tvalidation_0-error:0.178244\tvalidation_0-auc:0.894019\tvalidation_0-map:0.865434\n",
      "[239]\tvalidation_0-error:0.1783\tvalidation_0-auc:0.894023\tvalidation_0-map:0.865446\n",
      "[240]\tvalidation_0-error:0.177965\tvalidation_0-auc:0.894046\tvalidation_0-map:0.865445\n",
      "[241]\tvalidation_0-error:0.177798\tvalidation_0-auc:0.894099\tvalidation_0-map:0.865514\n",
      "[242]\tvalidation_0-error:0.177518\tvalidation_0-auc:0.894154\tvalidation_0-map:0.865577\n",
      "[243]\tvalidation_0-error:0.177518\tvalidation_0-auc:0.894202\tvalidation_0-map:0.86563\n",
      "[244]\tvalidation_0-error:0.177518\tvalidation_0-auc:0.894223\tvalidation_0-map:0.865652\n",
      "[245]\tvalidation_0-error:0.177742\tvalidation_0-auc:0.894248\tvalidation_0-map:0.865671\n",
      "[246]\tvalidation_0-error:0.177686\tvalidation_0-auc:0.894328\tvalidation_0-map:0.865738\n",
      "[247]\tvalidation_0-error:0.177686\tvalidation_0-auc:0.894399\tvalidation_0-map:0.865776\n",
      "[248]\tvalidation_0-error:0.177686\tvalidation_0-auc:0.894404\tvalidation_0-map:0.865791\n",
      "[249]\tvalidation_0-error:0.177742\tvalidation_0-auc:0.894436\tvalidation_0-map:0.865848\n",
      "[250]\tvalidation_0-error:0.177742\tvalidation_0-auc:0.894438\tvalidation_0-map:0.865819\n",
      "[251]\tvalidation_0-error:0.177742\tvalidation_0-auc:0.894453\tvalidation_0-map:0.865838\n",
      "[252]\tvalidation_0-error:0.177742\tvalidation_0-auc:0.89446\tvalidation_0-map:0.865846\n",
      "[253]\tvalidation_0-error:0.177853\tvalidation_0-auc:0.894449\tvalidation_0-map:0.86584\n",
      "[254]\tvalidation_0-error:0.177853\tvalidation_0-auc:0.89445\tvalidation_0-map:0.865832\n",
      "[255]\tvalidation_0-error:0.177742\tvalidation_0-auc:0.894467\tvalidation_0-map:0.865864\n",
      "[256]\tvalidation_0-error:0.177742\tvalidation_0-auc:0.894497\tvalidation_0-map:0.865926\n",
      "[257]\tvalidation_0-error:0.177798\tvalidation_0-auc:0.894507\tvalidation_0-map:0.865906\n",
      "[258]\tvalidation_0-error:0.177742\tvalidation_0-auc:0.894498\tvalidation_0-map:0.865897\n",
      "[259]\tvalidation_0-error:0.177742\tvalidation_0-auc:0.894567\tvalidation_0-map:0.865944\n",
      "[260]\tvalidation_0-error:0.177574\tvalidation_0-auc:0.894663\tvalidation_0-map:0.866032\n",
      "[261]\tvalidation_0-error:0.177463\tvalidation_0-auc:0.894639\tvalidation_0-map:0.865979\n",
      "[262]\tvalidation_0-error:0.177463\tvalidation_0-auc:0.89464\tvalidation_0-map:0.865978\n",
      "[263]\tvalidation_0-error:0.177463\tvalidation_0-auc:0.894635\tvalidation_0-map:0.865986\n",
      "[264]\tvalidation_0-error:0.177463\tvalidation_0-auc:0.894669\tvalidation_0-map:0.866019\n",
      "[265]\tvalidation_0-error:0.17763\tvalidation_0-auc:0.894704\tvalidation_0-map:0.866029\n",
      "[266]\tvalidation_0-error:0.17763\tvalidation_0-auc:0.894704\tvalidation_0-map:0.866033\n",
      "[267]\tvalidation_0-error:0.17763\tvalidation_0-auc:0.894706\tvalidation_0-map:0.866038\n",
      "[268]\tvalidation_0-error:0.177686\tvalidation_0-auc:0.894718\tvalidation_0-map:0.866086\n",
      "[269]\tvalidation_0-error:0.17763\tvalidation_0-auc:0.894721\tvalidation_0-map:0.866048\n",
      "[270]\tvalidation_0-error:0.177407\tvalidation_0-auc:0.894737\tvalidation_0-map:0.866091\n",
      "[271]\tvalidation_0-error:0.177407\tvalidation_0-auc:0.894742\tvalidation_0-map:0.866098\n",
      "[272]\tvalidation_0-error:0.177295\tvalidation_0-auc:0.894737\tvalidation_0-map:0.86609\n",
      "[273]\tvalidation_0-error:0.177351\tvalidation_0-auc:0.894747\tvalidation_0-map:0.866095\n",
      "[274]\tvalidation_0-error:0.177351\tvalidation_0-auc:0.894744\tvalidation_0-map:0.866103\n",
      "[275]\tvalidation_0-error:0.177351\tvalidation_0-auc:0.894829\tvalidation_0-map:0.866239\n",
      "[276]\tvalidation_0-error:0.177351\tvalidation_0-auc:0.894832\tvalidation_0-map:0.86625\n",
      "[277]\tvalidation_0-error:0.177463\tvalidation_0-auc:0.895016\tvalidation_0-map:0.86649\n",
      "[278]\tvalidation_0-error:0.177351\tvalidation_0-auc:0.895084\tvalidation_0-map:0.866551\n",
      "[279]\tvalidation_0-error:0.177072\tvalidation_0-auc:0.895093\tvalidation_0-map:0.866558\n",
      "[280]\tvalidation_0-error:0.176904\tvalidation_0-auc:0.895107\tvalidation_0-map:0.866582\n",
      "[281]\tvalidation_0-error:0.176848\tvalidation_0-auc:0.895122\tvalidation_0-map:0.866593\n",
      "[282]\tvalidation_0-error:0.176793\tvalidation_0-auc:0.89522\tvalidation_0-map:0.866686\n",
      "[283]\tvalidation_0-error:0.176457\tvalidation_0-auc:0.895285\tvalidation_0-map:0.86674\n",
      "[284]\tvalidation_0-error:0.176402\tvalidation_0-auc:0.89531\tvalidation_0-map:0.866757\n",
      "[285]\tvalidation_0-error:0.176457\tvalidation_0-auc:0.895535\tvalidation_0-map:0.867015\n",
      "[286]\tvalidation_0-error:0.176346\tvalidation_0-auc:0.895534\tvalidation_0-map:0.867015\n",
      "[287]\tvalidation_0-error:0.176346\tvalidation_0-auc:0.895525\tvalidation_0-map:0.866997\n"
     ]
    },
    {
     "name": "stdout",
     "output_type": "stream",
     "text": [
      "[288]\tvalidation_0-error:0.176402\tvalidation_0-auc:0.895544\tvalidation_0-map:0.86703\n",
      "[289]\tvalidation_0-error:0.17629\tvalidation_0-auc:0.895537\tvalidation_0-map:0.867035\n",
      "[290]\tvalidation_0-error:0.17629\tvalidation_0-auc:0.895564\tvalidation_0-map:0.86708\n",
      "[291]\tvalidation_0-error:0.176513\tvalidation_0-auc:0.895615\tvalidation_0-map:0.867109\n",
      "[292]\tvalidation_0-error:0.176625\tvalidation_0-auc:0.895644\tvalidation_0-map:0.867171\n",
      "[293]\tvalidation_0-error:0.176625\tvalidation_0-auc:0.895645\tvalidation_0-map:0.867174\n",
      "[294]\tvalidation_0-error:0.176457\tvalidation_0-auc:0.895636\tvalidation_0-map:0.867142\n",
      "[295]\tvalidation_0-error:0.176457\tvalidation_0-auc:0.895636\tvalidation_0-map:0.867178\n",
      "[296]\tvalidation_0-error:0.176457\tvalidation_0-auc:0.895633\tvalidation_0-map:0.86717\n",
      "[297]\tvalidation_0-error:0.17629\tvalidation_0-auc:0.895634\tvalidation_0-map:0.867173\n",
      "[298]\tvalidation_0-error:0.17629\tvalidation_0-auc:0.895673\tvalidation_0-map:0.867185\n",
      "[299]\tvalidation_0-error:0.17629\tvalidation_0-auc:0.895747\tvalidation_0-map:0.867241\n",
      "정확도:0.8243\n",
      "정밀도:0.8529\n",
      "재현율:0.6353\n",
      "AUC:0.8936\n"
     ]
    }
   ],
   "source": [
    "from xgboost import XGBClassifier\n",
    "from sklearn.metrics import roc_auc_score\n",
    "# XGBoost는 검증 데이터 리스트안에 튜플형태로 입력해주면 내재적으로 교차검증 해줌 & GPU지원\n",
    "val_set = [(X_val, y_val)]\n",
    "xgb = XGBClassifier(n_estimators=300, learning_rate=0.1, random_state=42)\n",
    "# XGBoost 학습시에 검증 데이터셋 넣어주기, 검증하면서 평가할 metric 종류도 넣어주기\n",
    "xgb.fit(X_train, y_train, early_stopping_rounds=200, eval_set=val_set,\n",
    "       eval_metric=['error','auc','map'])\n",
    "y_pred = xgb.predict(X_test)\n",
    "y_pred_proba = xgb.predict_proba(X_test)[:,1]\n",
    "auc = roc_auc_score(y_test, y_pred_proba)\n",
    "accuracy, precision, recall = get_score(y_test, y_pred)\n",
    "print(f\"정확도:{accuracy:.4f}\\n정밀도:{precision:.4f}\\n재현율:{recall:.4f}\")\n",
    "print(f\"AUC:{auc:.4f}\")"
   ]
  },
  {
   "cell_type": "code",
   "execution_count": 66,
   "metadata": {},
   "outputs": [
    {
     "data": {
      "text/plain": [
       "<AxesSubplot:title={'center':'Feature importance'}, xlabel='F score', ylabel='Features'>"
      ]
     },
     "execution_count": 66,
     "metadata": {},
     "output_type": "execute_result"
    },
    {
     "data": {
      "image/png": "[encoded data removed]",
      "text/plain": [
       "<Figure size 1440x792 with 1 Axes>"
      ]
     },
     "metadata": {
      "needs_background": "light"
     },
     "output_type": "display_data"
    }
   ],
   "source": [
    "# XGBoost의 feature importance plot하기\n",
    "from xgboost import plot_importance\n",
    "import matplotlib.pyplot as plt\n",
    "\n",
    "fig, ax = plt.subplots(figsize=(20,11))\n",
    "plot_importance(xgb, ax)"
   ]
  },
  {
   "cell_type": "markdown",
   "metadata": {},
   "source": [
    "- 현재까지 RandomForest가 가장 괜찮은 성능(``재현율 기준으로``) 하지만 교차검증해보진 않은 상태\n",
    "- XGBoost, LightGBM은 교차검증 후 Test데이터에도 적용함"
   ]
  },
  {
   "cell_type": "markdown",
   "metadata": {},
   "source": [
    "#### LightGBM"
   ]
  },
  {
   "cell_type": "code",
   "execution_count": 72,
   "metadata": {},
   "outputs": [
    {
     "name": "stdout",
     "output_type": "stream",
     "text": [
      "[1]\tvalid_0's auc: 0.86988\tvalid_0's binary_logloss: 0.619607\n",
      "Training until validation scores don't improve for 250 rounds\n",
      "[2]\tvalid_0's auc: 0.871913\tvalid_0's binary_logloss: 0.58667\n",
      "[3]\tvalid_0's auc: 0.873743\tvalid_0's binary_logloss: 0.559557\n",
      "[4]\tvalid_0's auc: 0.874563\tvalid_0's binary_logloss: 0.537148\n",
      "[5]\tvalid_0's auc: 0.876626\tvalid_0's binary_logloss: 0.518268\n",
      "[6]\tvalid_0's auc: 0.877788\tvalid_0's binary_logloss: 0.502435\n",
      "[7]\tvalid_0's auc: 0.87777\tvalid_0's binary_logloss: 0.488909\n",
      "[8]\tvalid_0's auc: 0.879289\tvalid_0's binary_logloss: 0.476666\n",
      "[9]\tvalid_0's auc: 0.880187\tvalid_0's binary_logloss: 0.466167\n",
      "[10]\tvalid_0's auc: 0.880818\tvalid_0's binary_logloss: 0.457038\n",
      "[11]\tvalid_0's auc: 0.881927\tvalid_0's binary_logloss: 0.44876\n",
      "[12]\tvalid_0's auc: 0.883012\tvalid_0's binary_logloss: 0.441312\n",
      "[13]\tvalid_0's auc: 0.883437\tvalid_0's binary_logloss: 0.434906\n",
      "[14]\tvalid_0's auc: 0.883984\tvalid_0's binary_logloss: 0.429467\n",
      "[15]\tvalid_0's auc: 0.884602\tvalid_0's binary_logloss: 0.424287\n",
      "[16]\tvalid_0's auc: 0.885252\tvalid_0's binary_logloss: 0.419782\n",
      "[17]\tvalid_0's auc: 0.885693\tvalid_0's binary_logloss: 0.415808\n",
      "[18]\tvalid_0's auc: 0.88632\tvalid_0's binary_logloss: 0.412089\n",
      "[19]\tvalid_0's auc: 0.886623\tvalid_0's binary_logloss: 0.408825\n",
      "[20]\tvalid_0's auc: 0.887473\tvalid_0's binary_logloss: 0.405574\n",
      "[21]\tvalid_0's auc: 0.888198\tvalid_0's binary_logloss: 0.40244\n",
      "[22]\tvalid_0's auc: 0.888973\tvalid_0's binary_logloss: 0.399569\n",
      "[23]\tvalid_0's auc: 0.889638\tvalid_0's binary_logloss: 0.397036\n",
      "[24]\tvalid_0's auc: 0.890355\tvalid_0's binary_logloss: 0.394528\n",
      "[25]\tvalid_0's auc: 0.891149\tvalid_0's binary_logloss: 0.392163\n",
      "[26]\tvalid_0's auc: 0.891761\tvalid_0's binary_logloss: 0.390267\n",
      "[27]\tvalid_0's auc: 0.892404\tvalid_0's binary_logloss: 0.388359\n",
      "[28]\tvalid_0's auc: 0.892928\tvalid_0's binary_logloss: 0.386671\n",
      "[29]\tvalid_0's auc: 0.893327\tvalid_0's binary_logloss: 0.385164\n",
      "[30]\tvalid_0's auc: 0.893583\tvalid_0's binary_logloss: 0.383862\n",
      "[31]\tvalid_0's auc: 0.893767\tvalid_0's binary_logloss: 0.382773\n",
      "[32]\tvalid_0's auc: 0.894189\tvalid_0's binary_logloss: 0.381526\n",
      "[33]\tvalid_0's auc: 0.894617\tvalid_0's binary_logloss: 0.380284\n",
      "[34]\tvalid_0's auc: 0.894859\tvalid_0's binary_logloss: 0.37927\n",
      "[35]\tvalid_0's auc: 0.895376\tvalid_0's binary_logloss: 0.378165\n",
      "[36]\tvalid_0's auc: 0.89547\tvalid_0's binary_logloss: 0.377464\n",
      "[37]\tvalid_0's auc: 0.895639\tvalid_0's binary_logloss: 0.376807\n",
      "[38]\tvalid_0's auc: 0.895974\tvalid_0's binary_logloss: 0.376016\n",
      "[39]\tvalid_0's auc: 0.896293\tvalid_0's binary_logloss: 0.375276\n",
      "[40]\tvalid_0's auc: 0.896497\tvalid_0's binary_logloss: 0.374778\n",
      "[41]\tvalid_0's auc: 0.896712\tvalid_0's binary_logloss: 0.374177\n",
      "[42]\tvalid_0's auc: 0.896808\tvalid_0's binary_logloss: 0.373775\n",
      "[43]\tvalid_0's auc: 0.896974\tvalid_0's binary_logloss: 0.373377\n",
      "[44]\tvalid_0's auc: 0.897243\tvalid_0's binary_logloss: 0.372782\n",
      "[45]\tvalid_0's auc: 0.897321\tvalid_0's binary_logloss: 0.372478\n",
      "[46]\tvalid_0's auc: 0.897602\tvalid_0's binary_logloss: 0.371988\n",
      "[47]\tvalid_0's auc: 0.897701\tvalid_0's binary_logloss: 0.371742\n",
      "[48]\tvalid_0's auc: 0.897804\tvalid_0's binary_logloss: 0.371362\n",
      "[49]\tvalid_0's auc: 0.897875\tvalid_0's binary_logloss: 0.371116\n",
      "[50]\tvalid_0's auc: 0.898086\tvalid_0's binary_logloss: 0.370744\n",
      "[51]\tvalid_0's auc: 0.898173\tvalid_0's binary_logloss: 0.370499\n",
      "[52]\tvalid_0's auc: 0.898356\tvalid_0's binary_logloss: 0.370169\n",
      "[53]\tvalid_0's auc: 0.898399\tvalid_0's binary_logloss: 0.369988\n",
      "[54]\tvalid_0's auc: 0.898499\tvalid_0's binary_logloss: 0.369775\n",
      "[55]\tvalid_0's auc: 0.898669\tvalid_0's binary_logloss: 0.369476\n",
      "[56]\tvalid_0's auc: 0.898883\tvalid_0's binary_logloss: 0.369132\n",
      "[57]\tvalid_0's auc: 0.8991\tvalid_0's binary_logloss: 0.368794\n",
      "[58]\tvalid_0's auc: 0.899224\tvalid_0's binary_logloss: 0.368575\n",
      "[59]\tvalid_0's auc: 0.899314\tvalid_0's binary_logloss: 0.368324\n",
      "[60]\tvalid_0's auc: 0.899438\tvalid_0's binary_logloss: 0.368076\n",
      "[61]\tvalid_0's auc: 0.899504\tvalid_0's binary_logloss: 0.367932\n",
      "[62]\tvalid_0's auc: 0.899608\tvalid_0's binary_logloss: 0.367684\n",
      "[63]\tvalid_0's auc: 0.89967\tvalid_0's binary_logloss: 0.367574\n",
      "[64]\tvalid_0's auc: 0.899886\tvalid_0's binary_logloss: 0.367226\n",
      "[65]\tvalid_0's auc: 0.899885\tvalid_0's binary_logloss: 0.367196\n",
      "[66]\tvalid_0's auc: 0.900101\tvalid_0's binary_logloss: 0.366928\n",
      "[67]\tvalid_0's auc: 0.900218\tvalid_0's binary_logloss: 0.366728\n",
      "[68]\tvalid_0's auc: 0.900351\tvalid_0's binary_logloss: 0.366549\n",
      "[69]\tvalid_0's auc: 0.90042\tvalid_0's binary_logloss: 0.366437\n",
      "[70]\tvalid_0's auc: 0.900529\tvalid_0's binary_logloss: 0.366285\n",
      "[71]\tvalid_0's auc: 0.900631\tvalid_0's binary_logloss: 0.366125\n",
      "[72]\tvalid_0's auc: 0.900772\tvalid_0's binary_logloss: 0.365882\n",
      "[73]\tvalid_0's auc: 0.900834\tvalid_0's binary_logloss: 0.36577\n",
      "[74]\tvalid_0's auc: 0.90079\tvalid_0's binary_logloss: 0.365766\n",
      "[75]\tvalid_0's auc: 0.900885\tvalid_0's binary_logloss: 0.365643\n",
      "[76]\tvalid_0's auc: 0.900921\tvalid_0's binary_logloss: 0.36558\n",
      "[77]\tvalid_0's auc: 0.900973\tvalid_0's binary_logloss: 0.365517\n",
      "[78]\tvalid_0's auc: 0.900956\tvalid_0's binary_logloss: 0.365524\n",
      "[79]\tvalid_0's auc: 0.901093\tvalid_0's binary_logloss: 0.365285\n",
      "[80]\tvalid_0's auc: 0.90111\tvalid_0's binary_logloss: 0.365245\n",
      "[81]\tvalid_0's auc: 0.901163\tvalid_0's binary_logloss: 0.365156\n",
      "[82]\tvalid_0's auc: 0.901378\tvalid_0's binary_logloss: 0.364838\n",
      "[83]\tvalid_0's auc: 0.901714\tvalid_0's binary_logloss: 0.364324\n",
      "[84]\tvalid_0's auc: 0.901836\tvalid_0's binary_logloss: 0.364156\n",
      "[85]\tvalid_0's auc: 0.901843\tvalid_0's binary_logloss: 0.364098\n",
      "[86]\tvalid_0's auc: 0.901897\tvalid_0's binary_logloss: 0.364001\n",
      "[87]\tvalid_0's auc: 0.902111\tvalid_0's binary_logloss: 0.363651\n",
      "[88]\tvalid_0's auc: 0.90224\tvalid_0's binary_logloss: 0.363433\n",
      "[89]\tvalid_0's auc: 0.902208\tvalid_0's binary_logloss: 0.363456\n",
      "[90]\tvalid_0's auc: 0.902317\tvalid_0's binary_logloss: 0.363272\n",
      "[91]\tvalid_0's auc: 0.902396\tvalid_0's binary_logloss: 0.363152\n",
      "[92]\tvalid_0's auc: 0.902429\tvalid_0's binary_logloss: 0.363078\n",
      "[93]\tvalid_0's auc: 0.902484\tvalid_0's binary_logloss: 0.362964\n",
      "[94]\tvalid_0's auc: 0.90256\tvalid_0's binary_logloss: 0.362861\n",
      "[95]\tvalid_0's auc: 0.902567\tvalid_0's binary_logloss: 0.362848\n",
      "[96]\tvalid_0's auc: 0.902573\tvalid_0's binary_logloss: 0.362851\n",
      "[97]\tvalid_0's auc: 0.902637\tvalid_0's binary_logloss: 0.362724\n",
      "[98]\tvalid_0's auc: 0.902912\tvalid_0's binary_logloss: 0.362314\n",
      "[99]\tvalid_0's auc: 0.903086\tvalid_0's binary_logloss: 0.36209\n",
      "[100]\tvalid_0's auc: 0.903125\tvalid_0's binary_logloss: 0.361992\n",
      "[101]\tvalid_0's auc: 0.903176\tvalid_0's binary_logloss: 0.361914\n",
      "[102]\tvalid_0's auc: 0.903418\tvalid_0's binary_logloss: 0.361595\n",
      "[103]\tvalid_0's auc: 0.903419\tvalid_0's binary_logloss: 0.36158\n",
      "[104]\tvalid_0's auc: 0.903494\tvalid_0's binary_logloss: 0.361479\n",
      "[105]\tvalid_0's auc: 0.903484\tvalid_0's binary_logloss: 0.361486\n",
      "[106]\tvalid_0's auc: 0.903476\tvalid_0's binary_logloss: 0.361508\n",
      "[107]\tvalid_0's auc: 0.903517\tvalid_0's binary_logloss: 0.361456\n",
      "[108]\tvalid_0's auc: 0.903533\tvalid_0's binary_logloss: 0.361428\n",
      "[109]\tvalid_0's auc: 0.903574\tvalid_0's binary_logloss: 0.361349\n",
      "[110]\tvalid_0's auc: 0.903577\tvalid_0's binary_logloss: 0.36135\n",
      "[111]\tvalid_0's auc: 0.903716\tvalid_0's binary_logloss: 0.361091\n",
      "[112]\tvalid_0's auc: 0.903762\tvalid_0's binary_logloss: 0.360985\n",
      "[113]\tvalid_0's auc: 0.903798\tvalid_0's binary_logloss: 0.360895\n",
      "[114]\tvalid_0's auc: 0.903884\tvalid_0's binary_logloss: 0.360743\n",
      "[115]\tvalid_0's auc: 0.903897\tvalid_0's binary_logloss: 0.360695\n",
      "[116]\tvalid_0's auc: 0.903954\tvalid_0's binary_logloss: 0.360618\n",
      "[117]\tvalid_0's auc: 0.904122\tvalid_0's binary_logloss: 0.360334\n",
      "[118]\tvalid_0's auc: 0.904143\tvalid_0's binary_logloss: 0.36029\n",
      "[119]\tvalid_0's auc: 0.904177\tvalid_0's binary_logloss: 0.360218\n",
      "[120]\tvalid_0's auc: 0.90425\tvalid_0's binary_logloss: 0.360062\n",
      "[121]\tvalid_0's auc: 0.904241\tvalid_0's binary_logloss: 0.36007\n",
      "[122]\tvalid_0's auc: 0.904287\tvalid_0's binary_logloss: 0.35999\n",
      "[123]\tvalid_0's auc: 0.904387\tvalid_0's binary_logloss: 0.359855\n",
      "[124]\tvalid_0's auc: 0.904395\tvalid_0's binary_logloss: 0.359854\n",
      "[125]\tvalid_0's auc: 0.904402\tvalid_0's binary_logloss: 0.35985\n",
      "[126]\tvalid_0's auc: 0.904432\tvalid_0's binary_logloss: 0.35977\n",
      "[127]\tvalid_0's auc: 0.904503\tvalid_0's binary_logloss: 0.359694\n",
      "[128]\tvalid_0's auc: 0.90454\tvalid_0's binary_logloss: 0.359617\n",
      "[129]\tvalid_0's auc: 0.90455\tvalid_0's binary_logloss: 0.359594\n",
      "[130]\tvalid_0's auc: 0.904632\tvalid_0's binary_logloss: 0.359469\n",
      "[131]\tvalid_0's auc: 0.904679\tvalid_0's binary_logloss: 0.359386\n",
      "[132]\tvalid_0's auc: 0.90468\tvalid_0's binary_logloss: 0.359378\n",
      "[133]\tvalid_0's auc: 0.904791\tvalid_0's binary_logloss: 0.359127\n",
      "[134]\tvalid_0's auc: 0.904845\tvalid_0's binary_logloss: 0.35905\n",
      "[135]\tvalid_0's auc: 0.904912\tvalid_0's binary_logloss: 0.358888\n",
      "[136]\tvalid_0's auc: 0.90502\tvalid_0's binary_logloss: 0.358743\n",
      "[137]\tvalid_0's auc: 0.905026\tvalid_0's binary_logloss: 0.358706\n",
      "[138]\tvalid_0's auc: 0.905049\tvalid_0's binary_logloss: 0.358652\n",
      "[139]\tvalid_0's auc: 0.905058\tvalid_0's binary_logloss: 0.35862\n",
      "[140]\tvalid_0's auc: 0.905109\tvalid_0's binary_logloss: 0.358556\n",
      "[141]\tvalid_0's auc: 0.905276\tvalid_0's binary_logloss: 0.358339\n",
      "[142]\tvalid_0's auc: 0.905337\tvalid_0's binary_logloss: 0.358259\n"
     ]
    },
    {
     "name": "stdout",
     "output_type": "stream",
     "text": [
      "[143]\tvalid_0's auc: 0.905347\tvalid_0's binary_logloss: 0.358225\n",
      "[144]\tvalid_0's auc: 0.905447\tvalid_0's binary_logloss: 0.358079\n",
      "[145]\tvalid_0's auc: 0.905498\tvalid_0's binary_logloss: 0.358018\n",
      "[146]\tvalid_0's auc: 0.905537\tvalid_0's binary_logloss: 0.35786\n",
      "[147]\tvalid_0's auc: 0.905581\tvalid_0's binary_logloss: 0.357777\n",
      "[148]\tvalid_0's auc: 0.905578\tvalid_0's binary_logloss: 0.357781\n",
      "[149]\tvalid_0's auc: 0.905608\tvalid_0's binary_logloss: 0.357719\n",
      "[150]\tvalid_0's auc: 0.905707\tvalid_0's binary_logloss: 0.357571\n",
      "[151]\tvalid_0's auc: 0.905845\tvalid_0's binary_logloss: 0.357358\n",
      "[152]\tvalid_0's auc: 0.905856\tvalid_0's binary_logloss: 0.357343\n",
      "[153]\tvalid_0's auc: 0.905923\tvalid_0's binary_logloss: 0.357227\n",
      "[154]\tvalid_0's auc: 0.905905\tvalid_0's binary_logloss: 0.357217\n",
      "[155]\tvalid_0's auc: 0.905942\tvalid_0's binary_logloss: 0.35714\n",
      "[156]\tvalid_0's auc: 0.906092\tvalid_0's binary_logloss: 0.356897\n",
      "[157]\tvalid_0's auc: 0.906149\tvalid_0's binary_logloss: 0.356792\n",
      "[158]\tvalid_0's auc: 0.90618\tvalid_0's binary_logloss: 0.356741\n",
      "[159]\tvalid_0's auc: 0.906209\tvalid_0's binary_logloss: 0.356674\n",
      "[160]\tvalid_0's auc: 0.90625\tvalid_0's binary_logloss: 0.35662\n",
      "[161]\tvalid_0's auc: 0.906288\tvalid_0's binary_logloss: 0.356559\n",
      "[162]\tvalid_0's auc: 0.906401\tvalid_0's binary_logloss: 0.356344\n",
      "[163]\tvalid_0's auc: 0.906427\tvalid_0's binary_logloss: 0.356311\n",
      "[164]\tvalid_0's auc: 0.906501\tvalid_0's binary_logloss: 0.356207\n",
      "[165]\tvalid_0's auc: 0.906554\tvalid_0's binary_logloss: 0.356064\n",
      "[166]\tvalid_0's auc: 0.906611\tvalid_0's binary_logloss: 0.355984\n",
      "[167]\tvalid_0's auc: 0.906628\tvalid_0's binary_logloss: 0.355919\n",
      "[168]\tvalid_0's auc: 0.906664\tvalid_0's binary_logloss: 0.355829\n",
      "[169]\tvalid_0's auc: 0.906704\tvalid_0's binary_logloss: 0.355762\n",
      "[170]\tvalid_0's auc: 0.906733\tvalid_0's binary_logloss: 0.355704\n",
      "[171]\tvalid_0's auc: 0.906756\tvalid_0's binary_logloss: 0.355669\n",
      "[172]\tvalid_0's auc: 0.906804\tvalid_0's binary_logloss: 0.355606\n",
      "[173]\tvalid_0's auc: 0.906819\tvalid_0's binary_logloss: 0.355544\n",
      "[174]\tvalid_0's auc: 0.906813\tvalid_0's binary_logloss: 0.355545\n",
      "[175]\tvalid_0's auc: 0.90685\tvalid_0's binary_logloss: 0.355498\n",
      "[176]\tvalid_0's auc: 0.906881\tvalid_0's binary_logloss: 0.355445\n",
      "[177]\tvalid_0's auc: 0.906943\tvalid_0's binary_logloss: 0.355338\n",
      "[178]\tvalid_0's auc: 0.906948\tvalid_0's binary_logloss: 0.355318\n",
      "[179]\tvalid_0's auc: 0.906991\tvalid_0's binary_logloss: 0.355252\n",
      "[180]\tvalid_0's auc: 0.906983\tvalid_0's binary_logloss: 0.355259\n",
      "[181]\tvalid_0's auc: 0.907021\tvalid_0's binary_logloss: 0.355199\n",
      "[182]\tvalid_0's auc: 0.907067\tvalid_0's binary_logloss: 0.355117\n",
      "[183]\tvalid_0's auc: 0.907066\tvalid_0's binary_logloss: 0.355106\n",
      "[184]\tvalid_0's auc: 0.907085\tvalid_0's binary_logloss: 0.355068\n",
      "[185]\tvalid_0's auc: 0.907102\tvalid_0's binary_logloss: 0.355027\n",
      "[186]\tvalid_0's auc: 0.907118\tvalid_0's binary_logloss: 0.35501\n",
      "[187]\tvalid_0's auc: 0.907122\tvalid_0's binary_logloss: 0.354986\n",
      "[188]\tvalid_0's auc: 0.907124\tvalid_0's binary_logloss: 0.354991\n",
      "[189]\tvalid_0's auc: 0.90715\tvalid_0's binary_logloss: 0.354945\n",
      "[190]\tvalid_0's auc: 0.907169\tvalid_0's binary_logloss: 0.3549\n",
      "[191]\tvalid_0's auc: 0.907304\tvalid_0's binary_logloss: 0.354654\n",
      "[192]\tvalid_0's auc: 0.907368\tvalid_0's binary_logloss: 0.354532\n",
      "[193]\tvalid_0's auc: 0.907402\tvalid_0's binary_logloss: 0.354459\n",
      "[194]\tvalid_0's auc: 0.907407\tvalid_0's binary_logloss: 0.354465\n",
      "[195]\tvalid_0's auc: 0.907417\tvalid_0's binary_logloss: 0.35441\n",
      "[196]\tvalid_0's auc: 0.907435\tvalid_0's binary_logloss: 0.354382\n",
      "[197]\tvalid_0's auc: 0.907448\tvalid_0's binary_logloss: 0.354295\n",
      "[198]\tvalid_0's auc: 0.907439\tvalid_0's binary_logloss: 0.354293\n",
      "[199]\tvalid_0's auc: 0.907445\tvalid_0's binary_logloss: 0.354278\n",
      "[200]\tvalid_0's auc: 0.907439\tvalid_0's binary_logloss: 0.354286\n",
      "[201]\tvalid_0's auc: 0.907453\tvalid_0's binary_logloss: 0.354252\n",
      "[202]\tvalid_0's auc: 0.907436\tvalid_0's binary_logloss: 0.354242\n",
      "[203]\tvalid_0's auc: 0.907464\tvalid_0's binary_logloss: 0.354199\n",
      "[204]\tvalid_0's auc: 0.907438\tvalid_0's binary_logloss: 0.354223\n",
      "[205]\tvalid_0's auc: 0.907429\tvalid_0's binary_logloss: 0.354225\n",
      "[206]\tvalid_0's auc: 0.907461\tvalid_0's binary_logloss: 0.354182\n",
      "[207]\tvalid_0's auc: 0.907487\tvalid_0's binary_logloss: 0.354124\n",
      "[208]\tvalid_0's auc: 0.907488\tvalid_0's binary_logloss: 0.354108\n",
      "[209]\tvalid_0's auc: 0.907518\tvalid_0's binary_logloss: 0.354035\n",
      "[210]\tvalid_0's auc: 0.907507\tvalid_0's binary_logloss: 0.354047\n",
      "[211]\tvalid_0's auc: 0.90752\tvalid_0's binary_logloss: 0.354025\n",
      "[212]\tvalid_0's auc: 0.907532\tvalid_0's binary_logloss: 0.354018\n",
      "[213]\tvalid_0's auc: 0.907639\tvalid_0's binary_logloss: 0.35386\n",
      "[214]\tvalid_0's auc: 0.907646\tvalid_0's binary_logloss: 0.353844\n",
      "[215]\tvalid_0's auc: 0.907656\tvalid_0's binary_logloss: 0.35382\n",
      "[216]\tvalid_0's auc: 0.907642\tvalid_0's binary_logloss: 0.353831\n",
      "[217]\tvalid_0's auc: 0.907643\tvalid_0's binary_logloss: 0.353814\n",
      "[218]\tvalid_0's auc: 0.907652\tvalid_0's binary_logloss: 0.353801\n",
      "[219]\tvalid_0's auc: 0.907655\tvalid_0's binary_logloss: 0.353794\n",
      "[220]\tvalid_0's auc: 0.907668\tvalid_0's binary_logloss: 0.35376\n",
      "[221]\tvalid_0's auc: 0.907707\tvalid_0's binary_logloss: 0.353699\n",
      "[222]\tvalid_0's auc: 0.907753\tvalid_0's binary_logloss: 0.353616\n",
      "[223]\tvalid_0's auc: 0.907748\tvalid_0's binary_logloss: 0.353601\n",
      "[224]\tvalid_0's auc: 0.907772\tvalid_0's binary_logloss: 0.353563\n",
      "[225]\tvalid_0's auc: 0.907794\tvalid_0's binary_logloss: 0.353522\n",
      "[226]\tvalid_0's auc: 0.907807\tvalid_0's binary_logloss: 0.353499\n",
      "[227]\tvalid_0's auc: 0.907814\tvalid_0's binary_logloss: 0.353489\n",
      "[228]\tvalid_0's auc: 0.90786\tvalid_0's binary_logloss: 0.353439\n",
      "[229]\tvalid_0's auc: 0.907922\tvalid_0's binary_logloss: 0.353327\n",
      "[230]\tvalid_0's auc: 0.907941\tvalid_0's binary_logloss: 0.353296\n",
      "[231]\tvalid_0's auc: 0.907953\tvalid_0's binary_logloss: 0.353273\n",
      "[232]\tvalid_0's auc: 0.907947\tvalid_0's binary_logloss: 0.353248\n",
      "[233]\tvalid_0's auc: 0.907916\tvalid_0's binary_logloss: 0.353272\n",
      "[234]\tvalid_0's auc: 0.908008\tvalid_0's binary_logloss: 0.353136\n",
      "[235]\tvalid_0's auc: 0.908042\tvalid_0's binary_logloss: 0.353047\n",
      "[236]\tvalid_0's auc: 0.908109\tvalid_0's binary_logloss: 0.352922\n",
      "[237]\tvalid_0's auc: 0.908113\tvalid_0's binary_logloss: 0.352903\n",
      "[238]\tvalid_0's auc: 0.908146\tvalid_0's binary_logloss: 0.352847\n",
      "[239]\tvalid_0's auc: 0.908159\tvalid_0's binary_logloss: 0.352834\n",
      "[240]\tvalid_0's auc: 0.908158\tvalid_0's binary_logloss: 0.352822\n",
      "[241]\tvalid_0's auc: 0.908172\tvalid_0's binary_logloss: 0.352787\n",
      "[242]\tvalid_0's auc: 0.908186\tvalid_0's binary_logloss: 0.352757\n",
      "[243]\tvalid_0's auc: 0.908191\tvalid_0's binary_logloss: 0.352744\n",
      "[244]\tvalid_0's auc: 0.908201\tvalid_0's binary_logloss: 0.352733\n",
      "[245]\tvalid_0's auc: 0.908233\tvalid_0's binary_logloss: 0.352675\n",
      "[246]\tvalid_0's auc: 0.908223\tvalid_0's binary_logloss: 0.35265\n",
      "[247]\tvalid_0's auc: 0.908228\tvalid_0's binary_logloss: 0.352645\n",
      "[248]\tvalid_0's auc: 0.908236\tvalid_0's binary_logloss: 0.352649\n",
      "[249]\tvalid_0's auc: 0.908233\tvalid_0's binary_logloss: 0.352653\n",
      "[250]\tvalid_0's auc: 0.908241\tvalid_0's binary_logloss: 0.352645\n",
      "[251]\tvalid_0's auc: 0.908278\tvalid_0's binary_logloss: 0.352595\n",
      "[252]\tvalid_0's auc: 0.908318\tvalid_0's binary_logloss: 0.3525\n",
      "[253]\tvalid_0's auc: 0.908395\tvalid_0's binary_logloss: 0.352382\n",
      "[254]\tvalid_0's auc: 0.908434\tvalid_0's binary_logloss: 0.352337\n",
      "[255]\tvalid_0's auc: 0.908445\tvalid_0's binary_logloss: 0.352324\n",
      "[256]\tvalid_0's auc: 0.908482\tvalid_0's binary_logloss: 0.352259\n",
      "[257]\tvalid_0's auc: 0.908478\tvalid_0's binary_logloss: 0.352255\n",
      "[258]\tvalid_0's auc: 0.908528\tvalid_0's binary_logloss: 0.352174\n",
      "[259]\tvalid_0's auc: 0.90858\tvalid_0's binary_logloss: 0.352082\n",
      "[260]\tvalid_0's auc: 0.908607\tvalid_0's binary_logloss: 0.352033\n",
      "[261]\tvalid_0's auc: 0.908624\tvalid_0's binary_logloss: 0.352\n",
      "[262]\tvalid_0's auc: 0.908626\tvalid_0's binary_logloss: 0.351979\n",
      "[263]\tvalid_0's auc: 0.908638\tvalid_0's binary_logloss: 0.351962\n",
      "[264]\tvalid_0's auc: 0.908671\tvalid_0's binary_logloss: 0.351911\n",
      "[265]\tvalid_0's auc: 0.908695\tvalid_0's binary_logloss: 0.351881\n",
      "[266]\tvalid_0's auc: 0.908699\tvalid_0's binary_logloss: 0.35188\n",
      "[267]\tvalid_0's auc: 0.90869\tvalid_0's binary_logloss: 0.351887\n",
      "[268]\tvalid_0's auc: 0.908709\tvalid_0's binary_logloss: 0.351837\n",
      "[269]\tvalid_0's auc: 0.908717\tvalid_0's binary_logloss: 0.351833\n",
      "[270]\tvalid_0's auc: 0.908745\tvalid_0's binary_logloss: 0.351788\n",
      "[271]\tvalid_0's auc: 0.908736\tvalid_0's binary_logloss: 0.351798\n",
      "[272]\tvalid_0's auc: 0.908747\tvalid_0's binary_logloss: 0.351795\n",
      "[273]\tvalid_0's auc: 0.908771\tvalid_0's binary_logloss: 0.351779\n",
      "[274]\tvalid_0's auc: 0.908815\tvalid_0's binary_logloss: 0.351707\n",
      "[275]\tvalid_0's auc: 0.908851\tvalid_0's binary_logloss: 0.351636\n",
      "[276]\tvalid_0's auc: 0.908851\tvalid_0's binary_logloss: 0.351633\n",
      "[277]\tvalid_0's auc: 0.908869\tvalid_0's binary_logloss: 0.351603\n",
      "[278]\tvalid_0's auc: 0.908882\tvalid_0's binary_logloss: 0.351595\n",
      "[279]\tvalid_0's auc: 0.908893\tvalid_0's binary_logloss: 0.351552\n",
      "[280]\tvalid_0's auc: 0.908865\tvalid_0's binary_logloss: 0.351568\n",
      "[281]\tvalid_0's auc: 0.908861\tvalid_0's binary_logloss: 0.351594\n",
      "[282]\tvalid_0's auc: 0.90886\tvalid_0's binary_logloss: 0.351584\n",
      "[283]\tvalid_0's auc: 0.908857\tvalid_0's binary_logloss: 0.35155\n",
      "[284]\tvalid_0's auc: 0.908872\tvalid_0's binary_logloss: 0.351536\n",
      "[285]\tvalid_0's auc: 0.908895\tvalid_0's binary_logloss: 0.351522\n",
      "[286]\tvalid_0's auc: 0.908886\tvalid_0's binary_logloss: 0.351532\n",
      "[287]\tvalid_0's auc: 0.908944\tvalid_0's binary_logloss: 0.351454\n",
      "[288]\tvalid_0's auc: 0.908948\tvalid_0's binary_logloss: 0.35144\n",
      "[289]\tvalid_0's auc: 0.90896\tvalid_0's binary_logloss: 0.351419\n",
      "[290]\tvalid_0's auc: 0.909032\tvalid_0's binary_logloss: 0.351316\n",
      "[291]\tvalid_0's auc: 0.909037\tvalid_0's binary_logloss: 0.351306\n",
      "[292]\tvalid_0's auc: 0.909029\tvalid_0's binary_logloss: 0.35131\n"
     ]
    },
    {
     "name": "stdout",
     "output_type": "stream",
     "text": [
      "[293]\tvalid_0's auc: 0.909024\tvalid_0's binary_logloss: 0.351326\n",
      "[294]\tvalid_0's auc: 0.909065\tvalid_0's binary_logloss: 0.351278\n",
      "[295]\tvalid_0's auc: 0.90908\tvalid_0's binary_logloss: 0.351267\n",
      "[296]\tvalid_0's auc: 0.909073\tvalid_0's binary_logloss: 0.351247\n",
      "[297]\tvalid_0's auc: 0.909131\tvalid_0's binary_logloss: 0.351168\n",
      "[298]\tvalid_0's auc: 0.909124\tvalid_0's binary_logloss: 0.351177\n",
      "[299]\tvalid_0's auc: 0.909113\tvalid_0's binary_logloss: 0.351179\n",
      "[300]\tvalid_0's auc: 0.909107\tvalid_0's binary_logloss: 0.351216\n",
      "[301]\tvalid_0's auc: 0.909148\tvalid_0's binary_logloss: 0.351143\n",
      "[302]\tvalid_0's auc: 0.909174\tvalid_0's binary_logloss: 0.351092\n",
      "[303]\tvalid_0's auc: 0.909202\tvalid_0's binary_logloss: 0.351018\n",
      "[304]\tvalid_0's auc: 0.909214\tvalid_0's binary_logloss: 0.350989\n",
      "[305]\tvalid_0's auc: 0.909216\tvalid_0's binary_logloss: 0.350993\n",
      "[306]\tvalid_0's auc: 0.909228\tvalid_0's binary_logloss: 0.350961\n",
      "[307]\tvalid_0's auc: 0.909226\tvalid_0's binary_logloss: 0.350963\n",
      "[308]\tvalid_0's auc: 0.909238\tvalid_0's binary_logloss: 0.350936\n",
      "[309]\tvalid_0's auc: 0.909261\tvalid_0's binary_logloss: 0.350905\n",
      "[310]\tvalid_0's auc: 0.909258\tvalid_0's binary_logloss: 0.350912\n",
      "[311]\tvalid_0's auc: 0.909302\tvalid_0's binary_logloss: 0.350836\n",
      "[312]\tvalid_0's auc: 0.909301\tvalid_0's binary_logloss: 0.350838\n",
      "[313]\tvalid_0's auc: 0.909324\tvalid_0's binary_logloss: 0.350796\n",
      "[314]\tvalid_0's auc: 0.909341\tvalid_0's binary_logloss: 0.350762\n",
      "[315]\tvalid_0's auc: 0.909344\tvalid_0's binary_logloss: 0.350758\n",
      "[316]\tvalid_0's auc: 0.909373\tvalid_0's binary_logloss: 0.350724\n",
      "[317]\tvalid_0's auc: 0.909375\tvalid_0's binary_logloss: 0.350723\n",
      "[318]\tvalid_0's auc: 0.909384\tvalid_0's binary_logloss: 0.35072\n",
      "[319]\tvalid_0's auc: 0.909406\tvalid_0's binary_logloss: 0.350678\n",
      "[320]\tvalid_0's auc: 0.909433\tvalid_0's binary_logloss: 0.350639\n",
      "[321]\tvalid_0's auc: 0.909461\tvalid_0's binary_logloss: 0.350591\n",
      "[322]\tvalid_0's auc: 0.909473\tvalid_0's binary_logloss: 0.350572\n",
      "[323]\tvalid_0's auc: 0.909464\tvalid_0's binary_logloss: 0.350586\n",
      "[324]\tvalid_0's auc: 0.909453\tvalid_0's binary_logloss: 0.350598\n",
      "[325]\tvalid_0's auc: 0.909491\tvalid_0's binary_logloss: 0.35055\n",
      "[326]\tvalid_0's auc: 0.909502\tvalid_0's binary_logloss: 0.350521\n",
      "[327]\tvalid_0's auc: 0.909513\tvalid_0's binary_logloss: 0.350507\n",
      "[328]\tvalid_0's auc: 0.909499\tvalid_0's binary_logloss: 0.350518\n",
      "[329]\tvalid_0's auc: 0.909494\tvalid_0's binary_logloss: 0.350517\n",
      "[330]\tvalid_0's auc: 0.909496\tvalid_0's binary_logloss: 0.350518\n",
      "[331]\tvalid_0's auc: 0.909495\tvalid_0's binary_logloss: 0.350544\n",
      "[332]\tvalid_0's auc: 0.909494\tvalid_0's binary_logloss: 0.350522\n",
      "[333]\tvalid_0's auc: 0.909466\tvalid_0's binary_logloss: 0.350542\n",
      "[334]\tvalid_0's auc: 0.909454\tvalid_0's binary_logloss: 0.350557\n",
      "[335]\tvalid_0's auc: 0.909453\tvalid_0's binary_logloss: 0.350593\n",
      "[336]\tvalid_0's auc: 0.909466\tvalid_0's binary_logloss: 0.350571\n",
      "[337]\tvalid_0's auc: 0.909516\tvalid_0's binary_logloss: 0.350465\n",
      "[338]\tvalid_0's auc: 0.909566\tvalid_0's binary_logloss: 0.350412\n",
      "[339]\tvalid_0's auc: 0.909583\tvalid_0's binary_logloss: 0.350385\n",
      "[340]\tvalid_0's auc: 0.909589\tvalid_0's binary_logloss: 0.350375\n",
      "[341]\tvalid_0's auc: 0.909646\tvalid_0's binary_logloss: 0.350302\n",
      "[342]\tvalid_0's auc: 0.909643\tvalid_0's binary_logloss: 0.350318\n",
      "[343]\tvalid_0's auc: 0.909659\tvalid_0's binary_logloss: 0.350289\n",
      "[344]\tvalid_0's auc: 0.909645\tvalid_0's binary_logloss: 0.350278\n",
      "[345]\tvalid_0's auc: 0.90963\tvalid_0's binary_logloss: 0.350296\n",
      "[346]\tvalid_0's auc: 0.909671\tvalid_0's binary_logloss: 0.350223\n",
      "[347]\tvalid_0's auc: 0.909683\tvalid_0's binary_logloss: 0.350188\n",
      "[348]\tvalid_0's auc: 0.909686\tvalid_0's binary_logloss: 0.350209\n",
      "[349]\tvalid_0's auc: 0.909679\tvalid_0's binary_logloss: 0.35021\n",
      "[350]\tvalid_0's auc: 0.909676\tvalid_0's binary_logloss: 0.350218\n",
      "[351]\tvalid_0's auc: 0.909675\tvalid_0's binary_logloss: 0.350238\n",
      "[352]\tvalid_0's auc: 0.909686\tvalid_0's binary_logloss: 0.350208\n",
      "[353]\tvalid_0's auc: 0.909681\tvalid_0's binary_logloss: 0.350225\n",
      "[354]\tvalid_0's auc: 0.9097\tvalid_0's binary_logloss: 0.350176\n",
      "[355]\tvalid_0's auc: 0.909699\tvalid_0's binary_logloss: 0.350181\n",
      "[356]\tvalid_0's auc: 0.909685\tvalid_0's binary_logloss: 0.350202\n",
      "[357]\tvalid_0's auc: 0.909719\tvalid_0's binary_logloss: 0.350115\n",
      "[358]\tvalid_0's auc: 0.909748\tvalid_0's binary_logloss: 0.350064\n",
      "[359]\tvalid_0's auc: 0.909796\tvalid_0's binary_logloss: 0.349979\n",
      "[360]\tvalid_0's auc: 0.909776\tvalid_0's binary_logloss: 0.349985\n",
      "[361]\tvalid_0's auc: 0.90979\tvalid_0's binary_logloss: 0.349963\n",
      "[362]\tvalid_0's auc: 0.909785\tvalid_0's binary_logloss: 0.349977\n",
      "[363]\tvalid_0's auc: 0.909774\tvalid_0's binary_logloss: 0.350009\n",
      "[364]\tvalid_0's auc: 0.909786\tvalid_0's binary_logloss: 0.349998\n",
      "[365]\tvalid_0's auc: 0.909775\tvalid_0's binary_logloss: 0.350029\n",
      "[366]\tvalid_0's auc: 0.909779\tvalid_0's binary_logloss: 0.350029\n",
      "[367]\tvalid_0's auc: 0.90979\tvalid_0's binary_logloss: 0.350017\n",
      "[368]\tvalid_0's auc: 0.909799\tvalid_0's binary_logloss: 0.349988\n",
      "[369]\tvalid_0's auc: 0.909808\tvalid_0's binary_logloss: 0.349958\n",
      "[370]\tvalid_0's auc: 0.909832\tvalid_0's binary_logloss: 0.349922\n",
      "[371]\tvalid_0's auc: 0.909836\tvalid_0's binary_logloss: 0.349913\n",
      "[372]\tvalid_0's auc: 0.909832\tvalid_0's binary_logloss: 0.349932\n",
      "[373]\tvalid_0's auc: 0.909829\tvalid_0's binary_logloss: 0.349935\n",
      "[374]\tvalid_0's auc: 0.909849\tvalid_0's binary_logloss: 0.3499\n",
      "[375]\tvalid_0's auc: 0.909866\tvalid_0's binary_logloss: 0.349873\n",
      "[376]\tvalid_0's auc: 0.909853\tvalid_0's binary_logloss: 0.349872\n",
      "[377]\tvalid_0's auc: 0.909882\tvalid_0's binary_logloss: 0.349801\n",
      "[378]\tvalid_0's auc: 0.909871\tvalid_0's binary_logloss: 0.349813\n",
      "[379]\tvalid_0's auc: 0.909872\tvalid_0's binary_logloss: 0.349795\n",
      "[380]\tvalid_0's auc: 0.909877\tvalid_0's binary_logloss: 0.349789\n",
      "[381]\tvalid_0's auc: 0.90988\tvalid_0's binary_logloss: 0.349781\n",
      "[382]\tvalid_0's auc: 0.909864\tvalid_0's binary_logloss: 0.349804\n",
      "[383]\tvalid_0's auc: 0.90986\tvalid_0's binary_logloss: 0.349796\n",
      "[384]\tvalid_0's auc: 0.909864\tvalid_0's binary_logloss: 0.349787\n",
      "[385]\tvalid_0's auc: 0.909863\tvalid_0's binary_logloss: 0.349788\n",
      "[386]\tvalid_0's auc: 0.909872\tvalid_0's binary_logloss: 0.349764\n",
      "[387]\tvalid_0's auc: 0.909885\tvalid_0's binary_logloss: 0.349735\n",
      "[388]\tvalid_0's auc: 0.909888\tvalid_0's binary_logloss: 0.349734\n",
      "[389]\tvalid_0's auc: 0.909884\tvalid_0's binary_logloss: 0.349754\n",
      "[390]\tvalid_0's auc: 0.909886\tvalid_0's binary_logloss: 0.34976\n",
      "[391]\tvalid_0's auc: 0.909925\tvalid_0's binary_logloss: 0.349722\n",
      "[392]\tvalid_0's auc: 0.909933\tvalid_0's binary_logloss: 0.349702\n",
      "[393]\tvalid_0's auc: 0.909931\tvalid_0's binary_logloss: 0.34971\n",
      "[394]\tvalid_0's auc: 0.90999\tvalid_0's binary_logloss: 0.349615\n",
      "[395]\tvalid_0's auc: 0.910032\tvalid_0's binary_logloss: 0.349549\n",
      "[396]\tvalid_0's auc: 0.910025\tvalid_0's binary_logloss: 0.349564\n",
      "[397]\tvalid_0's auc: 0.910039\tvalid_0's binary_logloss: 0.349558\n",
      "[398]\tvalid_0's auc: 0.910043\tvalid_0's binary_logloss: 0.349569\n",
      "[399]\tvalid_0's auc: 0.910056\tvalid_0's binary_logloss: 0.349561\n",
      "[400]\tvalid_0's auc: 0.910114\tvalid_0's binary_logloss: 0.349479\n",
      "Did not meet early stopping. Best iteration is:\n",
      "[400]\tvalid_0's auc: 0.910114\tvalid_0's binary_logloss: 0.349479\n",
      "정확도:0.8381\n",
      "정밀도:0.8402\n",
      "재현율:0.6951\n",
      "AUC:0.9091\n"
     ]
    }
   ],
   "source": [
    "from lightgbm import LGBMClassifier\n",
    "\n",
    "val_set = [(X_val, y_val)]\n",
    "lgbm = LGBMClassifier(n_estimators=400, learning_rate=0.1,\n",
    "                     random_state=42)\n",
    "lgbm.fit(X_train, y_train, early_stopping_rounds=250,\n",
    "         eval_set=val_set,\n",
    "         eval_metric='auc')\n",
    "y_pred = lgbm.predict(X_test)\n",
    "y_pred_proba = lgbm.predict_proba(X_test)[:,1]\n",
    "acc, pre, rec, auc = get_score(y_test, y_pred, y_pred_proba)\n",
    "print(f\"정확도:{acc:.4f}\\n정밀도:{pre:.4f}\\n재현율:{rec:.4f}\\nAUC:{auc:.4f}\")"
   ]
  },
  {
   "cell_type": "markdown",
   "metadata": {},
   "source": [
    "- LightGBM이 XGBoost보다 Test데이터에 더 높은 재현율을 보임!"
   ]
  },
  {
   "cell_type": "markdown",
   "metadata": {},
   "source": [
    "#### MLPClassifier"
   ]
  },
  {
   "cell_type": "code",
   "execution_count": 76,
   "metadata": {},
   "outputs": [
    {
     "name": "stdout",
     "output_type": "stream",
     "text": [
      "정확도:0.8284\n",
      "정밀도:0.8125\n",
      "재현율:0.7041\n",
      "AUC:0.8991\n"
     ]
    }
   ],
   "source": [
    "from sklearn.neural_network import MLPClassifier\n",
    "\n",
    "mlp_clf = MLPClassifier()\n",
    "mlp_clf.fit(X_train, y_train)\n",
    "y_pred = mlp_clf.predict(X_val)\n",
    "y_pred_proba = mlp_clf.predict_proba(X_val)[:,1]\n",
    "\n",
    "acc, pre, rec, auc = get_score(y_val, y_pred, y_pred_proba)\n",
    "print(f\"정확도:{acc:.4f}\\n정밀도:{pre:.4f}\\n재현율:{rec:.4f}\\nAUC:{auc:.4f}\")"
   ]
  },
  {
   "cell_type": "markdown",
   "metadata": {},
   "source": [
    "### 최종모델 선정"
   ]
  },
  {
   "cell_type": "markdown",
   "metadata": {},
   "source": [
    "- 최종모델 2가지\n",
    "    * Test데이터 검정까지한 LightGBM\n",
    "    * Validation 데이터로 1번 검정까지한 RandomForest\n",
    "    \n",
    "- 두 모델 중 최종모델을 선정하자"
   ]
  },
  {
   "cell_type": "code",
   "execution_count": 94,
   "metadata": {
    "scrolled": true
   },
   "outputs": [
    {
     "name": "stdout",
     "output_type": "stream",
     "text": [
      "accuracy score : 0.8316\n",
      "precision score : 0.8110\n",
      "recall score : 0.7112\n"
     ]
    }
   ],
   "source": [
    "# RandomForest로 교차검증 후 Test데이터로 성능평가\n",
    "from sklearn.ensemble import RandomForestClassifier\n",
    "from sklearn.model_selection import cross_val_score\n",
    "\n",
    "rf_clf = RandomForestClassifier(n_estimators=200, criterion='entropy',\n",
    "                               min_samples_split=10, n_jobs=-1, random_state=42)\n",
    "scores = ['accuracy','precision','recall']\n",
    "for score in scores:\n",
    "    model_score = cross_val_score(rf_clf, train_val_feature,\n",
    "                       train_val_target, scoring=score, cv=3)\n",
    "    avg_score = np.mean(model_score)\n",
    "    print(f\"{score} score : {avg_score :.4f}\")"
   ]
  },
  {
   "cell_type": "code",
   "execution_count": 97,
   "metadata": {},
   "outputs": [
    {
     "name": "stdout",
     "output_type": "stream",
     "text": [
      "정확도:0.8385\n",
      "정밀도:0.8389\n",
      "재현율:0.6980\n",
      "AUC:0.9099\n"
     ]
    }
   ],
   "source": [
    "#LightGBM으로 Test data 예측후 성능 평가\n",
    "from lightgbm import LGBMClassifier\n",
    "\n",
    "lgbm = LGBMClassifier(n_estimators=400, learning_rate=0.1,\n",
    "                     random_state=42)\n",
    "lgbm.fit(train_val_feature, train_val_target)\n",
    "y_pred = lgbm.predict(X_test)\n",
    "y_pred_proba = lgbm.predict_proba(X_test)[:,1]\n",
    "acc, pre, rec, auc = get_score(y_test, y_pred, y_pred_proba)\n",
    "print(f\"정확도:{acc:.4f}\\n정밀도:{pre:.4f}\\n재현율:{rec:.4f}\\nAUC:{auc:.4f}\")"
   ]
  },
  {
   "cell_type": "code",
   "execution_count": 57,
   "metadata": {},
   "outputs": [
    {
     "name": "stdout",
     "output_type": "stream",
     "text": [
      "******* Test 데이터로 평가 후 성능 *******\n",
      "정확도:0.8362\n",
      "정밀도:0.8182\n",
      "재현율:0.7171\n",
      "AUC:0.9084\n"
     ]
    }
   ],
   "source": [
    "# Test 데이터에 예측하고 metric 얻기\n",
    "from sklearn.model_selection import train_test_split\n",
    "from sklearn.ensemble import RandomForestClassifier\n",
    "\n",
    "rf_clf = RandomForestClassifier(n_estimators=200, criterion='entropy',\n",
    "                               min_samples_split=10, n_jobs=-1, random_state=42)\n",
    "rf_clf.fit(train_val_feature, train_val_target)\n",
    "\n",
    "# Test데이터에 대한 예측\n",
    "y_pred = rf_clf.predict(X_test)\n",
    "y_pred_proba = rf_clf.predict_proba(X_test)[:,1]\n",
    "# metric 출력\n",
    "acc, pre, rec, auc = get_score(y_test, y_pred, y_pred_proba)\n",
    "print('*'*7,'Test 데이터로 평가 후 성능','*'*7)\n",
    "print(f\"정확도:{acc:.4f}\\n정밀도:{pre:.4f}\\n재현율:{rec:.4f}\\nAUC:{auc:.4f}\")"
   ]
  },
  {
   "cell_type": "markdown",
   "metadata": {},
   "source": [
    "- RandomForest가 가장 좋은 성능을 보였다. 따라서 최종 모델은 **``Random Forest``**로 선정!"
   ]
  },
  {
   "cell_type": "markdown",
   "metadata": {},
   "source": [
    "### GridSearchCV로 하이파라미터 튜닝하기"
   ]
  },
  {
   "cell_type": "code",
   "execution_count": 59,
   "metadata": {},
   "outputs": [
    {
     "name": "stdout",
     "output_type": "stream",
     "text": [
      "정확도: 0.8362\n",
      "정밀도: 0.8194\n",
      "재현율: 0.7154\n",
      "AUC: 0.9085\n"
     ]
    }
   ],
   "source": [
    "from sklearn.model_selection import GridSearchCV\n",
    "from sklearn.ensemble import RandomForestClassifier\n",
    "from sklearn.metrics import accuracy_score, precision_score, recall_score\n",
    "from sklearn.metrics import roc_auc_score\n",
    "# 4개의 지표를 반환\n",
    "def get_score(y, y_, y_proba):\n",
    "    accuracy = accuracy_score(y, y_)\n",
    "    precision = precision_score(y, y_)\n",
    "    recall = recall_score(y, y_)\n",
    "    auc = roc_auc_score(y, y_proba)\n",
    "    return accuracy, precision, recall, auc\n",
    "\n",
    "params = {'n_estimators':[200, 500, 1000],\n",
    "         'min_samples_split':[5, 10]}\n",
    "\n",
    "rf_clf = RandomForestClassifier(criterion='entropy', n_jobs=-1,\n",
    "                               random_state=44)\n",
    "grid_rf = GridSearchCV(rf_clf, param_grid=params, cv=5,\n",
    "                      n_jobs=-1)\n",
    "\n",
    "grid_rf.fit(train_val_feature, train_val_target)\n",
    "y_pred = grid_rf.predict(X_test)\n",
    "y_pred_proba = grid_rf.predict_proba(X_test)[:,1]\n",
    "acc, pre, rec, auc = get_score(y_test, y_pred, y_pred_proba)\n",
    "print(f\"정확도: {acc:.4f}\\n정밀도: {pre:.4f}\\n재현율: {rec:.4f}\\nAUC: {auc:.4f}\")"
   ]
  },
  {
   "cell_type": "code",
   "execution_count": 80,
   "metadata": {},
   "outputs": [],
   "source": [
    "best_rf = grid_rf.best_estimator_"
   ]
  },
  {
   "cell_type": "code",
   "execution_count": 89,
   "metadata": {},
   "outputs": [
    {
     "data": {
      "text/html": [
       "<div>\n",
       "<style scoped>\n",
       "    .dataframe tbody tr th:only-of-type {\n",
       "        vertical-align: middle;\n",
       "    }\n",
       "\n",
       "    .dataframe tbody tr th {\n",
       "        vertical-align: top;\n",
       "    }\n",
       "\n",
       "    .dataframe thead th {\n",
       "        text-align: right;\n",
       "    }\n",
       "</style>\n",
       "<table border=\"1\" class=\"dataframe\">\n",
       "  <thead>\n",
       "    <tr style=\"text-align: right;\">\n",
       "      <th></th>\n",
       "      <th>importance</th>\n",
       "    </tr>\n",
       "  </thead>\n",
       "  <tbody>\n",
       "    <tr>\n",
       "      <th>lead_time</th>\n",
       "      <td>0.322094</td>\n",
       "    </tr>\n",
       "    <tr>\n",
       "      <th>deposit_type</th>\n",
       "      <td>0.195507</td>\n",
       "    </tr>\n",
       "    <tr>\n",
       "      <th>market_segment</th>\n",
       "      <td>0.071211</td>\n",
       "    </tr>\n",
       "    <tr>\n",
       "      <th>total_of_special_requests</th>\n",
       "      <td>0.070531</td>\n",
       "    </tr>\n",
       "    <tr>\n",
       "      <th>previous_cancellations</th>\n",
       "      <td>0.056940</td>\n",
       "    </tr>\n",
       "  </tbody>\n",
       "</table>\n",
       "</div>"
      ],
      "text/plain": [
       "                           importance\n",
       "lead_time                    0.322094\n",
       "deposit_type                 0.195507\n",
       "market_segment               0.071211\n",
       "total_of_special_requests    0.070531\n",
       "previous_cancellations       0.056940"
      ]
     },
     "execution_count": 89,
     "metadata": {},
     "output_type": "execute_result"
    }
   ],
   "source": [
    "feature_df = pd.DataFrame(data=best_rf.feature_importances_, index=feature.columns, columns=['importance'])\n",
    "feature_df = feature_df.sort_values(by='importance', ascending=False)\n",
    "feature_df.head()"
   ]
  },
  {
   "cell_type": "code",
   "execution_count": 90,
   "metadata": {},
   "outputs": [
    {
     "data": {
      "text/plain": [
       "<AxesSubplot:xlabel='importance'>"
      ]
     },
     "execution_count": 90,
     "metadata": {},
     "output_type": "execute_result"
    },
    {
     "data": {
      "image/png": "[encoded data removed]",
      "text/plain": [
       "<Figure size 936x792 with 1 Axes>"
      ]
     },
     "metadata": {
      "needs_background": "light"
     },
     "output_type": "display_data"
    }
   ],
   "source": [
    "import seaborn as sns\n",
    "plt.figure(figsize=(13,11))\n",
    "sns.barplot(x=feature_df['importance'], y=feature_df.index)"
   ]
  },
  {
   "cell_type": "markdown",
   "metadata": {},
   "source": [
    "## 예약취소 여부 예측 최종 모델\n",
    "\n",
    "- Ensemble의 Random Forest 모형 선정\n",
    "- 데이터 분할\n",
    "    - Train : Validation : Test = 70 : 15 : 15 비율로 선정\n",
    "    - GridSearchCV로 하이퍼파라미터 튜닝하면서 5번의 교차검증 실시\n",
    "    \n",
    "    \n",
    "- 측정지표\n",
    "    * 정확도 : 83%\n",
    "    * 정밀도 : 81%\n",
    "    * 재현율 : 71%\n",
    "    * AUC 점수 : 0.91\n",
    "    * 문제성격 상 재현율에 초점을 맞춰야 하기 때문에 재현율이 가장 높게 나오면서 정밀도와 균형을 이루는 쪽으로 선정\n",
    "    \n",
    "    \n",
    "- 가장 중요한 변수 3가지\n",
    "    * lead_time(예약을 최초로 한 시간부터 투숙하기 위해 실제 호텔에 도착한 시간까지 걸린 시간)\n",
    "    * deposit_type(보증금 유형), market_segment(호텔 예약할 때 어떤 경로를 통해 예약했는지)\n",
    "        - 데이터 분석에서 도출해낸 결과처럼 deposit_type, 그다음은 market_segment 변수가 예약취소 여부에 어느정도 영향을 끼치는 변수로 작용\n",
    "        - 예측모델링하기 전 설정한 가설들이 실제 결과와 일치하는 결과로 나타남"
   ]
  },
  {
   "cell_type": "code",
   "execution_count": null,
   "metadata": {},
   "outputs": [],
   "source": []
  }
 ],
 "metadata": {
  "hide_input": false,
  "kernelspec": {
   "display_name": "Python 3",
   "language": "python",
   "name": "python3"
  },
  "language_info": {
   "codemirror_mode": {
    "name": "ipython",
    "version": 3
   },
   "file_extension": ".py",
   "mimetype": "text/x-python",
   "name": "python",
   "nbconvert_exporter": "python",
   "pygments_lexer": "ipython3",
   "version": "3.7.7"
  },
  "toc": {
   "base_numbering": 1,
   "nav_menu": {},
   "number_sections": true,
   "sideBar": true,
   "skip_h1_title": false,
   "title_cell": "Table of Contents",
   "title_sidebar": "Contents",
   "toc_cell": false,
   "toc_position": {},
   "toc_section_display": true,
   "toc_window_display": false
  },
  "varInspector": {
   "cols": {
    "lenName": 16,
    "lenType": 16,
    "lenVar": 40
   },
   "kernels_config": {
    "python": {
     "delete_cmd_postfix": "",
     "delete_cmd_prefix": "del ",
     "library": "var_list.py",
     "varRefreshCmd": "print(var_dic_list())"
    },
    "r": {
     "delete_cmd_postfix": ") ",
     "delete_cmd_prefix": "rm(",
     "library": "var_list.r",
     "varRefreshCmd": "cat(var_dic_list()) "
    }
   },
   "types_to_exclude": [
    "module",
    "function",
    "builtin_function_or_method",
    "instance",
    "_Feature"
   ],
   "window_display": false
  }
 },
 "nbformat": 4,
 "nbformat_minor": 4
}

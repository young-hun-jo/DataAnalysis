{
 "cells": [
  {
   "cell_type": "markdown",
   "metadata": {},
   "source": [
    "# Prediction Modeling\n",
    "\n",
    "- 데이터분석을 실시했던 Kaggle의 Hotel booking 데이터로 예측모델링 실시"
   ]
  },
  {
   "cell_type": "markdown",
   "metadata": {},
   "source": [
    "## 배경\n",
    "\n",
    "- 현재 마케팅부서에서 호텔 예약 건수를 늘리기 위한 추가적인 마케팅 전략을 수립하려고 함. 새로운 마케팅전략에 근간이 되는 인사이트를 데이터로부터 도출 요청.\n",
    "\n",
    "- 데이터분석 리포팅에서 설정했던 '예약 취소하는 사람들의 특성' 가설을 기반으로 데이터에서 호텔을 예약하는 사람들의 여러가지 특징(feature)들로 이 사람의 예약 취소 여부(binary)를 예측하는 모델을 구현하려 함."
   ]
  },
  {
   "cell_type": "markdown",
   "metadata": {},
   "source": [
    "## 목적\n",
    "\n",
    "- 호텔을 최초로 예약할 때의 특징들을 독립변수들로 하여 추후 예약 취소 여부를 예측\n",
    "- 취소로 예측된 예약들의 공통된 특성을 파악하고 이를 마케팅 부서에게 전달"
   ]
  },
  {
   "cell_type": "markdown",
   "metadata": {},
   "source": [
    "## 가설\n",
    "\n",
    "- 사전에 실시한 데이터 분석으로 보증금 유형이 Non-Refund이면서 market_segment가 Groups나 Offline TA/TO일 때 예약 취소 가능성이 높았음을 도출. 따라서 deposit_type과 market_segment가 여러 중요한 변수 중 일부일 것이라고 판단\n"
   ]
  },
  {
   "cell_type": "markdown",
   "metadata": {},
   "source": [
    "## 데이터 전처리"
   ]
  },
  {
   "cell_type": "code",
   "execution_count": 1,
   "metadata": {},
   "outputs": [
    {
     "data": {
      "text/plain": [
       "(119390, 32)"
      ]
     },
     "execution_count": 1,
     "metadata": {},
     "output_type": "execute_result"
    }
   ],
   "source": [
    "# 데이터로드\n",
    "import pandas as pd\n",
    "import numpy as np\n",
    "import os\n",
    "os.chdir('/Users/younghun/Desktop/gitrepo/data')\n",
    "hotel = pd.read_csv('hotel_bookings.csv', encoding='utf-8')\n",
    "hotel.shape"
   ]
  },
  {
   "cell_type": "markdown",
   "metadata": {},
   "source": [
    "- 결측치가 있는 변수들\n",
    "    * agent : 예약을 대행한 여행업체의 ID\n",
    "    * company : 예약을 한 기업의 ID(익명화 처리됨)\n",
    "    * country : 예약한 투숙객의 국적\n",
    "    * children : 예약한 투숙객의 아이들 수\n",
    "- 하지만 결측치가 있는 변수들 중 agent, company, country는 우리가 설정한 문제를 해결하는 데 유용하지 않은 변수이다.\n",
    "- children은 결측치가 4개 이므로 해당 결측치를 0으로 대체해도 무방"
   ]
  },
  {
   "cell_type": "code",
   "execution_count": 2,
   "metadata": {},
   "outputs": [
    {
     "data": {
      "text/plain": [
       "0"
      ]
     },
     "execution_count": 2,
     "metadata": {},
     "output_type": "execute_result"
    }
   ],
   "source": [
    "# 결측치가 존재하는 변수들 삭제\n",
    "hotel = hotel.drop(['agent','company','country'], axis=1)\n",
    "hotel['children'] = hotel['children'].fillna(0)\n",
    "hotel.isnull().sum().sum()"
   ]
  },
  {
   "cell_type": "code",
   "execution_count": 3,
   "metadata": {},
   "outputs": [
    {
     "data": {
      "text/plain": [
       "hotel                              object\n",
       "is_canceled                         int64\n",
       "lead_time                           int64\n",
       "arrival_date_year                   int64\n",
       "arrival_date_month                 object\n",
       "arrival_date_week_number            int64\n",
       "arrival_date_day_of_month           int64\n",
       "stays_in_weekend_nights             int64\n",
       "stays_in_week_nights                int64\n",
       "adults                              int64\n",
       "children                          float64\n",
       "babies                              int64\n",
       "meal                               object\n",
       "market_segment                     object\n",
       "distribution_channel               object\n",
       "is_repeated_guest                   int64\n",
       "previous_cancellations              int64\n",
       "previous_bookings_not_canceled      int64\n",
       "reserved_room_type                 object\n",
       "assigned_room_type                 object\n",
       "booking_changes                     int64\n",
       "deposit_type                       object\n",
       "days_in_waiting_list                int64\n",
       "customer_type                      object\n",
       "adr                               float64\n",
       "required_car_parking_spaces         int64\n",
       "total_of_special_requests           int64\n",
       "reservation_status                 object\n",
       "reservation_status_date            object\n",
       "dtype: object"
      ]
     },
     "execution_count": 3,
     "metadata": {},
     "output_type": "execute_result"
    }
   ],
   "source": [
    "# data type을 보고 int, float형으로 되어있어야하는 변수 type이 object로 되어있다면 ' '와 같은 공백 문자열이 결측치로 들어가 있을 가능성 체크\n",
    "hotel.dtypes"
   ]
  },
  {
   "cell_type": "code",
   "execution_count": 4,
   "metadata": {},
   "outputs": [
    {
     "data": {
      "text/plain": [
       "array(['July', 'August', 'September', 'October', 'November', 'December',\n",
       "       'January', 'February', 'March', 'April', 'May', 'June'],\n",
       "      dtype=object)"
      ]
     },
     "execution_count": 4,
     "metadata": {},
     "output_type": "execute_result"
    }
   ],
   "source": [
    "# 의심가는 변수 : arrival_date_month 확인해보자 -> month가 문자열로 되어있음 \n",
    "hotel['arrival_date_month'].unique()"
   ]
  },
  {
   "cell_type": "code",
   "execution_count": 5,
   "metadata": {},
   "outputs": [
    {
     "data": {
      "text/plain": [
       "array([ 7,  8,  9, 10, 11, 12,  1,  2,  3,  4,  5,  6])"
      ]
     },
     "execution_count": 5,
     "metadata": {},
     "output_type": "execute_result"
    }
   ],
   "source": [
    "# 문자열 month를 숫자형으로 mapping\n",
    "month_dict = {'July':7, 'August':8, 'September':9, 'October':10, 'November':11, 'December':12,\n",
    "             'January':1, 'February':2, 'March':3, 'April':4, 'May':5, 'June':6}\n",
    "hotel['arrival_date_month'] = hotel['arrival_date_month'].map(month_dict)\n",
    "hotel['arrival_date_month'].unique()"
   ]
  },
  {
   "cell_type": "code",
   "execution_count": 27,
   "metadata": {},
   "outputs": [
    {
     "name": "stdout",
     "output_type": "stream",
     "text": [
      "['is_canceled' 'lead_time' 'adults' 'children' 'babies'\n",
      " 'is_repeated_guest' 'previous_cancellations'\n",
      " 'previous_bookings_not_canceled' 'booking_changes' 'days_in_waiting_list'\n",
      " 'adr' 'required_car_parking_spaces' 'total_of_special_requests']\n"
     ]
    }
   ],
   "source": [
    "# 이상치 처리하기\n",
    "# 수치형 변수들 기초통계량 살펴보기(날짜관련 변수, 취소여부 변수 제외)\n",
    "numeric_cols = pd.Series(hotel.dtypes[hotel.dtypes != 'object'].index)\n",
    "numeric_cols = numeric_cols[~numeric_cols.str.contains('date|nights')].values\n",
    "print(numeric_cols)"
   ]
  },
  {
   "cell_type": "code",
   "execution_count": 28,
   "metadata": {},
   "outputs": [
    {
     "data": {
      "text/html": [
       "<div>\n",
       "<style scoped>\n",
       "    .dataframe tbody tr th:only-of-type {\n",
       "        vertical-align: middle;\n",
       "    }\n",
       "\n",
       "    .dataframe tbody tr th {\n",
       "        vertical-align: top;\n",
       "    }\n",
       "\n",
       "    .dataframe thead th {\n",
       "        text-align: right;\n",
       "    }\n",
       "</style>\n",
       "<table border=\"1\" class=\"dataframe\">\n",
       "  <thead>\n",
       "    <tr style=\"text-align: right;\">\n",
       "      <th></th>\n",
       "      <th>is_canceled</th>\n",
       "      <th>lead_time</th>\n",
       "      <th>adults</th>\n",
       "      <th>children</th>\n",
       "      <th>babies</th>\n",
       "      <th>is_repeated_guest</th>\n",
       "      <th>previous_cancellations</th>\n",
       "      <th>previous_bookings_not_canceled</th>\n",
       "      <th>booking_changes</th>\n",
       "      <th>days_in_waiting_list</th>\n",
       "      <th>adr</th>\n",
       "      <th>required_car_parking_spaces</th>\n",
       "      <th>total_of_special_requests</th>\n",
       "    </tr>\n",
       "  </thead>\n",
       "  <tbody>\n",
       "    <tr>\n",
       "      <th>count</th>\n",
       "      <td>119390.000000</td>\n",
       "      <td>119390.000000</td>\n",
       "      <td>119390.000000</td>\n",
       "      <td>119390.000000</td>\n",
       "      <td>119390.000000</td>\n",
       "      <td>119390.000000</td>\n",
       "      <td>119390.000000</td>\n",
       "      <td>119390.000000</td>\n",
       "      <td>119390.000000</td>\n",
       "      <td>119390.000000</td>\n",
       "      <td>119390.000000</td>\n",
       "      <td>119390.000000</td>\n",
       "      <td>119390.000000</td>\n",
       "    </tr>\n",
       "    <tr>\n",
       "      <th>mean</th>\n",
       "      <td>0.370416</td>\n",
       "      <td>104.011416</td>\n",
       "      <td>1.856403</td>\n",
       "      <td>0.103886</td>\n",
       "      <td>0.007949</td>\n",
       "      <td>0.031912</td>\n",
       "      <td>0.087118</td>\n",
       "      <td>0.137097</td>\n",
       "      <td>0.221124</td>\n",
       "      <td>2.321149</td>\n",
       "      <td>101.831122</td>\n",
       "      <td>0.062518</td>\n",
       "      <td>0.571363</td>\n",
       "    </tr>\n",
       "    <tr>\n",
       "      <th>std</th>\n",
       "      <td>0.482918</td>\n",
       "      <td>106.863097</td>\n",
       "      <td>0.579261</td>\n",
       "      <td>0.398555</td>\n",
       "      <td>0.097436</td>\n",
       "      <td>0.175767</td>\n",
       "      <td>0.844336</td>\n",
       "      <td>1.497437</td>\n",
       "      <td>0.652306</td>\n",
       "      <td>17.594721</td>\n",
       "      <td>50.535790</td>\n",
       "      <td>0.245291</td>\n",
       "      <td>0.792798</td>\n",
       "    </tr>\n",
       "    <tr>\n",
       "      <th>min</th>\n",
       "      <td>0.000000</td>\n",
       "      <td>0.000000</td>\n",
       "      <td>0.000000</td>\n",
       "      <td>0.000000</td>\n",
       "      <td>0.000000</td>\n",
       "      <td>0.000000</td>\n",
       "      <td>0.000000</td>\n",
       "      <td>0.000000</td>\n",
       "      <td>0.000000</td>\n",
       "      <td>0.000000</td>\n",
       "      <td>-6.380000</td>\n",
       "      <td>0.000000</td>\n",
       "      <td>0.000000</td>\n",
       "    </tr>\n",
       "    <tr>\n",
       "      <th>25%</th>\n",
       "      <td>0.000000</td>\n",
       "      <td>18.000000</td>\n",
       "      <td>2.000000</td>\n",
       "      <td>0.000000</td>\n",
       "      <td>0.000000</td>\n",
       "      <td>0.000000</td>\n",
       "      <td>0.000000</td>\n",
       "      <td>0.000000</td>\n",
       "      <td>0.000000</td>\n",
       "      <td>0.000000</td>\n",
       "      <td>69.290000</td>\n",
       "      <td>0.000000</td>\n",
       "      <td>0.000000</td>\n",
       "    </tr>\n",
       "    <tr>\n",
       "      <th>50%</th>\n",
       "      <td>0.000000</td>\n",
       "      <td>69.000000</td>\n",
       "      <td>2.000000</td>\n",
       "      <td>0.000000</td>\n",
       "      <td>0.000000</td>\n",
       "      <td>0.000000</td>\n",
       "      <td>0.000000</td>\n",
       "      <td>0.000000</td>\n",
       "      <td>0.000000</td>\n",
       "      <td>0.000000</td>\n",
       "      <td>94.575000</td>\n",
       "      <td>0.000000</td>\n",
       "      <td>0.000000</td>\n",
       "    </tr>\n",
       "    <tr>\n",
       "      <th>75%</th>\n",
       "      <td>1.000000</td>\n",
       "      <td>160.000000</td>\n",
       "      <td>2.000000</td>\n",
       "      <td>0.000000</td>\n",
       "      <td>0.000000</td>\n",
       "      <td>0.000000</td>\n",
       "      <td>0.000000</td>\n",
       "      <td>0.000000</td>\n",
       "      <td>0.000000</td>\n",
       "      <td>0.000000</td>\n",
       "      <td>126.000000</td>\n",
       "      <td>0.000000</td>\n",
       "      <td>1.000000</td>\n",
       "    </tr>\n",
       "    <tr>\n",
       "      <th>max</th>\n",
       "      <td>1.000000</td>\n",
       "      <td>737.000000</td>\n",
       "      <td>55.000000</td>\n",
       "      <td>10.000000</td>\n",
       "      <td>10.000000</td>\n",
       "      <td>1.000000</td>\n",
       "      <td>26.000000</td>\n",
       "      <td>72.000000</td>\n",
       "      <td>21.000000</td>\n",
       "      <td>391.000000</td>\n",
       "      <td>5400.000000</td>\n",
       "      <td>8.000000</td>\n",
       "      <td>5.000000</td>\n",
       "    </tr>\n",
       "  </tbody>\n",
       "</table>\n",
       "</div>"
      ],
      "text/plain": [
       "         is_canceled      lead_time         adults       children  \\\n",
       "count  119390.000000  119390.000000  119390.000000  119390.000000   \n",
       "mean        0.370416     104.011416       1.856403       0.103886   \n",
       "std         0.482918     106.863097       0.579261       0.398555   \n",
       "min         0.000000       0.000000       0.000000       0.000000   \n",
       "25%         0.000000      18.000000       2.000000       0.000000   \n",
       "50%         0.000000      69.000000       2.000000       0.000000   \n",
       "75%         1.000000     160.000000       2.000000       0.000000   \n",
       "max         1.000000     737.000000      55.000000      10.000000   \n",
       "\n",
       "              babies  is_repeated_guest  previous_cancellations  \\\n",
       "count  119390.000000      119390.000000           119390.000000   \n",
       "mean        0.007949           0.031912                0.087118   \n",
       "std         0.097436           0.175767                0.844336   \n",
       "min         0.000000           0.000000                0.000000   \n",
       "25%         0.000000           0.000000                0.000000   \n",
       "50%         0.000000           0.000000                0.000000   \n",
       "75%         0.000000           0.000000                0.000000   \n",
       "max        10.000000           1.000000               26.000000   \n",
       "\n",
       "       previous_bookings_not_canceled  booking_changes  days_in_waiting_list  \\\n",
       "count                   119390.000000    119390.000000         119390.000000   \n",
       "mean                         0.137097         0.221124              2.321149   \n",
       "std                          1.497437         0.652306             17.594721   \n",
       "min                          0.000000         0.000000              0.000000   \n",
       "25%                          0.000000         0.000000              0.000000   \n",
       "50%                          0.000000         0.000000              0.000000   \n",
       "75%                          0.000000         0.000000              0.000000   \n",
       "max                         72.000000        21.000000            391.000000   \n",
       "\n",
       "                 adr  required_car_parking_spaces  total_of_special_requests  \n",
       "count  119390.000000                119390.000000              119390.000000  \n",
       "mean      101.831122                     0.062518                   0.571363  \n",
       "std        50.535790                     0.245291                   0.792798  \n",
       "min        -6.380000                     0.000000                   0.000000  \n",
       "25%        69.290000                     0.000000                   0.000000  \n",
       "50%        94.575000                     0.000000                   0.000000  \n",
       "75%       126.000000                     0.000000                   1.000000  \n",
       "max      5400.000000                     8.000000                   5.000000  "
      ]
     },
     "execution_count": 28,
     "metadata": {},
     "output_type": "execute_result"
    }
   ],
   "source": [
    "# 추출한 변수들로 기초통계량 살펴보기\n",
    "hotel[numeric_cols].describe()"
   ]
  },
  {
   "cell_type": "markdown",
   "metadata": {},
   "source": [
    "- adr : 숙박 예약의 총 합을 숙박 일수의 총 합으로 나눈 일일 비율로 예측모델링에는 필요하지 않은 변수로 예상되어 이상치 탐지 안 함.\n",
    "-  lead_time, adults, days_in_waiting_list 이렇게 3개의 변수가 이상치가 있는 것으로 판단이 되지만 무조건적으로 제거하면 안 됨.\n",
    "-  이상치들의 정확한 존재 이유를 파악하고 제거를 하거나 유지하고 scaling을 해줄지 결정해야 함"
   ]
  },
  {
   "cell_type": "markdown",
   "metadata": {},
   "source": [
    "### numeric 독립변수들과 취소여부인 종속변수와의 상관관계 살펴보기"
   ]
  },
  {
   "cell_type": "code",
   "execution_count": 40,
   "metadata": {},
   "outputs": [
    {
     "data": {
      "text/plain": [
       "<matplotlib.axes._subplots.AxesSubplot at 0x7fcb761785d0>"
      ]
     },
     "execution_count": 40,
     "metadata": {},
     "output_type": "execute_result"
    },
    {
     "data": {
      "image/png": "[encoded data removed]",
      "text/plain": [
       "<Figure size 1440x720 with 2 Axes>"
      ]
     },
     "metadata": {
      "needs_background": "light"
     },
     "output_type": "display_data"
    }
   ],
   "source": [
    "import matplotlib.pyplot as plt\n",
    "import seaborn as sns\n",
    "\n",
    "numeric_df = hotel[numeric_cols]\n",
    "corr = numeric_df.corr()\n",
    "plt.figure(figsize=(20,10))\n",
    "sns.heatmap(corr, cmap='Blues', annot=True, fmt='.3g')"
   ]
  },
  {
   "cell_type": "markdown",
   "metadata": {},
   "source": [
    "### lead_time 변수"
   ]
  },
  {
   "cell_type": "code",
   "execution_count": 29,
   "metadata": {
    "scrolled": true
   },
   "outputs": [
    {
     "data": {
      "text/plain": [
       "array([342, 737,   7,  13,  14,   0,   9,  85,  75,  23,  35,  68,  18,\n",
       "        37,  12,  72, 127,  78,  48,  60,  77,  99, 118,  95,  96,  69,\n",
       "        45,  40,  15,  36,  43,  70,  16, 107,  47, 113,  90,  50,  93,\n",
       "        76,   3,   1,  10,   5,  17,  51,  71,  63,  62, 101,   2,  81,\n",
       "       368, 364, 324,  79,  21, 109, 102,   4,  98,  92,  26,  73, 115,\n",
       "        86,  52,  29,  30,  33,  32,   8, 100,  44,  80,  97,  64,  39,\n",
       "        34,  27,  82,  94, 110, 111,  84,  66, 104,  28, 258, 112,  65,\n",
       "        67,  55,  88,  54, 292,  83, 105, 280, 394,  24, 103, 366, 249,\n",
       "        22,  91,  11, 108, 106,  31,  87,  41, 304, 117,  59,  53,  58,\n",
       "       116,  42, 321,  38,  56,  49, 317,   6,  57,  19,  25, 315, 123,\n",
       "        46,  89,  61, 312, 299, 130,  74, 298, 119,  20, 286, 136, 129,\n",
       "       124, 327, 131, 460, 140, 114, 139, 122, 137, 126, 120, 128, 135,\n",
       "       150, 143, 151, 132, 125, 157, 147, 138, 156, 164, 346, 159, 160,\n",
       "       161, 333, 381, 149, 154, 297, 163, 314, 155, 323, 340, 356, 142,\n",
       "       328, 144, 336, 248, 302, 175, 344, 382, 146, 170, 166, 338, 167,\n",
       "       310, 148, 165, 172, 171, 145, 121, 178, 305, 173, 152, 354, 347,\n",
       "       158, 185, 349, 183, 352, 177, 200, 192, 361, 207, 174, 330, 134,\n",
       "       350, 334, 283, 153, 197, 133, 241, 193, 235, 194, 261, 260, 216,\n",
       "       169, 209, 238, 215, 141, 189, 187, 223, 284, 214, 202, 211, 168,\n",
       "       230, 203, 188, 232, 709, 219, 162, 196, 190, 259, 228, 176, 250,\n",
       "       201, 186, 199, 180, 206, 205, 224, 222, 182, 210, 275, 212, 229,\n",
       "       218, 208, 191, 181, 179, 246, 255, 226, 288, 253, 252, 262, 236,\n",
       "       256, 234, 254, 468, 213, 237, 198, 195, 239, 263, 265, 274, 217,\n",
       "       220, 307, 221, 233, 257, 227, 276, 225, 264, 311, 277, 204, 290,\n",
       "       266, 270, 294, 319, 282, 251, 322, 291, 269, 240, 271, 184, 231,\n",
       "       268, 247, 273, 300, 301, 267, 244, 306, 293, 309, 272, 242, 295,\n",
       "       285, 243, 308, 398, 303, 245, 424, 279, 331, 281, 339, 434, 357,\n",
       "       325, 329, 278, 332, 343, 345, 360, 348, 367, 353, 373, 374, 406,\n",
       "       400, 326, 379, 399, 316, 341, 320, 385, 355, 363, 358, 296, 422,\n",
       "       390, 335, 370, 376, 375, 397, 289, 542, 403, 383, 384, 359, 393,\n",
       "       337, 362, 365, 435, 386, 378, 313, 351, 287, 471, 462, 411, 450,\n",
       "       318, 372, 371, 454, 532, 445, 389, 388, 407, 443, 437, 451, 391,\n",
       "       405, 412, 419, 420, 426, 433, 440, 429, 418, 447, 461, 605, 457,\n",
       "       475, 464, 482, 626, 489, 496, 503, 510, 517, 524, 531, 538, 545,\n",
       "       552, 559, 566, 573, 580, 587, 594, 601, 608, 615, 622, 629, 396,\n",
       "       410, 395, 423, 408, 409, 448, 465, 387, 414, 476, 479, 467, 490,\n",
       "       493, 478, 504, 507, 458, 518, 521, 377, 444, 380, 463])"
      ]
     },
     "execution_count": 29,
     "metadata": {},
     "output_type": "execute_result"
    }
   ],
   "source": [
    "# lead_time 이상치 파악\n",
    "# lead_time 값의 종류들 살펴보기 -> 의외로 몇백일 단위의 값들이 많다.. 이상치 제거할 필요보단 정규화시켜주어야 할 듯 싶다.\n",
    "hotel['lead_time'].unique()"
   ]
  },
  {
   "cell_type": "code",
   "execution_count": 30,
   "metadata": {},
   "outputs": [
    {
     "data": {
      "text/plain": [
       "<matplotlib.axes._subplots.AxesSubplot at 0x7fcb9230bc10>"
      ]
     },
     "execution_count": 30,
     "metadata": {},
     "output_type": "execute_result"
    },
    {
     "data": {
      "image/png": "[encoded data removed]",
      "text/plain": [
       "<Figure size 432x288 with 1 Axes>"
      ]
     },
     "metadata": {
      "needs_background": "light"
     },
     "output_type": "display_data"
    }
   ],
   "source": [
    "# 값들 분포 확인하기\n",
    "hotel['lead_time'].hist()"
   ]
  },
  {
   "cell_type": "code",
   "execution_count": 31,
   "metadata": {},
   "outputs": [
    {
     "data": {
      "text/plain": [
       "<matplotlib.axes._subplots.AxesSubplot at 0x7fcb92191a10>"
      ]
     },
     "execution_count": 31,
     "metadata": {},
     "output_type": "execute_result"
    },
    {
     "data": {
      "image/png": "[encoded data removed]",
      "text/plain": [
       "<Figure size 432x288 with 1 Axes>"
      ]
     },
     "metadata": {
      "needs_background": "light"
     },
     "output_type": "display_data"
    }
   ],
   "source": [
    "# +1한다음 log를 이용해 정규분포화시키기\n",
    "np.log1p(hotel['lead_time']).hist()"
   ]
  },
  {
   "cell_type": "markdown",
   "metadata": {},
   "source": [
    "- lead_time 은 log1p를 이용해서 분포를 변환해주자"
   ]
  },
  {
   "cell_type": "markdown",
   "metadata": {},
   "source": [
    "### adults, children, babies 변수\n",
    "\n",
    "- 기본적으로 위 3가지 변수는 종속변수(취소여부)와 상관계수가 매우 낮다. \n",
    "    * adults : 0.06\n",
    "    * children : 0.00504\n",
    "    * babies : -0.03\n",
    "- 따라서 위 3가지 변수와 예약취소여부와의 관계는 선형관계가 아니다."
   ]
  },
  {
   "cell_type": "code",
   "execution_count": 26,
   "metadata": {},
   "outputs": [
    {
     "data": {
      "text/plain": [
       "2     89680\n",
       "1     23027\n",
       "3      6202\n",
       "0       403\n",
       "4        62\n",
       "26        5\n",
       "27        2\n",
       "20        2\n",
       "5         2\n",
       "55        1\n",
       "50        1\n",
       "40        1\n",
       "10        1\n",
       "6         1\n",
       "Name: adults, dtype: int64"
      ]
     },
     "execution_count": 26,
     "metadata": {},
     "output_type": "execute_result"
    }
   ],
   "source": [
    "# adult변수 원본 분포형태 보기\n",
    "hotel['adults'].value_counts()"
   ]
  },
  {
   "cell_type": "code",
   "execution_count": 25,
   "metadata": {},
   "outputs": [
    {
     "data": {
      "text/plain": [
       "<matplotlib.axes._subplots.AxesSubplot at 0x7fcb91311c50>"
      ]
     },
     "execution_count": 25,
     "metadata": {},
     "output_type": "execute_result"
    },
    {
     "data": {
      "image/png": "[encoded data removed]",
      "text/plain": [
       "<Figure size 432x288 with 1 Axes>"
      ]
     },
     "metadata": {
      "needs_background": "light"
     },
     "output_type": "display_data"
    }
   ],
   "source": [
    "hotel['adults'].hist()"
   ]
  },
  {
   "cell_type": "code",
   "execution_count": 41,
   "metadata": {},
   "outputs": [
    {
     "name": "stdout",
     "output_type": "stream",
     "text": [
      "0.0     110800\n",
      "1.0       4861\n",
      "2.0       3652\n",
      "3.0         76\n",
      "10.0         1\n",
      "Name: children, dtype: int64\n",
      "AxesSubplot(0.125,0.125;0.775x0.755)\n"
     ]
    },
    {
     "data": {
      "image/png": "[encoded data removed]",
      "text/plain": [
       "<Figure size 432x288 with 1 Axes>"
      ]
     },
     "metadata": {
      "needs_background": "light"
     },
     "output_type": "display_data"
    }
   ],
   "source": [
    "# children 변수\n",
    "print(hotel['children'].value_counts())\n",
    "print(hotel['children'].hist())"
   ]
  },
  {
   "cell_type": "code",
   "execution_count": 42,
   "metadata": {},
   "outputs": [
    {
     "name": "stdout",
     "output_type": "stream",
     "text": [
      "0     118473\n",
      "1        900\n",
      "2         15\n",
      "10         1\n",
      "9          1\n",
      "Name: babies, dtype: int64\n",
      "AxesSubplot(0.125,0.125;0.775x0.755)\n"
     ]
    },
    {
     "data": {
      "image/png": "[encoded data removed]",
      "text/plain": [
       "<Figure size 432x288 with 1 Axes>"
      ]
     },
     "metadata": {
      "needs_background": "light"
     },
     "output_type": "display_data"
    }
   ],
   "source": [
    "# babies 변수\n",
    "print(hotel['babies'].value_counts())\n",
    "print(hotel['babies'].hist())"
   ]
  },
  {
   "cell_type": "markdown",
   "metadata": {},
   "source": [
    "- **종속변수와 선형관계를 보이지 않을 뿐더러 독립변수 값들의 분포가 한 값에 매우 몰려있기 때문에 해당 변수들을 예측 모델의 feature로서는 적합하지 않다고 판단**"
   ]
  },
  {
   "cell_type": "markdown",
   "metadata": {},
   "source": [
    "### is_repeated_guest\n",
    "\n",
    "- 해당 변수는 범주형 변수이다\n",
    "    * 0이면 최초 손님\n",
    "    * 1이면 중복 손님(이전에 예약한 경험이 있는 손님)"
   ]
  },
  {
   "cell_type": "code",
   "execution_count": 44,
   "metadata": {},
   "outputs": [
    {
     "data": {
      "text/plain": [
       "0    115580\n",
       "1      3810\n",
       "Name: is_repeated_guest, dtype: int64"
      ]
     },
     "execution_count": 44,
     "metadata": {},
     "output_type": "execute_result"
    }
   ],
   "source": [
    "hotel['is_repeated_guest'].value_counts()"
   ]
  },
  {
   "cell_type": "markdown",
   "metadata": {},
   "source": [
    "- 이 변수는 그대로 레이블인코딩 상태로 feature에 넣자"
   ]
  },
  {
   "cell_type": "markdown",
   "metadata": {},
   "source": [
    "### previous_cancellations"
   ]
  },
  {
   "cell_type": "code",
   "execution_count": 45,
   "metadata": {},
   "outputs": [
    {
     "data": {
      "text/plain": [
       "<matplotlib.axes._subplots.AxesSubplot at 0x7fcb761cae10>"
      ]
     },
     "execution_count": 45,
     "metadata": {},
     "output_type": "execute_result"
    },
    {
     "data": {
      "image/png": "[encoded data removed]",
      "text/plain": [
       "<Figure size 432x288 with 1 Axes>"
      ]
     },
     "metadata": {
      "needs_background": "light"
     },
     "output_type": "display_data"
    }
   ],
   "source": [
    "hotel['previous_cancellations'].hist()"
   ]
  },
  {
   "cell_type": "code",
   "execution_count": 46,
   "metadata": {},
   "outputs": [
    {
     "data": {
      "text/plain": [
       "0     112906\n",
       "1       6051\n",
       "2        116\n",
       "3         65\n",
       "24        48\n",
       "11        35\n",
       "4         31\n",
       "26        26\n",
       "25        25\n",
       "6         22\n",
       "19        19\n",
       "5         19\n",
       "14        14\n",
       "13        12\n",
       "21         1\n",
       "Name: previous_cancellations, dtype: int64"
      ]
     },
     "execution_count": 46,
     "metadata": {},
     "output_type": "execute_result"
    }
   ],
   "source": [
    "hotel['previous_cancellations'].value_counts()"
   ]
  },
  {
   "cell_type": "code",
   "execution_count": 50,
   "metadata": {},
   "outputs": [
    {
     "data": {
      "text/plain": [
       "1    154\n",
       "0     26\n",
       "Name: is_canceled, dtype: int64"
      ]
     },
     "execution_count": 50,
     "metadata": {},
     "output_type": "execute_result"
    }
   ],
   "source": [
    "# 이상치라고 판단되는 value가 7이상인 데이터들은 예약을 모두 취소한 건수들일까?\n",
    "hotel.loc[hotel['previous_cancellations'] > 6, 'is_canceled'].value_counts()"
   ]
  },
  {
   "cell_type": "markdown",
   "metadata": {},
   "source": [
    "- 종속변수와의 상관계수값은 0.11이다.\n",
    "- 이상치로 판단되는 값들의 예약취소여부를 조사해보니 그래도 이상치에 해당하는 값들이 예약 취소건수가 많았다. 따라서 이상치를 제거할 순 없다고 판단.\n",
    "- 이상치가 있긴 하지만 제거하지 않고 이상치에 민감하지 않는 Robust scaler를 사용하자."
   ]
  },
  {
   "cell_type": "markdown",
   "metadata": {},
   "source": [
    "### previous_bookings_not_canceled"
   ]
  },
  {
   "cell_type": "code",
   "execution_count": 47,
   "metadata": {},
   "outputs": [
    {
     "data": {
      "text/plain": [
       "<matplotlib.axes._subplots.AxesSubplot at 0x7fcb76d52710>"
      ]
     },
     "execution_count": 47,
     "metadata": {},
     "output_type": "execute_result"
    },
    {
     "data": {
      "image/png": "[encoded data removed]",
      "text/plain": [
       "<Figure size 432x288 with 1 Axes>"
      ]
     },
     "metadata": {
      "needs_background": "light"
     },
     "output_type": "display_data"
    }
   ],
   "source": [
    "hotel['previous_bookings_not_canceled'].hist()"
   ]
  },
  {
   "cell_type": "code",
   "execution_count": 60,
   "metadata": {
    "scrolled": true
   },
   "outputs": [
    {
     "data": {
      "text/plain": [
       "0     115770\n",
       "1       1542\n",
       "2        580\n",
       "3        333\n",
       "4        229\n",
       "5        181\n",
       "6        115\n",
       "7         88\n",
       "8         70\n",
       "9         60\n",
       "10        53\n",
       "11        43\n",
       "12        37\n",
       "13        30\n",
       "14        28\n",
       "15        21\n",
       "16        20\n",
       "25        17\n",
       "17        16\n",
       "18        14\n",
       "19        13\n",
       "20        12\n",
       "21        12\n",
       "22        10\n",
       "24         9\n",
       "27         9\n",
       "23         7\n",
       "26         7\n",
       "28         7\n",
       "29         6\n",
       "30         4\n",
       "44         2\n",
       "48         2\n",
       "31         2\n",
       "32         2\n",
       "58         2\n",
       "57         1\n",
       "70         1\n",
       "55         1\n",
       "56         1\n",
       "69         1\n",
       "71         1\n",
       "54         1\n",
       "59         1\n",
       "68         1\n",
       "67         1\n",
       "53         1\n",
       "66         1\n",
       "60         1\n",
       "65         1\n",
       "61         1\n",
       "64         1\n",
       "72         1\n",
       "37         1\n",
       "52         1\n",
       "41         1\n",
       "35         1\n",
       "34         1\n",
       "33         1\n",
       "62         1\n",
       "38         1\n",
       "39         1\n",
       "40         1\n",
       "42         1\n",
       "51         1\n",
       "43         1\n",
       "45         1\n",
       "46         1\n",
       "47         1\n",
       "36         1\n",
       "49         1\n",
       "50         1\n",
       "63         1\n",
       "Name: previous_bookings_not_canceled, dtype: int64"
      ]
     },
     "execution_count": 60,
     "metadata": {},
     "output_type": "execute_result"
    }
   ],
   "source": [
    "pd.options.display.max_rows=200\n",
    "hotel['previous_bookings_not_canceled'].value_counts()"
   ]
  },
  {
   "cell_type": "code",
   "execution_count": 54,
   "metadata": {},
   "outputs": [
    {
     "data": {
      "text/plain": [
       "0    71746\n",
       "1    44024\n",
       "Name: is_canceled, dtype: int64"
      ]
     },
     "execution_count": 54,
     "metadata": {},
     "output_type": "execute_result"
    }
   ],
   "source": [
    "hotel.loc[hotel['previous_bookings_not_canceled'] == 0, 'is_canceled'].value_counts()"
   ]
  },
  {
   "cell_type": "code",
   "execution_count": 53,
   "metadata": {},
   "outputs": [
    {
     "data": {
      "text/plain": [
       "0    3420\n",
       "1     200\n",
       "Name: is_canceled, dtype: int64"
      ]
     },
     "execution_count": 53,
     "metadata": {},
     "output_type": "execute_result"
    }
   ],
   "source": [
    "# 이상치로 판단되는 1값이상의 데이터들의 예약건수 취소여부를 살펴보자\n",
    "hotel.loc[hotel['previous_bookings_not_canceled'] > 0, 'is_canceled'].value_counts()"
   ]
  },
  {
   "cell_type": "markdown",
   "metadata": {},
   "source": [
    "- 종속변수와의 상관계수값은 -0.05이다.\n",
    "- 확실히 이전에 취소하지 않은 예약건수들이 많을 수록 예약을 취소하지 않을 가능성이 높았다.\n",
    "- 이상치가 있긴 하지만 개수가 거의 없다제거하지 않고 이상치에 민감하지 않는 Robust scaler를 사용하자."
   ]
  },
  {
   "cell_type": "markdown",
   "metadata": {},
   "source": [
    "### booking_changes"
   ]
  },
  {
   "cell_type": "code",
   "execution_count": 55,
   "metadata": {},
   "outputs": [
    {
     "data": {
      "text/plain": [
       "<matplotlib.axes._subplots.AxesSubplot at 0x7fcb7641cd90>"
      ]
     },
     "execution_count": 55,
     "metadata": {},
     "output_type": "execute_result"
    },
    {
     "data": {
      "image/png": "[encoded data removed]",
      "text/plain": [
       "<Figure size 432x288 with 1 Axes>"
      ]
     },
     "metadata": {
      "needs_background": "light"
     },
     "output_type": "display_data"
    }
   ],
   "source": [
    "hotel['booking_changes'].hist()"
   ]
  },
  {
   "cell_type": "code",
   "execution_count": 56,
   "metadata": {},
   "outputs": [
    {
     "data": {
      "text/plain": [
       "0     101314\n",
       "1      12701\n",
       "2       3805\n",
       "3        927\n",
       "4        376\n",
       "5        118\n",
       "6         63\n",
       "7         31\n",
       "8         17\n",
       "9          8\n",
       "10         6\n",
       "13         5\n",
       "14         5\n",
       "15         3\n",
       "11         2\n",
       "12         2\n",
       "16         2\n",
       "17         2\n",
       "20         1\n",
       "18         1\n",
       "21         1\n",
       "Name: booking_changes, dtype: int64"
      ]
     },
     "execution_count": 56,
     "metadata": {},
     "output_type": "execute_result"
    }
   ],
   "source": [
    "hotel['booking_changes'].value_counts()"
   ]
  },
  {
   "cell_type": "code",
   "execution_count": 57,
   "metadata": {},
   "outputs": [
    {
     "name": "stdout",
     "output_type": "stream",
     "text": [
      "0    15243\n",
      "1     2833\n",
      "Name: is_canceled, dtype: int64\n",
      "0    59923\n",
      "1    41391\n",
      "Name: is_canceled, dtype: int64\n"
     ]
    }
   ],
   "source": [
    "print(hotel.loc[hotel['booking_changes'] > 0, 'is_canceled'].value_counts())\n",
    "print(hotel.loc[hotel['booking_changes'] == 0, 'is_canceled'].value_counts())"
   ]
  },
  {
   "cell_type": "markdown",
   "metadata": {},
   "source": [
    "- 예약변경을 한 번도 하지 않은 사람들 중에서 예약 취소 여부 비율은 비슷했다.\n",
    "- 예약변경을 한번 이상한 사람들 중에서는 예약 취소하지 않는 비율이 많았다.\n",
    "- 따라서, 예약변경을 그래도 많이할수록 예약을 취소하지 않는다.\n",
    "- 그러므로 이상치를 제거하는 것보다 이상치에 민감하지 않은 Robust scaler를 사용해야 할 듯 하다."
   ]
  },
  {
   "cell_type": "markdown",
   "metadata": {},
   "source": [
    "### days_in_waiting_list"
   ]
  },
  {
   "cell_type": "code",
   "execution_count": 58,
   "metadata": {},
   "outputs": [
    {
     "data": {
      "text/plain": [
       "<matplotlib.axes._subplots.AxesSubplot at 0x7fcb75951c10>"
      ]
     },
     "execution_count": 58,
     "metadata": {},
     "output_type": "execute_result"
    },
    {
     "data": {
      "image/png": "[encoded data removed]",
      "text/plain": [
       "<Figure size 432x288 with 1 Axes>"
      ]
     },
     "metadata": {
      "needs_background": "light"
     },
     "output_type": "display_data"
    }
   ],
   "source": [
    "hotel['days_in_waiting_list'].hist()"
   ]
  },
  {
   "cell_type": "code",
   "execution_count": 61,
   "metadata": {},
   "outputs": [
    {
     "data": {
      "text/plain": [
       "0      115692\n",
       "39        227\n",
       "58        164\n",
       "44        141\n",
       "31        127\n",
       "35         96\n",
       "46         94\n",
       "69         89\n",
       "63         83\n",
       "50         80\n",
       "87         80\n",
       "38         76\n",
       "111        71\n",
       "45         65\n",
       "101        65\n",
       "77         63\n",
       "41         63\n",
       "223        61\n",
       "62         60\n",
       "3          59\n",
       "98         59\n",
       "22         56\n",
       "122        55\n",
       "15         54\n",
       "48         52\n",
       "176        50\n",
       "91         50\n",
       "28         50\n",
       "17         47\n",
       "96         46\n",
       "187        45\n",
       "56         45\n",
       "391        45\n",
       "68         42\n",
       "60         41\n",
       "75         40\n",
       "93         40\n",
       "21         37\n",
       "236        35\n",
       "65         35\n",
       "147        30\n",
       "33         30\n",
       "19         30\n",
       "162        30\n",
       "178        30\n",
       "42         30\n",
       "20         29\n",
       "10         28\n",
       "40         28\n",
       "27         26\n",
       "34         26\n",
       "120        25\n",
       "4          25\n",
       "57         25\n",
       "160        25\n",
       "25         25\n",
       "80         24\n",
       "47         24\n",
       "215        21\n",
       "79         20\n",
       "108        20\n",
       "24         19\n",
       "99         19\n",
       "32         19\n",
       "43         19\n",
       "174        19\n",
       "70         18\n",
       "61         18\n",
       "49         18\n",
       "9          16\n",
       "125        16\n",
       "6          16\n",
       "379        15\n",
       "85         15\n",
       "330        15\n",
       "207        15\n",
       "59         14\n",
       "71         13\n",
       "1          12\n",
       "150        11\n",
       "259        10\n",
       "224        10\n",
       "55         10\n",
       "14          9\n",
       "5           8\n",
       "11          7\n",
       "8           7\n",
       "113         6\n",
       "53          6\n",
       "2           5\n",
       "107         5\n",
       "7           4\n",
       "26          4\n",
       "13          4\n",
       "16          4\n",
       "18          3\n",
       "64          3\n",
       "12          3\n",
       "100         3\n",
       "23          3\n",
       "97          3\n",
       "185         2\n",
       "76          2\n",
       "105         2\n",
       "84          2\n",
       "30          2\n",
       "121         2\n",
       "154         2\n",
       "83          2\n",
       "193         1\n",
       "167         1\n",
       "52          1\n",
       "165         1\n",
       "72          1\n",
       "73          1\n",
       "109         1\n",
       "74          1\n",
       "37          1\n",
       "116         1\n",
       "142         1\n",
       "36          1\n",
       "54          1\n",
       "81          1\n",
       "175         1\n",
       "117         1\n",
       "89          1\n",
       "92          1\n",
       "183         1\n",
       "Name: days_in_waiting_list, dtype: int64"
      ]
     },
     "execution_count": 61,
     "metadata": {},
     "output_type": "execute_result"
    }
   ],
   "source": [
    "hotel['days_in_waiting_list'].value_counts()"
   ]
  },
  {
   "cell_type": "code",
   "execution_count": 62,
   "metadata": {},
   "outputs": [
    {
     "name": "stdout",
     "output_type": "stream",
     "text": [
      "1    2359\n",
      "0    1339\n",
      "Name: is_canceled, dtype: int64\n",
      "0    73827\n",
      "1    41865\n",
      "Name: is_canceled, dtype: int64\n"
     ]
    }
   ],
   "source": [
    "# 예약이 확정될 때까지 하루이상걸린 예약건수들의 취소 여부비율 살펴보기\n",
    "print(hotel.loc[hotel['days_in_waiting_list'] > 0, 'is_canceled'].value_counts())\n",
    "print(hotel.loc[hotel['days_in_waiting_list'] == 0, 'is_canceled'].value_counts())"
   ]
  },
  {
   "cell_type": "markdown",
   "metadata": {},
   "source": [
    "- 예약을 확정짓는데 하루 이상 걸린 사람들은 예약취소하는 경향이 있는 듯하다.\n",
    "- 이상치를 제거하지 않고 Robust scaler사용"
   ]
  },
  {
   "cell_type": "markdown",
   "metadata": {},
   "source": [
    "### required_car_parking_spaces"
   ]
  },
  {
   "cell_type": "code",
   "execution_count": 63,
   "metadata": {},
   "outputs": [
    {
     "data": {
      "text/plain": [
       "<matplotlib.axes._subplots.AxesSubplot at 0x7fcb76674210>"
      ]
     },
     "execution_count": 63,
     "metadata": {},
     "output_type": "execute_result"
    },
    {
     "data": {
      "image/png": "[encoded data removed]",
      "text/plain": [
       "<Figure size 432x288 with 1 Axes>"
      ]
     },
     "metadata": {
      "needs_background": "light"
     },
     "output_type": "display_data"
    }
   ],
   "source": [
    "hotel['required_car_parking_spaces'].hist()"
   ]
  },
  {
   "cell_type": "code",
   "execution_count": 64,
   "metadata": {},
   "outputs": [
    {
     "data": {
      "text/plain": [
       "0    111974\n",
       "1      7383\n",
       "2        28\n",
       "3         3\n",
       "8         2\n",
       "Name: required_car_parking_spaces, dtype: int64"
      ]
     },
     "execution_count": 64,
     "metadata": {},
     "output_type": "execute_result"
    }
   ],
   "source": [
    "hotel['required_car_parking_spaces'].value_counts()"
   ]
  },
  {
   "cell_type": "code",
   "execution_count": 65,
   "metadata": {},
   "outputs": [
    {
     "name": "stdout",
     "output_type": "stream",
     "text": [
      "0    7416\n",
      "Name: is_canceled, dtype: int64\n",
      "0    67750\n",
      "1    44224\n",
      "Name: is_canceled, dtype: int64\n"
     ]
    }
   ],
   "source": [
    "# 주차공간을 요구하는 사람들은 예약을 취소할까?\n",
    "print(hotel.loc[hotel['required_car_parking_spaces'] > 0, 'is_canceled'].value_counts())\n",
    "print(hotel.loc[hotel['required_car_parking_spaces'] == 0, 'is_canceled'].value_counts())"
   ]
  },
  {
   "cell_type": "markdown",
   "metadata": {},
   "source": [
    "- 주차공간을 요구한 사람들은 무조건 예약을 취소하지 않는다.\n",
    "- 따라서 이상치를 제거하지 않고 Robust Scaler적용"
   ]
  },
  {
   "cell_type": "markdown",
   "metadata": {},
   "source": [
    "### total_of_special_requests"
   ]
  },
  {
   "cell_type": "code",
   "execution_count": 66,
   "metadata": {},
   "outputs": [
    {
     "data": {
      "text/plain": [
       "<matplotlib.axes._subplots.AxesSubplot at 0x7fcb7764bb90>"
      ]
     },
     "execution_count": 66,
     "metadata": {},
     "output_type": "execute_result"
    },
    {
     "data": {
      "image/png": "[encoded data removed]",
      "text/plain": [
       "<Figure size 432x288 with 1 Axes>"
      ]
     },
     "metadata": {
      "needs_background": "light"
     },
     "output_type": "display_data"
    }
   ],
   "source": [
    "hotel['total_of_special_requests'].hist()"
   ]
  },
  {
   "cell_type": "code",
   "execution_count": 67,
   "metadata": {},
   "outputs": [
    {
     "data": {
      "text/plain": [
       "0    70318\n",
       "1    33226\n",
       "2    12969\n",
       "3     2497\n",
       "4      340\n",
       "5       40\n",
       "Name: total_of_special_requests, dtype: int64"
      ]
     },
     "execution_count": 67,
     "metadata": {},
     "output_type": "execute_result"
    }
   ],
   "source": [
    "hotel['total_of_special_requests'].value_counts()"
   ]
  },
  {
   "cell_type": "code",
   "execution_count": 69,
   "metadata": {},
   "outputs": [
    {
     "name": "stdout",
     "output_type": "stream",
     "text": [
      "0    342\n",
      "1     38\n",
      "Name: is_canceled, dtype: int64\n",
      "0    2051\n",
      "1     446\n",
      "Name: is_canceled, dtype: int64\n"
     ]
    }
   ],
   "source": [
    "# 이상치로 판단되는 4,5 일때 예약취소여부를 살펴보자\n",
    "print(hotel.loc[hotel['total_of_special_requests'] > 3, 'is_canceled'].value_counts())\n",
    "print(hotel.loc[hotel['total_of_special_requests'] == 3, 'is_canceled'].value_counts())"
   ]
  },
  {
   "cell_type": "markdown",
   "metadata": {},
   "source": [
    "- 호텔에 특별요구(방 종류 변경, 고층실 예약 요구)를 많이 한사람들은 예약을 취소하지 않는 경향이 강하다\n",
    "- 따라서 이상치를 제거하지 않고 Robust scaler적용"
   ]
  },
  {
   "cell_type": "markdown",
   "metadata": {},
   "source": [
    "## Feature Engineering \n",
    "\n",
    "* Target variable(binary) : is_canceled\n",
    "* Numeric variables \n",
    "    - 예약날짜 관련 함수는 모두 삭제\n",
    "    - lead_time : log1p변환\n",
    "    - 어른,아이,아기 변수 삭제\n",
    "    - is_repeated_guest는 현재상태 유지(레이블 인코딩)"
   ]
  },
  {
   "cell_type": "code",
   "execution_count": 74,
   "metadata": {},
   "outputs": [
    {
     "name": "stdout",
     "output_type": "stream",
     "text": [
      "['is_canceled' 'lead_time' 'adults' 'children' 'babies'\n",
      " 'is_repeated_guest' 'previous_cancellations'\n",
      " 'previous_bookings_not_canceled' 'booking_changes' 'days_in_waiting_list'\n",
      " 'adr' 'required_car_parking_spaces' 'total_of_special_requests']\n"
     ]
    }
   ],
   "source": [
    "# adr 변수 삭제\n",
    "numeric_cols.tolist().remove('adr')\n",
    "print(numeric_cols)"
   ]
  },
  {
   "cell_type": "code",
   "execution_count": 78,
   "metadata": {},
   "outputs": [
    {
     "name": "stdout",
     "output_type": "stream",
     "text": [
      "['is_canceled', 'lead_time', 'adults', 'children', 'babies', 'is_repeated_guest', 'previous_cancellations', 'previous_bookings_not_canceled', 'booking_changes', 'days_in_waiting_list', 'adr', 'required_car_parking_spaces', 'total_of_special_requests', 'stays_in_weekend_nights', 'stays_in_week_nights']\n"
     ]
    }
   ],
   "source": [
    "final_cols = numeric_cols.tolist()\n",
    "extra_cols = ['stays_in_weekend_nights','stays_in_week_nights']\n",
    "for col in extra_cols:\n",
    "    final_cols.append(col)\n",
    "print(final_cols)"
   ]
  },
  {
   "cell_type": "markdown",
   "metadata": {},
   "source": [
    "### Categorical Variable encoding"
   ]
  },
  {
   "cell_type": "code",
   "execution_count": 81,
   "metadata": {},
   "outputs": [
    {
     "data": {
      "text/plain": [
       "Index(['hotel', 'meal', 'market_segment', 'distribution_channel',\n",
       "       'reserved_room_type', 'assigned_room_type', 'deposit_type',\n",
       "       'customer_type', 'reservation_status'],\n",
       "      dtype='object')"
      ]
     },
     "execution_count": 81,
     "metadata": {},
     "output_type": "execute_result"
    }
   ],
   "source": [
    "category_cols = ['hotel','meal','market_segment','distribution_channel','reserved_room_type','assigned_room_type',\n",
    "                'deposit_type','customer_type','reservation_status']\n",
    "category_df = hotel[category_cols]\n",
    "category_df.columns"
   ]
  },
  {
   "cell_type": "code",
   "execution_count": 83,
   "metadata": {},
   "outputs": [],
   "source": [
    "# reservation_status는 예약 취소여부 후 나오는 변수값으로 해당 변수는 순차적으로 예약취소여부가 나온 후에 도출되는 변수므로 삭제\n",
    "del category_df['reservation_status']"
   ]
  },
  {
   "cell_type": "code",
   "execution_count": 89,
   "metadata": {
    "scrolled": true
   },
   "outputs": [
    {
     "data": {
      "text/html": [
       "<div>\n",
       "<style scoped>\n",
       "    .dataframe tbody tr th:only-of-type {\n",
       "        vertical-align: middle;\n",
       "    }\n",
       "\n",
       "    .dataframe tbody tr th {\n",
       "        vertical-align: top;\n",
       "    }\n",
       "\n",
       "    .dataframe thead th {\n",
       "        text-align: right;\n",
       "    }\n",
       "</style>\n",
       "<table border=\"1\" class=\"dataframe\">\n",
       "  <thead>\n",
       "    <tr style=\"text-align: right;\">\n",
       "      <th></th>\n",
       "      <th></th>\n",
       "      <th>hotel</th>\n",
       "    </tr>\n",
       "    <tr>\n",
       "      <th>reserved_room_type</th>\n",
       "      <th>is_canceled</th>\n",
       "      <th></th>\n",
       "    </tr>\n",
       "  </thead>\n",
       "  <tbody>\n",
       "    <tr>\n",
       "      <th rowspan=\"2\" valign=\"top\">A</th>\n",
       "      <th>0</th>\n",
       "      <td>52364</td>\n",
       "    </tr>\n",
       "    <tr>\n",
       "      <th>1</th>\n",
       "      <td>33630</td>\n",
       "    </tr>\n",
       "    <tr>\n",
       "      <th rowspan=\"2\" valign=\"top\">B</th>\n",
       "      <th>0</th>\n",
       "      <td>750</td>\n",
       "    </tr>\n",
       "    <tr>\n",
       "      <th>1</th>\n",
       "      <td>368</td>\n",
       "    </tr>\n",
       "    <tr>\n",
       "      <th rowspan=\"2\" valign=\"top\">C</th>\n",
       "      <th>0</th>\n",
       "      <td>624</td>\n",
       "    </tr>\n",
       "    <tr>\n",
       "      <th>1</th>\n",
       "      <td>308</td>\n",
       "    </tr>\n",
       "    <tr>\n",
       "      <th rowspan=\"2\" valign=\"top\">D</th>\n",
       "      <th>0</th>\n",
       "      <td>13099</td>\n",
       "    </tr>\n",
       "    <tr>\n",
       "      <th>1</th>\n",
       "      <td>6102</td>\n",
       "    </tr>\n",
       "    <tr>\n",
       "      <th rowspan=\"2\" valign=\"top\">E</th>\n",
       "      <th>0</th>\n",
       "      <td>4621</td>\n",
       "    </tr>\n",
       "    <tr>\n",
       "      <th>1</th>\n",
       "      <td>1914</td>\n",
       "    </tr>\n",
       "    <tr>\n",
       "      <th rowspan=\"2\" valign=\"top\">F</th>\n",
       "      <th>0</th>\n",
       "      <td>2017</td>\n",
       "    </tr>\n",
       "    <tr>\n",
       "      <th>1</th>\n",
       "      <td>880</td>\n",
       "    </tr>\n",
       "    <tr>\n",
       "      <th rowspan=\"2\" valign=\"top\">G</th>\n",
       "      <th>0</th>\n",
       "      <td>1331</td>\n",
       "    </tr>\n",
       "    <tr>\n",
       "      <th>1</th>\n",
       "      <td>763</td>\n",
       "    </tr>\n",
       "    <tr>\n",
       "      <th rowspan=\"2\" valign=\"top\">H</th>\n",
       "      <th>0</th>\n",
       "      <td>356</td>\n",
       "    </tr>\n",
       "    <tr>\n",
       "      <th>1</th>\n",
       "      <td>245</td>\n",
       "    </tr>\n",
       "    <tr>\n",
       "      <th rowspan=\"2\" valign=\"top\">L</th>\n",
       "      <th>0</th>\n",
       "      <td>4</td>\n",
       "    </tr>\n",
       "    <tr>\n",
       "      <th>1</th>\n",
       "      <td>2</td>\n",
       "    </tr>\n",
       "    <tr>\n",
       "      <th>P</th>\n",
       "      <th>1</th>\n",
       "      <td>12</td>\n",
       "    </tr>\n",
       "  </tbody>\n",
       "</table>\n",
       "</div>"
      ],
      "text/plain": [
       "                                hotel\n",
       "reserved_room_type is_canceled       \n",
       "A                  0            52364\n",
       "                   1            33630\n",
       "B                  0              750\n",
       "                   1              368\n",
       "C                  0              624\n",
       "                   1              308\n",
       "D                  0            13099\n",
       "                   1             6102\n",
       "E                  0             4621\n",
       "                   1             1914\n",
       "F                  0             2017\n",
       "                   1              880\n",
       "G                  0             1331\n",
       "                   1              763\n",
       "H                  0              356\n",
       "                   1              245\n",
       "L                  0                4\n",
       "                   1                2\n",
       "P                  1               12"
      ]
     },
     "execution_count": 89,
     "metadata": {},
     "output_type": "execute_result"
    }
   ],
   "source": [
    "# 예약한 방 유형에 따라 취소 여부 관계 살펴보기\n",
    "hotel.groupby(['reserved_room_type','is_canceled']).agg({'hotel':'count'})"
   ]
  },
  {
   "cell_type": "code",
   "execution_count": 90,
   "metadata": {
    "scrolled": true
   },
   "outputs": [
    {
     "data": {
      "text/html": [
       "<div>\n",
       "<style scoped>\n",
       "    .dataframe tbody tr th:only-of-type {\n",
       "        vertical-align: middle;\n",
       "    }\n",
       "\n",
       "    .dataframe tbody tr th {\n",
       "        vertical-align: top;\n",
       "    }\n",
       "\n",
       "    .dataframe thead th {\n",
       "        text-align: right;\n",
       "    }\n",
       "</style>\n",
       "<table border=\"1\" class=\"dataframe\">\n",
       "  <thead>\n",
       "    <tr style=\"text-align: right;\">\n",
       "      <th></th>\n",
       "      <th></th>\n",
       "      <th>hotel</th>\n",
       "    </tr>\n",
       "    <tr>\n",
       "      <th>assigned_room_type</th>\n",
       "      <th>is_canceled</th>\n",
       "      <th></th>\n",
       "    </tr>\n",
       "  </thead>\n",
       "  <tbody>\n",
       "    <tr>\n",
       "      <th rowspan=\"2\" valign=\"top\">A</th>\n",
       "      <th>0</th>\n",
       "      <td>41105</td>\n",
       "    </tr>\n",
       "    <tr>\n",
       "      <th>1</th>\n",
       "      <td>32948</td>\n",
       "    </tr>\n",
       "    <tr>\n",
       "      <th rowspan=\"2\" valign=\"top\">B</th>\n",
       "      <th>0</th>\n",
       "      <td>1651</td>\n",
       "    </tr>\n",
       "    <tr>\n",
       "      <th>1</th>\n",
       "      <td>512</td>\n",
       "    </tr>\n",
       "    <tr>\n",
       "      <th rowspan=\"2\" valign=\"top\">C</th>\n",
       "      <th>0</th>\n",
       "      <td>1929</td>\n",
       "    </tr>\n",
       "    <tr>\n",
       "      <th>1</th>\n",
       "      <td>446</td>\n",
       "    </tr>\n",
       "    <tr>\n",
       "      <th rowspan=\"2\" valign=\"top\">D</th>\n",
       "      <th>0</th>\n",
       "      <td>18960</td>\n",
       "    </tr>\n",
       "    <tr>\n",
       "      <th>1</th>\n",
       "      <td>6362</td>\n",
       "    </tr>\n",
       "    <tr>\n",
       "      <th rowspan=\"2\" valign=\"top\">E</th>\n",
       "      <th>0</th>\n",
       "      <td>5838</td>\n",
       "    </tr>\n",
       "    <tr>\n",
       "      <th>1</th>\n",
       "      <td>1968</td>\n",
       "    </tr>\n",
       "    <tr>\n",
       "      <th rowspan=\"2\" valign=\"top\">F</th>\n",
       "      <th>0</th>\n",
       "      <td>2824</td>\n",
       "    </tr>\n",
       "    <tr>\n",
       "      <th>1</th>\n",
       "      <td>927</td>\n",
       "    </tr>\n",
       "    <tr>\n",
       "      <th rowspan=\"2\" valign=\"top\">G</th>\n",
       "      <th>0</th>\n",
       "      <td>1773</td>\n",
       "    </tr>\n",
       "    <tr>\n",
       "      <th>1</th>\n",
       "      <td>780</td>\n",
       "    </tr>\n",
       "    <tr>\n",
       "      <th rowspan=\"2\" valign=\"top\">H</th>\n",
       "      <th>0</th>\n",
       "      <td>461</td>\n",
       "    </tr>\n",
       "    <tr>\n",
       "      <th>1</th>\n",
       "      <td>251</td>\n",
       "    </tr>\n",
       "    <tr>\n",
       "      <th rowspan=\"2\" valign=\"top\">I</th>\n",
       "      <th>0</th>\n",
       "      <td>358</td>\n",
       "    </tr>\n",
       "    <tr>\n",
       "      <th>1</th>\n",
       "      <td>5</td>\n",
       "    </tr>\n",
       "    <tr>\n",
       "      <th rowspan=\"2\" valign=\"top\">K</th>\n",
       "      <th>0</th>\n",
       "      <td>267</td>\n",
       "    </tr>\n",
       "    <tr>\n",
       "      <th>1</th>\n",
       "      <td>12</td>\n",
       "    </tr>\n",
       "    <tr>\n",
       "      <th>L</th>\n",
       "      <th>1</th>\n",
       "      <td>1</td>\n",
       "    </tr>\n",
       "    <tr>\n",
       "      <th>P</th>\n",
       "      <th>1</th>\n",
       "      <td>12</td>\n",
       "    </tr>\n",
       "  </tbody>\n",
       "</table>\n",
       "</div>"
      ],
      "text/plain": [
       "                                hotel\n",
       "assigned_room_type is_canceled       \n",
       "A                  0            41105\n",
       "                   1            32948\n",
       "B                  0             1651\n",
       "                   1              512\n",
       "C                  0             1929\n",
       "                   1              446\n",
       "D                  0            18960\n",
       "                   1             6362\n",
       "E                  0             5838\n",
       "                   1             1968\n",
       "F                  0             2824\n",
       "                   1              927\n",
       "G                  0             1773\n",
       "                   1              780\n",
       "H                  0              461\n",
       "                   1              251\n",
       "I                  0              358\n",
       "                   1                5\n",
       "K                  0              267\n",
       "                   1               12\n",
       "L                  1                1\n",
       "P                  1               12"
      ]
     },
     "execution_count": 90,
     "metadata": {},
     "output_type": "execute_result"
    }
   ],
   "source": [
    "hotel.groupby(['assigned_room_type','is_canceled']).agg({'hotel':'count'})"
   ]
  },
  {
   "cell_type": "code",
   "execution_count": 98,
   "metadata": {
    "scrolled": true
   },
   "outputs": [
    {
     "name": "stderr",
     "output_type": "stream",
     "text": [
      "/Users/younghun/opt/anaconda3/lib/python3.7/site-packages/ipykernel_launcher.py:10: SettingWithCopyWarning: \n",
      "A value is trying to be set on a copy of a slice from a DataFrame.\n",
      "Try using .loc[row_indexer,col_indexer] = value instead\n",
      "\n",
      "See the caveats in the documentation: https://pandas.pydata.org/pandas-docs/stable/user_guide/indexing.html#returning-a-view-versus-a-copy\n",
      "  # Remove the CWD from sys.path while we load stuff.\n"
     ]
    }
   ],
   "source": [
    "# 이진분류 문제이기 때문에 범주형 변수들을 원-핫 인코딩보다는 레이블 인코딩으로 변환\n",
    "# 회귀분석 문제일 때는 범주형 변수를 레이블 인코딩으로 하면 레이블 간의 순서 차이값들이 예측값에 영향미침 -> 그렇다면 로지스틱회귀분석을 사용하면 안되지 않을까?\n",
    "from sklearn.preprocessing import LabelEncoder\n",
    "\n",
    "category_columns = category_df.columns.tolist()\n",
    "encoders = {}\n",
    "\n",
    "for col in category_columns:\n",
    "    encoder = LabelEncoder()\n",
    "    category_df[col] = encoder.fit_transform(category_df[col])\n",
    "    encoders[col] = encoder"
   ]
  },
  {
   "cell_type": "code",
   "execution_count": 100,
   "metadata": {},
   "outputs": [
    {
     "data": {
      "text/html": [
       "<div>\n",
       "<style scoped>\n",
       "    .dataframe tbody tr th:only-of-type {\n",
       "        vertical-align: middle;\n",
       "    }\n",
       "\n",
       "    .dataframe tbody tr th {\n",
       "        vertical-align: top;\n",
       "    }\n",
       "\n",
       "    .dataframe thead th {\n",
       "        text-align: right;\n",
       "    }\n",
       "</style>\n",
       "<table border=\"1\" class=\"dataframe\">\n",
       "  <thead>\n",
       "    <tr style=\"text-align: right;\">\n",
       "      <th></th>\n",
       "      <th>hotel</th>\n",
       "      <th>meal</th>\n",
       "      <th>market_segment</th>\n",
       "      <th>distribution_channel</th>\n",
       "      <th>reserved_room_type</th>\n",
       "      <th>assigned_room_type</th>\n",
       "      <th>deposit_type</th>\n",
       "      <th>customer_type</th>\n",
       "    </tr>\n",
       "  </thead>\n",
       "  <tbody>\n",
       "    <tr>\n",
       "      <th>0</th>\n",
       "      <td>1</td>\n",
       "      <td>0</td>\n",
       "      <td>3</td>\n",
       "      <td>1</td>\n",
       "      <td>2</td>\n",
       "      <td>2</td>\n",
       "      <td>0</td>\n",
       "      <td>2</td>\n",
       "    </tr>\n",
       "    <tr>\n",
       "      <th>1</th>\n",
       "      <td>1</td>\n",
       "      <td>0</td>\n",
       "      <td>3</td>\n",
       "      <td>1</td>\n",
       "      <td>2</td>\n",
       "      <td>2</td>\n",
       "      <td>0</td>\n",
       "      <td>2</td>\n",
       "    </tr>\n",
       "    <tr>\n",
       "      <th>2</th>\n",
       "      <td>1</td>\n",
       "      <td>0</td>\n",
       "      <td>3</td>\n",
       "      <td>1</td>\n",
       "      <td>0</td>\n",
       "      <td>2</td>\n",
       "      <td>0</td>\n",
       "      <td>2</td>\n",
       "    </tr>\n",
       "    <tr>\n",
       "      <th>3</th>\n",
       "      <td>1</td>\n",
       "      <td>0</td>\n",
       "      <td>2</td>\n",
       "      <td>0</td>\n",
       "      <td>0</td>\n",
       "      <td>0</td>\n",
       "      <td>0</td>\n",
       "      <td>2</td>\n",
       "    </tr>\n",
       "    <tr>\n",
       "      <th>4</th>\n",
       "      <td>1</td>\n",
       "      <td>0</td>\n",
       "      <td>6</td>\n",
       "      <td>3</td>\n",
       "      <td>0</td>\n",
       "      <td>0</td>\n",
       "      <td>0</td>\n",
       "      <td>2</td>\n",
       "    </tr>\n",
       "  </tbody>\n",
       "</table>\n",
       "</div>"
      ],
      "text/plain": [
       "   hotel  meal  market_segment  distribution_channel  reserved_room_type  \\\n",
       "0      1     0               3                     1                   2   \n",
       "1      1     0               3                     1                   2   \n",
       "2      1     0               3                     1                   0   \n",
       "3      1     0               2                     0                   0   \n",
       "4      1     0               6                     3                   0   \n",
       "\n",
       "   assigned_room_type  deposit_type  customer_type  \n",
       "0                   2             0              2  \n",
       "1                   2             0              2  \n",
       "2                   2             0              2  \n",
       "3                   0             0              2  \n",
       "4                   0             0              2  "
      ]
     },
     "execution_count": 100,
     "metadata": {},
     "output_type": "execute_result"
    }
   ],
   "source": [
    "category_df.head()"
   ]
  },
  {
   "cell_type": "markdown",
   "metadata": {},
   "source": [
    "### Numeric Variable encoding"
   ]
  },
  {
   "cell_type": "code",
   "execution_count": 103,
   "metadata": {},
   "outputs": [
    {
     "name": "stderr",
     "output_type": "stream",
     "text": [
      "/Users/younghun/opt/anaconda3/lib/python3.7/site-packages/ipykernel_launcher.py:2: SettingWithCopyWarning: \n",
      "A value is trying to be set on a copy of a slice from a DataFrame.\n",
      "Try using .loc[row_indexer,col_indexer] = value instead\n",
      "\n",
      "See the caveats in the documentation: https://pandas.pydata.org/pandas-docs/stable/user_guide/indexing.html#returning-a-view-versus-a-copy\n",
      "  \n"
     ]
    }
   ],
   "source": [
    "# lead_time에 로그 취해주기\n",
    "numeric_df['lead_time'] = np.log1p(numeric_df['lead_time'])"
   ]
  },
  {
   "cell_type": "code",
   "execution_count": 105,
   "metadata": {},
   "outputs": [
    {
     "data": {
      "text/html": [
       "<div>\n",
       "<style scoped>\n",
       "    .dataframe tbody tr th:only-of-type {\n",
       "        vertical-align: middle;\n",
       "    }\n",
       "\n",
       "    .dataframe tbody tr th {\n",
       "        vertical-align: top;\n",
       "    }\n",
       "\n",
       "    .dataframe thead th {\n",
       "        text-align: right;\n",
       "    }\n",
       "</style>\n",
       "<table border=\"1\" class=\"dataframe\">\n",
       "  <thead>\n",
       "    <tr style=\"text-align: right;\">\n",
       "      <th></th>\n",
       "      <th>is_canceled</th>\n",
       "      <th>lead_time</th>\n",
       "      <th>adults</th>\n",
       "      <th>children</th>\n",
       "      <th>babies</th>\n",
       "      <th>is_repeated_guest</th>\n",
       "      <th>previous_cancellations</th>\n",
       "      <th>previous_bookings_not_canceled</th>\n",
       "      <th>booking_changes</th>\n",
       "      <th>days_in_waiting_list</th>\n",
       "      <th>adr</th>\n",
       "      <th>required_car_parking_spaces</th>\n",
       "      <th>total_of_special_requests</th>\n",
       "    </tr>\n",
       "  </thead>\n",
       "  <tbody>\n",
       "    <tr>\n",
       "      <th>0</th>\n",
       "      <td>0</td>\n",
       "      <td>5.837730</td>\n",
       "      <td>0.0</td>\n",
       "      <td>0.0</td>\n",
       "      <td>0.0</td>\n",
       "      <td>0.0</td>\n",
       "      <td>0.0</td>\n",
       "      <td>0.0</td>\n",
       "      <td>3.0</td>\n",
       "      <td>0.0</td>\n",
       "      <td>-1.667695</td>\n",
       "      <td>0.0</td>\n",
       "      <td>0.0</td>\n",
       "    </tr>\n",
       "    <tr>\n",
       "      <th>1</th>\n",
       "      <td>0</td>\n",
       "      <td>6.603944</td>\n",
       "      <td>0.0</td>\n",
       "      <td>0.0</td>\n",
       "      <td>0.0</td>\n",
       "      <td>0.0</td>\n",
       "      <td>0.0</td>\n",
       "      <td>0.0</td>\n",
       "      <td>4.0</td>\n",
       "      <td>0.0</td>\n",
       "      <td>-1.667695</td>\n",
       "      <td>0.0</td>\n",
       "      <td>0.0</td>\n",
       "    </tr>\n",
       "    <tr>\n",
       "      <th>2</th>\n",
       "      <td>0</td>\n",
       "      <td>2.079442</td>\n",
       "      <td>-1.0</td>\n",
       "      <td>0.0</td>\n",
       "      <td>0.0</td>\n",
       "      <td>0.0</td>\n",
       "      <td>0.0</td>\n",
       "      <td>0.0</td>\n",
       "      <td>0.0</td>\n",
       "      <td>0.0</td>\n",
       "      <td>-0.345177</td>\n",
       "      <td>0.0</td>\n",
       "      <td>0.0</td>\n",
       "    </tr>\n",
       "    <tr>\n",
       "      <th>3</th>\n",
       "      <td>0</td>\n",
       "      <td>2.639057</td>\n",
       "      <td>-1.0</td>\n",
       "      <td>0.0</td>\n",
       "      <td>0.0</td>\n",
       "      <td>0.0</td>\n",
       "      <td>0.0</td>\n",
       "      <td>0.0</td>\n",
       "      <td>0.0</td>\n",
       "      <td>0.0</td>\n",
       "      <td>-0.345177</td>\n",
       "      <td>0.0</td>\n",
       "      <td>0.0</td>\n",
       "    </tr>\n",
       "    <tr>\n",
       "      <th>4</th>\n",
       "      <td>0</td>\n",
       "      <td>2.708050</td>\n",
       "      <td>0.0</td>\n",
       "      <td>0.0</td>\n",
       "      <td>0.0</td>\n",
       "      <td>0.0</td>\n",
       "      <td>0.0</td>\n",
       "      <td>0.0</td>\n",
       "      <td>0.0</td>\n",
       "      <td>0.0</td>\n",
       "      <td>0.060395</td>\n",
       "      <td>0.0</td>\n",
       "      <td>1.0</td>\n",
       "    </tr>\n",
       "  </tbody>\n",
       "</table>\n",
       "</div>"
      ],
      "text/plain": [
       "   is_canceled  lead_time  adults  children  babies  is_repeated_guest  \\\n",
       "0            0   5.837730     0.0       0.0     0.0                0.0   \n",
       "1            0   6.603944     0.0       0.0     0.0                0.0   \n",
       "2            0   2.079442    -1.0       0.0     0.0                0.0   \n",
       "3            0   2.639057    -1.0       0.0     0.0                0.0   \n",
       "4            0   2.708050     0.0       0.0     0.0                0.0   \n",
       "\n",
       "   previous_cancellations  previous_bookings_not_canceled  booking_changes  \\\n",
       "0                     0.0                             0.0              3.0   \n",
       "1                     0.0                             0.0              4.0   \n",
       "2                     0.0                             0.0              0.0   \n",
       "3                     0.0                             0.0              0.0   \n",
       "4                     0.0                             0.0              0.0   \n",
       "\n",
       "   days_in_waiting_list       adr  required_car_parking_spaces  \\\n",
       "0                   0.0 -1.667695                          0.0   \n",
       "1                   0.0 -1.667695                          0.0   \n",
       "2                   0.0 -0.345177                          0.0   \n",
       "3                   0.0 -0.345177                          0.0   \n",
       "4                   0.0  0.060395                          0.0   \n",
       "\n",
       "   total_of_special_requests  \n",
       "0                        0.0  \n",
       "1                        0.0  \n",
       "2                        0.0  \n",
       "3                        0.0  \n",
       "4                        1.0  "
      ]
     },
     "execution_count": 105,
     "metadata": {},
     "output_type": "execute_result"
    }
   ],
   "source": [
    "# is_canceled(종속변수)와 lead_time변수 제외하고 모두 Robust Scaler 적용\n",
    "import warnings\n",
    "warnings.filterwarnings(action='ignore')\n",
    "\n",
    "from sklearn.preprocessing import RobustScaler\n",
    "scaler = RobustScaler()\n",
    "numeric_df.iloc[:,2:] = scaler.fit_transform(numeric_df.iloc[:,2:])\n",
    "numeric_df.head()"
   ]
  },
  {
   "cell_type": "code",
   "execution_count": 106,
   "metadata": {
    "scrolled": true
   },
   "outputs": [],
   "source": [
    "# adr 변수 삭제\n",
    "del numeric_df['adr']"
   ]
  },
  {
   "cell_type": "code",
   "execution_count": 107,
   "metadata": {},
   "outputs": [
    {
     "data": {
      "text/html": [
       "<div>\n",
       "<style scoped>\n",
       "    .dataframe tbody tr th:only-of-type {\n",
       "        vertical-align: middle;\n",
       "    }\n",
       "\n",
       "    .dataframe tbody tr th {\n",
       "        vertical-align: top;\n",
       "    }\n",
       "\n",
       "    .dataframe thead th {\n",
       "        text-align: right;\n",
       "    }\n",
       "</style>\n",
       "<table border=\"1\" class=\"dataframe\">\n",
       "  <thead>\n",
       "    <tr style=\"text-align: right;\">\n",
       "      <th></th>\n",
       "      <th>is_canceled</th>\n",
       "      <th>lead_time</th>\n",
       "      <th>adults</th>\n",
       "      <th>children</th>\n",
       "      <th>babies</th>\n",
       "      <th>is_repeated_guest</th>\n",
       "      <th>previous_cancellations</th>\n",
       "      <th>previous_bookings_not_canceled</th>\n",
       "      <th>booking_changes</th>\n",
       "      <th>days_in_waiting_list</th>\n",
       "      <th>required_car_parking_spaces</th>\n",
       "      <th>total_of_special_requests</th>\n",
       "    </tr>\n",
       "  </thead>\n",
       "  <tbody>\n",
       "    <tr>\n",
       "      <th>0</th>\n",
       "      <td>0</td>\n",
       "      <td>5.837730</td>\n",
       "      <td>0.0</td>\n",
       "      <td>0.0</td>\n",
       "      <td>0.0</td>\n",
       "      <td>0.0</td>\n",
       "      <td>0.0</td>\n",
       "      <td>0.0</td>\n",
       "      <td>3.0</td>\n",
       "      <td>0.0</td>\n",
       "      <td>0.0</td>\n",
       "      <td>0.0</td>\n",
       "    </tr>\n",
       "    <tr>\n",
       "      <th>1</th>\n",
       "      <td>0</td>\n",
       "      <td>6.603944</td>\n",
       "      <td>0.0</td>\n",
       "      <td>0.0</td>\n",
       "      <td>0.0</td>\n",
       "      <td>0.0</td>\n",
       "      <td>0.0</td>\n",
       "      <td>0.0</td>\n",
       "      <td>4.0</td>\n",
       "      <td>0.0</td>\n",
       "      <td>0.0</td>\n",
       "      <td>0.0</td>\n",
       "    </tr>\n",
       "    <tr>\n",
       "      <th>2</th>\n",
       "      <td>0</td>\n",
       "      <td>2.079442</td>\n",
       "      <td>-1.0</td>\n",
       "      <td>0.0</td>\n",
       "      <td>0.0</td>\n",
       "      <td>0.0</td>\n",
       "      <td>0.0</td>\n",
       "      <td>0.0</td>\n",
       "      <td>0.0</td>\n",
       "      <td>0.0</td>\n",
       "      <td>0.0</td>\n",
       "      <td>0.0</td>\n",
       "    </tr>\n",
       "    <tr>\n",
       "      <th>3</th>\n",
       "      <td>0</td>\n",
       "      <td>2.639057</td>\n",
       "      <td>-1.0</td>\n",
       "      <td>0.0</td>\n",
       "      <td>0.0</td>\n",
       "      <td>0.0</td>\n",
       "      <td>0.0</td>\n",
       "      <td>0.0</td>\n",
       "      <td>0.0</td>\n",
       "      <td>0.0</td>\n",
       "      <td>0.0</td>\n",
       "      <td>0.0</td>\n",
       "    </tr>\n",
       "    <tr>\n",
       "      <th>4</th>\n",
       "      <td>0</td>\n",
       "      <td>2.708050</td>\n",
       "      <td>0.0</td>\n",
       "      <td>0.0</td>\n",
       "      <td>0.0</td>\n",
       "      <td>0.0</td>\n",
       "      <td>0.0</td>\n",
       "      <td>0.0</td>\n",
       "      <td>0.0</td>\n",
       "      <td>0.0</td>\n",
       "      <td>0.0</td>\n",
       "      <td>1.0</td>\n",
       "    </tr>\n",
       "  </tbody>\n",
       "</table>\n",
       "</div>"
      ],
      "text/plain": [
       "   is_canceled  lead_time  adults  children  babies  is_repeated_guest  \\\n",
       "0            0   5.837730     0.0       0.0     0.0                0.0   \n",
       "1            0   6.603944     0.0       0.0     0.0                0.0   \n",
       "2            0   2.079442    -1.0       0.0     0.0                0.0   \n",
       "3            0   2.639057    -1.0       0.0     0.0                0.0   \n",
       "4            0   2.708050     0.0       0.0     0.0                0.0   \n",
       "\n",
       "   previous_cancellations  previous_bookings_not_canceled  booking_changes  \\\n",
       "0                     0.0                             0.0              3.0   \n",
       "1                     0.0                             0.0              4.0   \n",
       "2                     0.0                             0.0              0.0   \n",
       "3                     0.0                             0.0              0.0   \n",
       "4                     0.0                             0.0              0.0   \n",
       "\n",
       "   days_in_waiting_list  required_car_parking_spaces  \\\n",
       "0                   0.0                          0.0   \n",
       "1                   0.0                          0.0   \n",
       "2                   0.0                          0.0   \n",
       "3                   0.0                          0.0   \n",
       "4                   0.0                          0.0   \n",
       "\n",
       "   total_of_special_requests  \n",
       "0                        0.0  \n",
       "1                        0.0  \n",
       "2                        0.0  \n",
       "3                        0.0  \n",
       "4                        1.0  "
      ]
     },
     "execution_count": 107,
     "metadata": {},
     "output_type": "execute_result"
    }
   ],
   "source": [
    "numeric_df.head()"
   ]
  },
  {
   "cell_type": "markdown",
   "metadata": {},
   "source": [
    "### merge categorical and numeric variables"
   ]
  },
  {
   "cell_type": "code",
   "execution_count": 109,
   "metadata": {},
   "outputs": [
    {
     "name": "stdout",
     "output_type": "stream",
     "text": [
      "범주형 변수 데이터프레임: (119390, 8)\n",
      "수치형 변수 데이터프레임: (119390, 12)\n"
     ]
    }
   ],
   "source": [
    "print(\"범주형 변수 데이터프레임:\", category_df.shape)\n",
    "print(\"수치형 변수 데이터프레임:\", numeric_df.shape)"
   ]
  },
  {
   "cell_type": "code",
   "execution_count": 111,
   "metadata": {},
   "outputs": [
    {
     "data": {
      "text/plain": [
       "(119390, 20)"
      ]
     },
     "execution_count": 111,
     "metadata": {},
     "output_type": "execute_result"
    }
   ],
   "source": [
    "final_data = pd.concat([category_df, numeric_df], axis=1)\n",
    "final_data.shape"
   ]
  },
  {
   "cell_type": "markdown",
   "metadata": {},
   "source": [
    "## Modeling\n",
    "\n",
    "- 많은 범주형 변수의 레이블 인코딩으로 회귀식을 가정한 머신러닝 모델 사용은 지양\n",
    "- 이진분류 문제\n",
    "    * SVM\n",
    "    * Ensemble\n",
    "    * ANN"
   ]
  },
  {
   "cell_type": "markdown",
   "metadata": {},
   "source": [
    "### Ensemble\n",
    "- RandomForest\n",
    "- Light GBM\n",
    "- 또?"
   ]
  },
  {
   "cell_type": "code",
   "execution_count": null,
   "metadata": {},
   "outputs": [],
   "source": []
  }
 ],
 "metadata": {
  "hide_input": false,
  "kernelspec": {
   "display_name": "Python 3",
   "language": "python",
   "name": "python3"
  },
  "language_info": {
   "codemirror_mode": {
    "name": "ipython",
    "version": 3
   },
   "file_extension": ".py",
   "mimetype": "text/x-python",
   "name": "python",
   "nbconvert_exporter": "python",
   "pygments_lexer": "ipython3",
   "version": "3.7.6"
  },
  "toc": {
   "base_numbering": 1,
   "nav_menu": {},
   "number_sections": true,
   "sideBar": true,
   "skip_h1_title": false,
   "title_cell": "Table of Contents",
   "title_sidebar": "Contents",
   "toc_cell": false,
   "toc_position": {},
   "toc_section_display": true,
   "toc_window_display": false
  },
  "varInspector": {
   "cols": {
    "lenName": 16,
    "lenType": 16,
    "lenVar": 40
   },
   "kernels_config": {
    "python": {
     "delete_cmd_postfix": "",
     "delete_cmd_prefix": "del ",
     "library": "var_list.py",
     "varRefreshCmd": "print(var_dic_list())"
    },
    "r": {
     "delete_cmd_postfix": ") ",
     "delete_cmd_prefix": "rm(",
     "library": "var_list.r",
     "varRefreshCmd": "cat(var_dic_list()) "
    }
   },
   "types_to_exclude": [
    "module",
    "function",
    "builtin_function_or_method",
    "instance",
    "_Feature"
   ],
   "window_display": false
  }
 },
 "nbformat": 4,
 "nbformat_minor": 4
}

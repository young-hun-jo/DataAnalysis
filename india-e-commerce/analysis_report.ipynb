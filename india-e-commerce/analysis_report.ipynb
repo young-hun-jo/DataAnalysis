{
 "cells": [
  {
   "cell_type": "markdown",
   "metadata": {},
   "source": [
    "**지금부터 작성된 보고서의 배경과 내용은 나만의 데이터분석을 진행하기 위해 임의적으로 설정된 상황이며 분석 내용은 Kaggle의 E-commerce 데이터로 직접 분석한 내용.**\n",
    "\n",
    "**데이터 분석을 진행한 후 분석 내용과 데이터로부터 얻은 인사이트를 리포팅하는 보고서임.**"
   ]
  },
  {
   "cell_type": "markdown",
   "metadata": {},
   "source": [
    "# 도입 단계\n",
    "\n",
    "## 배경\n",
    "\n",
    "- 현재 인도(India)의 한 E-commerce 기업의 데이터 부서에서 근무\n",
    "- 영업팀 요청으로 최근 2년간 품목별 매출 목표의 달성 여부를 조사 후 품목들의 매출 상태 정보 파악\n",
    "\n",
    "## 목적\n",
    "\n",
    "- 매출 목표를 달성하지 못하는 품목들의 판매전략 수립 필요\n",
    "- 매출 목표를 달성한 품목들의 추가적인 활성화 전략 수립 \n",
    "\n",
    "## 목차\n",
    "\n",
    "- 사용한 데이터들에 대한 간단한 탐색\n",
    "- 매출 목표를 달성한 품목 소개\n",
    "- 매출 목표를 달성한 품목들의 sub-category 소개\n",
    "- 시사점 및 개선안\n"
   ]
  },
  {
   "cell_type": "markdown",
   "metadata": {},
   "source": [
    "# 본론 단계\n",
    "\n",
    "## 사용한 데이터들에 대한 간단한 탐색\n",
    "\n",
    "- 사용한 데이터\n",
    "\n",
    "    * 주문과 해당 주문한 고객들에 대한 개인정보\n",
    "        * 이름과 거주지역만 표시\n",
    "        \n",
    "    * 각 주문에 대한 금액과 품목, 세부품목에 대한 정보\n",
    "    \n",
    "    * 품목에 대한 주문날짜와 년도-월별 목표매출 정보\n",
    "    \n",
    "    * 데이터출처: <a herf='https://www.kaggle.com/benroshan/ecommerce-data'>India e-commerce data</a>\n",
    "    \n",
    "## 매출 목표를 달성한 품목 소개\n",
    "\n",
    "- 목표 달성 품목\n",
    "    * Electronics(전자제품)\n",
    "        - 2018년 8월\n",
    "        - 2018년 10월\n",
    "        - 2018년 12월\n",
    "        - 2019년 1월\n",
    "        \n",
    "    * Furniture(가구제품)\n",
    "        - 2018년 8월\n",
    "        - 2018년 11월\n",
    "        - 2019년 1월\n",
    "\n",
    "- 목표 달성 못한 품목\n",
    "    * Clothing(의류)\n",
    "        - 이상한 점은 전제 품목 중 의류의 주문비율이 압도적으로 높았지만 **의류의 목표별 매출과 비교해보았을 때 한 번도 목표 수치를 넘어선 적이 없었음.** 이에 따라 의류에 대한 추가적인 판매전략을 수립하거나 웹사이트에서 의류를 구매하는 사람들이 어디서 이탈을 하는지 행동 로그를 추적해보는 등 UI에서 어떤 일이 발생하는지 파악해봐야 할 듯 하다.\n",
    "        \n",
    "## 매출 목표를 달성한 Sub-category 소개\n",
    "\n",
    "- Electronics(전자제품)에서 가장 많이 판매된 Sub-category 품목\n",
    "    * **Electronic Games(전자제품을 사용하여 플레이하는 게임)**\n",
    "        - 하지만 sub-품목별 판매건수 간격이 1~4개 차이임\n",
    "        \n",
    "        \n",
    "- Furniture(가구)에서 가장 많이 판매된 Sub-category 품목\n",
    "    * **Bookcases(책장)**\n",
    "        - 가구제품의 Sub-품목들 중 책장이 가장 많은 비율 약 42%를 차지\n",
    "        "
   ]
  },
  {
   "cell_type": "markdown",
   "metadata": {},
   "source": [
    "# 결론 단계\n",
    "\n",
    "## 시사점 및 개선안\n",
    "\n",
    "- 매출 중 대부분을 차지하는 Clothing(의류)의 매출 목표 달성이 부진한 이유를 파악하는 것이 가장 시급\n",
    "\n",
    "\n",
    "- 상대적으로 매출이 부진할거라고 예상됬던 Electronics(전자제품)이나 Furniture(가구) 품목들에 대한 추가적인 마케팅 전략 수립 필요\n",
    "\n",
    "## 분석 한계점\n",
    "\n",
    "- 우선적으로 행동 log에 대한 데이터가 없어 Clothing의 판매 부진의 원인이 무엇인지 파악 불가능\n",
    "\n",
    "- Electronic이나 Furniture의 매출 목표를 달성했을 때만의 특성을 발견하려고 했지만 데이터 부족으로 인해 한계. 단순히 지역적인 정보만 얻을 뿐. 하지만 지역적인 정보는 총 매출이 많은 순위의 지역과 동일하여 별다른 인사이트 도출 불가."
   ]
  },
  {
   "cell_type": "code",
   "execution_count": null,
   "metadata": {},
   "outputs": [],
   "source": []
  }
 ],
 "metadata": {
  "hide_input": false,
  "kernelspec": {
   "display_name": "Python 3",
   "language": "python",
   "name": "python3"
  },
  "language_info": {
   "codemirror_mode": {
    "name": "ipython",
    "version": 3
   },
   "file_extension": ".py",
   "mimetype": "text/x-python",
   "name": "python",
   "nbconvert_exporter": "python",
   "pygments_lexer": "ipython3",
   "version": "3.7.7"
  },
  "toc": {
   "base_numbering": 1,
   "nav_menu": {},
   "number_sections": true,
   "sideBar": true,
   "skip_h1_title": false,
   "title_cell": "Table of Contents",
   "title_sidebar": "Contents",
   "toc_cell": false,
   "toc_position": {},
   "toc_section_display": true,
   "toc_window_display": false
  },
  "varInspector": {
   "cols": {
    "lenName": 16,
    "lenType": 16,
    "lenVar": 40
   },
   "kernels_config": {
    "python": {
     "delete_cmd_postfix": "",
     "delete_cmd_prefix": "del ",
     "library": "var_list.py",
     "varRefreshCmd": "print(var_dic_list())"
    },
    "r": {
     "delete_cmd_postfix": ") ",
     "delete_cmd_prefix": "rm(",
     "library": "var_list.r",
     "varRefreshCmd": "cat(var_dic_list()) "
    }
   },
   "types_to_exclude": [
    "module",
    "function",
    "builtin_function_or_method",
    "instance",
    "_Feature"
   ],
   "window_display": false
  }
 },
 "nbformat": 4,
 "nbformat_minor": 4
}

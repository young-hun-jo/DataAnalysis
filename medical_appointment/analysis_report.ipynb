{
 "cells": [
  {
   "cell_type": "markdown",
   "metadata": {},
   "source": [
    "**지금부터 작성된 보고서의 배경과 내용은 나만의 데이터분석을 진행하기 위해 임의적으로 설정된 상황이며 분석 내용은 <a href='https://www.kaggle.com/joniarroba/noshowappointments'>Kaggle의 Medical Appointment 데이터</a>로 직접 분석한 내용.**\n",
    "\n",
    "**데이터 분석을 진행한 후 분석 내용과 데이터로부터 얻은 인사이트를 리포팅하는 보고서임.**"
   ]
  },
  {
   "cell_type": "markdown",
   "metadata": {},
   "source": [
    "# 도입 단계\n",
    "\n",
    "## 배경\n",
    "- 'A'병원을 방문하는 환자들의 30%가 향후 진료를 위해 방문하지 않는다는 문제 발생\n",
    "- 'A'라는 병원과 제휴를 맺은 IT 솔루션 기반 헬스케어 기업은 A병원으로부터 환자들의 높은 진료 이탈율의 원인이 무엇인지 데이터를 통해 인사이트 도출 요청\n",
    "\n",
    "\n",
    "## 목적\n",
    "- 진료 이탈 여부를 나타내는 ``No-show`` 지표를 기준으로 체크\n",
    "- 진료 이탈을 하는 환자들의 연령, 질병 특성 파악 위함\n",
    "- **이탈율 가능성이 높을 것 같은 환자들의 특성을 파악해 환자가 향후 진료예약을 등록한 날로부터 푸쉬 알림을 보내 향후 진료 참여를 유도하는 전략으로 이어지도록 하기 위함.**\n",
    "\n",
    "\n",
    "## 목차\n",
    "- 성별에 따른 향후 진료 이탈율 파악\n",
    "- 향후 진료예약 등록일과 방문일 간의 시간 차이와 진료 이탈율 관계 파악\n",
    "- SMS 푸쉬 알람 수신 여부와 진료 이탈율 관계 파악\n",
    "- 시사점 및 개선안\n"
   ]
  },
  {
   "cell_type": "markdown",
   "metadata": {},
   "source": [
    "# 본론 단계\n",
    "\n",
    "## 성별에 따른 향후 진료 이탈율 파악\n",
    "\n",
    "- 성별에 따른 전체 예약건수를 고려하여 비율로 계산\n",
    "- 결과적으로 **성별에 따른 진료 이탈율 차이가 없음. 비율이 거의 동일.(통계적으로 유의하지 않음)**\n",
    "\n",
    "## 향후 진료예약 등록일과 방문일 간의 시간차이에 따른 진료 이탈율 관계 파악\n",
    "\n",
    "- '향후 진료 방문일' - '향후 진료 등록일'의 시간차이를 구하여 파생변수 생성\n",
    "- 결과적으로 **시간차이가 클수록 진료 이탈율 가능성이 높았음.**\n",
    "\n",
    "\n",
    "\n",
    "## SMS 푸쉬 알림 수신 여부와 진료 이탈율 관계 파악\n",
    "\n",
    "- SMS 수신 여부 label에 따른 총 개수를 고려해 비율로 계산\n",
    "- SMS 수신 여부에 따른 진료 이탈율 간의 상관관계 분석\n",
    "- 결과적으로 **SMS 수신 여부와 진료 이탈율 간의 상관관계가 없음으로 드러남.**"
   ]
  },
  {
   "cell_type": "markdown",
   "metadata": {},
   "source": [
    "# 결론 단계\n",
    "\n",
    "## 시사점 및 개선안\n",
    "\n",
    "- 진료등록일로부터 진료방문날의 시간차이를 길게 진료예약을 하는 사람들을 잠재적인 진료 이탈 고객으로 분류해야 함\n",
    "- 진료 이탈을 막기 위해서 SMS 푸쉬알림을 사용할 수 있겠지만 2.3번째 가설에서 SMS 송신이 진료 이탈율을 개선하는 데 별다른 효과를 보이지 않는 것 같으므로 SMS 푸쉬 알림 대안을 제외한 다른 대안 탐색 필요\n",
    "\n",
    "\n",
    "## 분석 한계점\n",
    "\n",
    "- SMS 수신과 진료 이탈율 간의 자세한 분석을 시도하고 싶지만 SMS 수신 **횟수**가 아닌 단순한 수신 여부(binary)라서 상관관계 분석에 한계가 존재"
   ]
  }
 ],
 "metadata": {
  "hide_input": false,
  "kernelspec": {
   "display_name": "Python 3",
   "language": "python",
   "name": "python3"
  },
  "language_info": {
   "codemirror_mode": {
    "name": "ipython",
    "version": 3
   },
   "file_extension": ".py",
   "mimetype": "text/x-python",
   "name": "python",
   "nbconvert_exporter": "python",
   "pygments_lexer": "ipython3",
   "version": "3.7.7"
  },
  "toc": {
   "base_numbering": 1,
   "nav_menu": {},
   "number_sections": true,
   "sideBar": true,
   "skip_h1_title": false,
   "title_cell": "Table of Contents",
   "title_sidebar": "Contents",
   "toc_cell": false,
   "toc_position": {},
   "toc_section_display": true,
   "toc_window_display": false
  },
  "varInspector": {
   "cols": {
    "lenName": 16,
    "lenType": 16,
    "lenVar": 40
   },
   "kernels_config": {
    "python": {
     "delete_cmd_postfix": "",
     "delete_cmd_prefix": "del ",
     "library": "var_list.py",
     "varRefreshCmd": "print(var_dic_list())"
    },
    "r": {
     "delete_cmd_postfix": ") ",
     "delete_cmd_prefix": "rm(",
     "library": "var_list.r",
     "varRefreshCmd": "cat(var_dic_list()) "
    }
   },
   "types_to_exclude": [
    "module",
    "function",
    "builtin_function_or_method",
    "instance",
    "_Feature"
   ],
   "window_display": false
  }
 },
 "nbformat": 4,
 "nbformat_minor": 4
}

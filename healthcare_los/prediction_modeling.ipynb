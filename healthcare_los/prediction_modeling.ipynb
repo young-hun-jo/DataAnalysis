{
 "cells": [
  {
   "cell_type": "markdown",
   "metadata": {},
   "source": [
    "# Prediction Modeling\n",
    "- 데이터 분석 결과를 기반으로 예측 모델링 실시\n",
    "- 다중 분류(Multi-class classification) 문제\n",
    "\n",
    "## 배경\n",
    "\n",
    "- 코로나 바이러스(Covid19)로 인해 수많은 입원환자가 발생하여 여러 병원들의 병상 부족 문제 발생\n",
    "\n",
    "## 목적\n",
    "\n",
    "- 환자의 여러가지 특성 데이터를 기반으로 입원 환자 개개인의 예상 재원일수를 예측하여 해당 환자에게 최적화된 치료법을 수행하고 의료진과 병원 방문객들의 집단 감염을 막기 위함\n",
    "\n",
    "## 가설\n",
    "\n",
    "- 환자기 입원한 병원의 유형, 입원 환자의 질환 종류, 병실 유형, 병실 시설 유형, 환자동반 방문객 수, 총 5개의 변수가 재원일수에 영향을 미칠 것으로 판단\n",
    "    * 특히 ``환자 동반 방문객 수는 재원일수와 0.5 라는 양의 상관계수``를 보임"
   ]
  },
  {
   "cell_type": "markdown",
   "metadata": {},
   "source": [
    "## 데이터 로드"
   ]
  },
  {
   "cell_type": "code",
   "execution_count": 52,
   "metadata": {},
   "outputs": [
    {
     "name": "stdout",
     "output_type": "stream",
     "text": [
      "Train shape:  (318438, 18)\n",
      "Test shape:  (137057, 17)\n"
     ]
    }
   ],
   "source": [
    "import pandas as pd\n",
    "import numpy as np\n",
    "import os\n",
    "os.chdir('/Users/younghun/Desktop/gitrepo/data/healthcare')\n",
    "train = pd.read_csv('train_data.csv')\n",
    "test = pd.read_csv('test_data.csv')\n",
    "print(\"Train shape: \", train.shape)\n",
    "print(\"Test shape: \", test.shape)"
   ]
  },
  {
   "cell_type": "code",
   "execution_count": 53,
   "metadata": {},
   "outputs": [
    {
     "data": {
      "text/plain": [
       "0"
      ]
     },
     "execution_count": 53,
     "metadata": {},
     "output_type": "execute_result"
    }
   ],
   "source": [
    "# 중복 데이터 존재 여부 확인 -> 중복 데이터는 없음\n",
    "train.duplicated().sum()"
   ]
  },
  {
   "cell_type": "markdown",
   "metadata": {},
   "source": [
    "## 종속변수에 대한 이해\n",
    "\n",
    "- 종속변수 : Stay(재원일수)\n",
    "    * 범주형 변수(범위화 되어 있음)\n",
    "    * 클래스 개수 : 11개\n",
    "    * 종속변수 분포 : 클래스 불균형 존재"
   ]
  },
  {
   "cell_type": "code",
   "execution_count": 54,
   "metadata": {},
   "outputs": [
    {
     "name": "stdout",
     "output_type": "stream",
     "text": [
      "# 종속변수 Level 개수:  11 \n",
      "\n",
      "# 종속변수 Level 종류:  ['0-10' '41-50' '31-40' '11-20' '51-60' '21-30' '71-80'\n",
      " 'More than 100 Days' '81-90' '61-70' '91-100'] \n",
      "\n",
      "# 종속변수 Level 개수 분포\n",
      " 21-30                 87491\n",
      "11-20                 78139\n",
      "31-40                 55159\n",
      "51-60                 35018\n",
      "0-10                  23604\n",
      "41-50                 11743\n",
      "71-80                 10254\n",
      "More than 100 Days     6683\n",
      "81-90                  4838\n",
      "91-100                 2765\n",
      "61-70                  2744\n",
      "Name: Stay, dtype: int64\n"
     ]
    }
   ],
   "source": [
    "# 종속변수에 대한 간단한 탐색\n",
    "print(\"# 종속변수 Level 개수: \", train['Stay'].nunique(),'\\n')\n",
    "print(\"# 종속변수 Level 종류: \", train['Stay'].unique(),'\\n')\n",
    "print(\"# 종속변수 Level 개수 분포\\n\", train['Stay'].value_counts())"
   ]
  },
  {
   "cell_type": "code",
   "execution_count": 55,
   "metadata": {},
   "outputs": [
    {
     "data": {
      "image/png": "[encoded data removed]",
      "text/plain": [
       "<Figure size 432x432 with 1 Axes>"
      ]
     },
     "metadata": {
      "needs_background": "light"
     },
     "output_type": "display_data"
    }
   ],
   "source": [
    "# 클래스 분포 비율로 나타낸 후 시각화\n",
    "import matplotlib.pyplot as plt\n",
    "plt.rc('font', family='AppleGothic')\n",
    "plt.figure(figsize=(6,6))\n",
    "\n",
    "class_ratio = np.round((train['Stay'].value_counts() / train['Stay'].value_counts().values.sum()) * 100, 2)\n",
    "class_ratio.plot.barh()\n",
    "plt.title(\"클래스 분포 비율\", fontsize=20)\n",
    "plt.xlabel(\"비율(%)\", fontsize=15)\n",
    "plt.ylabel(\"클래스 종류\", fontsize=15)\n",
    "plt.show()"
   ]
  },
  {
   "cell_type": "markdown",
   "metadata": {},
   "source": [
    "**클래스 불균형 해결 방법**\n",
    "\n",
    "- ``언더샘플링``\n",
    "    - 언더 샘플링으로 데이터 개수를 줄이기에는 원본 데이터가 많은 편이 아니기 떄문에 부적절로 판단<br><br>\n",
    "\n",
    "- ``오버샘플링``\n",
    "    - 클래스 불균형이 심한 상태로 오버 샘플링을 해주어야 한다.(단 Train데이터에서만)\n",
    "    - 그리고 오버 샘플링을 수행한 후 교차검증을 수행해주어야 한다.\n",
    "        * 왜냐하면 클래스 불균형 상태에서 모델이 학습한 후 도출되는 높은 성능은 어떤 데이터가 들어올지 모르는 테스트 데이터에서 **과대적합 문제**가 발생할 수 있기 때문이다. 따라서 최대한 ``어떤 데이터가 들어왔을 때도 잘 예측할 수 있도록 학습하기 위해 클래스 불균형을 해소한 후 교차검증을 적용``시켜야 한다.\n",
    "<br><br>   \n",
    "- ``Cost-sensitive Learning``\n",
    "    - 학습 시 ``클래스 개수가 적은 데이터쪽으로 편향되어 학습``하도록 하는 방법\n",
    "    - 클래스 개수에 따라 자동으로 balanced인자 넣어주어서 가중치 부여\n",
    "    - 클래스 개수에 따른 weight를 직접 커스터마이징해서 부여"
   ]
  },
  {
   "cell_type": "markdown",
   "metadata": {},
   "source": [
    "## 독립변수에 대한 이해\n",
    "\n",
    "- 수치형 변수, 범주형 변수 구분\n",
    "- 독립변수로부터 파생변수 생성"
   ]
  },
  {
   "cell_type": "code",
   "execution_count": 56,
   "metadata": {},
   "outputs": [
    {
     "name": "stdout",
     "output_type": "stream",
     "text": [
      "# 수치형 변수 : ['Available Extra Rooms in Hospital', 'Visitors with Patient', 'Admission_Deposit'] \n",
      "\n",
      "# 범주형 변수 :\n",
      " ['case_id', 'Hospital_code', 'Hospital_type_code', 'City_Code_Hospital', 'Hospital_region_code', 'Department', 'Ward_Type', 'Ward_Facility_Code', 'Bed Grade', 'patientid', 'City_Code_Patient', 'Type of Admission', 'Severity of Illness', 'Age']\n"
     ]
    }
   ],
   "source": [
    "# 수치형 변수, 범주형 변수 구분\n",
    "num_cols = ['Available Extra Rooms in Hospital','Visitors with Patient','Admission_Deposit']\n",
    "num_df = train[num_cols]\n",
    "cate_df = train.drop(num_cols, axis=1)\n",
    "category_cols = cate_df.columns.tolist()\n",
    "category_cols.remove('Stay')\n",
    "\n",
    "print(\"# 수치형 변수 :\", num_df.columns.tolist(),'\\n')\n",
    "print(\"# 범주형 변수 :\\n\", category_cols)"
   ]
  },
  {
   "cell_type": "markdown",
   "metadata": {},
   "source": [
    "### 수치형 변수\n",
    "\n",
    "- 데이터 분석 결과를 기반으로 하여<br><br>\n",
    "    * Available Extra Rooms in Hospital(여분 병실수)\n",
    "        - 해당 변수는 종속변수와 관계가 없는 것으로 도출\n",
    "        - 따라서 **변수 삭제 또는 파생변수 생성**에 이용<br><br>\n",
    "    * Visitors with Patient(환자 동반 방문객 수)\n",
    "        - 해당 변수는 종속변수와 양의 상관관계를 보이며 깊은 관계가 있는 것으로 도출\n",
    "        - 따라서 **이상치 관찰 후 스케일링 적용 여부 판단 후 변수 그대로 사용**<br><br>\n",
    "    * Admission_Deposit(입원 보증금)\n",
    "        - 해당 변수는 종속변수와 관계가 없는 것으로 도출\n",
    "        - 따라서 **변수 삭제 또는 파생변수 생성**에 이용"
   ]
  },
  {
   "cell_type": "code",
   "execution_count": 91,
   "metadata": {},
   "outputs": [
    {
     "data": {
      "image/png": "[encoded data removed]",
      "text/plain": [
       "<Figure size 480x480 with 2 Axes>"
      ]
     },
     "metadata": {
      "needs_background": "light"
     },
     "output_type": "display_data"
    }
   ],
   "source": [
    "# 여분 병실수 변수 분포(countplot & distplot)\n",
    "fig, axes = plt.subplots(figsize=(6,6), ncols=1, nrows=2, dpi=80)\n",
    "plt.tight_layout()\n",
    "plt.subplots_adjust(hspace=0.6)\n",
    "sns.countplot(x=num_df['Available Extra Rooms in Hospital'], ax=axes[0])\n",
    "sns.distplot(num_df['Available Extra Rooms in Hospital'], ax=axes[1])\n",
    "\n",
    "axes[0].set_title(\"여분 병실 개수 빈도 분포\", fontsize=20)\n",
    "axes[0].set_xlabel(\"여분 병실 개수\", fontsize=16)\n",
    "axes[0].set_ylabel(\"빈도수\", fontsize=16)\n",
    "axes[1].set_title(\"여분 병실 개수 빈도 Distplot\", fontsize=20)\n",
    "axes[1].set_xlabel(\"여분 병실 개수\", fontsize=16)\n",
    "axes[1].set_ylabel(\"빈도\", fontsize=16)\n",
    "plt.show()"
   ]
  },
  {
   "cell_type": "markdown",
   "metadata": {},
   "source": [
    "- 정규분포 형태를 띄진 않음\n",
    "- 종속변수와 관계가 없는 변수이기 떄문에 정규분포화 시켜줄 필요까진 없음"
   ]
  },
  {
   "cell_type": "code",
   "execution_count": null,
   "metadata": {},
   "outputs": [],
   "source": [
    "# 환자 동반 방문객 수(countplot, distplot)\n",
    "num_df['Available Extra Rooms in Hospital'].plot.bar()"
   ]
  },
  {
   "cell_type": "code",
   "execution_count": null,
   "metadata": {},
   "outputs": [],
   "source": []
  }
 ],
 "metadata": {
  "hide_input": false,
  "kernelspec": {
   "display_name": "Python 3",
   "language": "python",
   "name": "python3"
  },
  "language_info": {
   "codemirror_mode": {
    "name": "ipython",
    "version": 3
   },
   "file_extension": ".py",
   "mimetype": "text/x-python",
   "name": "python",
   "nbconvert_exporter": "python",
   "pygments_lexer": "ipython3",
   "version": "3.7.7"
  },
  "toc": {
   "base_numbering": 1,
   "nav_menu": {},
   "number_sections": true,
   "sideBar": true,
   "skip_h1_title": false,
   "title_cell": "Table of Contents",
   "title_sidebar": "Contents",
   "toc_cell": false,
   "toc_position": {},
   "toc_section_display": true,
   "toc_window_display": false
  },
  "varInspector": {
   "cols": {
    "lenName": 16,
    "lenType": 16,
    "lenVar": 40
   },
   "kernels_config": {
    "python": {
     "delete_cmd_postfix": "",
     "delete_cmd_prefix": "del ",
     "library": "var_list.py",
     "varRefreshCmd": "print(var_dic_list())"
    },
    "r": {
     "delete_cmd_postfix": ") ",
     "delete_cmd_prefix": "rm(",
     "library": "var_list.r",
     "varRefreshCmd": "cat(var_dic_list()) "
    }
   },
   "types_to_exclude": [
    "module",
    "function",
    "builtin_function_or_method",
    "instance",
    "_Feature"
   ],
   "window_display": false
  }
 },
 "nbformat": 4,
 "nbformat_minor": 4
}

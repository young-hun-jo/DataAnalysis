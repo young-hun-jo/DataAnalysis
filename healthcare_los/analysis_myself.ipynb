{
 "cells": [
  {
   "cell_type": "markdown",
   "metadata": {},
   "source": [
    "# Healthcare analysis\n",
    "\n",
    "- **``문제 정의`` : 입원하는 환자들의 개인의 특성을 기반으로 해 해당 입원한자의 재원일수(LOS = Length Of Stay) 기간을 예측**\n",
    "- **``문제 필요성`` : Covid-19 때문에 많은 입원환자 발생으로 인해 병상회전율을 최적화해야 함. 또한 개인 환자의 재원일수 기간을 예측함으로써 해당 환자에게 최적화된 치료법과 의료진과 병원 방문객들의 집단 감염을 막기 위함**"
   ]
  },
  {
   "cell_type": "markdown",
   "metadata": {},
   "source": [
    "- 데이터 출처 : <a href='https://www.kaggle.com/nehaprabhavalkar/av-healthcare-analytics-ii?'>Kaggle Healthcare analytics</a>\n",
    "- 데이터 구성\n",
    "    * train_data.csv\n",
    "        - 환자, 병원관련 독립변수와 종속변수인 재원일수 포함\n",
    "    * test_data.csv\n",
    "        - 환자, 병원관련 독립변수만 포함\n",
    "    * train_data_dictionary.csv\n",
    "        - 환자, 병원관련 독립변수에 대한 설명"
   ]
  },
  {
   "cell_type": "markdown",
   "metadata": {},
   "source": [
    "## 데이터 로드"
   ]
  },
  {
   "cell_type": "code",
   "execution_count": 4,
   "metadata": {},
   "outputs": [],
   "source": [
    "import os\n",
    "os.chdir('/Users/younghun/Desktop/gitrepo/data/healthcare')"
   ]
  },
  {
   "cell_type": "code",
   "execution_count": 6,
   "metadata": {},
   "outputs": [
    {
     "name": "stdout",
     "output_type": "stream",
     "text": [
      "Train 데이터:  (318438, 18)\n",
      "Test 데이터:  (137057, 17)\n",
      "Feature Description 데이터:  (18, 2)\n"
     ]
    }
   ],
   "source": [
    "import pandas as pd\n",
    "import numpy as np\n",
    "\n",
    "train = pd.read_csv('train_data.csv')\n",
    "test = pd.read_csv('test_data.csv')\n",
    "description = pd.read_csv('train_data_dictionary.csv')\n",
    "\n",
    "# 각 데이터 shape\n",
    "print(\"Train 데이터: \", train.shape)\n",
    "print(\"Test 데이터: \", test.shape)\n",
    "print(\"Feature Description 데이터: \", description.shape)"
   ]
  },
  {
   "cell_type": "code",
   "execution_count": 7,
   "metadata": {},
   "outputs": [
    {
     "data": {
      "text/plain": [
       "Index(['case_id', 'Hospital_code', 'Hospital_type_code', 'City_Code_Hospital',\n",
       "       'Hospital_region_code', 'Available Extra Rooms in Hospital',\n",
       "       'Department', 'Ward_Type', 'Ward_Facility_Code', 'Bed Grade',\n",
       "       'patientid', 'City_Code_Patient', 'Type of Admission',\n",
       "       'Severity of Illness', 'Visitors with Patient', 'Age',\n",
       "       'Admission_Deposit', 'Stay'],\n",
       "      dtype='object')"
      ]
     },
     "execution_count": 7,
     "metadata": {},
     "output_type": "execute_result"
    }
   ],
   "source": [
    "# 독립변수들 살펴보기\n",
    "train.columns"
   ]
  },
  {
   "cell_type": "markdown",
   "metadata": {},
   "source": [
    "## 독립변수에 대한 설명"
   ]
  },
  {
   "cell_type": "code",
   "execution_count": 36,
   "metadata": {},
   "outputs": [
    {
     "data": {
      "text/html": [
       "<div>\n",
       "<style scoped>\n",
       "    .dataframe tbody tr th:only-of-type {\n",
       "        vertical-align: middle;\n",
       "    }\n",
       "\n",
       "    .dataframe tbody tr th {\n",
       "        vertical-align: top;\n",
       "    }\n",
       "\n",
       "    .dataframe thead th {\n",
       "        text-align: right;\n",
       "    }\n",
       "</style>\n",
       "<table border=\"1\" class=\"dataframe\">\n",
       "  <thead>\n",
       "    <tr style=\"text-align: right;\">\n",
       "      <th></th>\n",
       "      <th>Column</th>\n",
       "      <th>Description</th>\n",
       "    </tr>\n",
       "  </thead>\n",
       "  <tbody>\n",
       "    <tr>\n",
       "      <th>0</th>\n",
       "      <td>case_id</td>\n",
       "      <td>Case_ID registered in Hospital</td>\n",
       "    </tr>\n",
       "    <tr>\n",
       "      <th>1</th>\n",
       "      <td>Hospital_code</td>\n",
       "      <td>Unique code for the Hospital</td>\n",
       "    </tr>\n",
       "    <tr>\n",
       "      <th>2</th>\n",
       "      <td>Hospital_type_code</td>\n",
       "      <td>Unique code for the type of Hospital</td>\n",
       "    </tr>\n",
       "    <tr>\n",
       "      <th>3</th>\n",
       "      <td>City_Code_Hospital</td>\n",
       "      <td>City Code of the Hospital</td>\n",
       "    </tr>\n",
       "    <tr>\n",
       "      <th>4</th>\n",
       "      <td>Hospital_region_code</td>\n",
       "      <td>Region Code of the Hospital</td>\n",
       "    </tr>\n",
       "    <tr>\n",
       "      <th>5</th>\n",
       "      <td>Available Extra Rooms in Hospital</td>\n",
       "      <td>Number of Extra rooms available in the Hospital</td>\n",
       "    </tr>\n",
       "    <tr>\n",
       "      <th>6</th>\n",
       "      <td>Department</td>\n",
       "      <td>Department overlooking the case</td>\n",
       "    </tr>\n",
       "    <tr>\n",
       "      <th>7</th>\n",
       "      <td>Ward_Type</td>\n",
       "      <td>Code for the Ward type</td>\n",
       "    </tr>\n",
       "    <tr>\n",
       "      <th>8</th>\n",
       "      <td>Ward_Facility_Code</td>\n",
       "      <td>Code for the Ward Facility</td>\n",
       "    </tr>\n",
       "    <tr>\n",
       "      <th>9</th>\n",
       "      <td>Bed Grade</td>\n",
       "      <td>Condition of Bed in the Ward</td>\n",
       "    </tr>\n",
       "    <tr>\n",
       "      <th>10</th>\n",
       "      <td>patientid</td>\n",
       "      <td>Unique Patient Id</td>\n",
       "    </tr>\n",
       "    <tr>\n",
       "      <th>11</th>\n",
       "      <td>City_Code_Patient</td>\n",
       "      <td>City Code for the patient</td>\n",
       "    </tr>\n",
       "    <tr>\n",
       "      <th>12</th>\n",
       "      <td>Type of Admission</td>\n",
       "      <td>Admission Type registered by the Hospital</td>\n",
       "    </tr>\n",
       "    <tr>\n",
       "      <th>13</th>\n",
       "      <td>Severity of Illness</td>\n",
       "      <td>Severity of the illness recorded at the time of admission</td>\n",
       "    </tr>\n",
       "    <tr>\n",
       "      <th>14</th>\n",
       "      <td>Visitors with Patient</td>\n",
       "      <td>Number of Visitors with the patient</td>\n",
       "    </tr>\n",
       "    <tr>\n",
       "      <th>15</th>\n",
       "      <td>Age</td>\n",
       "      <td>Age of the patient</td>\n",
       "    </tr>\n",
       "    <tr>\n",
       "      <th>16</th>\n",
       "      <td>Admission_Deposit</td>\n",
       "      <td>Deposit at the Admission Time</td>\n",
       "    </tr>\n",
       "    <tr>\n",
       "      <th>17</th>\n",
       "      <td>Stay</td>\n",
       "      <td>Stay Days by the patient</td>\n",
       "    </tr>\n",
       "  </tbody>\n",
       "</table>\n",
       "</div>"
      ],
      "text/plain": [
       "                               Column  \\\n",
       "0                             case_id   \n",
       "1                       Hospital_code   \n",
       "2                  Hospital_type_code   \n",
       "3                  City_Code_Hospital   \n",
       "4                Hospital_region_code   \n",
       "5   Available Extra Rooms in Hospital   \n",
       "6                          Department   \n",
       "7                           Ward_Type   \n",
       "8                  Ward_Facility_Code   \n",
       "9                           Bed Grade   \n",
       "10                          patientid   \n",
       "11                  City_Code_Patient   \n",
       "12                  Type of Admission   \n",
       "13                Severity of Illness   \n",
       "14              Visitors with Patient   \n",
       "15                                Age   \n",
       "16                  Admission_Deposit   \n",
       "17                               Stay   \n",
       "\n",
       "                                                  Description  \n",
       "0                              Case_ID registered in Hospital  \n",
       "1                                Unique code for the Hospital  \n",
       "2                        Unique code for the type of Hospital  \n",
       "3                                   City Code of the Hospital  \n",
       "4                                 Region Code of the Hospital  \n",
       "5             Number of Extra rooms available in the Hospital  \n",
       "6                             Department overlooking the case  \n",
       "7                                      Code for the Ward type  \n",
       "8                                  Code for the Ward Facility  \n",
       "9                                Condition of Bed in the Ward  \n",
       "10                                          Unique Patient Id  \n",
       "11                                  City Code for the patient  \n",
       "12                  Admission Type registered by the Hospital  \n",
       "13  Severity of the illness recorded at the time of admission  \n",
       "14                        Number of Visitors with the patient  \n",
       "15                                         Age of the patient  \n",
       "16                              Deposit at the Admission Time  \n",
       "17                                   Stay Days by the patient  "
      ]
     },
     "execution_count": 36,
     "metadata": {},
     "output_type": "execute_result"
    }
   ],
   "source": [
    "pd.options.display.max_colwidth = 100\n",
    "description"
   ]
  },
  {
   "cell_type": "markdown",
   "metadata": {},
   "source": [
    "<b>**변수들의 유니크한 값들과 개수를 간략하게 살펴봄으로써 어떤 변수인지 파악**</b><br><br>\n",
    "<b><font size=5> 독립변수 </font></b>\n",
    "- case_id : 병원에 등록된 입원 id(**테이블에서 unique한 key 성격을 갖음**) => 명목형 변수\n",
    "- Hospital_code : 병원의 id(unique한 값 32개) => 명목형 변수\n",
    "- Hospital_type_code : 병원 유형의 id(7가지 범주값) => 명목형 변수\n",
    "- City_Code_Hospital : 병원이 위치해 있는 도시의 id(11가지 범주값) => 명목형 변수\n",
    "- Hospital_region_code : 병원이 위치한 지역의 id(3가지 범주값) => 명목형 변수\n",
    "- Available Extra Rooms in Hospital : 병원에 이용가능한 여분의 병실 수 => 수치형 변수\n",
    "- Department : 해당 입원을 관리하고 있는 부서(이를 통해 해당 환자의 질병 종류 추측 가능) => 명목형 변수\n",
    "- Ward_Type : 병실 유형 => ``명목인지 서열인지 파악 필요``\n",
    "- Ward_Facility_Code : 병실 시설 코드 => ``명목인지 서열인지 파악 필요``\n",
    "- Bed Grade : 침실 등급 => 서열(Ordinal) 변수\n",
    "- patientid : 입원 환자의 id(**테이블에서 unqiue하지 않음**)=> 명목형 변수\n",
    "- City_Code_Patient : 환자가 거주하고 있는 도시 id => 명목형 변수\n",
    "- Type of Admission : 입원 유형 => ``명목인지 서열인지 파악 필요``\n",
    "- Severity of Illness : 입원 당일날 기록된 질병의 심각성 => 서열(Ordinal) 변수\n",
    "- Visitors with Patient : 환자와 동반된 방문객 수 => 수치형 변수\n",
    "- Age : 환자의 연령 => 범주형 변수(범위화 되어 있음)\n",
    "- Admission_Deposit : 입원 당일날 결제한 보증금 => 수치형 변수\n",
    "    * 보증금 : 환자 당사자 또는 환자 당사자와 관련된 방문객이 병원시설을 훼손하거나 하는 경우 등 경제적 손해를 입힐 경우 결제한 보증금에서 공제<br>\n",
    "    \n",
    "<b><font size=5> 종속변수 </font></b>\n",
    "- **Stay(종속변수) : 환자의 재원일수 => level=11인 범주형 변수(범위화 되어 있음)**"
   ]
  },
  {
   "cell_type": "markdown",
   "metadata": {},
   "source": [
    "---"
   ]
  },
  {
   "cell_type": "markdown",
   "metadata": {},
   "source": [
    "## 가설 설정(중요도 순서로 재배열하기)<br>\n",
    "\n",
    "<font size=4>**EDA Agenda**</font>\n",
    "\n",
    "- 병원 id와 병원 유형id, 병원 위치 도시id, 지역 id에 따라 재원기간 수 차이를 보일 것이다.\n",
    "- 병원에서 이용가능한 여분의 병실 수가 적을수록 재원기간 수는 짧을 것이다.\n",
    "- 입원 환자의 질병에 따라 재원기간 수가 유의미한 차이를 보일 것이다.\n",
    "    * 이 때, 입원 환자의 질병 종류는 해당 입원을 관리하고 있는 부서 종류로 추측 가능\n",
    "- 침실 등급에 따라 재원 기간 수가 유의미한 차이를 보일 것이다.\n",
    "- 환자 입원 유형과 입원 당일 질병의 심각성 간의 관계를 살펴보고 이 변수들과 재원기간 수와 관계가 있는지 살펴보기\n",
    "- 환자 연령이 높을수록 재원기간 수가 길 것이다.\n",
    "- 보증금 금액이 클수록 재원기간 수가 길 것이다.\n",
    "    * 보증금 긍액이 크다는 것은 그만큼 병원에 입원하는 재원기간이 길어서 그렇지 않을까?\n",
    "- 기타 탐색해볼 것\n",
    "    * 병실 유형과 시설 id에 따라 재원기간 수 차이\n",
    "    * 환자 거주 도시 id에 따라 재원기간 수 차이\n",
    "    * 환자와 동반된 방문객 수에 따라 재원기간 수 차이"
   ]
  },
  {
   "cell_type": "markdown",
   "metadata": {},
   "source": [
    "### 첫 번째 가설\n",
    "\n",
    "- ``병원 id와 병원 유형id, 병원 위치 도시id, 지역 id에 따라 재원기간 수 차이를 보일 것이다.``"
   ]
  },
  {
   "cell_type": "code",
   "execution_count": null,
   "metadata": {},
   "outputs": [],
   "source": []
  },
  {
   "cell_type": "code",
   "execution_count": null,
   "metadata": {},
   "outputs": [],
   "source": []
  }
 ],
 "metadata": {
  "hide_input": false,
  "kernelspec": {
   "display_name": "Python 3",
   "language": "python",
   "name": "python3"
  },
  "language_info": {
   "codemirror_mode": {
    "name": "ipython",
    "version": 3
   },
   "file_extension": ".py",
   "mimetype": "text/x-python",
   "name": "python",
   "nbconvert_exporter": "python",
   "pygments_lexer": "ipython3",
   "version": "3.7.7"
  },
  "toc": {
   "base_numbering": 1,
   "nav_menu": {},
   "number_sections": true,
   "sideBar": true,
   "skip_h1_title": false,
   "title_cell": "Table of Contents",
   "title_sidebar": "Contents",
   "toc_cell": false,
   "toc_position": {},
   "toc_section_display": true,
   "toc_window_display": false
  },
  "varInspector": {
   "cols": {
    "lenName": 16,
    "lenType": 16,
    "lenVar": 40
   },
   "kernels_config": {
    "python": {
     "delete_cmd_postfix": "",
     "delete_cmd_prefix": "del ",
     "library": "var_list.py",
     "varRefreshCmd": "print(var_dic_list())"
    },
    "r": {
     "delete_cmd_postfix": ") ",
     "delete_cmd_prefix": "rm(",
     "library": "var_list.r",
     "varRefreshCmd": "cat(var_dic_list()) "
    }
   },
   "types_to_exclude": [
    "module",
    "function",
    "builtin_function_or_method",
    "instance",
    "_Feature"
   ],
   "window_display": false
  }
 },
 "nbformat": 4,
 "nbformat_minor": 4
}

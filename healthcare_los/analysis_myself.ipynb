{
 "cells": [
  {
   "cell_type": "markdown",
   "metadata": {},
   "source": [
    "# Healthcare analysis\n",
    "\n",
    "- **``문제 정의`` : 입원하는 환자들의 개인의 특성을 기반으로 해 해당 입원한자의 재원일수(LOS = Length Of Stay) 기간을 예측**\n",
    "- **``문제 필요성`` : Covid-19 때문에 많은 입원환자 발생으로 인해 병상회전율을 최적화해야 함. 또한 개인 환자의 재원일수 기간을 예측함으로써 해당 환자에게 최적화된 치료법과 의료진과 병원 방문객들의 집단 감염을 막기 위함**"
   ]
  },
  {
   "cell_type": "markdown",
   "metadata": {},
   "source": [
    "- 데이터 출처 : <a href='https://www.kaggle.com/nehaprabhavalkar/av-healthcare-analytics-ii?'>Kaggle Healthcare analytics</a>\n",
    "- 데이터 구성\n",
    "    * train_data.csv\n",
    "        - 환자, 병원관련 독립변수와 종속변수인 재원일수 포함\n",
    "    * test_data.csv\n",
    "        - 환자, 병원관련 독립변수만 포함\n",
    "    * train_data_dictionary.csv\n",
    "        - 환자, 병원관련 독립변수에 대한 설명"
   ]
  },
  {
   "cell_type": "markdown",
   "metadata": {},
   "source": [
    "## 데이터 로드"
   ]
  },
  {
   "cell_type": "code",
   "execution_count": 1,
   "metadata": {},
   "outputs": [],
   "source": [
    "import os\n",
    "os.chdir('/Users/younghun/Desktop/gitrepo/data/healthcare')"
   ]
  },
  {
   "cell_type": "code",
   "execution_count": 2,
   "metadata": {},
   "outputs": [
    {
     "name": "stdout",
     "output_type": "stream",
     "text": [
      "Train 데이터:  (318438, 18)\n",
      "Test 데이터:  (137057, 17)\n",
      "Feature Description 데이터:  (18, 2)\n"
     ]
    }
   ],
   "source": [
    "import pandas as pd\n",
    "import numpy as np\n",
    "\n",
    "train = pd.read_csv('train_data.csv')\n",
    "test = pd.read_csv('test_data.csv')\n",
    "description = pd.read_csv('train_data_dictionary.csv')\n",
    "\n",
    "# 각 데이터 shape\n",
    "print(\"Train 데이터: \", train.shape)\n",
    "print(\"Test 데이터: \", test.shape)\n",
    "print(\"Feature Description 데이터: \", description.shape)"
   ]
  },
  {
   "cell_type": "code",
   "execution_count": 3,
   "metadata": {},
   "outputs": [
    {
     "data": {
      "text/plain": [
       "Index(['case_id', 'Hospital_code', 'Hospital_type_code', 'City_Code_Hospital',\n",
       "       'Hospital_region_code', 'Available Extra Rooms in Hospital',\n",
       "       'Department', 'Ward_Type', 'Ward_Facility_Code', 'Bed Grade',\n",
       "       'patientid', 'City_Code_Patient', 'Type of Admission',\n",
       "       'Severity of Illness', 'Visitors with Patient', 'Age',\n",
       "       'Admission_Deposit', 'Stay'],\n",
       "      dtype='object')"
      ]
     },
     "execution_count": 3,
     "metadata": {},
     "output_type": "execute_result"
    }
   ],
   "source": [
    "# 독립변수들 살펴보기\n",
    "train.columns"
   ]
  },
  {
   "cell_type": "markdown",
   "metadata": {},
   "source": [
    "## 독립변수에 대한 설명"
   ]
  },
  {
   "cell_type": "code",
   "execution_count": 4,
   "metadata": {},
   "outputs": [
    {
     "data": {
      "text/html": [
       "<div>\n",
       "<style scoped>\n",
       "    .dataframe tbody tr th:only-of-type {\n",
       "        vertical-align: middle;\n",
       "    }\n",
       "\n",
       "    .dataframe tbody tr th {\n",
       "        vertical-align: top;\n",
       "    }\n",
       "\n",
       "    .dataframe thead th {\n",
       "        text-align: right;\n",
       "    }\n",
       "</style>\n",
       "<table border=\"1\" class=\"dataframe\">\n",
       "  <thead>\n",
       "    <tr style=\"text-align: right;\">\n",
       "      <th></th>\n",
       "      <th>Column</th>\n",
       "      <th>Description</th>\n",
       "    </tr>\n",
       "  </thead>\n",
       "  <tbody>\n",
       "    <tr>\n",
       "      <th>0</th>\n",
       "      <td>case_id</td>\n",
       "      <td>Case_ID registered in Hospital</td>\n",
       "    </tr>\n",
       "    <tr>\n",
       "      <th>1</th>\n",
       "      <td>Hospital_code</td>\n",
       "      <td>Unique code for the Hospital</td>\n",
       "    </tr>\n",
       "    <tr>\n",
       "      <th>2</th>\n",
       "      <td>Hospital_type_code</td>\n",
       "      <td>Unique code for the type of Hospital</td>\n",
       "    </tr>\n",
       "    <tr>\n",
       "      <th>3</th>\n",
       "      <td>City_Code_Hospital</td>\n",
       "      <td>City Code of the Hospital</td>\n",
       "    </tr>\n",
       "    <tr>\n",
       "      <th>4</th>\n",
       "      <td>Hospital_region_code</td>\n",
       "      <td>Region Code of the Hospital</td>\n",
       "    </tr>\n",
       "    <tr>\n",
       "      <th>5</th>\n",
       "      <td>Available Extra Rooms in Hospital</td>\n",
       "      <td>Number of Extra rooms available in the Hospital</td>\n",
       "    </tr>\n",
       "    <tr>\n",
       "      <th>6</th>\n",
       "      <td>Department</td>\n",
       "      <td>Department overlooking the case</td>\n",
       "    </tr>\n",
       "    <tr>\n",
       "      <th>7</th>\n",
       "      <td>Ward_Type</td>\n",
       "      <td>Code for the Ward type</td>\n",
       "    </tr>\n",
       "    <tr>\n",
       "      <th>8</th>\n",
       "      <td>Ward_Facility_Code</td>\n",
       "      <td>Code for the Ward Facility</td>\n",
       "    </tr>\n",
       "    <tr>\n",
       "      <th>9</th>\n",
       "      <td>Bed Grade</td>\n",
       "      <td>Condition of Bed in the Ward</td>\n",
       "    </tr>\n",
       "    <tr>\n",
       "      <th>10</th>\n",
       "      <td>patientid</td>\n",
       "      <td>Unique Patient Id</td>\n",
       "    </tr>\n",
       "    <tr>\n",
       "      <th>11</th>\n",
       "      <td>City_Code_Patient</td>\n",
       "      <td>City Code for the patient</td>\n",
       "    </tr>\n",
       "    <tr>\n",
       "      <th>12</th>\n",
       "      <td>Type of Admission</td>\n",
       "      <td>Admission Type registered by the Hospital</td>\n",
       "    </tr>\n",
       "    <tr>\n",
       "      <th>13</th>\n",
       "      <td>Severity of Illness</td>\n",
       "      <td>Severity of the illness recorded at the time of admission</td>\n",
       "    </tr>\n",
       "    <tr>\n",
       "      <th>14</th>\n",
       "      <td>Visitors with Patient</td>\n",
       "      <td>Number of Visitors with the patient</td>\n",
       "    </tr>\n",
       "    <tr>\n",
       "      <th>15</th>\n",
       "      <td>Age</td>\n",
       "      <td>Age of the patient</td>\n",
       "    </tr>\n",
       "    <tr>\n",
       "      <th>16</th>\n",
       "      <td>Admission_Deposit</td>\n",
       "      <td>Deposit at the Admission Time</td>\n",
       "    </tr>\n",
       "    <tr>\n",
       "      <th>17</th>\n",
       "      <td>Stay</td>\n",
       "      <td>Stay Days by the patient</td>\n",
       "    </tr>\n",
       "  </tbody>\n",
       "</table>\n",
       "</div>"
      ],
      "text/plain": [
       "                               Column  \\\n",
       "0                             case_id   \n",
       "1                       Hospital_code   \n",
       "2                  Hospital_type_code   \n",
       "3                  City_Code_Hospital   \n",
       "4                Hospital_region_code   \n",
       "5   Available Extra Rooms in Hospital   \n",
       "6                          Department   \n",
       "7                           Ward_Type   \n",
       "8                  Ward_Facility_Code   \n",
       "9                           Bed Grade   \n",
       "10                          patientid   \n",
       "11                  City_Code_Patient   \n",
       "12                  Type of Admission   \n",
       "13                Severity of Illness   \n",
       "14              Visitors with Patient   \n",
       "15                                Age   \n",
       "16                  Admission_Deposit   \n",
       "17                               Stay   \n",
       "\n",
       "                                                  Description  \n",
       "0                              Case_ID registered in Hospital  \n",
       "1                                Unique code for the Hospital  \n",
       "2                        Unique code for the type of Hospital  \n",
       "3                                   City Code of the Hospital  \n",
       "4                                 Region Code of the Hospital  \n",
       "5             Number of Extra rooms available in the Hospital  \n",
       "6                             Department overlooking the case  \n",
       "7                                      Code for the Ward type  \n",
       "8                                  Code for the Ward Facility  \n",
       "9                                Condition of Bed in the Ward  \n",
       "10                                          Unique Patient Id  \n",
       "11                                  City Code for the patient  \n",
       "12                  Admission Type registered by the Hospital  \n",
       "13  Severity of the illness recorded at the time of admission  \n",
       "14                        Number of Visitors with the patient  \n",
       "15                                         Age of the patient  \n",
       "16                              Deposit at the Admission Time  \n",
       "17                                   Stay Days by the patient  "
      ]
     },
     "execution_count": 4,
     "metadata": {},
     "output_type": "execute_result"
    }
   ],
   "source": [
    "pd.options.display.max_colwidth = 100\n",
    "description"
   ]
  },
  {
   "cell_type": "markdown",
   "metadata": {},
   "source": [
    "<b>**변수들의 유니크한 값들과 개수를 간략하게 살펴봄으로써 어떤 변수인지 파악**</b><br><br>\n",
    "<b><font size=5> 독립변수 </font></b>\n",
    "- case_id : 병원에 등록된 입원 id(**테이블에서 unique한 key 성격을 갖음**) => 명목형 변수\n",
    "- Hospital_code : 병원의 id(unique한 값 32개) => 명목형 변수\n",
    "- Hospital_type_code : 병원 유형의 id(7가지 범주값) => 명목형 변수\n",
    "- City_Code_Hospital : 병원이 위치해 있는 도시의 id(11가지 범주값) => 명목형 변수\n",
    "- Hospital_region_code : 병원이 위치한 지역의 id(3가지 범주값) => 명목형 변수\n",
    "- Available Extra Rooms in Hospital : 병원에 이용가능한 여분의 병실 수 => 수치형 변수\n",
    "- Department : 해당 입원을 관리하고 있는 부서(이를 통해 해당 환자의 질병 종류 추측 가능) => 명목형 변수\n",
    "- Ward_Type : 병실 유형 => ``명목인지 서열인지 파악 필요``\n",
    "- Ward_Facility_Code : 병실 시설 코드 => ``명목인지 서열인지 파악 필요``\n",
    "- Bed Grade : 침실 등급 => 서열(Ordinal) 변수\n",
    "- patientid : 입원 환자의 id(**테이블에서 unqiue하지 않음**)=> 명목형 변수\n",
    "- City_Code_Patient : 환자가 거주하고 있는 도시 id => 명목형 변수\n",
    "- Type of Admission : 입원 유형 => ``명목인지 서열인지 파악 필요``\n",
    "- Severity of Illness : 입원 당일날 기록된 질병의 심각성 => 서열(Ordinal) 변수\n",
    "- Visitors with Patient : 환자와 동반된 방문객 수 => 수치형 변수\n",
    "- Age : 환자의 연령 => 범주형 변수(범위화 되어 있음)\n",
    "- Admission_Deposit : 입원 당일날 결제한 보증금 => 수치형 변수\n",
    "    * 보증금 : 환자 당사자 또는 환자 당사자와 관련된 방문객이 병원시설을 훼손하거나 하는 경우 등 경제적 손해를 입힐 경우 결제한 보증금에서 공제<br>\n",
    "    \n",
    "<b><font size=5> 종속변수 </font></b>\n",
    "- **Stay(종속변수) : 환자의 재원일수 => level=11인 범주형 변수(범위화 되어 있음)**"
   ]
  },
  {
   "cell_type": "markdown",
   "metadata": {},
   "source": [
    "---"
   ]
  },
  {
   "cell_type": "markdown",
   "metadata": {},
   "source": [
    "## 종속변수에 대한 간단한 탐색\n",
    "\n",
    "- 범주형 종속변수 level 마다 빈도수 파악\n",
    "- class imbalance 파악"
   ]
  },
  {
   "cell_type": "code",
   "execution_count": 5,
   "metadata": {},
   "outputs": [
    {
     "data": {
      "text/plain": [
       "21-30                 87491\n",
       "11-20                 78139\n",
       "31-40                 55159\n",
       "51-60                 35018\n",
       "0-10                  23604\n",
       "41-50                 11743\n",
       "71-80                 10254\n",
       "More than 100 Days     6683\n",
       "81-90                  4838\n",
       "91-100                 2765\n",
       "61-70                  2744\n",
       "Name: Stay, dtype: int64"
      ]
     },
     "execution_count": 5,
     "metadata": {},
     "output_type": "execute_result"
    }
   ],
   "source": [
    "train['Stay'].value_counts()"
   ]
  },
  {
   "cell_type": "code",
   "execution_count": 6,
   "metadata": {},
   "outputs": [
    {
     "data": {
      "image/png": "[encoded data removed]",
      "text/plain": [
       "<Figure size 720x504 with 1 Axes>"
      ]
     },
     "metadata": {
      "needs_background": "light"
     },
     "output_type": "display_data"
    }
   ],
   "source": [
    "import seaborn as sns\n",
    "import matplotlib.pyplot as plt\n",
    "\n",
    "# 종속변수인 재원일수 순서화 시키기\n",
    "stay_order = ['0-10','11-20','21-30','31-40','41-50','51-60','61-70','71-80',\n",
    "             '81-90','91-100','More than 100 Days']\n",
    "train['Stay'] = pd.Categorical(train['Stay'], categories=stay_order, ordered=True)\n",
    "\n",
    "plt.figure(figsize=(10,7))\n",
    "sns.countplot(data=train, y='Stay')\n",
    "plt.title('Counts of Stay(Target variable)', fontsize=20, color='red')\n",
    "plt.xlabel('Counts of admission', fontsize=15)\n",
    "plt.ylabel('Period of Stay', fontsize=15)\n",
    "plt.tight_layout()\n",
    "plt.show()"
   ]
  },
  {
   "cell_type": "markdown",
   "metadata": {},
   "source": [
    "- class imbalance 존재\n",
    "    * 향후 모델링시 클래스 불균형 해결 문제 고려해야 함<br><br>\n",
    "    \n",
    "- 11개의 클래스 중 **가장 많은** 재원일수 상위 5개\n",
    "    * 21-30일\n",
    "    * 11-20일\n",
    "    * 31-40일\n",
    "    * 51-60일\n",
    "    * 0- 10일"
   ]
  },
  {
   "cell_type": "markdown",
   "metadata": {},
   "source": [
    "## 가설 설정(중요도 순서로 재배열하기)<br>\n",
    "\n",
    "<font size=4>**EDA Agenda**</font>\n",
    "\n",
    "- 병원 유형id, 병원 위치 도시id, 지역 id에 따라 재원기간 수 차이를 보일 것이다.\n",
    "- 병원에서 이용가능한 여분의 병실 수가 적을수록 재원기간 수는 짧을 것이다.\n",
    "- 입원 환자의 질병에 따라 재원기간 수가 유의미한 차이를 보일 것이다.\n",
    "    * 이 때, 입원 환자의 질병 종류는 해당 입원을 관리하고 있는 부서 종류로 추측 가능\n",
    "- 침실 등급에 따라 재원 기간 수가 유의미한 차이를 보일 것이다.\n",
    "- 환자 입원 유형과 입원 당일 질병의 심각성 간의 관계를 살펴보고 이 변수들과 재원기간 수와 관계가 있는지 살펴보기\n",
    "- 환자 연령이 높을수록 재원기간 수가 길 것이다.\n",
    "- 보증금 금액이 클수록 재원기간 수가 길 것이다.\n",
    "    * 보증금 긍액이 크다는 것은 그만큼 병원에 입원하는 재원기간이 길어서 그렇지 않을까?\n",
    "- 기타 탐색해볼 것\n",
    "    * 병실 유형과 시설 id에 따라 재원기간 수 차이\n",
    "    * 환자 거주 도시 id에 따라 재원기간 수 차이\n",
    "    * 환자와 동반된 방문객 수에 따라 재원기간 수 차이"
   ]
  },
  {
   "cell_type": "markdown",
   "metadata": {},
   "source": [
    "### 첫 번째 가설\n",
    "\n",
    "- ``병원 유형 code, 병원 위치 도시 code, 병원 위치 지역 code에 따라 재원기간 수 차이를 보일 것이다.``\n",
    "- 병원 유형별(ex.종합병원, 상급종합병원 등) 또는 지역별로 병원의 크기가 다를 것이기 때문에 이는 결국 병상의 개수에도 직접적으로 연결된다. 병상의 개수가 많을수록 병상의 개수는 많을 것이며 이는 결국 재원일수와도 관련될 것이다."
   ]
  },
  {
   "cell_type": "code",
   "execution_count": 7,
   "metadata": {},
   "outputs": [
    {
     "data": {
      "text/plain": [
       "(318438, 6)"
      ]
     },
     "execution_count": 7,
     "metadata": {},
     "output_type": "execute_result"
    }
   ],
   "source": [
    "# 관련있는 변수들만 추출\n",
    "# 병원 유형 code, 병원 위치 도시 code, 지역 code, 여분 병실 수, 연령, 재원일수(종속변수) 만 추출\n",
    "cols = ['Hospital_type_code','City_Code_Hospital','Hospital_region_code',\n",
    "       'Available Extra Rooms in Hospital', 'Age', 'Stay']\n",
    "hospital_df = train[cols]\n",
    "hospital_df.shape"
   ]
  },
  {
   "cell_type": "code",
   "execution_count": 8,
   "metadata": {},
   "outputs": [
    {
     "name": "stdout",
     "output_type": "stream",
     "text": [
      "Hospital_type_code 변수의 unique한 값 종류 개수:7\n",
      "Hospital_type_code 변수의 unique한 값 종류들:\n",
      "['c' 'e' 'b' 'a' 'f' 'd' 'g']\n",
      "----------------------------------------\n",
      "City_Code_Hospital 변수의 unique한 값 종류 개수:11\n",
      "City_Code_Hospital 변수의 unique한 값 종류들:\n",
      "[ 3  5  1  2  6  9 10  4 11  7 13]\n",
      "----------------------------------------\n",
      "Hospital_region_code 변수의 unique한 값 종류 개수:3\n",
      "Hospital_region_code 변수의 unique한 값 종류들:\n",
      "['Z' 'X' 'Y']\n",
      "----------------------------------------\n",
      "Age 변수의 unique한 값 종류 개수:10\n",
      "Age 변수의 unique한 값 종류들:\n",
      "['51-60' '71-80' '31-40' '41-50' '81-90' '61-70' '21-30' '11-20' '0-10'\n",
      " '91-100']\n",
      "----------------------------------------\n",
      "Stay 변수의 unique한 값 종류 개수:11\n",
      "Stay 변수의 unique한 값 종류들:\n",
      "[0-10, 41-50, 31-40, 11-20, 51-60, ..., 71-80, More than 100 Days, 81-90, 61-70, 91-100]\n",
      "Length: 11\n",
      "Categories (11, object): [0-10 < 11-20 < 21-30 < 31-40 ... 71-80 < 81-90 < 91-100 < More than 100 Days]\n",
      "----------------------------------------\n"
     ]
    }
   ],
   "source": [
    "# 범주형 변수별 unique한 값들 살펴보기\n",
    "cols = ['Hospital_type_code','City_Code_Hospital','Hospital_region_code', 'Age', 'Stay']\n",
    "for col in cols:\n",
    "    unique_val = hospital_df[col].unique()\n",
    "    nunique_val = hospital_df[col].nunique()\n",
    "    print(f\"{col} 변수의 unique한 값 종류 개수:{nunique_val}\\n{col} 변수의 unique한 값 종류들:\\n{unique_val}\")\n",
    "    print('-'*40)"
   ]
  },
  {
   "cell_type": "code",
   "execution_count": 9,
   "metadata": {},
   "outputs": [
    {
     "data": {
      "text/plain": [
       "Hospital_type_code                   0\n",
       "City_Code_Hospital                   0\n",
       "Hospital_region_code                 0\n",
       "Available Extra Rooms in Hospital    0\n",
       "Age                                  0\n",
       "Stay                                 0\n",
       "dtype: int64"
      ]
     },
     "execution_count": 9,
     "metadata": {},
     "output_type": "execute_result"
    }
   ],
   "source": [
    "# 추출한 변수들 결측치 확인\n",
    "hospital_df.isnull().sum()"
   ]
  },
  {
   "cell_type": "code",
   "execution_count": 10,
   "metadata": {},
   "outputs": [
    {
     "data": {
      "text/plain": [
       "Hospital_type_code                     object\n",
       "City_Code_Hospital                      int64\n",
       "Hospital_region_code                   object\n",
       "Available Extra Rooms in Hospital       int64\n",
       "Age                                    object\n",
       "Stay                                 category\n",
       "dtype: object"
      ]
     },
     "execution_count": 10,
     "metadata": {},
     "output_type": "execute_result"
    }
   ],
   "source": [
    "#수치형 변수이어야 하는데 범주형 type으로 되어 있으며 whitespace로 결측치가 되어있을 수도 있으니 변수별 dtype 체크\n",
    "hospital_df.dtypes"
   ]
  },
  {
   "cell_type": "markdown",
   "metadata": {},
   "source": [
    "- Age, Stay는 범위(range)화 되어 있어서 범주형 변수인게 맞음"
   ]
  },
  {
   "cell_type": "markdown",
   "metadata": {},
   "source": [
    "---"
   ]
  },
  {
   "cell_type": "markdown",
   "metadata": {},
   "source": [
    "#### 병원 유형과 재원일수 간의 독립성 검정"
   ]
  },
  {
   "cell_type": "code",
   "execution_count": 11,
   "metadata": {},
   "outputs": [
    {
     "data": {
      "text/html": [
       "<div>\n",
       "<style scoped>\n",
       "    .dataframe tbody tr th:only-of-type {\n",
       "        vertical-align: middle;\n",
       "    }\n",
       "\n",
       "    .dataframe tbody tr th {\n",
       "        vertical-align: top;\n",
       "    }\n",
       "\n",
       "    .dataframe thead th {\n",
       "        text-align: right;\n",
       "    }\n",
       "</style>\n",
       "<table border=\"1\" class=\"dataframe\">\n",
       "  <thead>\n",
       "    <tr style=\"text-align: right;\">\n",
       "      <th>Stay</th>\n",
       "      <th>0-10</th>\n",
       "      <th>11-20</th>\n",
       "      <th>21-30</th>\n",
       "      <th>31-40</th>\n",
       "      <th>41-50</th>\n",
       "      <th>51-60</th>\n",
       "      <th>61-70</th>\n",
       "      <th>71-80</th>\n",
       "      <th>81-90</th>\n",
       "      <th>91-100</th>\n",
       "      <th>More than 100 Days</th>\n",
       "    </tr>\n",
       "    <tr>\n",
       "      <th>Hospital_type_code</th>\n",
       "      <th></th>\n",
       "      <th></th>\n",
       "      <th></th>\n",
       "      <th></th>\n",
       "      <th></th>\n",
       "      <th></th>\n",
       "      <th></th>\n",
       "      <th></th>\n",
       "      <th></th>\n",
       "      <th></th>\n",
       "      <th></th>\n",
       "    </tr>\n",
       "  </thead>\n",
       "  <tbody>\n",
       "    <tr>\n",
       "      <th>a</th>\n",
       "      <td>10559</td>\n",
       "      <td>39807</td>\n",
       "      <td>40286</td>\n",
       "      <td>23974</td>\n",
       "      <td>4111</td>\n",
       "      <td>14617</td>\n",
       "      <td>924</td>\n",
       "      <td>3722</td>\n",
       "      <td>1890</td>\n",
       "      <td>962</td>\n",
       "      <td>2573</td>\n",
       "    </tr>\n",
       "    <tr>\n",
       "      <th>b</th>\n",
       "      <td>5145</td>\n",
       "      <td>13933</td>\n",
       "      <td>19541</td>\n",
       "      <td>12385</td>\n",
       "      <td>3893</td>\n",
       "      <td>6909</td>\n",
       "      <td>917</td>\n",
       "      <td>2608</td>\n",
       "      <td>1026</td>\n",
       "      <td>783</td>\n",
       "      <td>1806</td>\n",
       "    </tr>\n",
       "    <tr>\n",
       "      <th>c</th>\n",
       "      <td>3588</td>\n",
       "      <td>10318</td>\n",
       "      <td>12526</td>\n",
       "      <td>8222</td>\n",
       "      <td>1872</td>\n",
       "      <td>5176</td>\n",
       "      <td>430</td>\n",
       "      <td>1611</td>\n",
       "      <td>725</td>\n",
       "      <td>439</td>\n",
       "      <td>1021</td>\n",
       "    </tr>\n",
       "    <tr>\n",
       "      <th>d</th>\n",
       "      <td>1314</td>\n",
       "      <td>4423</td>\n",
       "      <td>5527</td>\n",
       "      <td>3706</td>\n",
       "      <td>760</td>\n",
       "      <td>2713</td>\n",
       "      <td>186</td>\n",
       "      <td>761</td>\n",
       "      <td>421</td>\n",
       "      <td>180</td>\n",
       "      <td>398</td>\n",
       "    </tr>\n",
       "    <tr>\n",
       "      <th>e</th>\n",
       "      <td>1805</td>\n",
       "      <td>6644</td>\n",
       "      <td>6524</td>\n",
       "      <td>4060</td>\n",
       "      <td>764</td>\n",
       "      <td>2832</td>\n",
       "      <td>197</td>\n",
       "      <td>824</td>\n",
       "      <td>395</td>\n",
       "      <td>218</td>\n",
       "      <td>507</td>\n",
       "    </tr>\n",
       "    <tr>\n",
       "      <th>f</th>\n",
       "      <td>1023</td>\n",
       "      <td>2332</td>\n",
       "      <td>1897</td>\n",
       "      <td>2093</td>\n",
       "      <td>204</td>\n",
       "      <td>1960</td>\n",
       "      <td>44</td>\n",
       "      <td>482</td>\n",
       "      <td>254</td>\n",
       "      <td>138</td>\n",
       "      <td>276</td>\n",
       "    </tr>\n",
       "    <tr>\n",
       "      <th>g</th>\n",
       "      <td>170</td>\n",
       "      <td>682</td>\n",
       "      <td>1190</td>\n",
       "      <td>719</td>\n",
       "      <td>139</td>\n",
       "      <td>811</td>\n",
       "      <td>46</td>\n",
       "      <td>246</td>\n",
       "      <td>127</td>\n",
       "      <td>45</td>\n",
       "      <td>102</td>\n",
       "    </tr>\n",
       "  </tbody>\n",
       "</table>\n",
       "</div>"
      ],
      "text/plain": [
       "Stay                 0-10  11-20  21-30  31-40  41-50  51-60  61-70  71-80  \\\n",
       "Hospital_type_code                                                           \n",
       "a                   10559  39807  40286  23974   4111  14617    924   3722   \n",
       "b                    5145  13933  19541  12385   3893   6909    917   2608   \n",
       "c                    3588  10318  12526   8222   1872   5176    430   1611   \n",
       "d                    1314   4423   5527   3706    760   2713    186    761   \n",
       "e                    1805   6644   6524   4060    764   2832    197    824   \n",
       "f                    1023   2332   1897   2093    204   1960     44    482   \n",
       "g                     170    682   1190    719    139    811     46    246   \n",
       "\n",
       "Stay                81-90  91-100  More than 100 Days  \n",
       "Hospital_type_code                                     \n",
       "a                    1890     962                2573  \n",
       "b                    1026     783                1806  \n",
       "c                     725     439                1021  \n",
       "d                     421     180                 398  \n",
       "e                     395     218                 507  \n",
       "f                     254     138                 276  \n",
       "g                     127      45                 102  "
      ]
     },
     "execution_count": 11,
     "metadata": {},
     "output_type": "execute_result"
    }
   ],
   "source": [
    "# 병원 유형 id와 Stay 재원일수 범주형 변수간의 카이제곱 검정\n",
    "group_df = hospital_df.groupby(['Hospital_type_code','Stay']).agg({'Stay':'count'}).rename(columns={'Stay':'counts'}).reset_index().set_index('Hospital_type_code')\n",
    "pivot_df = group_df.pivot_table(index=group_df.index, values='counts',\n",
    "                    columns='Stay')\n",
    "pivot_df"
   ]
  },
  {
   "cell_type": "code",
   "execution_count": 12,
   "metadata": {},
   "outputs": [
    {
     "name": "stdout",
     "output_type": "stream",
     "text": [
      "- 카이제곱 통계량: 5540.6404\n",
      "- P-value: 0.0\n"
     ]
    },
    {
     "data": {
      "text/html": [
       "<div>\n",
       "<style scoped>\n",
       "    .dataframe tbody tr th:only-of-type {\n",
       "        vertical-align: middle;\n",
       "    }\n",
       "\n",
       "    .dataframe tbody tr th {\n",
       "        vertical-align: top;\n",
       "    }\n",
       "\n",
       "    .dataframe thead th {\n",
       "        text-align: right;\n",
       "    }\n",
       "</style>\n",
       "<table border=\"1\" class=\"dataframe\">\n",
       "  <thead>\n",
       "    <tr style=\"text-align: right;\">\n",
       "      <th>Stay</th>\n",
       "      <th>0-10</th>\n",
       "      <th>11-20</th>\n",
       "      <th>21-30</th>\n",
       "      <th>31-40</th>\n",
       "      <th>41-50</th>\n",
       "      <th>51-60</th>\n",
       "      <th>61-70</th>\n",
       "      <th>71-80</th>\n",
       "      <th>81-90</th>\n",
       "      <th>91-100</th>\n",
       "      <th>More than 100 Days</th>\n",
       "    </tr>\n",
       "    <tr>\n",
       "      <th>Hospital_type_code</th>\n",
       "      <th></th>\n",
       "      <th></th>\n",
       "      <th></th>\n",
       "      <th></th>\n",
       "      <th></th>\n",
       "      <th></th>\n",
       "      <th></th>\n",
       "      <th></th>\n",
       "      <th></th>\n",
       "      <th></th>\n",
       "      <th></th>\n",
       "    </tr>\n",
       "  </thead>\n",
       "  <tbody>\n",
       "    <tr>\n",
       "      <th>a</th>\n",
       "      <td>10631.0</td>\n",
       "      <td>35194.0</td>\n",
       "      <td>39406.0</td>\n",
       "      <td>24844.0</td>\n",
       "      <td>5289.0</td>\n",
       "      <td>15772.0</td>\n",
       "      <td>1236.0</td>\n",
       "      <td>4618.0</td>\n",
       "      <td>2179.0</td>\n",
       "      <td>1245.0</td>\n",
       "      <td>3010.0</td>\n",
       "    </tr>\n",
       "    <tr>\n",
       "      <th>b</th>\n",
       "      <td>5111.0</td>\n",
       "      <td>16918.0</td>\n",
       "      <td>18943.0</td>\n",
       "      <td>11943.0</td>\n",
       "      <td>2543.0</td>\n",
       "      <td>7582.0</td>\n",
       "      <td>594.0</td>\n",
       "      <td>2220.0</td>\n",
       "      <td>1047.0</td>\n",
       "      <td>599.0</td>\n",
       "      <td>1447.0</td>\n",
       "    </tr>\n",
       "    <tr>\n",
       "      <th>c</th>\n",
       "      <td>3404.0</td>\n",
       "      <td>11270.0</td>\n",
       "      <td>12619.0</td>\n",
       "      <td>7956.0</td>\n",
       "      <td>1694.0</td>\n",
       "      <td>5051.0</td>\n",
       "      <td>396.0</td>\n",
       "      <td>1479.0</td>\n",
       "      <td>698.0</td>\n",
       "      <td>399.0</td>\n",
       "      <td>964.0</td>\n",
       "    </tr>\n",
       "    <tr>\n",
       "      <th>d</th>\n",
       "      <td>1511.0</td>\n",
       "      <td>5003.0</td>\n",
       "      <td>5602.0</td>\n",
       "      <td>3532.0</td>\n",
       "      <td>752.0</td>\n",
       "      <td>2242.0</td>\n",
       "      <td>176.0</td>\n",
       "      <td>657.0</td>\n",
       "      <td>310.0</td>\n",
       "      <td>177.0</td>\n",
       "      <td>428.0</td>\n",
       "    </tr>\n",
       "    <tr>\n",
       "      <th>e</th>\n",
       "      <td>1836.0</td>\n",
       "      <td>6078.0</td>\n",
       "      <td>6806.0</td>\n",
       "      <td>4291.0</td>\n",
       "      <td>913.0</td>\n",
       "      <td>2724.0</td>\n",
       "      <td>213.0</td>\n",
       "      <td>798.0</td>\n",
       "      <td>376.0</td>\n",
       "      <td>215.0</td>\n",
       "      <td>520.0</td>\n",
       "    </tr>\n",
       "    <tr>\n",
       "      <th>f</th>\n",
       "      <td>793.0</td>\n",
       "      <td>2626.0</td>\n",
       "      <td>2941.0</td>\n",
       "      <td>1854.0</td>\n",
       "      <td>395.0</td>\n",
       "      <td>1177.0</td>\n",
       "      <td>92.0</td>\n",
       "      <td>345.0</td>\n",
       "      <td>163.0</td>\n",
       "      <td>93.0</td>\n",
       "      <td>225.0</td>\n",
       "    </tr>\n",
       "    <tr>\n",
       "      <th>g</th>\n",
       "      <td>317.0</td>\n",
       "      <td>1049.0</td>\n",
       "      <td>1175.0</td>\n",
       "      <td>741.0</td>\n",
       "      <td>158.0</td>\n",
       "      <td>470.0</td>\n",
       "      <td>37.0</td>\n",
       "      <td>138.0</td>\n",
       "      <td>65.0</td>\n",
       "      <td>37.0</td>\n",
       "      <td>90.0</td>\n",
       "    </tr>\n",
       "  </tbody>\n",
       "</table>\n",
       "</div>"
      ],
      "text/plain": [
       "Stay                   0-10    11-20    21-30    31-40   41-50    51-60  \\\n",
       "Hospital_type_code                                                        \n",
       "a                   10631.0  35194.0  39406.0  24844.0  5289.0  15772.0   \n",
       "b                    5111.0  16918.0  18943.0  11943.0  2543.0   7582.0   \n",
       "c                    3404.0  11270.0  12619.0   7956.0  1694.0   5051.0   \n",
       "d                    1511.0   5003.0   5602.0   3532.0   752.0   2242.0   \n",
       "e                    1836.0   6078.0   6806.0   4291.0   913.0   2724.0   \n",
       "f                     793.0   2626.0   2941.0   1854.0   395.0   1177.0   \n",
       "g                     317.0   1049.0   1175.0    741.0   158.0    470.0   \n",
       "\n",
       "Stay                 61-70   71-80   81-90  91-100  More than 100 Days  \n",
       "Hospital_type_code                                                      \n",
       "a                   1236.0  4618.0  2179.0  1245.0              3010.0  \n",
       "b                    594.0  2220.0  1047.0   599.0              1447.0  \n",
       "c                    396.0  1479.0   698.0   399.0               964.0  \n",
       "d                    176.0   657.0   310.0   177.0               428.0  \n",
       "e                    213.0   798.0   376.0   215.0               520.0  \n",
       "f                     92.0   345.0   163.0    93.0               225.0  \n",
       "g                     37.0   138.0    65.0    37.0                90.0  "
      ]
     },
     "execution_count": 12,
     "metadata": {},
     "output_type": "execute_result"
    }
   ],
   "source": [
    "# 병원 type별로 \n",
    "from scipy.stats import chi2_contingency\n",
    "chi2, p, df, expected = chi2_contingency([pivot_df.iloc[0], pivot_df.iloc[1], pivot_df.iloc[2],\n",
    "                                         pivot_df.iloc[3], pivot_df.iloc[4], pivot_df.iloc[5],\n",
    "                                         pivot_df.iloc[6]])\n",
    "print(f\"- 카이제곱 통계량: {chi2 :.4f}\\n- P-value: {p}\")\n",
    "expected_df = pd.DataFrame(np.round(expected,0), columns=pivot_df.columns, index=pivot_df.index)\n",
    "expected_df"
   ]
  },
  {
   "cell_type": "markdown",
   "metadata": {},
   "source": [
    "- P-value값이 0.0으로 카이제곱겁정의 귀무가설을 기각. 즉, Hospital_type_code와 Stay변수간에 독립적이지 않고 연관이 있다."
   ]
  },
  {
   "cell_type": "markdown",
   "metadata": {},
   "source": [
    "#### 병원 유형 코드와 여분 병실 수치를 이용해 병원 유형 추론해보기\n",
    "\n",
    "- 현재 병원 유형 코드가 익명화 되어 있는 상태. 따라서 아래와 같은 내용을 기반으로 병원의 크기를 추론해보자.\n",
    "- 우선 병원 유형별로 입원환자들이 얼마나 많았는지 살펴보고 이를 활용해 여분 병실 수를 비율로 나타내보기\n",
    "- 예를들어, 10명이 입원한 병원의 여분 병실수가 100개인 A병원과 1000명이 입원한 병원의 여분 병실수가 100개인 B병원 둘 중 병상회전율이 좋은 당연히 B병원일 것이다. 이를 알아보기 위한 분석 수행  \n",
    "- 따라서 공식은 ``'(입원환자 수 / 여분 병실수) * 100'`` 을 이용. ``이 값이 높을수록 병원의 병상회전율이 클 것``이다.\n",
    "- 단, 병상회전율 공식을 사용하기엔 입원, 퇴원 환자수와 정확한 재원일수를 알아야 하는데 알 수 없음. 따라서 임의적으로 공식을 만듦..(한계점)"
   ]
  },
  {
   "cell_type": "code",
   "execution_count": 13,
   "metadata": {},
   "outputs": [
    {
     "data": {
      "text/html": [
       "<div>\n",
       "<style scoped>\n",
       "    .dataframe tbody tr th:only-of-type {\n",
       "        vertical-align: middle;\n",
       "    }\n",
       "\n",
       "    .dataframe tbody tr th {\n",
       "        vertical-align: top;\n",
       "    }\n",
       "\n",
       "    .dataframe thead th {\n",
       "        text-align: right;\n",
       "    }\n",
       "</style>\n",
       "<table border=\"1\" class=\"dataframe\">\n",
       "  <thead>\n",
       "    <tr style=\"text-align: right;\">\n",
       "      <th></th>\n",
       "      <th>count</th>\n",
       "    </tr>\n",
       "    <tr>\n",
       "      <th>Hospital_type_code</th>\n",
       "      <th></th>\n",
       "    </tr>\n",
       "  </thead>\n",
       "  <tbody>\n",
       "    <tr>\n",
       "      <th>a</th>\n",
       "      <td>143425</td>\n",
       "    </tr>\n",
       "    <tr>\n",
       "      <th>b</th>\n",
       "      <td>68946</td>\n",
       "    </tr>\n",
       "    <tr>\n",
       "      <th>c</th>\n",
       "      <td>45928</td>\n",
       "    </tr>\n",
       "    <tr>\n",
       "      <th>d</th>\n",
       "      <td>20389</td>\n",
       "    </tr>\n",
       "    <tr>\n",
       "      <th>e</th>\n",
       "      <td>24770</td>\n",
       "    </tr>\n",
       "    <tr>\n",
       "      <th>f</th>\n",
       "      <td>10703</td>\n",
       "    </tr>\n",
       "    <tr>\n",
       "      <th>g</th>\n",
       "      <td>4277</td>\n",
       "    </tr>\n",
       "  </tbody>\n",
       "</table>\n",
       "</div>"
      ],
      "text/plain": [
       "                     count\n",
       "Hospital_type_code        \n",
       "a                   143425\n",
       "b                    68946\n",
       "c                    45928\n",
       "d                    20389\n",
       "e                    24770\n",
       "f                    10703\n",
       "g                     4277"
      ]
     },
     "execution_count": 13,
     "metadata": {},
     "output_type": "execute_result"
    }
   ],
   "source": [
    "hospital_code_count = hospital_df.groupby(['Hospital_type_code']).agg({'Hospital_type_code':'count'}).rename(columns={'Hospital_type_code':'count'})\n",
    "hospital_code_count"
   ]
  },
  {
   "cell_type": "code",
   "execution_count": 14,
   "metadata": {},
   "outputs": [
    {
     "data": {
      "text/html": [
       "<div>\n",
       "<style scoped>\n",
       "    .dataframe tbody tr th:only-of-type {\n",
       "        vertical-align: middle;\n",
       "    }\n",
       "\n",
       "    .dataframe tbody tr th {\n",
       "        vertical-align: top;\n",
       "    }\n",
       "\n",
       "    .dataframe thead th {\n",
       "        text-align: right;\n",
       "    }\n",
       "</style>\n",
       "<table border=\"1\" class=\"dataframe\">\n",
       "  <thead>\n",
       "    <tr style=\"text-align: right;\">\n",
       "      <th></th>\n",
       "      <th>sum</th>\n",
       "    </tr>\n",
       "    <tr>\n",
       "      <th>Hospital_type_code</th>\n",
       "      <th></th>\n",
       "    </tr>\n",
       "  </thead>\n",
       "  <tbody>\n",
       "    <tr>\n",
       "      <th>a</th>\n",
       "      <td>468336</td>\n",
       "    </tr>\n",
       "    <tr>\n",
       "      <th>b</th>\n",
       "      <td>224631</td>\n",
       "    </tr>\n",
       "    <tr>\n",
       "      <th>c</th>\n",
       "      <td>145676</td>\n",
       "    </tr>\n",
       "    <tr>\n",
       "      <th>d</th>\n",
       "      <td>65173</td>\n",
       "    </tr>\n",
       "    <tr>\n",
       "      <th>e</th>\n",
       "      <td>74450</td>\n",
       "    </tr>\n",
       "    <tr>\n",
       "      <th>f</th>\n",
       "      <td>28274</td>\n",
       "    </tr>\n",
       "    <tr>\n",
       "      <th>g</th>\n",
       "      <td>11706</td>\n",
       "    </tr>\n",
       "  </tbody>\n",
       "</table>\n",
       "</div>"
      ],
      "text/plain": [
       "                       sum\n",
       "Hospital_type_code        \n",
       "a                   468336\n",
       "b                   224631\n",
       "c                   145676\n",
       "d                    65173\n",
       "e                    74450\n",
       "f                    28274\n",
       "g                    11706"
      ]
     },
     "execution_count": 14,
     "metadata": {},
     "output_type": "execute_result"
    }
   ],
   "source": [
    "type_sum_df = hospital_df.groupby('Hospital_type_code').agg({'Available Extra Rooms in Hospital':'sum'}).rename(columns={'Available Extra Rooms in Hospital':'sum'})\n",
    "type_sum_df"
   ]
  },
  {
   "cell_type": "code",
   "execution_count": 15,
   "metadata": {},
   "outputs": [
    {
     "data": {
      "text/html": [
       "<div>\n",
       "<style scoped>\n",
       "    .dataframe tbody tr th:only-of-type {\n",
       "        vertical-align: middle;\n",
       "    }\n",
       "\n",
       "    .dataframe tbody tr th {\n",
       "        vertical-align: top;\n",
       "    }\n",
       "\n",
       "    .dataframe thead th {\n",
       "        text-align: right;\n",
       "    }\n",
       "</style>\n",
       "<table border=\"1\" class=\"dataframe\">\n",
       "  <thead>\n",
       "    <tr style=\"text-align: right;\">\n",
       "      <th></th>\n",
       "      <th>count</th>\n",
       "      <th>sum</th>\n",
       "      <th>ratio</th>\n",
       "    </tr>\n",
       "    <tr>\n",
       "      <th>Hospital_type_code</th>\n",
       "      <th></th>\n",
       "      <th></th>\n",
       "      <th></th>\n",
       "    </tr>\n",
       "  </thead>\n",
       "  <tbody>\n",
       "    <tr>\n",
       "      <th>f</th>\n",
       "      <td>10703</td>\n",
       "      <td>28274</td>\n",
       "      <td>37.854566</td>\n",
       "    </tr>\n",
       "    <tr>\n",
       "      <th>g</th>\n",
       "      <td>4277</td>\n",
       "      <td>11706</td>\n",
       "      <td>36.536819</td>\n",
       "    </tr>\n",
       "    <tr>\n",
       "      <th>e</th>\n",
       "      <td>24770</td>\n",
       "      <td>74450</td>\n",
       "      <td>33.270651</td>\n",
       "    </tr>\n",
       "    <tr>\n",
       "      <th>c</th>\n",
       "      <td>45928</td>\n",
       "      <td>145676</td>\n",
       "      <td>31.527499</td>\n",
       "    </tr>\n",
       "    <tr>\n",
       "      <th>d</th>\n",
       "      <td>20389</td>\n",
       "      <td>65173</td>\n",
       "      <td>31.284428</td>\n",
       "    </tr>\n",
       "    <tr>\n",
       "      <th>b</th>\n",
       "      <td>68946</td>\n",
       "      <td>224631</td>\n",
       "      <td>30.693003</td>\n",
       "    </tr>\n",
       "    <tr>\n",
       "      <th>a</th>\n",
       "      <td>143425</td>\n",
       "      <td>468336</td>\n",
       "      <td>30.624381</td>\n",
       "    </tr>\n",
       "  </tbody>\n",
       "</table>\n",
       "</div>"
      ],
      "text/plain": [
       "                     count     sum      ratio\n",
       "Hospital_type_code                           \n",
       "f                    10703   28274  37.854566\n",
       "g                     4277   11706  36.536819\n",
       "e                    24770   74450  33.270651\n",
       "c                    45928  145676  31.527499\n",
       "d                    20389   65173  31.284428\n",
       "b                    68946  224631  30.693003\n",
       "a                   143425  468336  30.624381"
      ]
     },
     "execution_count": 15,
     "metadata": {},
     "output_type": "execute_result"
    }
   ],
   "source": [
    "# 위 두 데이터프레임 concat 하기\n",
    "concat_df = pd.concat([hospital_code_count, type_sum_df], axis=1)\n",
    "concat_df['ratio'] = (concat_df['count'] / concat_df['sum']) * 100\n",
    "concat_df = concat_df.sort_values(by='ratio', ascending=False)\n",
    "concat_df"
   ]
  },
  {
   "cell_type": "markdown",
   "metadata": {},
   "source": [
    "- 결과 해석하기가 애매모호..\n",
    "---"
   ]
  },
  {
   "cell_type": "code",
   "execution_count": 16,
   "metadata": {},
   "outputs": [
    {
     "data": {
      "image/png": "[encoded data removed]",
      "text/plain": [
       "<Figure size 504x504 with 1 Axes>"
      ]
     },
     "metadata": {
      "needs_background": "light"
     },
     "output_type": "display_data"
    }
   ],
   "source": [
    "import matplotlib.pyplot as plt\n",
    "import seaborn as sns\n",
    "\n",
    "type_sum_df = hospital_df.groupby('Hospital_type_code').agg({'Available Extra Rooms in Hospital':'sum'}).rename(columns={'Available Extra Rooms in Hospital':'sum'})\n",
    "\n",
    "plt.figure(figsize=(7,7))\n",
    "sns.barplot(data=type_sum_df, x=type_sum_df.index, y='sum')\n",
    "plt.title('Sum of available extra rooms on type of Hospital', fontsize=20, color='blue')\n",
    "plt.xlabel('Type of Hospital', fontsize=15)\n",
    "plt.ylabel('Sum ofextra rooms', fontsize=15)\n",
    "plt.show()"
   ]
  },
  {
   "cell_type": "markdown",
   "metadata": {},
   "source": [
    "- a병원이 압도적으로 여분의 병실이 많았다. 대체 ``a병원은 어디지역에 위치해 있는지 확인해보자.``\n",
    "- ``b,c 병원의 위치 파악하기``\n",
    "- ``d,e,f,g 병원의 위치 파악하기``"
   ]
  },
  {
   "cell_type": "markdown",
   "metadata": {},
   "source": [
    "#### 병원들 유형에 따라 병원이 어떤 지역과 도시에 위치해있는지 살펴보기"
   ]
  },
  {
   "cell_type": "code",
   "execution_count": 17,
   "metadata": {},
   "outputs": [
    {
     "data": {
      "text/html": [
       "<div>\n",
       "<style scoped>\n",
       "    .dataframe tbody tr th:only-of-type {\n",
       "        vertical-align: middle;\n",
       "    }\n",
       "\n",
       "    .dataframe tbody tr th {\n",
       "        vertical-align: top;\n",
       "    }\n",
       "\n",
       "    .dataframe thead th {\n",
       "        text-align: right;\n",
       "    }\n",
       "</style>\n",
       "<table border=\"1\" class=\"dataframe\">\n",
       "  <thead>\n",
       "    <tr style=\"text-align: right;\">\n",
       "      <th></th>\n",
       "      <th>Hospital_type_code</th>\n",
       "      <th>Hospital_region_code</th>\n",
       "      <th>count</th>\n",
       "    </tr>\n",
       "  </thead>\n",
       "  <tbody>\n",
       "    <tr>\n",
       "      <th>0</th>\n",
       "      <td>a</td>\n",
       "      <td>X</td>\n",
       "      <td>91429</td>\n",
       "    </tr>\n",
       "    <tr>\n",
       "      <th>1</th>\n",
       "      <td>a</td>\n",
       "      <td>Y</td>\n",
       "      <td>46760</td>\n",
       "    </tr>\n",
       "    <tr>\n",
       "      <th>2</th>\n",
       "      <td>a</td>\n",
       "      <td>Z</td>\n",
       "      <td>5236</td>\n",
       "    </tr>\n",
       "    <tr>\n",
       "      <th>3</th>\n",
       "      <td>b</td>\n",
       "      <td>X</td>\n",
       "      <td>17137</td>\n",
       "    </tr>\n",
       "    <tr>\n",
       "      <th>4</th>\n",
       "      <td>b</td>\n",
       "      <td>Y</td>\n",
       "      <td>51809</td>\n",
       "    </tr>\n",
       "    <tr>\n",
       "      <th>5</th>\n",
       "      <td>c</td>\n",
       "      <td>Z</td>\n",
       "      <td>45928</td>\n",
       "    </tr>\n",
       "    <tr>\n",
       "      <th>6</th>\n",
       "      <td>d</td>\n",
       "      <td>Y</td>\n",
       "      <td>8879</td>\n",
       "    </tr>\n",
       "    <tr>\n",
       "      <th>7</th>\n",
       "      <td>d</td>\n",
       "      <td>Z</td>\n",
       "      <td>11510</td>\n",
       "    </tr>\n",
       "    <tr>\n",
       "      <th>8</th>\n",
       "      <td>e</td>\n",
       "      <td>X</td>\n",
       "      <td>24770</td>\n",
       "    </tr>\n",
       "    <tr>\n",
       "      <th>9</th>\n",
       "      <td>f</td>\n",
       "      <td>Y</td>\n",
       "      <td>10703</td>\n",
       "    </tr>\n",
       "    <tr>\n",
       "      <th>10</th>\n",
       "      <td>g</td>\n",
       "      <td>Y</td>\n",
       "      <td>4277</td>\n",
       "    </tr>\n",
       "  </tbody>\n",
       "</table>\n",
       "</div>"
      ],
      "text/plain": [
       "   Hospital_type_code Hospital_region_code  count\n",
       "0                   a                    X  91429\n",
       "1                   a                    Y  46760\n",
       "2                   a                    Z   5236\n",
       "3                   b                    X  17137\n",
       "4                   b                    Y  51809\n",
       "5                   c                    Z  45928\n",
       "6                   d                    Y   8879\n",
       "7                   d                    Z  11510\n",
       "8                   e                    X  24770\n",
       "9                   f                    Y  10703\n",
       "10                  g                    Y   4277"
      ]
     },
     "execution_count": 17,
     "metadata": {},
     "output_type": "execute_result"
    }
   ],
   "source": [
    "# 위치 지역(region) 파악\n",
    "region_df = hospital_df.groupby(['Hospital_type_code','Hospital_region_code']).agg({'Hospital_type_code':'count'}).rename(columns={'Hospital_type_code':'count'})\n",
    "region_df = region_df.reset_index()\n",
    "region_df"
   ]
  },
  {
   "cell_type": "code",
   "execution_count": 18,
   "metadata": {},
   "outputs": [
    {
     "data": {
      "image/png": "[encoded data removed]",
      "text/plain": [
       "<Figure size 720x576 with 1 Axes>"
      ]
     },
     "metadata": {
      "needs_background": "light"
     },
     "output_type": "display_data"
    }
   ],
   "source": [
    "plt.rc('font', family='AppleGothic')\n",
    "plt.figure(figsize=(10,8))\n",
    "sns.countplot(data=hospital_df, x='Hospital_region_code', hue='Hospital_type_code')\n",
    "plt.title(\"병원이 위치한 각 지역에 존재하는 병원 유형 분포도\", fontsize=25, color='blue')\n",
    "plt.xlabel('병원이 위치한 지역', fontsize=20)\n",
    "plt.ylabel('해당 병원에 입원한 환자 수', fontsize=20)\n",
    "plt.show()"
   ]
  },
  {
   "cell_type": "markdown",
   "metadata": {},
   "source": [
    "- X라는 지역에는\n",
    "    * a라는 유형의 병원에 입원한 환자가 압도적으로 가장 많으며 적은 입원환자 숫자를 기록했지만 b, e 유형의 병원에도 입원\n",
    "- Y라는 지역에는\n",
    "    * a,b 유형의 병원에 입원환자 대부분이 입원했으며 소수의 환자들은 f,d,g 유형의 병원에 입원\n",
    "- Z라는 지역에는\n",
    "    * c라는 유형의 병원에 입원환자 대부분이 입원했으며 소수의 환자들은 a, d 유형의 병원에 입원<br><br>\n",
    "    \n",
    "- 따라서,\n",
    "    * **X지역**에는 a 유형의 병원이 많이 존재하며 b, e 유형의 병원은 소수 존재\n",
    "    * **Y지역**에는 a,b 유형의 병원이 대부분 존재하며, f,d,g 유형의 병원은 소수 존재\n",
    "    * **Z지역**에는 c 유형의 병원이 대부분 존재하며, a, d 유형의 병원이 소수 존재"
   ]
  },
  {
   "cell_type": "code",
   "execution_count": 19,
   "metadata": {},
   "outputs": [
    {
     "data": {
      "text/plain": [
       "<matplotlib.legend.Legend at 0x7fdf5ba5b810>"
      ]
     },
     "execution_count": 19,
     "metadata": {},
     "output_type": "execute_result"
    },
    {
     "data": {
      "image/png": "[encoded data removed]",
      "text/plain": [
       "<Figure size 1080x720 with 1 Axes>"
      ]
     },
     "metadata": {
      "needs_background": "light"
     },
     "output_type": "display_data"
    }
   ],
   "source": [
    "# 병원이 위치한 도시코드와 지역코드들이 서로 어디에 속하는지 살펴보기\n",
    "# 참고로 Region(지역)이 City(도시)보다 상위의 개념\n",
    "region_city_df = hospital_df.groupby(['Hospital_region_code','City_Code_Hospital']).agg({'City_Code_Hospital':'count'}).rename(columns={'City_Code_Hospital':'count'}).reset_index()\n",
    "\n",
    "plt.figure(figsize=(15,10))\n",
    "sns.barplot(data=region_city_df, x='City_Code_Hospital', y='count', hue='Hospital_region_code')\n",
    "plt.title('Relation between region and code in Hospital', fontsize=30, color='red', pad=10)\n",
    "plt.xlabel('City Code in Hospital', fontsize=25)\n",
    "plt.ylabel('Count of admission', fontsize=25)\n",
    "plt.legend(loc='upper right')"
   ]
  },
  {
   "cell_type": "markdown",
   "metadata": {},
   "source": [
    "#### 병원이 위치한 지역별 입원 환자수를 기반으로 해당 지역에 거주하는 인구 수 추론"
   ]
  },
  {
   "cell_type": "code",
   "execution_count": 20,
   "metadata": {},
   "outputs": [
    {
     "data": {
      "text/html": [
       "<div>\n",
       "<style scoped>\n",
       "    .dataframe tbody tr th:only-of-type {\n",
       "        vertical-align: middle;\n",
       "    }\n",
       "\n",
       "    .dataframe tbody tr th {\n",
       "        vertical-align: top;\n",
       "    }\n",
       "\n",
       "    .dataframe thead th {\n",
       "        text-align: right;\n",
       "    }\n",
       "</style>\n",
       "<table border=\"1\" class=\"dataframe\">\n",
       "  <thead>\n",
       "    <tr style=\"text-align: right;\">\n",
       "      <th></th>\n",
       "      <th>count</th>\n",
       "    </tr>\n",
       "    <tr>\n",
       "      <th>Hospital_region_code</th>\n",
       "      <th></th>\n",
       "    </tr>\n",
       "  </thead>\n",
       "  <tbody>\n",
       "    <tr>\n",
       "      <th>X</th>\n",
       "      <td>133336</td>\n",
       "    </tr>\n",
       "    <tr>\n",
       "      <th>Y</th>\n",
       "      <td>122428</td>\n",
       "    </tr>\n",
       "    <tr>\n",
       "      <th>Z</th>\n",
       "      <td>62674</td>\n",
       "    </tr>\n",
       "  </tbody>\n",
       "</table>\n",
       "</div>"
      ],
      "text/plain": [
       "                       count\n",
       "Hospital_region_code        \n",
       "X                     133336\n",
       "Y                     122428\n",
       "Z                      62674"
      ]
     },
     "execution_count": 20,
     "metadata": {},
     "output_type": "execute_result"
    }
   ],
   "source": [
    "# 병원 지역별 입원 환자 수는 결국 그 지역에 거주하는 인구수랑 비례할 것이다.\n",
    "admi_count = hospital_df.groupby(['Hospital_region_code']).agg({'Hospital_region_code':'count'}).rename(columns={'Hospital_region_code':'count'})\n",
    "admi_count = admi_count.sort_values(by='count', ascending=False)\n",
    "admi_count"
   ]
  },
  {
   "cell_type": "markdown",
   "metadata": {},
   "source": [
    "- ``X지역 : 1번, 4번, 6번, 11번 도시``\n",
    "- ``Y지역 : 2번, 7번, 9번, 10번, 13번 도시``\n",
    "- ``Z지역 : 3번, 5번 도시``<br><br>\n",
    "\n",
    "- X지역에는 a 유형의 병원이 많이 존재하며 e, b 유형의 병원은 소수 존재\n",
    "- Y지역에는 a,b 유형의 병원이 대부분 존재하며, f,d,g 유형의 병원은 소수 존재\n",
    "- Z지역에는 c 유형의 병원이 대부분 존재하며, a, d 유형의 병원이 소수 존재\n",
    "<br><br>\n",
    "\n",
    "**위 3가지 분석으로 보아**\n",
    "- X지역에는 1,4,6,11번 도시가 속하며 1,4,6,11번 도시에는 ``a유형의 병원이 대부분``. b,e 유형도 극소수 존재\n",
    "- Y지역에는 2,7,9,10,13번 도시가 속하며 ``b, a유형의 병원이 대부분``. f,d,g 유형도 극소수 존재\n",
    "- Z지역에는 3,5번 도시가 속하며 ``c 유형의 병원이 대부분``. a,d 유형도 극소수 존재\n",
    "<br><br>\n",
    "- **``X,Y 지역에 사람들이 가장 많이 살며, X,Y 지역의 절반에 해당하는 인구수가 Z지역에 살 것으로 추측``**\n",
    "- 따라서, **``a유형의 병원은 X,Y지역에 모두 대부분 자리잡고 있으며 대형병원일 가능성이 높다!``**\n",
    "- 또한 Y지역에는 b 유형, Z지역에는 c 유형의 병원이 대부분이며 이 병원들에 대한 크기는 추론 불가"
   ]
  },
  {
   "cell_type": "markdown",
   "metadata": {},
   "source": [
    "#### 첫 번째 가설 검정\n",
    "- 병원 유형과 재원일수 변수간에 독립적인 관계가 아님이 증명\n",
    "- a유형의 크기에 대해서는 ``대형병원``일 것임을 추론\n",
    "- 하지만 병원 유형과 병원 지역, 병원 위치의 익명화로 정확이 어떤 병원 유형인지, 병원 위치가 어디인지는 파악 불가"
   ]
  },
  {
   "cell_type": "markdown",
   "metadata": {},
   "source": [
    "### 두 번째 가설\n",
    "- ``병원에서 이용가능한 여분의 병실 수가 적을수록 재원기간 수는 짧을 것이다.``\n"
   ]
  },
  {
   "cell_type": "code",
   "execution_count": 21,
   "metadata": {
    "scrolled": true
   },
   "outputs": [
    {
     "data": {
      "text/plain": [
       "array([ 0,  4,  3,  1,  5,  2,  7, 10,  8,  6,  9])"
      ]
     },
     "execution_count": 21,
     "metadata": {},
     "output_type": "execute_result"
    }
   ],
   "source": [
    "# 여분 병실 이용 수, 재원일수 변수 추출\n",
    "extra_rooms = train[['Available Extra Rooms in Hospital','Stay']]\n",
    "# 재원일수 level이 서열척도 이므로 긴 재원일수면 높은 scala값으로 레이블링\n",
    "from sklearn.preprocessing import LabelEncoder\n",
    "import warnings\n",
    "warnings.filterwarnings(action='ignore')\n",
    "\n",
    "encoder = LabelEncoder()\n",
    "extra_rooms['Stay'] = encoder.fit_transform(extra_rooms['Stay'])\n",
    "extra_rooms['Stay'].unique()"
   ]
  },
  {
   "cell_type": "code",
   "execution_count": 22,
   "metadata": {},
   "outputs": [
    {
     "data": {
      "text/plain": [
       "Index(['Available Extra Rooms in Hospital', 'Stay'], dtype='object')"
      ]
     },
     "execution_count": 22,
     "metadata": {},
     "output_type": "execute_result"
    }
   ],
   "source": [
    "extra_rooms.columns"
   ]
  },
  {
   "cell_type": "code",
   "execution_count": 23,
   "metadata": {},
   "outputs": [
    {
     "data": {
      "image/png": "[encoded data removed]",
      "text/plain": [
       "<Figure size 432x288 with 1 Axes>"
      ]
     },
     "metadata": {
      "needs_background": "light"
     },
     "output_type": "display_data"
    }
   ],
   "source": [
    "# 산점도로 살펴보기\n",
    "sns.scatterplot(data=extra_rooms, x='Available Extra Rooms in Hospital', y='Stay')\n",
    "plt.title('Scatter plot of Extra rooms and Stay', fontsize=20, color='red')\n",
    "plt.xlabel('Number of extra rooms', fontsize=15)\n",
    "plt.ylabel('Label of stay', fontsize=15)\n",
    "plt.show()"
   ]
  },
  {
   "cell_type": "markdown",
   "metadata": {},
   "source": [
    "- 산점도로 보아 두 변수간의 선형관계는 보이지 않는 듯 하다."
   ]
  },
  {
   "cell_type": "code",
   "execution_count": 24,
   "metadata": {},
   "outputs": [
    {
     "data": {
      "text/plain": [
       "<AxesSubplot:>"
      ]
     },
     "execution_count": 24,
     "metadata": {},
     "output_type": "execute_result"
    },
    {
     "data": {
      "image/png": "[encoded data removed]",
      "text/plain": [
       "<Figure size 432x288 with 2 Axes>"
      ]
     },
     "metadata": {
      "needs_background": "light"
     },
     "output_type": "display_data"
    }
   ],
   "source": [
    "# 두 변수간 상관계수로 관계 살펴보기\n",
    "corr = extra_rooms.corr()\n",
    "sns.heatmap(corr, cmap='Blues', annot=True)"
   ]
  },
  {
   "cell_type": "markdown",
   "metadata": {},
   "source": [
    "- 상관계수값이 -0.12로 두 변수간의 관계는 없는 것으로 판단"
   ]
  },
  {
   "cell_type": "markdown",
   "metadata": {},
   "source": [
    "#### 두 번째 가설 검정\n",
    "\n",
    "- 병원의 여분 병실수와 재원일수간에는 관계가 없는 것으로 판단\n",
    "- 따라서 두 번째 가설 기각!"
   ]
  },
  {
   "cell_type": "markdown",
   "metadata": {},
   "source": [
    "### 세 번째 가설\n",
    "\n",
    "- 입원 환자의 질병에 따라 재원기간 수가 유의미한 차이를 보일 것이다.\n",
    "    * 이 때, 입원 환자의 질병 종류는 해당 입원을 관리하고 있는 부서 종류로 추측 가능"
   ]
  },
  {
   "cell_type": "markdown",
   "metadata": {},
   "source": [
    "- 우선 Department의 level값들을 살펴보면서 어떤 부서가 있는지 살펴보자"
   ]
  },
  {
   "cell_type": "code",
   "execution_count": 25,
   "metadata": {},
   "outputs": [
    {
     "data": {
      "text/plain": [
       "array(['radiotherapy', 'anesthesia', 'gynecology', 'TB & Chest disease',\n",
       "       'surgery'], dtype=object)"
      ]
     },
     "execution_count": 25,
     "metadata": {},
     "output_type": "execute_result"
    }
   ],
   "source": [
    "train['Department'].unique()"
   ]
  },
  {
   "cell_type": "markdown",
   "metadata": {},
   "source": [
    "- <a href='https://ko.wikipedia.org/wiki/%EB%B0%A9%EC%82%AC%EC%84%A0%EC%A2%85%EC%96%91%ED%95%99%EA%B3%BC'>radiotherapy</a> : 방사선종양학과(암 환자 치료 부서)\n",
    "- <a href='https://ko.wikipedia.org/wiki/%EB%A7%88%EC%B7%A8'>anesthesia</a> : 마취통증의학과(마취부서)\n",
    "- <a href='https://ko.wikipedia.org/wiki/%EC%97%AC%EC%84%B1%EC%9D%98%ED%95%99%EA%B3%BC'>gynecology</a> : 여성의학과 또는 부인과는 여성의 생식 기관을 다루는 의학 분야\n",
    "- <a href='http://www.amc.seoul.kr/asan/healthinfo/disease/diseaseDetail.do?contentId=31528'>TB & Chest disease</a> : 만성폐쇄성 폐질환\n",
    "- surgery : 외과수술"
   ]
  },
  {
   "cell_type": "markdown",
   "metadata": {},
   "source": [
    "#### 이원 카이스퀘어 검정을 통해 두 범주형 변수간의 관계 검정"
   ]
  },
  {
   "cell_type": "code",
   "execution_count": 26,
   "metadata": {},
   "outputs": [
    {
     "data": {
      "text/html": [
       "<div>\n",
       "<style scoped>\n",
       "    .dataframe tbody tr th:only-of-type {\n",
       "        vertical-align: middle;\n",
       "    }\n",
       "\n",
       "    .dataframe tbody tr th {\n",
       "        vertical-align: top;\n",
       "    }\n",
       "\n",
       "    .dataframe thead th {\n",
       "        text-align: right;\n",
       "    }\n",
       "</style>\n",
       "<table border=\"1\" class=\"dataframe\">\n",
       "  <thead>\n",
       "    <tr style=\"text-align: right;\">\n",
       "      <th>Department</th>\n",
       "      <th>TB &amp; Chest disease</th>\n",
       "      <th>anesthesia</th>\n",
       "      <th>gynecology</th>\n",
       "      <th>radiotherapy</th>\n",
       "      <th>surgery</th>\n",
       "    </tr>\n",
       "    <tr>\n",
       "      <th>Stay</th>\n",
       "      <th></th>\n",
       "      <th></th>\n",
       "      <th></th>\n",
       "      <th></th>\n",
       "      <th></th>\n",
       "    </tr>\n",
       "  </thead>\n",
       "  <tbody>\n",
       "    <tr>\n",
       "      <th>0-10</th>\n",
       "      <td>791</td>\n",
       "      <td>1519</td>\n",
       "      <td>18849</td>\n",
       "      <td>2379</td>\n",
       "      <td>66</td>\n",
       "    </tr>\n",
       "    <tr>\n",
       "      <th>11-20</th>\n",
       "      <td>2379</td>\n",
       "      <td>8823</td>\n",
       "      <td>59690</td>\n",
       "      <td>6988</td>\n",
       "      <td>259</td>\n",
       "    </tr>\n",
       "    <tr>\n",
       "      <th>21-30</th>\n",
       "      <td>2618</td>\n",
       "      <td>8950</td>\n",
       "      <td>68383</td>\n",
       "      <td>7263</td>\n",
       "      <td>277</td>\n",
       "    </tr>\n",
       "    <tr>\n",
       "      <th>31-40</th>\n",
       "      <td>1753</td>\n",
       "      <td>4958</td>\n",
       "      <td>43535</td>\n",
       "      <td>4713</td>\n",
       "      <td>200</td>\n",
       "    </tr>\n",
       "    <tr>\n",
       "      <th>41-50</th>\n",
       "      <td>300</td>\n",
       "      <td>851</td>\n",
       "      <td>9671</td>\n",
       "      <td>879</td>\n",
       "      <td>42</td>\n",
       "    </tr>\n",
       "  </tbody>\n",
       "</table>\n",
       "</div>"
      ],
      "text/plain": [
       "Department  TB & Chest disease  anesthesia  gynecology  radiotherapy  surgery\n",
       "Stay                                                                         \n",
       "0-10                       791        1519       18849          2379       66\n",
       "11-20                     2379        8823       59690          6988      259\n",
       "21-30                     2618        8950       68383          7263      277\n",
       "31-40                     1753        4958       43535          4713      200\n",
       "41-50                      300         851        9671           879       42"
      ]
     },
     "execution_count": 26,
     "metadata": {},
     "output_type": "execute_result"
    }
   ],
   "source": [
    "department = train[['Department','Stay']]\n",
    "group_df = department.groupby(['Stay','Department']).agg({'Department':'count'}).rename(columns={'Department':'count'}).reset_index()\n",
    "pivot_df = pd.pivot_table(data=group_df, index='Stay', values='count', columns='Department')\n",
    "pivot_df.head()"
   ]
  },
  {
   "cell_type": "code",
   "execution_count": 27,
   "metadata": {},
   "outputs": [
    {
     "data": {
      "text/plain": [
       "[[791, 1519, 18849, 2379, 66],\n",
       " [2379, 8823, 59690, 6988, 259],\n",
       " [2618, 8950, 68383, 7263, 277],\n",
       " [1753, 4958, 43535, 4713, 200],\n",
       " [300, 851, 9671, 879, 42],\n",
       " [1047, 2527, 27989, 3256, 199],\n",
       " [76, 173, 2226, 264, 5],\n",
       " [294, 703, 8165, 1043, 49],\n",
       " [140, 384, 3748, 528, 38],\n",
       " [64, 156, 2269, 256, 20],\n",
       " [124, 605, 4961, 947, 46]]"
      ]
     },
     "execution_count": 27,
     "metadata": {},
     "output_type": "execute_result"
    }
   ],
   "source": [
    "# 카이제곱검정으로 넣어줄 각 행 리스트 컴프리헨션으로 미리 넣어서 추후에 카이제곱검정 인자에 넣어줄 변수명 입력 불편함 줄여주기\n",
    "chisq2_arg = [pivot_df.iloc[i].tolist() for i in range(pivot_df.shape[0])]\n",
    "chisq2_arg"
   ]
  },
  {
   "cell_type": "code",
   "execution_count": 28,
   "metadata": {},
   "outputs": [
    {
     "name": "stdout",
     "output_type": "stream",
     "text": [
      "카이제곱통계량:  1618.9226\n",
      "P-value: 0.0\n",
      "자유도: 40\n",
      "\n"
     ]
    },
    {
     "data": {
      "text/html": [
       "<div>\n",
       "<style scoped>\n",
       "    .dataframe tbody tr th:only-of-type {\n",
       "        vertical-align: middle;\n",
       "    }\n",
       "\n",
       "    .dataframe tbody tr th {\n",
       "        vertical-align: top;\n",
       "    }\n",
       "\n",
       "    .dataframe thead th {\n",
       "        text-align: right;\n",
       "    }\n",
       "</style>\n",
       "<table border=\"1\" class=\"dataframe\">\n",
       "  <thead>\n",
       "    <tr style=\"text-align: right;\">\n",
       "      <th>Department</th>\n",
       "      <th>TB &amp; Chest disease</th>\n",
       "      <th>anesthesia</th>\n",
       "      <th>gynecology</th>\n",
       "      <th>radiotherapy</th>\n",
       "      <th>surgery</th>\n",
       "    </tr>\n",
       "    <tr>\n",
       "      <th>Stay</th>\n",
       "      <th></th>\n",
       "      <th></th>\n",
       "      <th></th>\n",
       "      <th></th>\n",
       "      <th></th>\n",
       "    </tr>\n",
       "  </thead>\n",
       "  <tbody>\n",
       "    <tr>\n",
       "      <th>0-10</th>\n",
       "      <td>711.0</td>\n",
       "      <td>2198.0</td>\n",
       "      <td>18493.0</td>\n",
       "      <td>2114.0</td>\n",
       "      <td>89.0</td>\n",
       "    </tr>\n",
       "    <tr>\n",
       "      <th>11-20</th>\n",
       "      <td>2352.0</td>\n",
       "      <td>7275.0</td>\n",
       "      <td>61219.0</td>\n",
       "      <td>6997.0</td>\n",
       "      <td>295.0</td>\n",
       "    </tr>\n",
       "    <tr>\n",
       "      <th>21-30</th>\n",
       "      <td>2634.0</td>\n",
       "      <td>8146.0</td>\n",
       "      <td>68546.0</td>\n",
       "      <td>7835.0</td>\n",
       "      <td>330.0</td>\n",
       "    </tr>\n",
       "    <tr>\n",
       "      <th>31-40</th>\n",
       "      <td>1660.0</td>\n",
       "      <td>5136.0</td>\n",
       "      <td>43215.0</td>\n",
       "      <td>4939.0</td>\n",
       "      <td>208.0</td>\n",
       "    </tr>\n",
       "    <tr>\n",
       "      <th>41-50</th>\n",
       "      <td>354.0</td>\n",
       "      <td>1093.0</td>\n",
       "      <td>9200.0</td>\n",
       "      <td>1052.0</td>\n",
       "      <td>44.0</td>\n",
       "    </tr>\n",
       "    <tr>\n",
       "      <th>51-60</th>\n",
       "      <td>1054.0</td>\n",
       "      <td>3260.0</td>\n",
       "      <td>27435.0</td>\n",
       "      <td>3136.0</td>\n",
       "      <td>132.0</td>\n",
       "    </tr>\n",
       "    <tr>\n",
       "      <th>61-70</th>\n",
       "      <td>83.0</td>\n",
       "      <td>255.0</td>\n",
       "      <td>2150.0</td>\n",
       "      <td>246.0</td>\n",
       "      <td>10.0</td>\n",
       "    </tr>\n",
       "    <tr>\n",
       "      <th>71-80</th>\n",
       "      <td>309.0</td>\n",
       "      <td>955.0</td>\n",
       "      <td>8034.0</td>\n",
       "      <td>918.0</td>\n",
       "      <td>39.0</td>\n",
       "    </tr>\n",
       "    <tr>\n",
       "      <th>81-90</th>\n",
       "      <td>146.0</td>\n",
       "      <td>450.0</td>\n",
       "      <td>3790.0</td>\n",
       "      <td>433.0</td>\n",
       "      <td>18.0</td>\n",
       "    </tr>\n",
       "    <tr>\n",
       "      <th>91-100</th>\n",
       "      <td>83.0</td>\n",
       "      <td>257.0</td>\n",
       "      <td>2166.0</td>\n",
       "      <td>248.0</td>\n",
       "      <td>10.0</td>\n",
       "    </tr>\n",
       "    <tr>\n",
       "      <th>More than 100 Days</th>\n",
       "      <td>201.0</td>\n",
       "      <td>622.0</td>\n",
       "      <td>5236.0</td>\n",
       "      <td>598.0</td>\n",
       "      <td>25.0</td>\n",
       "    </tr>\n",
       "  </tbody>\n",
       "</table>\n",
       "</div>"
      ],
      "text/plain": [
       "Department          TB & Chest disease  anesthesia  gynecology  radiotherapy  \\\n",
       "Stay                                                                           \n",
       "0-10                             711.0      2198.0     18493.0        2114.0   \n",
       "11-20                           2352.0      7275.0     61219.0        6997.0   \n",
       "21-30                           2634.0      8146.0     68546.0        7835.0   \n",
       "31-40                           1660.0      5136.0     43215.0        4939.0   \n",
       "41-50                            354.0      1093.0      9200.0        1052.0   \n",
       "51-60                           1054.0      3260.0     27435.0        3136.0   \n",
       "61-70                             83.0       255.0      2150.0         246.0   \n",
       "71-80                            309.0       955.0      8034.0         918.0   \n",
       "81-90                            146.0       450.0      3790.0         433.0   \n",
       "91-100                            83.0       257.0      2166.0         248.0   \n",
       "More than 100 Days               201.0       622.0      5236.0         598.0   \n",
       "\n",
       "Department          surgery  \n",
       "Stay                         \n",
       "0-10                   89.0  \n",
       "11-20                 295.0  \n",
       "21-30                 330.0  \n",
       "31-40                 208.0  \n",
       "41-50                  44.0  \n",
       "51-60                 132.0  \n",
       "61-70                  10.0  \n",
       "71-80                  39.0  \n",
       "81-90                  18.0  \n",
       "91-100                 10.0  \n",
       "More than 100 Days     25.0  "
      ]
     },
     "execution_count": 28,
     "metadata": {},
     "output_type": "execute_result"
    }
   ],
   "source": [
    "from scipy.stats import chi2_contingency\n",
    "\n",
    "chi2, p, df, expected = chi2_contingency(chisq2_arg)\n",
    "expected_df = pd.DataFrame(data=np.round(expected,0), columns=pivot_df.columns, index=pivot_df.index)\n",
    "\n",
    "print(f\"카이제곱통계량: {chi2: .4f}\\nP-value: {p}\\n자유도: {df}\")\n",
    "print()\n",
    "expected_df\n",
    "\n",
    "# 자유도 = (Stay level개수 -1) * (Department level개수 -1) = (11-1)*(5-1) = 40"
   ]
  },
  {
   "cell_type": "markdown",
   "metadata": {},
   "source": [
    "- P-value값이 유의수준 0.05보다 작으므로 귀무가설을 기각\n",
    "- 따라서, 재원일수(Stay)와 부서(Department)간에 관계가 있음\n",
    "- 하지만 자세하게 시각화를 해서 얼마나 관계가 있는지 파악할 필요. 통계 검정 하나만으로 변수 관계여부 판단의 절대적 기준이 될 순 없음"
   ]
  },
  {
   "cell_type": "code",
   "execution_count": 29,
   "metadata": {},
   "outputs": [
    {
     "data": {
      "image/png": "[encoded data removed]",
      "text/plain": [
       "<Figure size 1080x720 with 2 Axes>"
      ]
     },
     "metadata": {
      "needs_background": "light"
     },
     "output_type": "display_data"
    }
   ],
   "source": [
    "# 부서별로 재원일수의 빈도수를 살펴보자\n",
    "fig, axes = plt.subplots(figsize=(15,10), ncols=1, nrows=2)\n",
    "sns.barplot(data=group_df, x='Stay', y='count', hue='Department', ax=axes[0])\n",
    "sns.barplot(data=group_df, x='Stay', y='count', hue='Department', ax=axes[1])\n",
    "\n",
    "axes[0].set_title('Counts of Department per Stay period', fontsize=20, color='red')\n",
    "axes[0].set_xlabel('Period of Stay', fontsize=15)\n",
    "axes[0].set_ylabel('Counts of admission', fontsize=15)\n",
    "\n",
    "axes[1].set_title('Counts of Department per Stay period(decrease range of Y value)', fontsize=20, color='red')\n",
    "axes[1].set_xlabel('Period of Stay', fontsize=15)\n",
    "axes[1].set_ylabel('Counts of admission', fontsize=15)\n",
    "axes[1].set_ylim(0, 10000)\n",
    "\n",
    "plt.tight_layout()\n",
    "plt.show()"
   ]
  },
  {
   "cell_type": "markdown",
   "metadata": {},
   "source": [
    "- 첫번째 그래프\n",
    "    * 여성 생식기관을 다루는 gynecology가 모든 재원일수중 압도적으로 많은 걸로 보아 ``입원환자들의 대부분은 여성인 것``으로 파악!\n",
    "\n",
    "\n",
    "- 두번째 그래프(가장 많은 gynecology를 제외한 부서들의 비교를 위해 y값 축소)\n",
    "    * 다음으로 가장 많은 것은 마취(anesthesia)와 방사선종양학과(radiotherapy)\n",
    "        * 방사선종양학과의 많은 빈도수로 인해 암 환자들이 많을 것으로 예상\n",
    "        * 하지만 마취는 수술 대부분에서 필수적으로 포함되는 부서라 이를 통한 입원환자의 질병 추측은 사실상 어려움..이에 대한 깊은 도메인 지식 필요 ->조현득 교수님께 '마취 부서로 등록이 되면 보통 무슨 일로 입원을 할까..?'\n",
    "    * 외과수술(surgery)로 입원하는 환자수는 다른 부서에 비해 상대적으로 매우 적은 수치\n",
    "    * COPD 같은 경우에는 재원일수 초반에는 많지만 오랜 기간의 재원일수에는 점점 적어지는 수치...인가? 이것도 애매모호.."
   ]
  },
  {
   "cell_type": "markdown",
   "metadata": {},
   "source": [
    "#### 각 재원일수의 count 합을 구하여 각 재원일수 level 마다 Department 비율 변수 추가하기\n",
    "\n",
    "- ``모델링시 파생변수 가능성? 고려해보자 추후에..``"
   ]
  },
  {
   "cell_type": "code",
   "execution_count": 43,
   "metadata": {},
   "outputs": [
    {
     "data": {
      "text/plain": [
       "{'0-10': 23604,\n",
       " '11-20': 78139,\n",
       " '21-30': 87491,\n",
       " '31-40': 55159,\n",
       " '41-50': 11743,\n",
       " '51-60': 35018,\n",
       " '61-70': 2744,\n",
       " '71-80': 10254,\n",
       " '81-90': 4838,\n",
       " '91-100': 2765,\n",
       " 'More than 100 Days': 6683}"
      ]
     },
     "execution_count": 43,
     "metadata": {},
     "output_type": "execute_result"
    }
   ],
   "source": [
    "# 각 재원일수의 sum이 담겨있는 dict 만들기\n",
    "stay_lst = group_df.Stay.unique().tolist()\n",
    "stay_sum_dict = {}\n",
    "\n",
    "for stay in stay_lst:\n",
    "    level_sum = group_df.loc[group_df['Stay'] == stay, 'count'].sum()\n",
    "    stay_sum_dict[stay] = level_sum\n",
    "stay_sum_dict"
   ]
  },
  {
   "cell_type": "code",
   "execution_count": 45,
   "metadata": {},
   "outputs": [],
   "source": [
    "# 각 재원일수에 맞는 sum 변수 생성\n",
    "group_df['stay_sum'] = ''\n",
    "for i in range(len(group_df)):\n",
    "    group_df.loc[i, 'stay_sum'] = stay_sum_dict[group_df.loc[i, 'Stay']]"
   ]
  },
  {
   "cell_type": "code",
   "execution_count": 69,
   "metadata": {},
   "outputs": [],
   "source": [
    "# 각 재원일수 sum에 맞는 비율 변수 생성\n",
    "# object타입으로 반환되서 float형으로 바꿔주어야 함\n",
    "group_df['ratio_department'] = (group_df['count'] / group_df['stay_sum']) * 100\n",
    "group_df['ratio_department'] = group_df['ratio_department'].astype(float)\n",
    "group_df['ratio_department'] = group_df['ratio_department'].round(3)"
   ]
  },
  {
   "cell_type": "code",
   "execution_count": 84,
   "metadata": {},
   "outputs": [
    {
     "data": {
      "image/png": "[encoded data removed]",
      "text/plain": [
       "<Figure size 2250x1500 with 1 Axes>"
      ]
     },
     "metadata": {
      "needs_background": "light"
     },
     "output_type": "display_data"
    }
   ],
   "source": [
    "plt.figure(figsize=(15,10), dpi=150)\n",
    "sns.barplot(data=group_df, x='Stay', y='ratio_department', hue='Department')\n",
    "\n",
    "plt.title('Ratio of Department per Stay period based on sum of each \"Stay\" level', fontsize=25, color='red')\n",
    "plt.xlabel('Period of Stay', fontsize=20)\n",
    "plt.ylabel('Ratio of admission', fontsize=20)\n",
    "plt.legend(bbox_to_anchor=(1.2, 1))\n",
    "plt.tight_layout()\n",
    "plt.show()"
   ]
  },
  {
   "cell_type": "code",
   "execution_count": null,
   "metadata": {},
   "outputs": [],
   "source": [
    "# 위 그래프 결과 해석부터 시작하기"
   ]
  }
 ],
 "metadata": {
  "hide_input": false,
  "kernelspec": {
   "display_name": "Python 3",
   "language": "python",
   "name": "python3"
  },
  "language_info": {
   "codemirror_mode": {
    "name": "ipython",
    "version": 3
   },
   "file_extension": ".py",
   "mimetype": "text/x-python",
   "name": "python",
   "nbconvert_exporter": "python",
   "pygments_lexer": "ipython3",
   "version": "3.7.7"
  },
  "toc": {
   "base_numbering": 1,
   "nav_menu": {},
   "number_sections": true,
   "sideBar": true,
   "skip_h1_title": false,
   "title_cell": "Table of Contents",
   "title_sidebar": "Contents",
   "toc_cell": false,
   "toc_position": {},
   "toc_section_display": true,
   "toc_window_display": false
  },
  "varInspector": {
   "cols": {
    "lenName": 16,
    "lenType": 16,
    "lenVar": 40
   },
   "kernels_config": {
    "python": {
     "delete_cmd_postfix": "",
     "delete_cmd_prefix": "del ",
     "library": "var_list.py",
     "varRefreshCmd": "print(var_dic_list())"
    },
    "r": {
     "delete_cmd_postfix": ") ",
     "delete_cmd_prefix": "rm(",
     "library": "var_list.r",
     "varRefreshCmd": "cat(var_dic_list()) "
    }
   },
   "types_to_exclude": [
    "module",
    "function",
    "builtin_function_or_method",
    "instance",
    "_Feature"
   ],
   "window_display": false
  }
 },
 "nbformat": 4,
 "nbformat_minor": 4
}

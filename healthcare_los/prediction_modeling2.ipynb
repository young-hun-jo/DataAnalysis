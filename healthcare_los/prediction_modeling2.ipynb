{
 "cells": [
  {
   "cell_type": "markdown",
   "metadata": {},
   "source": [
    "---\n",
    "# 삽질의 흔적"
   ]
  },
  {
   "cell_type": "markdown",
   "metadata": {},
   "source": [
    "## Multi-Logistic Regression"
   ]
  },
  {
   "cell_type": "code",
   "execution_count": null,
   "metadata": {},
   "outputs": [],
   "source": [
    "from sklearn.linear_model import LogisticRegression\n",
    "from sklearn.model_selection import train_test_split\n",
    "from sklearn.metrics import accuracy_score\n",
    "\n",
    "feature = label_df.iloc[:, :-1]\n",
    "target = label_df.iloc[:, -1]\n",
    "\n",
    "X_train, X_test, y_train, y_test = train_test_split(feature, target, test_size=0.3, random_state=42)\n",
    "\n",
    "lr_clf = LogisticRegression(multi_class='multinomial')\n",
    "lr_clf.fit(X_train, y_train)\n",
    "y_pred = lr_clf.predict(X_test)\n",
    "acc = accuracy_score(y_test, y_pred)\n",
    "print(f\"Test 데이터에 대한 정확도: {acc: .4f}\")"
   ]
  },
  {
   "cell_type": "markdown",
   "metadata": {},
   "source": [
    "- Kernel이 죽어버림\n",
    "- 따라서, 병렬연산과 트리기반의 알고리즘을 사용해야 한다.."
   ]
  },
  {
   "cell_type": "markdown",
   "metadata": {},
   "source": [
    "## Tensorflow 딥러닝"
   ]
  },
  {
   "cell_type": "code",
   "execution_count": 12,
   "metadata": {},
   "outputs": [
    {
     "name": "stdout",
     "output_type": "stream",
     "text": [
      "Train shape:  (673680, 19)\n",
      "Test shape:  (288721, 19)\n"
     ]
    }
   ],
   "source": [
    "# 우선 Train : Test 7:3으로 나누기\n",
    "from sklearn.model_selection import train_test_split\n",
    "\n",
    "feature = label_df.iloc[:, :-1]\n",
    "target = label_df.iloc[:, -1]\n",
    "\n",
    "X_train, X_test, y_train, y_test = train_test_split(feature, target,\n",
    "                                                   test_size=0.3,\n",
    "                                                   random_state=42)\n",
    "print(\"Train shape: \", X_train.shape)\n",
    "print(\"Test shape: \", X_test.shape)"
   ]
  },
  {
   "cell_type": "code",
   "execution_count": 13,
   "metadata": {},
   "outputs": [],
   "source": [
    "def next_batch(num, data, labels):\n",
    "    idx = np.arange(0, len(data))\n",
    "    np.random.shuffle(idx)\n",
    "    idx = idx[:num]\n",
    "    data_shuffle = [data[i] for i in idx]\n",
    "    labels_shuffle = [labels[i] for i in idx]\n",
    "    \n",
    "    return np.asarray(data_shuffle), np.asarray(labels_shuffle)"
   ]
  },
  {
   "cell_type": "code",
   "execution_count": 14,
   "metadata": {
    "scrolled": false
   },
   "outputs": [
    {
     "name": "stdout",
     "output_type": "stream",
     "text": [
      "## Epoch:1번 후, 평균 Cost:0.2246, 평균 Accuracy:0.1042\n",
      "\n",
      "## Epoch:2번 후, 평균 Cost:0.2176, 평균 Accuracy:0.1022\n",
      "\n",
      "## Epoch:3번 후, 평균 Cost:0.2170, 평균 Accuracy:0.0998\n",
      "\n",
      "## Epoch:4번 후, 평균 Cost:0.2168, 평균 Accuracy:0.1007\n",
      "\n",
      "## Epoch:5번 후, 평균 Cost:0.2173, 평균 Accuracy:0.1004\n",
      "\n",
      "## Epoch:6번 후, 평균 Cost:0.2170, 평균 Accuracy:0.0987\n",
      "\n",
      "## Epoch:7번 후, 평균 Cost:0.2173, 평균 Accuracy:0.0993\n",
      "\n",
      "## Epoch:8번 후, 평균 Cost:0.2169, 평균 Accuracy:0.0993\n",
      "\n",
      "## Epoch:9번 후, 평균 Cost:0.2171, 평균 Accuracy:0.1003\n",
      "\n",
      "## Epoch:10번 후, 평균 Cost:0.2168, 평균 Accuracy:0.0996\n",
      "\n"
     ]
    }
   ],
   "source": [
    "import tensorflow as tf\n",
    "\n",
    "X_train = X_train.values\n",
    "y_train = y_train.values\n",
    "\n",
    "y_train_ohe = tf.one_hot(y_train, 10)\n",
    "\n",
    "num_classes = 10\n",
    "\n",
    "X = tf.placeholder(tf.float32, shape=[None, 19])\n",
    "y = tf.placeholder(tf.float32, shape=[None, num_classes])\n",
    "\n",
    "# layer1 - RELU\n",
    "W1 = tf.Variable(tf.random_normal([19, 256]), name='weight1')\n",
    "b1 = tf.Variable(tf.random_normal([256]), name='bias1')\n",
    "layer1 = tf.nn.sigmoid(tf.matmul(X, W1) + b1)\n",
    "# layer2 - RELU\n",
    "W2 = tf.Variable(tf.random_normal([256, 1024]), name='weight2')\n",
    "b2 = tf.Variable(tf.random_normal([1024]), name='bias2')\n",
    "layer2 = tf.nn.relu(tf.matmul(layer1, W2) + b2)\n",
    "# layer3 - RELU\n",
    "W3 = tf.Variable(tf.random_normal([1024, 512]), name='weight3')\n",
    "b3 = tf.Variable(tf.random_normal([512]), name='bias3')\n",
    "layer3 = tf.nn.sigmoid(tf.matmul(layer2, W3) + b3)\n",
    "# layer4 - Softmax로 최종 분류\n",
    "W4 = tf.Variable(tf.random_normal([512, num_classes]), name='weight4')\n",
    "b4 = tf.Variable(tf.random_normal([num_classes]), name='bias4')\n",
    "hypothesis = tf.nn.softmax(tf.matmul(layer3, W4) + b4)\n",
    "\n",
    "# cost function - multi_class cross entropy\n",
    "cost = -tf.reduce_mean(tf.reduce_mean(y * tf.log(hypothesis), axis=1))\n",
    "# SGD\n",
    "train = tf.train.AdamOptimizer(learning_rate=0.01).minimize(cost)\n",
    "\n",
    "correct_pred = tf.equal(tf.argmax(hypothesis, 1), tf.argmax(y, 1))\n",
    "accuracy = tf.reduce_mean(tf.cast(correct_pred, dtype=tf.float32))\n",
    "\n",
    "num_epoch = 10\n",
    "batch_size = 200\n",
    "num_iter = int(X_train.shape[0] / batch_size)\n",
    "\n",
    "with tf.Session() as sess:\n",
    "    sess.run(tf.global_variables_initializer())\n",
    "    for epoch in range(num_epoch):\n",
    "        # epoch 한 번 수행한 후 평균 cost 계산하기 위해 정의\n",
    "        avg_cost = 0\n",
    "        avg_acc = 0\n",
    "        # iteration \n",
    "        for i in range(num_iter):\n",
    "            batch = next_batch(batch_size, X_train, y_train_ohe.eval())\n",
    "            \n",
    "            _, cost_val, acc_val = sess.run([train, cost, accuracy], feed_dict={X: batch[0],\n",
    "                                                            y: batch[1]})\n",
    "            # Epoch 한번 수행할 동안 평균 cost값 계속 계산\n",
    "            avg_cost += cost_val / num_iter\n",
    "            avg_acc  += acc_val / num_iter\n",
    "        print(f\"## Epoch:{epoch+1}번 후, 평균 Cost:{avg_cost:.4f}, 평균 Accuracy:{avg_acc:.4f}\")\n",
    "        print()"
   ]
  },
  {
   "cell_type": "markdown",
   "metadata": {},
   "source": [
    "- Tensorflow 딥러닝 성능이 매우 낮다. 이럴바엔 차라리 트리, GPU기반 머신러닝모델로 해결!"
   ]
  },
  {
   "cell_type": "markdown",
   "metadata": {},
   "source": [
    "## Hybrid Voting\n",
    "\n",
    "- Logistic Regression\n",
    "- Random Forest\n",
    "- Light GBM "
   ]
  },
  {
   "cell_type": "code",
   "execution_count": null,
   "metadata": {},
   "outputs": [],
   "source": [
    "from sklearn.model_selection import train_test_split\n",
    "from sklearn.metrics import accuracy_score\n",
    "from sklearn.ensemble import VotingClassifier\n",
    "from sklearn.linear_model import LogisticRegression\n",
    "from sklearn.ensemble import RandomForestClassifier\n",
    "from lightgbm import LGBMClassifier\n",
    "\n",
    "feature = label_df.iloc[:, :-1]\n",
    "target = label_df.iloc[:, -1]\n",
    "\n",
    "lr_clf = LogisticRegression(multi_class='multinomial')\n",
    "rf_clf = RandomForestClassifier(n_estimators=200,\n",
    "                               criterion='entropy')\n",
    "lgbm_clf = LGBMClassifier(n_estimators=400, objective='multiclass',\n",
    "                         learning_rate=42, random_state=42)\n",
    "\n",
    "vo_clf = VotingClassifier(estimators=[('LR', lr_clf),\n",
    "                                     ('RF', rf_clf),\n",
    "                                     ('LGBM', lgbm_clf)],\n",
    "                         voting='hard')\n",
    "\n",
    "X_train, X_test, y_train, y_test = train_test_split(feature,\n",
    "                                                   target,\n",
    "                                                   test_size=0.2,\n",
    "                                                   random_state=43)\n",
    "\n",
    "vo_clf.fit(X_train, y_train)\n",
    "y_pred = vo_clf.predict(X_test)\n",
    "accuracy = accuracy_score(y_test, y_pred)\n",
    "print(f\"정확도: {accuracy :.4f}\")"
   ]
  },
  {
   "cell_type": "markdown",
   "metadata": {},
   "source": [
    "- Kernel 죽어버림.."
   ]
  },
  {
   "cell_type": "markdown",
   "metadata": {},
   "source": [
    "---"
   ]
  },
  {
   "cell_type": "markdown",
   "metadata": {},
   "source": [
    "# 모델링\n",
    "- 레이블 인코딩한 데이터\n",
    "    * 오버샘플링 하지 않은 데이터 - 학습시 Cost-sensitive learning 사용해 클래스 불균형 해소 예정\n",
    "    * SMOTE NC 오버샘플링한 데이터\n",
    "<br><br>\n",
    "- 원-핫 인코딩한 데이터-> ``메모리 과부하 걸려서 Kernel이 죽어버림..``\n",
    "    * 오버샘플링 하지 않은 데이터 - 학습시 Cost-sensitive learning 사용해 클래스 불균형 해소 예정\n",
    "    * SMOTE NC 오버샘플링한 데이터 \n",
    "    \n",
    "<br>\n",
    "\n",
    "- 모델링 삽질 결과, ``원-핫 인코딩 데이터``는 컴퓨팅 연산으로 Kernel이 죽어버림\n",
    "- 뿐만 아니라 트리기반 알고리즘에 ``원-핫 인코딩 데이터``는 부적절\n",
    "- 따라서, 트리기반 알고리즘을 사용하기 위해 **``레이블인코딩``** 데이터 사용\n",
    "- 또한 클래스 불균형이 존재하는 원본 데이터 -> 40%낮은 성능을 보임\n",
    "    * cost-sensitive learning 시도해보기\n",
    "- 하지만 SMOTE 오버샘플링을 이용한 데이터 -> 79%까지 성능 향상"
   ]
  },
  {
   "cell_type": "code",
   "execution_count": 1,
   "metadata": {},
   "outputs": [],
   "source": [
    "import pandas as pd\n",
    "import numpy as np\n",
    "import os\n",
    "os.chdir('/Users/younghun/Desktop/gitrepo/data/healthcare/encoding_df')"
   ]
  },
  {
   "cell_type": "code",
   "execution_count": 2,
   "metadata": {},
   "outputs": [],
   "source": [
    "# index_col=[0] : index 칼럼을 0번째 칼럼으로 설정해서 Unnamed 제거시키기\n",
    "\n",
    "label_df = pd.read_csv('label_df.csv', index_col=[0])\n",
    "label_smote_df = pd.read_csv('label_smote_df.csv', index_col=[0])\n",
    "#ohe_df = pd.read_csv('ohe_df.csv', index_col=[0])\n",
    "#ohe_smote_df = pd.read_csv('ohe_smote_df.csv')"
   ]
  },
  {
   "cell_type": "markdown",
   "metadata": {},
   "source": [
    "- 두 개의 dataframe으로 개별적으로 저장한 이유: SMOTE하는 시간이 약 10분걸리므로 시간 단축하기 위해 개별 csv파일 2개로 저장 후 로드함"
   ]
  },
  {
   "cell_type": "markdown",
   "metadata": {},
   "source": [
    "## 데이터 분할\n",
    "\n",
    "- Train : Validation : Test = 6 : 2 : 2로 분할\n",
    "    * 해당 비율로 성능 좋을 시, Test 비율을 늘려 실제 상용화에 근접한 상황까지 고려"
   ]
  },
  {
   "cell_type": "code",
   "execution_count": 4,
   "metadata": {},
   "outputs": [
    {
     "name": "stdout",
     "output_type": "stream",
     "text": [
      "Train 데이터 개수/비율:191062,59%\n",
      "Validation 데이터 개수/비율:63688,20%\n",
      "Test 데이터 개수/비율:63688,20%\n"
     ]
    }
   ],
   "source": [
    "from sklearn.model_selection import train_test_split\n",
    "\n",
    "feature = label_df.iloc[:,:-1]\n",
    "target = label_df.iloc[:, -1]\n",
    "\n",
    "X_train, X_val_test, y_train, y_val_test = train_test_split(feature, target, test_size=0.4, random_state=42)\n",
    "\n",
    "X_val, X_test, y_val, y_test = train_test_split(X_val_test, y_val_test, test_size=0.5, random_state=43)\n",
    "\n",
    "print(f\"Train 데이터 개수/비율:{X_train.shape[0]},{int((X_train.shape[0]/feature.shape[0])*100)}%\")\n",
    "print(f\"Validation 데이터 개수/비율:{X_val.shape[0]},{int((X_val.shape[0]/feature.shape[0])*100)}%\")\n",
    "print(f\"Test 데이터 개수/비율:{X_test.shape[0]},{int((X_test.shape[0]/feature.shape[0])*100)}%\")"
   ]
  },
  {
   "cell_type": "code",
   "execution_count": 3,
   "metadata": {},
   "outputs": [
    {
     "data": {
      "text/html": [
       "<div>\n",
       "<style scoped>\n",
       "    .dataframe tbody tr th:only-of-type {\n",
       "        vertical-align: middle;\n",
       "    }\n",
       "\n",
       "    .dataframe tbody tr th {\n",
       "        vertical-align: top;\n",
       "    }\n",
       "\n",
       "    .dataframe thead th {\n",
       "        text-align: right;\n",
       "    }\n",
       "</style>\n",
       "<table border=\"1\" class=\"dataframe\">\n",
       "  <thead>\n",
       "    <tr style=\"text-align: right;\">\n",
       "      <th></th>\n",
       "      <th>Hospital_type_code</th>\n",
       "      <th>City_Code_Hospital</th>\n",
       "      <th>Hospital_region_code</th>\n",
       "      <th>Department</th>\n",
       "      <th>Ward_Type</th>\n",
       "      <th>Ward_Facility_Code</th>\n",
       "      <th>Type of Admission</th>\n",
       "      <th>Severity of Illness</th>\n",
       "      <th>Age</th>\n",
       "      <th>Hospital_type_a_binary</th>\n",
       "      <th>Available Extra Rooms in Hospital</th>\n",
       "      <th>Visitors with Patient</th>\n",
       "      <th>Admission_Deposit</th>\n",
       "      <th>Visitors_Robust</th>\n",
       "      <th>Visitors_Q3_ohe</th>\n",
       "      <th>Admission_Deposit_Robust</th>\n",
       "      <th>Admission_Deposit_Q3_ohe</th>\n",
       "      <th>Admission_Deposit_Discretization</th>\n",
       "      <th>Y_Stay</th>\n",
       "    </tr>\n",
       "  </thead>\n",
       "  <tbody>\n",
       "    <tr>\n",
       "      <th>0</th>\n",
       "      <td>2</td>\n",
       "      <td>2</td>\n",
       "      <td>2</td>\n",
       "      <td>3</td>\n",
       "      <td>2</td>\n",
       "      <td>5</td>\n",
       "      <td>0</td>\n",
       "      <td>0</td>\n",
       "      <td>5</td>\n",
       "      <td>0.0</td>\n",
       "      <td>3</td>\n",
       "      <td>2</td>\n",
       "      <td>4911.0</td>\n",
       "      <td>-0.5</td>\n",
       "      <td>0.0</td>\n",
       "      <td>0.139002</td>\n",
       "      <td>0.0</td>\n",
       "      <td>5.0</td>\n",
       "      <td>0</td>\n",
       "    </tr>\n",
       "    <tr>\n",
       "      <th>1</th>\n",
       "      <td>2</td>\n",
       "      <td>4</td>\n",
       "      <td>2</td>\n",
       "      <td>3</td>\n",
       "      <td>3</td>\n",
       "      <td>5</td>\n",
       "      <td>1</td>\n",
       "      <td>0</td>\n",
       "      <td>5</td>\n",
       "      <td>0.0</td>\n",
       "      <td>2</td>\n",
       "      <td>2</td>\n",
       "      <td>5954.0</td>\n",
       "      <td>-0.5</td>\n",
       "      <td>0.0</td>\n",
       "      <td>0.991823</td>\n",
       "      <td>1.0</td>\n",
       "      <td>8.0</td>\n",
       "      <td>4</td>\n",
       "    </tr>\n",
       "    <tr>\n",
       "      <th>2</th>\n",
       "      <td>4</td>\n",
       "      <td>0</td>\n",
       "      <td>0</td>\n",
       "      <td>1</td>\n",
       "      <td>3</td>\n",
       "      <td>4</td>\n",
       "      <td>1</td>\n",
       "      <td>0</td>\n",
       "      <td>5</td>\n",
       "      <td>0.0</td>\n",
       "      <td>2</td>\n",
       "      <td>2</td>\n",
       "      <td>4745.0</td>\n",
       "      <td>-0.5</td>\n",
       "      <td>0.0</td>\n",
       "      <td>0.003271</td>\n",
       "      <td>0.0</td>\n",
       "      <td>5.0</td>\n",
       "      <td>3</td>\n",
       "    </tr>\n",
       "    <tr>\n",
       "      <th>3</th>\n",
       "      <td>1</td>\n",
       "      <td>1</td>\n",
       "      <td>1</td>\n",
       "      <td>3</td>\n",
       "      <td>2</td>\n",
       "      <td>3</td>\n",
       "      <td>1</td>\n",
       "      <td>0</td>\n",
       "      <td>5</td>\n",
       "      <td>0.0</td>\n",
       "      <td>2</td>\n",
       "      <td>2</td>\n",
       "      <td>7272.0</td>\n",
       "      <td>-0.5</td>\n",
       "      <td>0.0</td>\n",
       "      <td>2.069501</td>\n",
       "      <td>1.0</td>\n",
       "      <td>9.0</td>\n",
       "      <td>4</td>\n",
       "    </tr>\n",
       "    <tr>\n",
       "      <th>4</th>\n",
       "      <td>1</td>\n",
       "      <td>1</td>\n",
       "      <td>1</td>\n",
       "      <td>3</td>\n",
       "      <td>3</td>\n",
       "      <td>3</td>\n",
       "      <td>1</td>\n",
       "      <td>0</td>\n",
       "      <td>5</td>\n",
       "      <td>0.0</td>\n",
       "      <td>2</td>\n",
       "      <td>2</td>\n",
       "      <td>5558.0</td>\n",
       "      <td>-0.5</td>\n",
       "      <td>0.0</td>\n",
       "      <td>0.668029</td>\n",
       "      <td>1.0</td>\n",
       "      <td>7.0</td>\n",
       "      <td>4</td>\n",
       "    </tr>\n",
       "  </tbody>\n",
       "</table>\n",
       "</div>"
      ],
      "text/plain": [
       "   Hospital_type_code  City_Code_Hospital  Hospital_region_code  Department  \\\n",
       "0                   2                   2                     2           3   \n",
       "1                   2                   4                     2           3   \n",
       "2                   4                   0                     0           1   \n",
       "3                   1                   1                     1           3   \n",
       "4                   1                   1                     1           3   \n",
       "\n",
       "   Ward_Type  Ward_Facility_Code  Type of Admission  Severity of Illness  Age  \\\n",
       "0          2                   5                  0                    0    5   \n",
       "1          3                   5                  1                    0    5   \n",
       "2          3                   4                  1                    0    5   \n",
       "3          2                   3                  1                    0    5   \n",
       "4          3                   3                  1                    0    5   \n",
       "\n",
       "   Hospital_type_a_binary  Available Extra Rooms in Hospital  \\\n",
       "0                     0.0                                  3   \n",
       "1                     0.0                                  2   \n",
       "2                     0.0                                  2   \n",
       "3                     0.0                                  2   \n",
       "4                     0.0                                  2   \n",
       "\n",
       "   Visitors with Patient  Admission_Deposit  Visitors_Robust  Visitors_Q3_ohe  \\\n",
       "0                      2             4911.0             -0.5              0.0   \n",
       "1                      2             5954.0             -0.5              0.0   \n",
       "2                      2             4745.0             -0.5              0.0   \n",
       "3                      2             7272.0             -0.5              0.0   \n",
       "4                      2             5558.0             -0.5              0.0   \n",
       "\n",
       "   Admission_Deposit_Robust  Admission_Deposit_Q3_ohe  \\\n",
       "0                  0.139002                       0.0   \n",
       "1                  0.991823                       1.0   \n",
       "2                  0.003271                       0.0   \n",
       "3                  2.069501                       1.0   \n",
       "4                  0.668029                       1.0   \n",
       "\n",
       "   Admission_Deposit_Discretization  Y_Stay  \n",
       "0                               5.0       0  \n",
       "1                               8.0       4  \n",
       "2                               5.0       3  \n",
       "3                               9.0       4  \n",
       "4                               7.0       4  "
      ]
     },
     "execution_count": 3,
     "metadata": {},
     "output_type": "execute_result"
    }
   ],
   "source": [
    "# class_weight인자를 넣을 수 있는 Random Forest로 SMOTE vs Cost-sensitive learning 비교\n"
   ]
  },
  {
   "cell_type": "code",
   "execution_count": null,
   "metadata": {},
   "outputs": [],
   "source": []
  },
  {
   "cell_type": "code",
   "execution_count": null,
   "metadata": {},
   "outputs": [],
   "source": []
  },
  {
   "cell_type": "code",
   "execution_count": null,
   "metadata": {},
   "outputs": [],
   "source": []
  },
  {
   "cell_type": "code",
   "execution_count": null,
   "metadata": {},
   "outputs": [],
   "source": []
  },
  {
   "cell_type": "code",
   "execution_count": null,
   "metadata": {},
   "outputs": [],
   "source": []
  },
  {
   "cell_type": "markdown",
   "metadata": {},
   "source": [
    "## Random Forest \n",
    "- 레이블 인코딩은 트리 기반에 강하다..!"
   ]
  },
  {
   "cell_type": "code",
   "execution_count": 5,
   "metadata": {},
   "outputs": [
    {
     "name": "stdout",
     "output_type": "stream",
     "text": [
      "테스트 데이터에 대한 정확도:  0.7973\n"
     ]
    }
   ],
   "source": [
    "from sklearn.ensemble import RandomForestClassifier\n",
    "from sklearn.model_selection import train_test_split\n",
    "from sklearn.metrics import accuracy_score\n",
    "\n",
    "feature = label_df.iloc[:, :-1]\n",
    "target = label_df.iloc[:, -1]\n",
    "\n",
    "X_train, X_test, y_train, y_test = train_test_split(feature, target, test_size=0.3, random_state=42)\n",
    "\n",
    "rf_clf = RandomForestClassifier(n_estimators=200,\n",
    "                               criterion='entropy',\n",
    "                               min_samples_split=10)\n",
    "rf_clf.fit(X_train, y_train)\n",
    "y_pred = rf_clf.predict(X_test)\n",
    "acc = accuracy_score(y_test, y_pred)\n",
    "print(f\"테스트 데이터에 대한 정확도: {acc: .4f}\")"
   ]
  },
  {
   "cell_type": "markdown",
   "metadata": {},
   "source": [
    "## Light GBM"
   ]
  },
  {
   "cell_type": "markdown",
   "metadata": {},
   "source": [
    "- 성능 향상위한 Feature engineering\n",
    "- 정답 사후 분석 시도\n",
    "    * accuracy, recall, precision, f1 중 중요 지표 무엇인지 고민\n",
    "    * 모델이 주로 어떤 클래스에서 오답을 내는지 관찰\n",
    "- 도메인 지식에 기반해 종속변수 level 개수 줄여보기"
   ]
  },
  {
   "cell_type": "code",
   "execution_count": 3,
   "metadata": {},
   "outputs": [],
   "source": [
    "import re\n",
    "label_df = label_df.rename(columns= lambda x : re.sub('[^A-Za-z0-9]+', '', x))"
   ]
  },
  {
   "cell_type": "code",
   "execution_count": 4,
   "metadata": {},
   "outputs": [],
   "source": [
    "from sklearn.metrics import accuracy_score, precision_score, recall_score, f1_score\n",
    "\n",
    "def get_eval(y, y_, labels):\n",
    "    acc = accuracy_score(y, y_)\n",
    "    pre = precision_score(y, y_, labels=labels, average=None)\n",
    "    rec = recall_score(y, y_, labels=labels, average=None)\n",
    "    f1 = f1_score(y, y_, labels=labels, average=None)\n",
    "    return acc, pre, rec, f1"
   ]
  },
  {
   "cell_type": "code",
   "execution_count": 5,
   "metadata": {},
   "outputs": [
    {
     "name": "stdout",
     "output_type": "stream",
     "text": [
      "# 테스트 데이터에 대한 정확도:  0.7949\n"
     ]
    },
    {
     "data": {
      "image/png": "[encoded data removed]",
      "text/plain": [
       "<Figure size 864x864 with 2 Axes>"
      ]
     },
     "metadata": {
      "needs_background": "light"
     },
     "output_type": "display_data"
    }
   ],
   "source": [
    "from lightgbm import LGBMClassifier\n",
    "from sklearn.model_selection import train_test_split\n",
    "from sklearn.metrics import plot_confusion_matrix\n",
    "import matplotlib.pyplot as plt\n",
    "\n",
    "feature = label_df.iloc[:, :-1]\n",
    "target = label_df.iloc[:, -1]\n",
    "\n",
    "X_train, X_test, y_train, y_test = train_test_split(feature,\n",
    "                                                   target,\n",
    "                                                   test_size=0.3,\n",
    "                                                   random_state=12)\n",
    "lgbm = LGBMClassifier(objective='multiclass',\n",
    "                      n_estimators=400, learning_rate=0.1,\n",
    "                     random_state=42)\n",
    "lgbm.fit(X_train, y_train)\n",
    "y_pred = lgbm.predict(X_test)\n",
    "labels = [a for a in range(0,11)]\n",
    "\n",
    "acc, pre, rec, f1 = get_eval(y_test, y_pred, labels)\n",
    "\n",
    "\n",
    "print(f\"# 테스트 데이터에 대한 정확도: {acc: .4f}\")\n",
    "scores_df = pd.DataFrame(data={'Precision':pre,\n",
    "                               'Recall':rec,\n",
    "                               'F1-score':f1}, index=labels)\n",
    "fig, ax = plt.subplots(figsize=(12,12))\n",
    "plot_confusion_matrix(lgbm, X_test, y_test, normalize='true',\n",
    "                     cmap=plt.cm.Blues, ax=ax)\n",
    "plt.show()"
   ]
  },
  {
   "cell_type": "code",
   "execution_count": 30,
   "metadata": {},
   "outputs": [
    {
     "data": {
      "text/html": [
       "<div>\n",
       "<style scoped>\n",
       "    .dataframe tbody tr th:only-of-type {\n",
       "        vertical-align: middle;\n",
       "    }\n",
       "\n",
       "    .dataframe tbody tr th {\n",
       "        vertical-align: top;\n",
       "    }\n",
       "\n",
       "    .dataframe thead th {\n",
       "        text-align: right;\n",
       "    }\n",
       "</style>\n",
       "<table border=\"1\" class=\"dataframe\">\n",
       "  <thead>\n",
       "    <tr style=\"text-align: right;\">\n",
       "      <th></th>\n",
       "      <th>Precision</th>\n",
       "      <th>Recall</th>\n",
       "      <th>F1-score</th>\n",
       "    </tr>\n",
       "  </thead>\n",
       "  <tbody>\n",
       "    <tr>\n",
       "      <th>0</th>\n",
       "      <td>0.374916</td>\n",
       "      <td>0.159373</td>\n",
       "      <td>0.223667</td>\n",
       "    </tr>\n",
       "    <tr>\n",
       "      <th>1</th>\n",
       "      <td>0.401120</td>\n",
       "      <td>0.404973</td>\n",
       "      <td>0.403037</td>\n",
       "    </tr>\n",
       "    <tr>\n",
       "      <th>2</th>\n",
       "      <td>0.401128</td>\n",
       "      <td>0.679054</td>\n",
       "      <td>0.504336</td>\n",
       "    </tr>\n",
       "    <tr>\n",
       "      <th>3</th>\n",
       "      <td>0.410260</td>\n",
       "      <td>0.185750</td>\n",
       "      <td>0.255720</td>\n",
       "    </tr>\n",
       "    <tr>\n",
       "      <th>4</th>\n",
       "      <td>0.064516</td>\n",
       "      <td>0.001122</td>\n",
       "      <td>0.002206</td>\n",
       "    </tr>\n",
       "    <tr>\n",
       "      <th>5</th>\n",
       "      <td>0.390301</td>\n",
       "      <td>0.525453</td>\n",
       "      <td>0.447904</td>\n",
       "    </tr>\n",
       "    <tr>\n",
       "      <th>6</th>\n",
       "      <td>0.052632</td>\n",
       "      <td>0.001252</td>\n",
       "      <td>0.002445</td>\n",
       "    </tr>\n",
       "    <tr>\n",
       "      <th>7</th>\n",
       "      <td>0.347150</td>\n",
       "      <td>0.022141</td>\n",
       "      <td>0.041628</td>\n",
       "    </tr>\n",
       "    <tr>\n",
       "      <th>8</th>\n",
       "      <td>0.320887</td>\n",
       "      <td>0.188098</td>\n",
       "      <td>0.237171</td>\n",
       "    </tr>\n",
       "    <tr>\n",
       "      <th>9</th>\n",
       "      <td>0.342105</td>\n",
       "      <td>0.031288</td>\n",
       "      <td>0.057332</td>\n",
       "    </tr>\n",
       "    <tr>\n",
       "      <th>10</th>\n",
       "      <td>0.528953</td>\n",
       "      <td>0.404076</td>\n",
       "      <td>0.458157</td>\n",
       "    </tr>\n",
       "  </tbody>\n",
       "</table>\n",
       "</div>"
      ],
      "text/plain": [
       "    Precision    Recall  F1-score\n",
       "0    0.374916  0.159373  0.223667\n",
       "1    0.401120  0.404973  0.403037\n",
       "2    0.401128  0.679054  0.504336\n",
       "3    0.410260  0.185750  0.255720\n",
       "4    0.064516  0.001122  0.002206\n",
       "5    0.390301  0.525453  0.447904\n",
       "6    0.052632  0.001252  0.002445\n",
       "7    0.347150  0.022141  0.041628\n",
       "8    0.320887  0.188098  0.237171\n",
       "9    0.342105  0.031288  0.057332\n",
       "10   0.528953  0.404076  0.458157"
      ]
     },
     "execution_count": 30,
     "metadata": {},
     "output_type": "execute_result"
    }
   ],
   "source": [
    "scores_df"
   ]
  },
  {
   "cell_type": "code",
   "execution_count": null,
   "metadata": {},
   "outputs": [],
   "source": []
  }
 ],
 "metadata": {
  "hide_input": false,
  "kernelspec": {
   "display_name": "Python 3",
   "language": "python",
   "name": "python3"
  },
  "language_info": {
   "codemirror_mode": {
    "name": "ipython",
    "version": 3
   },
   "file_extension": ".py",
   "mimetype": "text/x-python",
   "name": "python",
   "nbconvert_exporter": "python",
   "pygments_lexer": "ipython3",
   "version": "3.7.7"
  },
  "toc": {
   "base_numbering": 1,
   "nav_menu": {},
   "number_sections": true,
   "sideBar": true,
   "skip_h1_title": false,
   "title_cell": "Table of Contents",
   "title_sidebar": "Contents",
   "toc_cell": false,
   "toc_position": {},
   "toc_section_display": true,
   "toc_window_display": false
  },
  "varInspector": {
   "cols": {
    "lenName": 16,
    "lenType": 16,
    "lenVar": 40
   },
   "kernels_config": {
    "python": {
     "delete_cmd_postfix": "",
     "delete_cmd_prefix": "del ",
     "library": "var_list.py",
     "varRefreshCmd": "print(var_dic_list())"
    },
    "r": {
     "delete_cmd_postfix": ") ",
     "delete_cmd_prefix": "rm(",
     "library": "var_list.r",
     "varRefreshCmd": "cat(var_dic_list()) "
    }
   },
   "types_to_exclude": [
    "module",
    "function",
    "builtin_function_or_method",
    "instance",
    "_Feature"
   ],
   "window_display": false
  }
 },
 "nbformat": 4,
 "nbformat_minor": 4
}

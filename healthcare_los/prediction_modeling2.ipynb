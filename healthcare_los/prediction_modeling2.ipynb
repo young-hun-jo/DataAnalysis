{
 "cells": [
  {
   "cell_type": "markdown",
   "metadata": {},
   "source": [
    "# 모델링\n",
    "- 레이블 인코딩한 데이터\n",
    "    * 오버샘플링 하지 않은 데이터 - 학습시 Cost-sensitive learning 사용해 클래스 불균형 해소 예정\n",
    "    * SMOTE NC 오버샘플링한 데이터\n",
    "<br><br>\n",
    "- 원-핫 인코딩한 데이터-> ``메모리 과부하 걸려서 Kernel이 죽어버림..``\n",
    "    * 오버샘플링 하지 않은 데이터 - 학습시 Cost-sensitive learning 사용해 클래스 불균형 해소 예정\n",
    "    * SMOTE NC 오버샘플링한 데이터 \n",
    "    \n",
    "<br>\n",
    "\n",
    "- 선형기반 알고리즘인 Logistic Regression 하나 적용\n",
    "- 트리기반 알고리즘인 Decision Tree 하나 적용\n",
    "- 두 모델에서 각각 가장 성능이 좋은 데이터 종류 하나씩 선정\n",
    "- Train : Test 비율은 7 : 3으로 적용"
   ]
  },
  {
   "cell_type": "code",
   "execution_count": 1,
   "metadata": {},
   "outputs": [],
   "source": [
    "import pandas as pd\n",
    "import numpy as np\n",
    "import os\n",
    "os.chdir('/Users/younghun/Desktop/gitrepo/data/healthcare/encoding_df')"
   ]
  },
  {
   "cell_type": "code",
   "execution_count": 2,
   "metadata": {},
   "outputs": [],
   "source": [
    "label_df = pd.read_csv('label_df.csv')\n",
    "#label_smote_df = pd.read_csv('label_smote_df.csv')\n",
    "#ohe_df = pd.read_csv('ohe_df.csv')\n",
    "#ohe_smote_df = pd.read_csv('ohe_smote_df.csv')"
   ]
  },
  {
   "cell_type": "markdown",
   "metadata": {},
   "source": [
    "## Multi-Logistic Regression"
   ]
  },
  {
   "cell_type": "code",
   "execution_count": 3,
   "metadata": {},
   "outputs": [
    {
     "name": "stdout",
     "output_type": "stream",
     "text": [
      "Test 데이터에 대한 정확도:  0.2808\n"
     ]
    },
    {
     "name": "stderr",
     "output_type": "stream",
     "text": [
      "/Users/younghun/opt/anaconda3/envs/venvforpython/lib/python3.7/site-packages/sklearn/linear_model/_logistic.py:764: ConvergenceWarning: lbfgs failed to converge (status=1):\n",
      "STOP: TOTAL NO. of ITERATIONS REACHED LIMIT.\n",
      "\n",
      "Increase the number of iterations (max_iter) or scale the data as shown in:\n",
      "    https://scikit-learn.org/stable/modules/preprocessing.html\n",
      "Please also refer to the documentation for alternative solver options:\n",
      "    https://scikit-learn.org/stable/modules/linear_model.html#logistic-regression\n",
      "  extra_warning_msg=_LOGISTIC_SOLVER_CONVERGENCE_MSG)\n"
     ]
    }
   ],
   "source": [
    "from sklearn.linear_model import LogisticRegression\n",
    "from sklearn.model_selection import train_test_split\n",
    "from sklearn.metrics import accuracy_score\n",
    "\n",
    "feature = label_df.iloc[:, :-1]\n",
    "target = label_df.iloc[:, -1]\n",
    "\n",
    "X_train, X_test, y_train, y_test = train_test_split(feature, target, test_size=0.3, random_state=42)\n",
    "\n",
    "lr_clf = LogisticRegression(multi_class='multinomial')\n",
    "lr_clf.fit(X_train, y_train)\n",
    "y_pred = lr_clf.predict(X_test)\n",
    "acc = accuracy_score(y_test, y_pred)\n",
    "print(f\"Test 데이터에 대한 정확도: {acc: .4f}\")"
   ]
  },
  {
   "cell_type": "markdown",
   "metadata": {},
   "source": [
    "## Random Forest \n",
    "- 레이블 인코딩은 트리 기반에 강하다..!"
   ]
  },
  {
   "cell_type": "code",
   "execution_count": 5,
   "metadata": {},
   "outputs": [
    {
     "name": "stdout",
     "output_type": "stream",
     "text": [
      "테스트 데이터에 대한 정확도:  0.3878\n"
     ]
    }
   ],
   "source": [
    "from sklearn.ensemble import RandomForestClassifier\n",
    "\n",
    "X_train, X_test, y_train, y_test = train_test_split(feature, target, test_size=0.3, random_state=42)\n",
    "\n",
    "rf_clf = RandomForestClassifier(n_estimators=200,\n",
    "                               criterion='entropy',\n",
    "                               min_samples_split=10)\n",
    "rf_clf.fit(X_train, y_train)\n",
    "y_pred = rf_clf.predict(X_test)\n",
    "acc = accuracy_score(y_test, y_pred)\n",
    "print(f\"테스트 데이터에 대한 정확도: {acc: .4f}\")"
   ]
  },
  {
   "cell_type": "markdown",
   "metadata": {},
   "source": [
    "## Light GBM\n",
    "- Light GBM도 결과가 좋지 않다면... Tensorflow 딥러닝을 활용해보자"
   ]
  },
  {
   "cell_type": "code",
   "execution_count": 10,
   "metadata": {},
   "outputs": [
    {
     "data": {
      "text/html": [
       "<div>\n",
       "<style scoped>\n",
       "    .dataframe tbody tr th:only-of-type {\n",
       "        vertical-align: middle;\n",
       "    }\n",
       "\n",
       "    .dataframe tbody tr th {\n",
       "        vertical-align: top;\n",
       "    }\n",
       "\n",
       "    .dataframe thead th {\n",
       "        text-align: right;\n",
       "    }\n",
       "</style>\n",
       "<table border=\"1\" class=\"dataframe\">\n",
       "  <thead>\n",
       "    <tr style=\"text-align: right;\">\n",
       "      <th></th>\n",
       "      <th>Unnamed0</th>\n",
       "      <th>Hospitaltypecode</th>\n",
       "      <th>CityCodeHospital</th>\n",
       "      <th>Hospitalregioncode</th>\n",
       "      <th>Department</th>\n",
       "      <th>WardType</th>\n",
       "      <th>WardFacilityCode</th>\n",
       "      <th>TypeofAdmission</th>\n",
       "      <th>SeverityofIllness</th>\n",
       "      <th>Age</th>\n",
       "      <th>Hospitaltypeabinary</th>\n",
       "      <th>AvailableExtraRoomsinHospital</th>\n",
       "      <th>VisitorswithPatient</th>\n",
       "      <th>AdmissionDeposit</th>\n",
       "      <th>VisitorsRobust</th>\n",
       "      <th>VisitorsQ3ohe</th>\n",
       "      <th>AdmissionDepositRobust</th>\n",
       "      <th>AdmissionDepositQ3ohe</th>\n",
       "      <th>AdmissionDepositDiscretization</th>\n",
       "      <th>YStay</th>\n",
       "    </tr>\n",
       "  </thead>\n",
       "  <tbody>\n",
       "    <tr>\n",
       "      <th>0</th>\n",
       "      <td>0</td>\n",
       "      <td>2</td>\n",
       "      <td>2</td>\n",
       "      <td>2</td>\n",
       "      <td>3</td>\n",
       "      <td>2</td>\n",
       "      <td>5</td>\n",
       "      <td>0</td>\n",
       "      <td>0</td>\n",
       "      <td>5</td>\n",
       "      <td>0.0</td>\n",
       "      <td>3</td>\n",
       "      <td>2</td>\n",
       "      <td>4911.0</td>\n",
       "      <td>-0.5</td>\n",
       "      <td>0.0</td>\n",
       "      <td>0.139002</td>\n",
       "      <td>0.0</td>\n",
       "      <td>5.0</td>\n",
       "      <td>0</td>\n",
       "    </tr>\n",
       "  </tbody>\n",
       "</table>\n",
       "</div>"
      ],
      "text/plain": [
       "   Unnamed0  Hospitaltypecode  CityCodeHospital  Hospitalregioncode  \\\n",
       "0         0                 2                 2                   2   \n",
       "\n",
       "   Department  WardType  WardFacilityCode  TypeofAdmission  SeverityofIllness  \\\n",
       "0           3         2                 5                0                  0   \n",
       "\n",
       "   Age  Hospitaltypeabinary  AvailableExtraRoomsinHospital  \\\n",
       "0    5                  0.0                              3   \n",
       "\n",
       "   VisitorswithPatient  AdmissionDeposit  VisitorsRobust  VisitorsQ3ohe  \\\n",
       "0                    2            4911.0            -0.5            0.0   \n",
       "\n",
       "   AdmissionDepositRobust  AdmissionDepositQ3ohe  \\\n",
       "0                0.139002                    0.0   \n",
       "\n",
       "   AdmissionDepositDiscretization  YStay  \n",
       "0                             5.0      0  "
      ]
     },
     "execution_count": 10,
     "metadata": {},
     "output_type": "execute_result"
    }
   ],
   "source": [
    "label_df.head(1)"
   ]
  },
  {
   "cell_type": "code",
   "execution_count": 9,
   "metadata": {},
   "outputs": [],
   "source": [
    "import re\n",
    "label_df = label_df.rename(columns= lambda x : re.sub('[^A-Za-z0-9]+', '', x))"
   ]
  },
  {
   "cell_type": "code",
   "execution_count": 13,
   "metadata": {},
   "outputs": [
    {
     "name": "stdout",
     "output_type": "stream",
     "text": [
      "테스트 데이터에 대한 정확도:  0.4032\n"
     ]
    }
   ],
   "source": [
    "from lightgbm import LGBMClassifier\n",
    "\n",
    "feature = label_df.iloc[:, :-1]\n",
    "target = label_df.iloc[:, -1]\n",
    "\n",
    "X_train, X_test, y_train, y_test = train_test_split(feature,\n",
    "                                                   target,\n",
    "                                                   test_size=0.3,\n",
    "                                                   random_state=12)\n",
    "lgbm = LGBMClassifier(objective='multiclass',\n",
    "                      n_estimators=400, learning_rate=0.1,\n",
    "                     random_state=42)\n",
    "lgbm.fit(X_train, y_train)\n",
    "y_pred = lgbm.predict(X_test)\n",
    "acc = accuracy_score(y_test, y_pred)\n",
    "print(f\"테스트 데이터에 대한 정확도: {acc: .4f}\")"
   ]
  },
  {
   "cell_type": "markdown",
   "metadata": {},
   "source": [
    "# Tensorflow 이용해야 할듯..."
   ]
  },
  {
   "cell_type": "code",
   "execution_count": null,
   "metadata": {},
   "outputs": [],
   "source": []
  }
 ],
 "metadata": {
  "hide_input": false,
  "kernelspec": {
   "display_name": "Python 3",
   "language": "python",
   "name": "python3"
  },
  "language_info": {
   "codemirror_mode": {
    "name": "ipython",
    "version": 3
   },
   "file_extension": ".py",
   "mimetype": "text/x-python",
   "name": "python",
   "nbconvert_exporter": "python",
   "pygments_lexer": "ipython3",
   "version": "3.7.7"
  },
  "toc": {
   "base_numbering": 1,
   "nav_menu": {},
   "number_sections": true,
   "sideBar": true,
   "skip_h1_title": false,
   "title_cell": "Table of Contents",
   "title_sidebar": "Contents",
   "toc_cell": false,
   "toc_position": {},
   "toc_section_display": true,
   "toc_window_display": false
  },
  "varInspector": {
   "cols": {
    "lenName": 16,
    "lenType": 16,
    "lenVar": 40
   },
   "kernels_config": {
    "python": {
     "delete_cmd_postfix": "",
     "delete_cmd_prefix": "del ",
     "library": "var_list.py",
     "varRefreshCmd": "print(var_dic_list())"
    },
    "r": {
     "delete_cmd_postfix": ") ",
     "delete_cmd_prefix": "rm(",
     "library": "var_list.r",
     "varRefreshCmd": "cat(var_dic_list()) "
    }
   },
   "types_to_exclude": [
    "module",
    "function",
    "builtin_function_or_method",
    "instance",
    "_Feature"
   ],
   "window_display": false
  }
 },
 "nbformat": 4,
 "nbformat_minor": 4
}

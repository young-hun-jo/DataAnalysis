{
 "cells": [
  {
   "cell_type": "code",
   "execution_count": null,
   "metadata": {},
   "outputs": [],
   "source": []
  },
  {
   "cell_type": "markdown",
   "metadata": {},
   "source": [
    "## .필요한 라이브러리 import"
   ]
  },
  {
   "cell_type": "code",
   "execution_count": 1,
   "metadata": {},
   "outputs": [],
   "source": [
    "import requests\n",
    "from bs4 import BeautifulSoup as bs\n",
    "import re\n",
    "import pymongo"
   ]
  },
  {
   "cell_type": "markdown",
   "metadata": {},
   "source": [
    "## .pymongo와 연결, 데이터 넣을 DB, Collection  "
   ]
  },
  {
   "cell_type": "code",
   "execution_count": 33,
   "metadata": {},
   "outputs": [],
   "source": [
    "conn = pymongo.MongoClient()\n",
    "cine_db = conn.cine\n",
    "movie_info = cine_db.movie"
   ]
  },
  {
   "cell_type": "markdown",
   "metadata": {},
   "source": [
    "## .웹크롤링 코드 작성"
   ]
  },
  {
   "cell_type": "code",
   "execution_count": 46,
   "metadata": {},
   "outputs": [],
   "source": [
    "url = \"http://www.cine21.com/rank/boxoffice/domestic_content\"\n",
    "movies_info = []\n",
    "header = {}\n",
    "header['genre'] = 'all'\n",
    "header['period'] = '2019-04-09'\n",
    "for n in range(1,6):\n",
    "    header['page'] = n\n",
    "    res = requests.post(url, data=header)\n",
    "    soup = bs(res.content, 'html.parser')\n",
    "\n",
    "    movies = soup.select(\"ul.boxoffice_list li.boxoffice_li\")\n",
    "    for index, movie in enumerate(movies):\n",
    "        name = movie.select_one('a > div.mov_name').text\n",
    "        audience = movie.select_one('div.people_num').text\n",
    "        audience = int(audience.split(\"|\")[1].replace(\",\",''))\n",
    "        # ranking도 문자열이므로 int형으로 바꿔주기\n",
    "        ranking = int(movie.select_one('a span.grade.num1').text)\n",
    "        link = movie.select_one('a')['href']\n",
    "        link = f\"http://www.cine21.com{link}\"\n",
    "        # 재귀적 접속 링크 요청 시작\n",
    "        res = requests.get(link)\n",
    "        soup = bs(res.content, 'html.parser')\n",
    "        movie_details = {}\n",
    "        year = soup.select_one(\"div.mov_info p.sub_info span:nth-child(1)\").text\n",
    "        country = soup.select_one(\"div.mov_info p.sub_info span:nth-child(2)\").text\n",
    "        proper_age = soup.select_one(\"div.mov_info p.sub_info span:nth-child(3)\")\n",
    "        if proper_age is None:\n",
    "            proper_age = \"연령대없음\"\n",
    "        else:\n",
    "            proper_age = proper_age.text\n",
    "        genre = soup.select_one(\"div.mov_info p:nth-child(4) span:nth-child(1)\").text\n",
    "        runtime = soup.select_one(\"div.mov_info p:nth-child(4) span:nth-child(2)\")\n",
    "        if runtime is None:\n",
    "            runtime = \"상영시간없음\"\n",
    "        else:\n",
    "            runtime = runtime.text\n",
    "            runtime = runtime.split(':')[1].strip()\n",
    "        released_date = soup.select_one(\"div.mov_info p:nth-child(5) span\")\n",
    "        if released_date is None:\n",
    "            released_date = \"정보없음\"\n",
    "        else:\n",
    "            released_date = released_date.text\n",
    "            released_date = released_date.split(':')[1].strip()\n",
    "        directors = soup.select(\"div.mov_info p:nth-child(6) a\")\n",
    "        directors_list = []\n",
    "        for director in directors:\n",
    "            director = director.text\n",
    "            directors_list.append(director)\n",
    "        # 인덱스 -1은 'more'을 나타내므로 마지막 인덱스를 제외한 나머지만 리스트로 담기\n",
    "        actors = soup.select(\"div.mov_info p:nth-child(7) a\")[:-1]\n",
    "        actors_list = []\n",
    "        for actor in actors:\n",
    "            actor = actor.text\n",
    "            actors_list.append(actor)\n",
    "\n",
    "        cine_reviews = soup.select_one(\"ul.mov_rating li:nth-child(1) span\")\n",
    "        if cine_reviews is None:\n",
    "            cine_reviews = \"평점없음\"\n",
    "        else:\n",
    "            cine_reviews = float(cine_reviews.text)\n",
    "        people_reviews = soup.select_one(\"ul.mov_rating li:nth-child(2) span\")\n",
    "        if people_reviews is None:\n",
    "            people_reviews = \"평점없음\"\n",
    "        else:\n",
    "            people_reviews = float(people_reviews.text)\n",
    "\n",
    "        movie_details['영화이름'] = name\n",
    "        movie_details['관객수'] = audience\n",
    "        movie_details['순위'] = ranking\n",
    "        movie_details['개봉연도'] = year\n",
    "        movie_details['국가'] = country\n",
    "        movie_details['관람적절연령'] = proper_age\n",
    "        movie_details['장르'] = genre\n",
    "        movie_details['상영시간'] = runtime\n",
    "        movie_details['개봉날짜'] = released_date\n",
    "        movie_details['감독'] = directors_list\n",
    "        movie_details['출연배우'] = actors_list\n",
    "        movie_details['씨네21평점'] = cine_reviews\n",
    "        movie_details['네티즌평점'] = people_reviews\n",
    "\n",
    "        movies_info.append(movie_details)\n",
    "\n",
    "\n"
   ]
  },
  {
   "cell_type": "markdown",
   "metadata": {},
   "source": [
    "## . pymongo DB에 데이터 잘 들어가는지 확인\n",
    "\n",
    "- Robo 3T 앱을 이용해서 잘 들어갔는지 확인"
   ]
  },
  {
   "cell_type": "code",
   "execution_count": 35,
   "metadata": {},
   "outputs": [
    {
     "data": {
      "text/plain": [
       "<pymongo.results.InsertOneResult at 0x107b9e24808>"
      ]
     },
     "execution_count": 35,
     "metadata": {},
     "output_type": "execute_result"
    }
   ],
   "source": [
    "movie_info.insert_one({'result':'mongo'})"
   ]
  },
  {
   "cell_type": "code",
   "execution_count": 39,
   "metadata": {},
   "outputs": [
    {
     "data": {
      "text/plain": [
       "<pymongo.results.DeleteResult at 0x107b93eb5c8>"
      ]
     },
     "execution_count": 39,
     "metadata": {},
     "output_type": "execute_result"
    }
   ],
   "source": [
    "movie_info.delete_many({})"
   ]
  },
  {
   "cell_type": "markdown",
   "metadata": {},
   "source": [
    "## .pymongo DB에 크롤링한 데이터 입력"
   ]
  },
  {
   "cell_type": "code",
   "execution_count": 47,
   "metadata": {},
   "outputs": [
    {
     "data": {
      "text/plain": [
       "<pymongo.results.InsertManyResult at 0x107b8114348>"
      ]
     },
     "execution_count": 47,
     "metadata": {},
     "output_type": "execute_result"
    }
   ],
   "source": [
    "movie_info.insert_many(movies_info)"
   ]
  },
  {
   "cell_type": "code",
   "execution_count": null,
   "metadata": {},
   "outputs": [],
   "source": []
  }
 ],
 "metadata": {
  "kernelspec": {
   "display_name": "Python 3",
   "language": "python",
   "name": "python3"
  },
  "language_info": {
   "codemirror_mode": {
    "name": "ipython",
    "version": 3
   },
   "file_extension": ".py",
   "mimetype": "text/x-python",
   "name": "python",
   "nbconvert_exporter": "python",
   "pygments_lexer": "ipython3",
   "version": "3.7.3"
  },
  "toc": {
   "base_numbering": 1,
   "nav_menu": {},
   "number_sections": true,
   "sideBar": true,
   "skip_h1_title": false,
   "title_cell": "Table of Contents",
   "title_sidebar": "Contents",
   "toc_cell": false,
   "toc_position": {},
   "toc_section_display": true,
   "toc_window_display": false
  },
  "varInspector": {
   "cols": {
    "lenName": 16,
    "lenType": 16,
    "lenVar": 40
   },
   "kernels_config": {
    "python": {
     "delete_cmd_postfix": "",
     "delete_cmd_prefix": "del ",
     "library": "var_list.py",
     "varRefreshCmd": "print(var_dic_list())"
    },
    "r": {
     "delete_cmd_postfix": ") ",
     "delete_cmd_prefix": "rm(",
     "library": "var_list.r",
     "varRefreshCmd": "cat(var_dic_list()) "
    }
   },
   "types_to_exclude": [
    "module",
    "function",
    "builtin_function_or_method",
    "instance",
    "_Feature"
   ],
   "window_display": false
  }
 },
 "nbformat": 4,
 "nbformat_minor": 4
}

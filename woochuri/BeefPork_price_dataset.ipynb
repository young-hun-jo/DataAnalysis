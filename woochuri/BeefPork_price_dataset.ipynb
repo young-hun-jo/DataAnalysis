{
 "cells": [
  {
   "cell_type": "markdown",
   "id": "polish-duration",
   "metadata": {
    "toc": true
   },
   "source": [
    "<h1>Table of Contents<span class=\"tocSkip\"></span></h1>\n",
    "<div class=\"toc\"><ul class=\"toc-item\"><li><span><a href=\"#local-mysql에-적재하는-코드-짜놓기\" data-toc-modified-id=\"local-mysql에-적재하는-코드-짜놓기-1\"><span class=\"toc-item-num\">1&nbsp;&nbsp;</span>local mysql에 적재하는 코드 짜놓기</a></span></li></ul></div>"
   ]
  },
  {
   "cell_type": "markdown",
   "id": "crude-reference",
   "metadata": {},
   "source": [
    "- 출처 : 축산물품질평가원 공공 데이터 포탈 API이용"
   ]
  },
  {
   "cell_type": "code",
   "execution_count": 57,
   "id": "selective-recorder",
   "metadata": {},
   "outputs": [],
   "source": [
    "# 한 번에 가져오는 건 일일 트래픽 1000을 초과하기 때문에 2년치 씩만 가져와서 DB에 적재하자..\n",
    "# 오늘 밤 12시 지나서 하기"
   ]
  },
  {
   "cell_type": "markdown",
   "id": "absolute-draft",
   "metadata": {},
   "source": [
    "    abattcode  작업장 코드\n",
    "    abattnm  도매시장명\n",
    "    auctDate  경매일자\n",
    "    hanwooauctamt  한우 평균 경매 금액\n",
    "    hanwooauct_0bamt 한우 1B+ 경매단가\n",
    "    hanwooauct_4bamt 한우 3B 경매단가\n",
    "    hanwooauctdiffamt  한우 평균 경매 금액 전날 차이\n",
    "    hanwooauctexpectcnt 한우 경매 낙찰 두수\n",
    "    skinyauctamt 돼지 탕박 경매 금액\n",
    "    skinyautdiffamt 돼지 탕박 전날 경매금액 차이\n",
    "    skinyauctcnt 돼지 탕박 경매 두수\n",
    "    totalpigauctcnt 돼지 경매 두수\n",
    "    yukwooauctamt 육우 경매 금액\n",
    "    yukwooauctdiffamt 육우 전날 경매 금액 차이\n",
    "    yukwooauctcnt 육우 경매 두수"
   ]
  },
  {
   "cell_type": "code",
   "execution_count": 1,
   "id": "disabled-volleyball",
   "metadata": {},
   "outputs": [],
   "source": [
    "import requests\n",
    "from bs4 import BeautifulSoup\n",
    "import pandas as pd\n",
    "import numpy as np"
   ]
  },
  {
   "cell_type": "code",
   "execution_count": null,
   "id": "technical-clock",
   "metadata": {
    "scrolled": true
   },
   "outputs": [],
   "source": [
    "# 축산물 실시간 경매시황중계정보 - [전국] 부분만 가져오자!\n",
    "# auctDate파라미터에 날짜를 loop문 주어야 함!\n",
    "# auctFlag = 1(전체)로 고정 설정\n",
    "datetimes = pd.date_range(start='20130107', end='20150107', freq='D').strftime('%Y%m%d').tolist()\n",
    "\n",
    "data_dict = {}\n",
    "# 변수별로 데이터 담을 리스트 정의\n",
    "stores = []\n",
    "dates = []\n",
    "hanwoo_amt = []\n",
    "hanwoo_0b_amt = []\n",
    "hanwoo_4b_amt = []\n",
    "pork_amt = []\n",
    "yukwoo_amt = []\n",
    "\n",
    "for datetime in datetimes:\n",
    "    url = f'http://data.ekape.or.kr/openapi-data/service/user/grade/liveauct?serviceKey=0OhBU7ZCGIobDVKDeBJDpmDRqK3IRNF6jlf%2FJB2diFAf%2FfR2czYO9A4UTGcsOwppV6W2HVUeho%2FFPwXoL6DwqA%3D%3D&auctDate={datetime}&auctFlag=2'\n",
    "    res = requests.get(url)\n",
    "    soup = BeautifulSoup(res.content, 'html.parser')\n",
    "    print(datetime)\n",
    "    \n",
    "    # 변수별 값 다 담기\n",
    "    stores.append(soup.select_one('items > item:nth-of-type(17) > abattnm').get_text())\n",
    "    dates.append(soup.select_one('items > item:nth-of-type(17) > auctdate').get_text())\n",
    "    hanwoo_amt.append(soup.select_one('items > item:nth-of-type(17) > hanwooauctamt').get_text())\n",
    "    hanwoo_0b_amt.append(soup.select_one('items > item:nth-of-type(17) > hanwooauct_0bamt').get_text())\n",
    "    hanwoo_4b_amt.append(soup.select_one('items > item:nth-of-type(17) > hanwooauct_4bamt').get_text())\n",
    "    pork_amt.append(soup.select_one('items > item:nth-of-type(17) > skinyauctamt').get_text())\n",
    "    yukwoo_amt.append(soup.select_one('items > item:nth-of-type(17) > yukwooauctamt').get_text())\n",
    "    \n",
    "    \n",
    "data_dict['도매시장명'] = stores\n",
    "data_dict['경매일자'] = dates\n",
    "data_dict['한우평균경매금액'] = hanwoo_amt\n",
    "data_dict['한우1B경매단가'] = hanwoo_0b_amt\n",
    "data_dict['한우3B경매단가'] = hanwoo_4b_amt\n",
    "data_dict['돼지탕박경매금액'] = pork_amt\n",
    "data_dict['육우경매금액'] = yukwoo_amt\n",
    "\n",
    "df = pd.DataFrame(data_dict)"
   ]
  },
  {
   "cell_type": "code",
   "execution_count": null,
   "id": "circular-exception",
   "metadata": {},
   "outputs": [],
   "source": [
    "df"
   ]
  },
  {
   "cell_type": "markdown",
   "id": "loaded-relaxation",
   "metadata": {},
   "source": [
    "## local mysql에 적재하는 코드 짜놓기"
   ]
  },
  {
   "cell_type": "code",
   "execution_count": 9,
   "id": "convinced-router",
   "metadata": {},
   "outputs": [],
   "source": [
    "import pymysql\n",
    "db = pymysql.connect(host='localhost',\n",
    "                    port=3306,\n",
    "                    user='younghun',\n",
    "                    password='watson1259',\n",
    "                    db='beef_pork_db',\n",
    "                    charset='utf8')\n",
    "cursor = db.cursor()\n",
    "\n",
    "rows = map(list, zip(*data_dict.values()))\n",
    "\n",
    "# 한 row씩 DB에 insert하기\n",
    "for row in rows:\n",
    "    sql = \"\"\"INSERT INTO prices VALUES('\"\"\"+row[0]+\"\"\"','\"\"\"+row[1]+\"\"\"','\"\"\"+str(row[2])+\"\"\"',\n",
    "    '\"\"\"+str(row[3])+\"\"\"','\"\"\"+str(row[4])+\"\"\"','\"\"\"+str(row[5])+\"\"\"','\"\"\"+str(row[6])+\"\"\"')\"\"\"\n",
    "    cursor.execute(sql)\n",
    "    db.commit()\n",
    "    \n",
    "db.close()"
   ]
  },
  {
   "cell_type": "code",
   "execution_count": null,
   "id": "vocational-sense",
   "metadata": {},
   "outputs": [],
   "source": []
  }
 ],
 "metadata": {
  "hide_input": false,
  "kernelspec": {
   "display_name": "Python 3",
   "language": "python",
   "name": "python3"
  },
  "language_info": {
   "codemirror_mode": {
    "name": "ipython",
    "version": 3
   },
   "file_extension": ".py",
   "mimetype": "text/x-python",
   "name": "python",
   "nbconvert_exporter": "python",
   "pygments_lexer": "ipython3",
   "version": "3.7.7"
  },
  "toc": {
   "base_numbering": 1,
   "nav_menu": {},
   "number_sections": true,
   "sideBar": true,
   "skip_h1_title": false,
   "title_cell": "Table of Contents",
   "title_sidebar": "Contents",
   "toc_cell": true,
   "toc_position": {},
   "toc_section_display": true,
   "toc_window_display": false
  },
  "varInspector": {
   "cols": {
    "lenName": 16,
    "lenType": 16,
    "lenVar": 40
   },
   "kernels_config": {
    "python": {
     "delete_cmd_postfix": "",
     "delete_cmd_prefix": "del ",
     "library": "var_list.py",
     "varRefreshCmd": "print(var_dic_list())"
    },
    "r": {
     "delete_cmd_postfix": ") ",
     "delete_cmd_prefix": "rm(",
     "library": "var_list.r",
     "varRefreshCmd": "cat(var_dic_list()) "
    }
   },
   "types_to_exclude": [
    "module",
    "function",
    "builtin_function_or_method",
    "instance",
    "_Feature"
   ],
   "window_display": false
  }
 },
 "nbformat": 4,
 "nbformat_minor": 5
}

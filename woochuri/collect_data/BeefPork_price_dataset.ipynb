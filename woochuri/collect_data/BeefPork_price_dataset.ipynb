{
 "cells": [
  {
   "cell_type": "markdown",
   "id": "polish-duration",
   "metadata": {
    "toc": true
   },
   "source": [
    "<h1>Table of Contents<span class=\"tocSkip\"></span></h1>\n",
    "<div class=\"toc\"><ul class=\"toc-item\"><li><span><a href=\"#소-가격-크롤링\" data-toc-modified-id=\"소-가격-크롤링-1\"><span class=\"toc-item-num\">1&nbsp;&nbsp;</span>소 가격 크롤링</a></span></li><li><span><a href=\"#돼지-가격-크롤링\" data-toc-modified-id=\"돼지-가격-크롤링-2\"><span class=\"toc-item-num\">2&nbsp;&nbsp;</span>돼지 가격 크롤링</a></span></li><li><span><a href=\"#local-mysql에-적재하는-코드-짜놓기\" data-toc-modified-id=\"local-mysql에-적재하는-코드-짜놓기-3\"><span class=\"toc-item-num\">3&nbsp;&nbsp;</span>local mysql에 적재하는 코드 짜놓기</a></span><ul class=\"toc-item\"><li><span><a href=\"#소-DB에-적재하는-코드\" data-toc-modified-id=\"소-DB에-적재하는-코드-3.1\"><span class=\"toc-item-num\">3.1&nbsp;&nbsp;</span>소 DB에 적재하는 코드</a></span></li><li><span><a href=\"#돼지-DB에-적재\" data-toc-modified-id=\"돼지-DB에-적재-3.2\"><span class=\"toc-item-num\">3.2&nbsp;&nbsp;</span>돼지 DB에 적재</a></span></li></ul></li></ul></div>"
   ]
  },
  {
   "cell_type": "markdown",
   "id": "crude-reference",
   "metadata": {},
   "source": [
    "- 출처 : 축산물품질평가원 공공 데이터 포탈 API이용"
   ]
  },
  {
   "cell_type": "markdown",
   "id": "treated-valentine",
   "metadata": {},
   "source": [
    "- <소>\n",
    "    - 소 권역별 경락가격 현황\n",
    "- <돼지>\n",
    "    - 돼지 박피,탕박 권역별 경락가격 현황\n"
   ]
  },
  {
   "cell_type": "code",
   "execution_count": 1,
   "id": "selective-recorder",
   "metadata": {},
   "outputs": [],
   "source": [
    "# 한 번에 가져오는 건 일일 트래픽 1000을 초과하기 때문에 2년치 씩만 가져와서 DB에 적재하자..\n",
    "# 오늘 밤 12시 지나서 하기"
   ]
  },
  {
   "cell_type": "code",
   "execution_count": 1,
   "id": "disabled-volleyball",
   "metadata": {},
   "outputs": [],
   "source": [
    "import requests\n",
    "from bs4 import BeautifulSoup\n",
    "import pandas as pd\n",
    "import numpy as np"
   ]
  },
  {
   "cell_type": "code",
   "execution_count": 2,
   "id": "three-influence",
   "metadata": {},
   "outputs": [],
   "source": [
    "beef_url = 'http://data.ekape.or.kr/openapi-data/service/user/grade/auct/cattleApperence?baseYmd=2017-09-10&ServiceKey=0OhBU7ZCGIobDVKDeBJDpmDRqK3IRNF6jlf%2FJB2diFAf%2FfR2czYO9A4UTGcsOwppV6W2HVUeho%2FFPwXoL6DwqA%3D%3D'\n",
    "pork_url = 'http://data.ekape.or.kr/openapi-data/service/user/grade/auct/pigApperence?baseYmd=20170908&ServiceKey=0OhBU7ZCGIobDVKDeBJDpmDRqK3IRNF6jlf%2FJB2diFAf%2FfR2czYO9A4UTGcsOwppV6W2HVUeho%2FFPwXoL6DwqA%3D%3D'"
   ]
  },
  {
   "cell_type": "markdown",
   "id": "handed-offset",
   "metadata": {},
   "source": [
    "## 소 가격 크롤링"
   ]
  },
  {
   "cell_type": "code",
   "execution_count": 2,
   "id": "centered-wireless",
   "metadata": {
    "scrolled": true
   },
   "outputs": [
    {
     "name": "stdout",
     "output_type": "stream",
     "text": [
      "2021-03-24\n"
     ]
    }
   ],
   "source": [
    "beef_dict = {}\n",
    "\n",
    "dates = []\n",
    "beefs = []\n",
    "beef_ks = []\n",
    "regions = []\n",
    "prices = []\n",
    "\n",
    "datetimes = pd.date_range(start='2021-03-24', end='2021-03-24', freq='D').strftime('%Y-%m-%d').tolist()\n",
    "\n",
    "for datetime in datetimes:\n",
    "    beef_url = f'http://data.ekape.or.kr/openapi-data/service/user/grade/auct/cattleApperence?baseYmd={datetime}&ServiceKey=0OhBU7ZCGIobDVKDeBJDpmDRqK3IRNF6jlf%2FJB2diFAf%2FfR2czYO9A4UTGcsOwppV6W2HVUeho%2FFPwXoL6DwqA%3D%3D'\n",
    "    res = requests.get(beef_url)\n",
    "    soup = BeautifulSoup(res.content, 'html.parser')\n",
    "    contents = soup.select('item')\n",
    "    print(datetime)\n",
    "    for content in contents:\n",
    "        date = content.select_one('baseymd').get_text()\n",
    "        beef = content.select_one('judgekindnm').get_text()\n",
    "        beef_k = content.select_one('judgebreednm').get_text()\n",
    "        region = content.select_one('localnm').get_text()\n",
    "        price = content.select_one('auctamt').get_text()\n",
    "        \n",
    "        dates.append(date)\n",
    "        beefs.append(beef)\n",
    "        beef_ks.append(beef_k)\n",
    "        regions.append(region)\n",
    "        prices.append(price)\n",
    "        \n",
    "beef_dict['날짜'] = dates\n",
    "beef_dict['동물'] = beefs\n",
    "beef_dict['종류'] = beef_ks\n",
    "beef_dict['지역'] = regions\n",
    "beef_dict['가격'] = prices"
   ]
  },
  {
   "cell_type": "code",
   "execution_count": 3,
   "id": "hispanic-collective",
   "metadata": {
    "scrolled": true
   },
   "outputs": [
    {
     "data": {
      "text/html": [
       "<div>\n",
       "<style scoped>\n",
       "    .dataframe tbody tr th:only-of-type {\n",
       "        vertical-align: middle;\n",
       "    }\n",
       "\n",
       "    .dataframe tbody tr th {\n",
       "        vertical-align: top;\n",
       "    }\n",
       "\n",
       "    .dataframe thead th {\n",
       "        text-align: right;\n",
       "    }\n",
       "</style>\n",
       "<table border=\"1\" class=\"dataframe\">\n",
       "  <thead>\n",
       "    <tr style=\"text-align: right;\">\n",
       "      <th></th>\n",
       "      <th>날짜</th>\n",
       "      <th>동물</th>\n",
       "      <th>종류</th>\n",
       "      <th>지역</th>\n",
       "      <th>가격</th>\n",
       "    </tr>\n",
       "  </thead>\n",
       "  <tbody>\n",
       "    <tr>\n",
       "      <th>0</th>\n",
       "      <td>20210324</td>\n",
       "      <td>소</td>\n",
       "      <td>한우</td>\n",
       "      <td>수도권</td>\n",
       "      <td>19297</td>\n",
       "    </tr>\n",
       "    <tr>\n",
       "      <th>1</th>\n",
       "      <td>20210324</td>\n",
       "      <td>소</td>\n",
       "      <td>한우</td>\n",
       "      <td>중부권</td>\n",
       "      <td>20213</td>\n",
       "    </tr>\n",
       "    <tr>\n",
       "      <th>2</th>\n",
       "      <td>20210324</td>\n",
       "      <td>소</td>\n",
       "      <td>한우</td>\n",
       "      <td>전국</td>\n",
       "      <td>19739</td>\n",
       "    </tr>\n",
       "    <tr>\n",
       "      <th>3</th>\n",
       "      <td>20210324</td>\n",
       "      <td>소</td>\n",
       "      <td>육우</td>\n",
       "      <td>수도권</td>\n",
       "      <td>11844</td>\n",
       "    </tr>\n",
       "    <tr>\n",
       "      <th>4</th>\n",
       "      <td>20210324</td>\n",
       "      <td>소</td>\n",
       "      <td>육우</td>\n",
       "      <td>중부권</td>\n",
       "      <td>10727</td>\n",
       "    </tr>\n",
       "    <tr>\n",
       "      <th>5</th>\n",
       "      <td>20210324</td>\n",
       "      <td>소</td>\n",
       "      <td>육우</td>\n",
       "      <td>전국</td>\n",
       "      <td>11767</td>\n",
       "    </tr>\n",
       "  </tbody>\n",
       "</table>\n",
       "</div>"
      ],
      "text/plain": [
       "         날짜 동물  종류   지역     가격\n",
       "0  20210324  소  한우  수도권  19297\n",
       "1  20210324  소  한우  중부권  20213\n",
       "2  20210324  소  한우   전국  19739\n",
       "3  20210324  소  육우  수도권  11844\n",
       "4  20210324  소  육우  중부권  10727\n",
       "5  20210324  소  육우   전국  11767"
      ]
     },
     "execution_count": 3,
     "metadata": {},
     "output_type": "execute_result"
    }
   ],
   "source": [
    "pd.options.display.max_rows = 100\n",
    "df = pd.DataFrame(beef_dict)\n",
    "df.head(20)"
   ]
  },
  {
   "cell_type": "markdown",
   "id": "whole-candle",
   "metadata": {},
   "source": [
    "---"
   ]
  },
  {
   "cell_type": "markdown",
   "id": "useful-dividend",
   "metadata": {},
   "source": [
    "## 돼지 가격 크롤링"
   ]
  },
  {
   "cell_type": "code",
   "execution_count": 7,
   "id": "interstate-calgary",
   "metadata": {
    "scrolled": true
   },
   "outputs": [
    {
     "name": "stdout",
     "output_type": "stream",
     "text": [
      "20210101\n",
      "20210102\n",
      "20210103\n",
      "20210104\n",
      "20210105\n",
      "20210106\n",
      "20210107\n",
      "20210108\n",
      "20210109\n",
      "20210110\n",
      "20210111\n",
      "20210112\n",
      "20210113\n",
      "20210114\n",
      "20210115\n",
      "20210116\n",
      "20210117\n",
      "20210118\n",
      "20210119\n",
      "20210120\n",
      "20210121\n",
      "20210122\n",
      "20210123\n",
      "20210124\n",
      "20210125\n",
      "20210126\n",
      "20210127\n",
      "20210128\n",
      "20210129\n",
      "20210130\n",
      "20210131\n",
      "20210201\n",
      "20210202\n",
      "20210203\n",
      "20210204\n",
      "20210205\n",
      "20210206\n",
      "20210207\n",
      "20210208\n",
      "20210209\n",
      "20210210\n",
      "20210211\n",
      "20210212\n",
      "20210213\n",
      "20210214\n",
      "20210215\n",
      "20210216\n",
      "20210217\n",
      "20210218\n",
      "20210219\n",
      "20210220\n",
      "20210221\n",
      "20210222\n",
      "20210223\n",
      "20210224\n",
      "20210225\n",
      "20210226\n",
      "20210227\n",
      "20210228\n",
      "20210301\n",
      "20210302\n",
      "20210303\n",
      "20210304\n",
      "20210305\n",
      "20210306\n",
      "20210307\n",
      "20210308\n",
      "20210309\n",
      "20210310\n",
      "20210311\n",
      "20210312\n",
      "20210313\n",
      "20210314\n",
      "20210315\n",
      "20210316\n",
      "20210317\n",
      "20210318\n",
      "20210319\n",
      "20210320\n",
      "20210321\n",
      "20210322\n",
      "20210323\n",
      "20210324\n"
     ]
    }
   ],
   "source": [
    "pork_dict = {}\n",
    "\n",
    "dates = []\n",
    "porks = []\n",
    "pork_ks = []\n",
    "regions = []\n",
    "prices = []\n",
    "\n",
    "datetimes = pd.date_range(start='2021-01-01', end='2021-03-24', freq='D').strftime('%Y%m%d').tolist()\n",
    "for datetime in datetimes:\n",
    "    pork_url = f'http://data.ekape.or.kr/openapi-data/service/user/grade/auct/pigApperence?baseYmd={datetime}&ServiceKey=0OhBU7ZCGIobDVKDeBJDpmDRqK3IRNF6jlf%2FJB2diFAf%2FfR2czYO9A4UTGcsOwppV6W2HVUeho%2FFPwXoL6DwqA%3D%3D'\n",
    "    res = requests.get(pork_url)\n",
    "    soup = BeautifulSoup(res.content, 'html.parser')\n",
    "    contents = soup.select('item')\n",
    "    print(datetime)\n",
    "    for content in contents:\n",
    "        date = content.select_one('baseymd').get_text()\n",
    "        pork = content.select_one('judgekindnm').get_text()\n",
    "        pork_k = content.select_one('skinnm').get_text()\n",
    "        region = content.select_one('localnm').get_text()\n",
    "        price = content.select_one('auctamt').get_text()\n",
    "        \n",
    "        dates.append(date)\n",
    "        porks.append(pork)\n",
    "        pork_ks.append(pork_k)\n",
    "        regions.append(region)\n",
    "        prices.append(price)\n",
    "    \n",
    "pork_dict['날짜'] = dates\n",
    "pork_dict['동물'] = porks\n",
    "pork_dict['종류'] = pork_ks\n",
    "pork_dict['지역'] = regions\n",
    "pork_dict['가격'] = prices"
   ]
  },
  {
   "cell_type": "code",
   "execution_count": 8,
   "id": "minor-estimate",
   "metadata": {},
   "outputs": [
    {
     "data": {
      "text/html": [
       "<div>\n",
       "<style scoped>\n",
       "    .dataframe tbody tr th:only-of-type {\n",
       "        vertical-align: middle;\n",
       "    }\n",
       "\n",
       "    .dataframe tbody tr th {\n",
       "        vertical-align: top;\n",
       "    }\n",
       "\n",
       "    .dataframe thead th {\n",
       "        text-align: right;\n",
       "    }\n",
       "</style>\n",
       "<table border=\"1\" class=\"dataframe\">\n",
       "  <thead>\n",
       "    <tr style=\"text-align: right;\">\n",
       "      <th></th>\n",
       "      <th>날짜</th>\n",
       "      <th>동물</th>\n",
       "      <th>종류</th>\n",
       "      <th>지역</th>\n",
       "      <th>가격</th>\n",
       "    </tr>\n",
       "  </thead>\n",
       "  <tbody>\n",
       "    <tr>\n",
       "      <th>0</th>\n",
       "      <td>20201231</td>\n",
       "      <td>돼지</td>\n",
       "      <td>탕박</td>\n",
       "      <td>수도권</td>\n",
       "      <td>3757</td>\n",
       "    </tr>\n",
       "    <tr>\n",
       "      <th>1</th>\n",
       "      <td>20201231</td>\n",
       "      <td>돼지</td>\n",
       "      <td>탕박</td>\n",
       "      <td>영남권</td>\n",
       "      <td>3600</td>\n",
       "    </tr>\n",
       "    <tr>\n",
       "      <th>2</th>\n",
       "      <td>20201231</td>\n",
       "      <td>돼지</td>\n",
       "      <td>탕박</td>\n",
       "      <td>전국</td>\n",
       "      <td>3682</td>\n",
       "    </tr>\n",
       "    <tr>\n",
       "      <th>3</th>\n",
       "      <td>20201231</td>\n",
       "      <td>돼지</td>\n",
       "      <td>탕박</td>\n",
       "      <td>수도권</td>\n",
       "      <td>3757</td>\n",
       "    </tr>\n",
       "    <tr>\n",
       "      <th>4</th>\n",
       "      <td>20201231</td>\n",
       "      <td>돼지</td>\n",
       "      <td>탕박</td>\n",
       "      <td>영남권</td>\n",
       "      <td>3600</td>\n",
       "    </tr>\n",
       "    <tr>\n",
       "      <th>...</th>\n",
       "      <td>...</td>\n",
       "      <td>...</td>\n",
       "      <td>...</td>\n",
       "      <td>...</td>\n",
       "      <td>...</td>\n",
       "    </tr>\n",
       "    <tr>\n",
       "      <th>296</th>\n",
       "      <td>20210323</td>\n",
       "      <td>돼지</td>\n",
       "      <td>탕박</td>\n",
       "      <td>영남권</td>\n",
       "      <td>4151</td>\n",
       "    </tr>\n",
       "    <tr>\n",
       "      <th>297</th>\n",
       "      <td>20210323</td>\n",
       "      <td>돼지</td>\n",
       "      <td>탕박</td>\n",
       "      <td>전국</td>\n",
       "      <td>4607</td>\n",
       "    </tr>\n",
       "    <tr>\n",
       "      <th>298</th>\n",
       "      <td>20210324</td>\n",
       "      <td>돼지</td>\n",
       "      <td>탕박</td>\n",
       "      <td>수도권</td>\n",
       "      <td>4437</td>\n",
       "    </tr>\n",
       "    <tr>\n",
       "      <th>299</th>\n",
       "      <td>20210324</td>\n",
       "      <td>돼지</td>\n",
       "      <td>탕박</td>\n",
       "      <td>영남권</td>\n",
       "      <td>4185</td>\n",
       "    </tr>\n",
       "    <tr>\n",
       "      <th>300</th>\n",
       "      <td>20210324</td>\n",
       "      <td>돼지</td>\n",
       "      <td>탕박</td>\n",
       "      <td>전국</td>\n",
       "      <td>4628</td>\n",
       "    </tr>\n",
       "  </tbody>\n",
       "</table>\n",
       "<p>301 rows × 5 columns</p>\n",
       "</div>"
      ],
      "text/plain": [
       "           날짜  동물  종류   지역    가격\n",
       "0    20201231  돼지  탕박  수도권  3757\n",
       "1    20201231  돼지  탕박  영남권  3600\n",
       "2    20201231  돼지  탕박   전국  3682\n",
       "3    20201231  돼지  탕박  수도권  3757\n",
       "4    20201231  돼지  탕박  영남권  3600\n",
       "..        ...  ..  ..  ...   ...\n",
       "296  20210323  돼지  탕박  영남권  4151\n",
       "297  20210323  돼지  탕박   전국  4607\n",
       "298  20210324  돼지  탕박  수도권  4437\n",
       "299  20210324  돼지  탕박  영남권  4185\n",
       "300  20210324  돼지  탕박   전국  4628\n",
       "\n",
       "[301 rows x 5 columns]"
      ]
     },
     "execution_count": 8,
     "metadata": {},
     "output_type": "execute_result"
    }
   ],
   "source": [
    "df = pd.DataFrame(pork_dict)\n",
    "df"
   ]
  },
  {
   "cell_type": "markdown",
   "id": "loaded-relaxation",
   "metadata": {},
   "source": [
    "## local mysql에 적재하는 코드 짜놓기\n",
    "\n",
    "- 2015년 01월 07일 까지 DB 적재 완료 상태!"
   ]
  },
  {
   "cell_type": "markdown",
   "id": "younger-livestock",
   "metadata": {},
   "source": [
    "### 소 DB에 적재하는 코드"
   ]
  },
  {
   "cell_type": "code",
   "execution_count": 6,
   "id": "convinced-router",
   "metadata": {},
   "outputs": [],
   "source": [
    "import pymysql\n",
    "db = pymysql.connect(host='localhost',\n",
    "                    port=3306,\n",
    "                    user='younghun',\n",
    "                    password='watson1259',\n",
    "                    db='beef_pork_db',\n",
    "                    charset='utf8')\n",
    "cursor = db.cursor()\n",
    "\n",
    "rows = map(list, zip(*beef_dict.values()))\n",
    "\n",
    "# 한 row씩 DB에 insert하기\n",
    "for row in rows:\n",
    "    sql = \"\"\"INSERT INTO beef_prices VALUES('\"\"\"+row[0]+\"\"\"','\"\"\"+row[1]+\"\"\"','\"\"\"+row[2]+\"\"\"',\n",
    "    '\"\"\"+str(row[3])+\"\"\"','\"\"\"+str(row[4])+\"\"\"')\"\"\"\n",
    "    cursor.execute(sql)\n",
    "    db.commit()\n",
    "    \n",
    "db.close()"
   ]
  },
  {
   "cell_type": "markdown",
   "id": "greenhouse-cleanup",
   "metadata": {},
   "source": [
    "### 돼지 DB에 적재"
   ]
  },
  {
   "cell_type": "code",
   "execution_count": 9,
   "id": "maritime-rescue",
   "metadata": {},
   "outputs": [],
   "source": [
    "import pymysql\n",
    "db = pymysql.connect(host='localhost',\n",
    "                    port=3306,\n",
    "                    user='younghun',\n",
    "                    password='watson1259',\n",
    "                    db='beef_pork_db',\n",
    "                    charset='utf8')\n",
    "cursor = db.cursor()\n",
    "\n",
    "rows = map(list, zip(*pork_dict.values()))\n",
    "\n",
    "# 한 row씩 DB에 insert하기\n",
    "for row in rows:\n",
    "    sql = \"\"\"INSERT INTO pork_prices VALUES('\"\"\"+row[0]+\"\"\"','\"\"\"+row[1]+\"\"\"','\"\"\"+row[2]+\"\"\"',\n",
    "    '\"\"\"+str(row[3])+\"\"\"','\"\"\"+str(row[4])+\"\"\"')\"\"\"\n",
    "    cursor.execute(sql)\n",
    "    db.commit()\n",
    "    \n",
    "db.close()"
   ]
  },
  {
   "cell_type": "markdown",
   "id": "married-housing",
   "metadata": {},
   "source": [
    "---"
   ]
  }
 ],
 "metadata": {
  "hide_input": false,
  "kernelspec": {
   "display_name": "Python 3",
   "language": "python",
   "name": "python3"
  },
  "language_info": {
   "codemirror_mode": {
    "name": "ipython",
    "version": 3
   },
   "file_extension": ".py",
   "mimetype": "text/x-python",
   "name": "python",
   "nbconvert_exporter": "python",
   "pygments_lexer": "ipython3",
   "version": "3.7.7"
  },
  "toc": {
   "base_numbering": 1,
   "nav_menu": {},
   "number_sections": true,
   "sideBar": true,
   "skip_h1_title": false,
   "title_cell": "Table of Contents",
   "title_sidebar": "Contents",
   "toc_cell": true,
   "toc_position": {},
   "toc_section_display": true,
   "toc_window_display": false
  },
  "varInspector": {
   "cols": {
    "lenName": 16,
    "lenType": 16,
    "lenVar": 40
   },
   "kernels_config": {
    "python": {
     "delete_cmd_postfix": "",
     "delete_cmd_prefix": "del ",
     "library": "var_list.py",
     "varRefreshCmd": "print(var_dic_list())"
    },
    "r": {
     "delete_cmd_postfix": ") ",
     "delete_cmd_prefix": "rm(",
     "library": "var_list.r",
     "varRefreshCmd": "cat(var_dic_list()) "
    }
   },
   "types_to_exclude": [
    "module",
    "function",
    "builtin_function_or_method",
    "instance",
    "_Feature"
   ],
   "window_display": false
  }
 },
 "nbformat": 4,
 "nbformat_minor": 5
}

{
 "cells": [
  {
   "cell_type": "markdown",
   "id": "adapted-three",
   "metadata": {
    "toc": true
   },
   "source": [
    "<h1>Table of Contents<span class=\"tocSkip\"></span></h1>\n",
    "<div class=\"toc\"><ul class=\"toc-item\"><li><span><a href=\"#이것들은-향후-예보-데이터가-아닌-이미-발생한-당일날의-기상-데이터들임!\" data-toc-modified-id=\"이것들은-향후-예보-데이터가-아닌-이미-발생한-당일날의-기상-데이터들임!-1\"><span class=\"toc-item-num\">1&nbsp;&nbsp;</span>이것들은 향후 예보 데이터가 아닌 이미 발생한 당일날의 기상 데이터들임!</a></span><ul class=\"toc-item\"><li><span><a href=\"#2020-12-31일까지의-데이터만-수집하는-코드\" data-toc-modified-id=\"2020-12-31일까지의-데이터만-수집하는-코드-1.1\"><span class=\"toc-item-num\">1.1&nbsp;&nbsp;</span>2020-12-31일까지의 데이터만 수집하는 코드</a></span></li><li><span><a href=\"#실시간-데이터-수집하기-용-코드\" data-toc-modified-id=\"실시간-데이터-수집하기-용-코드-1.2\"><span class=\"toc-item-num\">1.2&nbsp;&nbsp;</span>실시간 데이터 수집하기 용 코드</a></span></li></ul></li></ul></div>"
   ]
  },
  {
   "cell_type": "markdown",
   "id": "located-journal",
   "metadata": {},
   "source": [
    "# 이것들은 향후 예보 데이터가 아닌 이미 발생한 당일날의 기상 데이터들임!"
   ]
  },
  {
   "cell_type": "code",
   "execution_count": 1,
   "id": "sixth-creature",
   "metadata": {},
   "outputs": [],
   "source": [
    "import requests\n",
    "from bs4 import BeautifulSoup"
   ]
  },
  {
   "cell_type": "markdown",
   "id": "relative-essence",
   "metadata": {},
   "source": [
    "- 필요한 파라미터들\n",
    "    - stnNm : 지점명\n",
    "    - tm : 시간\n",
    "    - avgTa : 평균 기온\n",
    "    - minTa : 최저 기온\n",
    "    - maxTa : 최고 기온\n",
    "    - hr1MaxRn : 1시간 최다 강수량\n",
    "    - sumRn : 일강수량\n",
    "    - maxWs : 최대 풍속\n",
    "    - avgWs : 평균 풍속\n",
    "    - minRhm : 최소 상대습도\n",
    "    - avgRhm : 평균 상대습도\n",
    "    - hr1MaxIcsr : 1시간 최다 일사량\n",
    "    - sumGsr : 합계 일사"
   ]
  },
  {
   "cell_type": "code",
   "execution_count": 2,
   "id": "circular-investment",
   "metadata": {},
   "outputs": [],
   "source": [
    "import pandas as pd\n",
    "import numpy as np\n",
    "import datetime\n",
    "import math\n",
    "import pymysql"
   ]
  },
  {
   "cell_type": "markdown",
   "id": "particular-tragedy",
   "metadata": {},
   "source": [
    "## 2020-12-31일까지의 데이터만 수집하는 코드"
   ]
  },
  {
   "cell_type": "code",
   "execution_count": 3,
   "id": "miniature-thermal",
   "metadata": {},
   "outputs": [],
   "source": [
    "time_delta = pd.Timestamp('') - pd.Timestamp('2009-01-01')\n",
    "time_delta = time_delta.days + 1\n",
    "max_pages = math.ceil((time_delta / 999) + 1)\n",
    "\n",
    "# 전체 데이터셋 담을 데이터프레임\n",
    "all_datasets = pd.DataFrame()\n",
    "\n",
    "\n",
    "# 5페이지 까지 Loop\n",
    "pages = [n for n in range(1, max_pages)]\n",
    "\n",
    "for page in pages:\n",
    "    res = requests.get(f'http://apis.data.go.kr/1360000/AsosDalyInfoService/getWthrDataList?serviceKey=j%2FJXmL%2BFxwnNYqN%2FyoLJSfJx3ioQV1HnmM9E7b%2FaGLjLv51g0vZSGQjk0UVyJmGZckzK7Cm8Jds6G42cqdkX0w%3D%3D&numOfRows=999&pageNo={page}&dataCd=ASOS&dateCd=DAY&startDt=20090101&endDt=20130106&stnIds=133')\n",
    "    soup = BeautifulSoup(res.content, 'html.parser')\n",
    "\n",
    "    # 서브 데이터프레임으로 만들 dict 정의\n",
    "    data_dict = {}\n",
    "\n",
    "    # 각 변수 값들 담을 list\n",
    "    region_lst, datetime_lst = [], []\n",
    "    avg_temp_lst, min_temp_lst = [], []\n",
    "    min_temp_lst, max_temp_lst = [], []\n",
    "    max_1h_rain_lst, sum_rain_lst = [], []\n",
    "    avg_wind_lst, max_wind_lst = [], []\n",
    "    avg_humid_lst, min_humid_lst = [], []\n",
    "    max_1h_sun_lst, sum_sun_lst = [], []\n",
    "\n",
    "    contents = soup.select('item')\n",
    "    # 각 페이지에서 변수 별 데이터 수집\n",
    "    for content in contents:\n",
    "        region = content.select_one('stnnm').get_text()\n",
    "        datetime = content.select_one('tm').get_text()\n",
    "        avg_temp = content.select_one('avgta').get_text()\n",
    "        min_temp = content.select_one('minta').get_text()\n",
    "        max_temp = content.select_one('maxta').get_text()\n",
    "        max_1h_rain = content.select_one('hr1maxrn').get_text()\n",
    "        sum_rain = content.select_one('sumrn').get_text()\n",
    "        avg_wind = content.select_one('avgws').get_text()\n",
    "        max_wind = content.select_one('maxws').get_text()\n",
    "        avg_humid = content.select_one('avgrhm').get_text()\n",
    "        min_humid = content.select_one('minrhm').get_text()\n",
    "        max_1h_sun = content.select_one('hr1maxicsr').get_text()\n",
    "        sum_sun = content.select_one('sumgsr').get_text()\n",
    "\n",
    "        region_lst.append(region)\n",
    "        datetime_lst.append(datetime)\n",
    "        avg_temp_lst.append(avg_temp)\n",
    "        min_temp_lst.append(min_temp)\n",
    "        max_temp_lst.append(max_temp)\n",
    "        max_1h_rain_lst.append(max_1h_rain)\n",
    "        sum_rain_lst.append(sum_rain)\n",
    "        avg_wind_lst.append(avg_wind)\n",
    "        max_wind_lst.append(max_wind)\n",
    "        avg_humid_lst.append(avg_humid)\n",
    "        min_humid_lst.append(min_humid)\n",
    "        max_1h_sun_lst.append(max_1h_sun)\n",
    "        sum_sun_lst.append(sum_sun)\n",
    "\n",
    "    data_dict['지역'] =  region_lst\n",
    "    data_dict['시간'] = datetime_lst\n",
    "    data_dict['평균기온'] = avg_temp_lst\n",
    "    data_dict['최저기온'] = min_temp_lst\n",
    "    data_dict['최고기온'] = max_temp_lst\n",
    "    data_dict['1시간최다강수량'] = max_1h_rain_lst\n",
    "    data_dict['일강수량'] = sum_rain_lst\n",
    "    data_dict['평균풍속'] = avg_wind_lst\n",
    "    data_dict['최대풍속'] = max_wind_lst\n",
    "    data_dict['평균상대습도'] = avg_humid_lst\n",
    "    data_dict['최소상대습도'] = min_humid_lst\n",
    "    data_dict['1시간최다일사량'] = max_1h_sun_lst\n",
    "    data_dict['일사량'] = sum_sun_lst\n",
    "    \n",
    "    db = pymysql.connect(host='localhost',\n",
    "                             port=3306,\n",
    "                             user='younghun',\n",
    "                             password='watson1259',\n",
    "                             db='weather_db',\n",
    "                             charset='utf8')\n",
    "    cursor = db.cursor()\n",
    "    rows = map(list, zip(*data_dict.values()))\n",
    "    for row in rows:\n",
    "        sql = \"\"\"INSERT INTO weather VALUES('\"\"\" + row[0] + \"\"\"',\n",
    "        '\"\"\" + row[1] + \"\"\"','\"\"\" + row[2] + \"\"\"','\"\"\" + row[3] + \"\"\"',\n",
    "        '\"\"\" + row[4] + \"\"\"','\"\"\" + row[5] + \"\"\"','\"\"\" + row[6] + \"\"\"',\n",
    "        '\"\"\" + row[7] + \"\"\"','\"\"\" + row[8] + \"\"\"','\"\"\" + row[9] + \"\"\"',\n",
    "        '\"\"\" + row[10] + \"\"\"','\"\"\" + row[11] + \"\"\"','\"\"\" + row[12] + \"\"\"')\"\"\"\n",
    "        cursor.execute(sql)\n",
    "        db.commit()\n",
    "\n",
    "    db.close()"
   ]
  },
  {
   "cell_type": "markdown",
   "id": "severe-artwork",
   "metadata": {},
   "source": [
    "---"
   ]
  },
  {
   "cell_type": "markdown",
   "id": "humanitarian-wiring",
   "metadata": {},
   "source": [
    "## 실시간 데이터 수집하기 용 코드\n",
    "\n",
    "- 기상 데이터는 오늘 날짜 기준으로 어제까지의 기상 데이터가 가장 최근의 데이터수집된 상태임!"
   ]
  },
  {
   "cell_type": "code",
   "execution_count": 120,
   "id": "impaired-correction",
   "metadata": {},
   "outputs": [
    {
     "name": "stdout",
     "output_type": "stream",
     "text": [
      "## 1페이지 데이터 크롤링 완료!\n",
      "## 1페이지 전체 데이터셋에 concat 완료!\n",
      "## 2페이지 데이터 크롤링 완료!\n",
      "## 2페이지 전체 데이터셋에 concat 완료!\n",
      "## 3페이지 데이터 크롤링 완료!\n",
      "## 3페이지 전체 데이터셋에 concat 완료!\n"
     ]
    }
   ],
   "source": [
    "today = datetime.date.today()\n",
    "yesterday = today - datetime.timedelta(days=1)\n",
    "time_delta = pd.Timestamp(yesterday) - pd.Timestamp('2013-01-07')\n",
    "time_delta = time_delta.days\n",
    "max_pages = math.ceil((time_delta / 999) + 1)\n",
    "# URL 요청시 파라미터에 넣어줄 end time\n",
    "yesterday_str = yesterday.strftime('%Y%m%d')\n",
    "\n",
    "# 전체 데이터셋 담을 데이터프레임\n",
    "all_datasets = pd.DataFrame()\n",
    "\n",
    "\n",
    "# 5페이지 까지 Loop\n",
    "pages = [n for n in range(1, max_pages)]\n",
    "\n",
    "for page in pages:\n",
    "    res = requests.get(f'http://apis.data.go.kr/1360000/AsosDalyInfoService/getWthrDataList?serviceKey=j%2FJXmL%2BFxwnNYqN%2FyoLJSfJx3ioQV1HnmM9E7b%2FaGLjLv51g0vZSGQjk0UVyJmGZckzK7Cm8Jds6G42cqdkX0w%3D%3D&numOfRows=999&pageNo={page}&dataCd=ASOS&dateCd=DAY&startDt=20130107&endDt={yesterday_str}&stnIds=133')\n",
    "    soup = BeautifulSoup(res.content, 'html.parser')\n",
    "\n",
    "    # 서브 데이터프레임으로 만들 dict 정의\n",
    "    data_dict = {}\n",
    "\n",
    "    # 각 변수 값들 담을 list\n",
    "    region_lst, datetime_lst = [], []\n",
    "    avg_temp_lst, min_temp_lst = [], []\n",
    "    min_temp_lst, max_temp_lst = [], []\n",
    "    max_1h_rain_lst, sum_rain_lst = [], []\n",
    "    avg_wind_lst, max_wind_lst = [], []\n",
    "    avg_humid_lst, min_humid_lst = [], []\n",
    "    max_1h_sun_lst, sum_sun_lst = [], []\n",
    "\n",
    "    contents = soup.select('item')\n",
    "    # 각 페이지에서 변수 별 데이터 수집\n",
    "    for content in contents:\n",
    "        region = content.select_one('stnnm').get_text()\n",
    "        datetime = content.select_one('tm').get_text()\n",
    "        avg_temp = content.select_one('avgta').get_text()\n",
    "        min_temp = content.select_one('minta').get_text()\n",
    "        max_temp = content.select_one('maxta').get_text()\n",
    "        max_1h_rain = content.select_one('hr1maxrn').get_text()\n",
    "        sum_rain = content.select_one('sumrn').get_text()\n",
    "        avg_wind = content.select_one('avgws').get_text()\n",
    "        max_wind = content.select_one('maxws').get_text()\n",
    "        avg_humid = content.select_one('avgrhm')\n",
    "        min_humid = content.select_one('minrhm').get_text()\n",
    "        max_1h_sun = content.select_one('hr1maxicsr').get_text()\n",
    "        sum_sun = content.select_one('sumgsr').get_text()\n",
    "\n",
    "        region_lst.append(region)\n",
    "        datetime_lst.append(datetime)\n",
    "        avg_temp_lst.append(avg_temp)\n",
    "        min_temp_lst.append(min_temp)\n",
    "        max_temp_lst.append(max_temp)\n",
    "        max_1h_rain_lst.append(max_1h_rain)\n",
    "        sum_rain_lst.append(sum_rain)\n",
    "        avg_wind_lst.append(avg_wind)\n",
    "        max_wind_lst.append(max_wind)\n",
    "        avg_humid_lst.append(avg_humid)\n",
    "        min_humid_lst.append(min_humid)\n",
    "        max_1h_sun_lst.append(max_1h_sun)\n",
    "        sum_sun_lst.append(sum_sun)\n",
    "\n",
    "    data_dict['지역'] =  region_lst\n",
    "    data_dict['시간'] = datetime_lst\n",
    "    data_dict['평균기온'] = avg_temp_lst\n",
    "    data_dict['최저기온'] = min_temp_lst\n",
    "    data_dict['최고기온'] = max_temp_lst\n",
    "    data_dict['1시간최다강수량'] = max_1h_rain_lst\n",
    "    data_dict['일강수량'] = sum_rain_lst\n",
    "    data_dict['평균풍속'] = avg_wind_lst\n",
    "    data_dict['최대풍속'] = max_wind_lst\n",
    "    data_dict['평균상대습도'] = avg_humid_lst\n",
    "    data_dict['최소상대습도'] = min_humid_lst\n",
    "    data_dict['1시간최다일사량'] = max_1h_sun_lst\n",
    "    data_dict['일사량'] = sum_sun_lst\n",
    "    \n",
    "    # 1페이지 당 서브 데이터프레임 만들기\n",
    "    sub_dataframe = pd.DataFrame(data_dict)\n",
    "    print(f'## {page}페이지 데이터 크롤링 완료!')\n",
    "    \n",
    "    # 전체 데이터프레임에 concat 하기\n",
    "    all_datasets = pd.concat([all_datasets, sub_dataframe], axis=0)\n",
    "    print(f'## {page}페이지 전체 데이터셋에 concat 완료!')\n",
    "    print()\n",
    "    "
   ]
  },
  {
   "cell_type": "code",
   "execution_count": null,
   "id": "invalid-spectrum",
   "metadata": {},
   "outputs": [],
   "source": []
  }
 ],
 "metadata": {
  "hide_input": false,
  "kernelspec": {
   "display_name": "Python 3",
   "language": "python",
   "name": "python3"
  },
  "language_info": {
   "codemirror_mode": {
    "name": "ipython",
    "version": 3
   },
   "file_extension": ".py",
   "mimetype": "text/x-python",
   "name": "python",
   "nbconvert_exporter": "python",
   "pygments_lexer": "ipython3",
   "version": "3.7.7"
  },
  "toc": {
   "base_numbering": 1,
   "nav_menu": {},
   "number_sections": true,
   "sideBar": true,
   "skip_h1_title": false,
   "title_cell": "Table of Contents",
   "title_sidebar": "Contents",
   "toc_cell": true,
   "toc_position": {},
   "toc_section_display": true,
   "toc_window_display": false
  },
  "varInspector": {
   "cols": {
    "lenName": 16,
    "lenType": 16,
    "lenVar": 40
   },
   "kernels_config": {
    "python": {
     "delete_cmd_postfix": "",
     "delete_cmd_prefix": "del ",
     "library": "var_list.py",
     "varRefreshCmd": "print(var_dic_list())"
    },
    "r": {
     "delete_cmd_postfix": ") ",
     "delete_cmd_prefix": "rm(",
     "library": "var_list.r",
     "varRefreshCmd": "cat(var_dic_list()) "
    }
   },
   "types_to_exclude": [
    "module",
    "function",
    "builtin_function_or_method",
    "instance",
    "_Feature"
   ],
   "window_display": false
  }
 },
 "nbformat": 4,
 "nbformat_minor": 5
}
